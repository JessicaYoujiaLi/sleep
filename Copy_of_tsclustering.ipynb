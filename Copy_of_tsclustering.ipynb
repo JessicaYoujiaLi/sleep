{
  "cells": [
    {
      "cell_type": "markdown",
      "metadata": {
        "id": "view-in-github",
        "colab_type": "text"
      },
      "source": [
        "<a href=\"https://colab.research.google.com/github/GergelyTuri/sleep/blob/master/Copy_of_tsclustering.ipynb\" target=\"_parent\"><img src=\"https://colab.research.google.com/assets/colab-badge.svg\" alt=\"Open In Colab\"/></a>"
      ]
    },
    {
      "cell_type": "markdown",
      "source": [
        "First Part (Python):"
      ],
      "metadata": {
        "id": "Agz3E6qN0Tvh"
      }
    },
    {
      "cell_type": "code",
      "execution_count": 1,
      "metadata": {
        "id": "YgAHlDnGlCm5",
        "colab": {
          "base_uri": "https://localhost:8080/"
        },
        "outputId": "8a431604-547d-4609-8a66-640afdd438fc"
      },
      "outputs": [
        {
          "output_type": "stream",
          "name": "stdout",
          "text": [
            "Mounted at /gdrive\n"
          ]
        }
      ],
      "source": [
        "import pandas as pd\n",
        "import numpy as np\n",
        "from os.path import join\n",
        "from google.colab import drive\n",
        "drive.mount('/gdrive')"
      ]
    },
    {
      "cell_type": "markdown",
      "metadata": {
        "id": "-jw5vZ9AgIX0"
      },
      "source": [
        "## Data\n",
        "dfof: d_awake, d_sleep \\\\\n",
        "cosine similarity: ts_dist_awake, ts_dist_sleep\n",
        "\n"
      ]
    },
    {
      "cell_type": "code",
      "execution_count": 2,
      "metadata": {
        "id": "anH7vlTHlXbx"
      },
      "outputs": [],
      "source": [
        "summary_new = pd.read_csv(\"/gdrive/Shareddrives/Turi_lab/Data/Sleep/2p/Analysis/summary_sleep.csv\")\n",
        "data_path = '/gdrive/Shareddrives/Turi_lab/Data/Sleep/2p/Analysis/data/5HT2afl05b_1/7_12_SD2'\n",
        "file_name = 'dfof_mc.csv'\n",
        "dfof_data = pd.read_csv(join(data_path, file_name))\n",
        "dfof_data.set_index('roi_label', drop=True, inplace=True)"
      ]
    },
    {
      "cell_type": "code",
      "source": [
        "def process_dfof_mc(dfof, summary_new):\n",
        "    n_roi = dfof.shape[0]\n",
        "    n_time = dfof.shape[1]\n",
        "    awake = []\n",
        "    sleep = []\n",
        "    for j in range(0, 20, 2):\n",
        "        awake.append(summary_new['end'][j])\n",
        "        sleep.append(summary_new['end'][j + 1])\n",
        "    d_awake = dfof.iloc[:, awake]\n",
        "    d_sleep = dfof.iloc[:, sleep]\n",
        "    return {'d_awake': d_awake, 'd_sleep': d_sleep}"
      ],
      "metadata": {
        "id": "hWPV1pOOeUXO"
      },
      "execution_count": 25,
      "outputs": []
    },
    {
      "cell_type": "code",
      "source": [
        "result = process_dfof_mc(dfof_data, summary_new)"
      ],
      "metadata": {
        "id": "209sXFNERDQq"
      },
      "execution_count": 26,
      "outputs": []
    },
    {
      "cell_type": "code",
      "source": [
        "pip install rpy2"
      ],
      "metadata": {
        "colab": {
          "base_uri": "https://localhost:8080/"
        },
        "id": "odSJg79AQiqn",
        "outputId": "bebd9254-753e-4734-b8c0-afdba63a5a89"
      },
      "execution_count": 6,
      "outputs": [
        {
          "output_type": "stream",
          "name": "stdout",
          "text": [
            "Requirement already satisfied: rpy2 in /usr/local/lib/python3.10/dist-packages (3.4.2)\n",
            "Requirement already satisfied: cffi>=1.10.0 in /usr/local/lib/python3.10/dist-packages (from rpy2) (1.16.0)\n",
            "Requirement already satisfied: jinja2 in /usr/local/lib/python3.10/dist-packages (from rpy2) (3.1.3)\n",
            "Requirement already satisfied: pytz in /usr/local/lib/python3.10/dist-packages (from rpy2) (2023.4)\n",
            "Requirement already satisfied: tzlocal in /usr/local/lib/python3.10/dist-packages (from rpy2) (5.2)\n",
            "Requirement already satisfied: pycparser in /usr/local/lib/python3.10/dist-packages (from cffi>=1.10.0->rpy2) (2.21)\n",
            "Requirement already satisfied: MarkupSafe>=2.0 in /usr/local/lib/python3.10/dist-packages (from jinja2->rpy2) (2.1.5)\n"
          ]
        }
      ]
    },
    {
      "cell_type": "code",
      "source": [
        "%load_ext rpy2.ipython"
      ],
      "metadata": {
        "id": "6DAOhqgJQlB2"
      },
      "execution_count": 22,
      "outputs": []
    },
    {
      "cell_type": "code",
      "source": [
        "%%R\n",
        "process_dfof_mc = function(dfof, summary_new) {\n",
        "    n_roi = dim(dfof)[1]\n",
        "    n_time = dim(dfof)[2]\n",
        "    d = dfof[, 2:n_time]\n",
        "    awake = c()\n",
        "    sleep = c()\n",
        "    for (j in seq(1, 20, 2)) {\n",
        "        awake = c(awake, summary_new$end[j])\n",
        "        sleep = c(sleep, summary_new$end[j + 1])\n",
        "        }\n",
        "    d_awake = d[, awake] d_sleep = d[, sleep]\n",
        "    return(list(d_awake = d_awake, d_sleep = d_sleep)) }\n",
        "\n",
        "result = process_dfof_mc(dfof_data, summary_new)"
      ],
      "metadata": {
        "colab": {
          "base_uri": "https://localhost:8080/",
          "height": 417
        },
        "id": "pW0IrcIzdkPi",
        "outputId": "1a04e474-e604-4db2-9b30-08d4539d6e31"
      },
      "execution_count": 23,
      "outputs": [
        {
          "output_type": "error",
          "ename": "RParsingError",
          "evalue": "Parsing status not OK - PARSING_STATUS.PARSE_ERROR",
          "traceback": [
            "\u001b[0;31m---------------------------------------------------------------------------\u001b[0m",
            "\u001b[0;31mRParsingError\u001b[0m                             Traceback (most recent call last)",
            "\u001b[0;32m<ipython-input-23-f608d0958744>\u001b[0m in \u001b[0;36m<cell line: 1>\u001b[0;34m()\u001b[0m\n\u001b[0;32m----> 1\u001b[0;31m \u001b[0mget_ipython\u001b[0m\u001b[0;34m(\u001b[0m\u001b[0;34m)\u001b[0m\u001b[0;34m.\u001b[0m\u001b[0mrun_cell_magic\u001b[0m\u001b[0;34m(\u001b[0m\u001b[0;34m'R'\u001b[0m\u001b[0;34m,\u001b[0m \u001b[0;34m''\u001b[0m\u001b[0;34m,\u001b[0m \u001b[0;34m'process_dfof_mc = function(dfof, summary_new) {\\n    n_roi = dim(dfof)[1]\\n    n_time = dim(dfof)[2]\\n    d = dfof[, 2:n_time]\\n    awake = c()\\n    sleep = c()\\n    for (j in seq(1, 20, 2)) {\\n        awake = c(awake, summary_new$end[j])\\n        sleep = c(sleep, summary_new$end[j + 1])\\n        }\\n    d_awake = d[, awake] d_sleep = d[, sleep]\\n    return(list(d_awake = d_awake, d_sleep = d_sleep)) }\\n\\nresult = process_dfof_mc(dfof_data, summary_new)\\n'\u001b[0m\u001b[0;34m)\u001b[0m\u001b[0;34m\u001b[0m\u001b[0;34m\u001b[0m\u001b[0m\n\u001b[0m",
            "\u001b[0;32m/usr/local/lib/python3.10/dist-packages/google/colab/_shell.py\u001b[0m in \u001b[0;36mrun_cell_magic\u001b[0;34m(self, magic_name, line, cell)\u001b[0m\n\u001b[1;32m    332\u001b[0m     \u001b[0;32mif\u001b[0m \u001b[0mline\u001b[0m \u001b[0;32mand\u001b[0m \u001b[0;32mnot\u001b[0m \u001b[0mcell\u001b[0m\u001b[0;34m:\u001b[0m\u001b[0;34m\u001b[0m\u001b[0;34m\u001b[0m\u001b[0m\n\u001b[1;32m    333\u001b[0m       \u001b[0mcell\u001b[0m \u001b[0;34m=\u001b[0m \u001b[0;34m' '\u001b[0m\u001b[0;34m\u001b[0m\u001b[0;34m\u001b[0m\u001b[0m\n\u001b[0;32m--> 334\u001b[0;31m     \u001b[0;32mreturn\u001b[0m \u001b[0msuper\u001b[0m\u001b[0;34m(\u001b[0m\u001b[0;34m)\u001b[0m\u001b[0;34m.\u001b[0m\u001b[0mrun_cell_magic\u001b[0m\u001b[0;34m(\u001b[0m\u001b[0mmagic_name\u001b[0m\u001b[0;34m,\u001b[0m \u001b[0mline\u001b[0m\u001b[0;34m,\u001b[0m \u001b[0mcell\u001b[0m\u001b[0;34m)\u001b[0m\u001b[0;34m\u001b[0m\u001b[0;34m\u001b[0m\u001b[0m\n\u001b[0m\u001b[1;32m    335\u001b[0m \u001b[0;34m\u001b[0m\u001b[0m\n\u001b[1;32m    336\u001b[0m \u001b[0;34m\u001b[0m\u001b[0m\n",
            "\u001b[0;32m/usr/local/lib/python3.10/dist-packages/IPython/core/interactiveshell.py\u001b[0m in \u001b[0;36mrun_cell_magic\u001b[0;34m(self, magic_name, line, cell)\u001b[0m\n\u001b[1;32m   2471\u001b[0m             \u001b[0;32mwith\u001b[0m \u001b[0mself\u001b[0m\u001b[0;34m.\u001b[0m\u001b[0mbuiltin_trap\u001b[0m\u001b[0;34m:\u001b[0m\u001b[0;34m\u001b[0m\u001b[0;34m\u001b[0m\u001b[0m\n\u001b[1;32m   2472\u001b[0m                 \u001b[0margs\u001b[0m \u001b[0;34m=\u001b[0m \u001b[0;34m(\u001b[0m\u001b[0mmagic_arg_s\u001b[0m\u001b[0;34m,\u001b[0m \u001b[0mcell\u001b[0m\u001b[0;34m)\u001b[0m\u001b[0;34m\u001b[0m\u001b[0;34m\u001b[0m\u001b[0m\n\u001b[0;32m-> 2473\u001b[0;31m                 \u001b[0mresult\u001b[0m \u001b[0;34m=\u001b[0m \u001b[0mfn\u001b[0m\u001b[0;34m(\u001b[0m\u001b[0;34m*\u001b[0m\u001b[0margs\u001b[0m\u001b[0;34m,\u001b[0m \u001b[0;34m**\u001b[0m\u001b[0mkwargs\u001b[0m\u001b[0;34m)\u001b[0m\u001b[0;34m\u001b[0m\u001b[0;34m\u001b[0m\u001b[0m\n\u001b[0m\u001b[1;32m   2474\u001b[0m             \u001b[0;32mreturn\u001b[0m \u001b[0mresult\u001b[0m\u001b[0;34m\u001b[0m\u001b[0;34m\u001b[0m\u001b[0m\n\u001b[1;32m   2475\u001b[0m \u001b[0;34m\u001b[0m\u001b[0m\n",
            "\u001b[0;32m<decorator-gen-122>\u001b[0m in \u001b[0;36mR\u001b[0;34m(self, line, cell, local_ns)\u001b[0m\n",
            "\u001b[0;32m/usr/local/lib/python3.10/dist-packages/IPython/core/magic.py\u001b[0m in \u001b[0;36m<lambda>\u001b[0;34m(f, *a, **k)\u001b[0m\n\u001b[1;32m    185\u001b[0m     \u001b[0;31m# but it's overkill for just that one bit of state.\u001b[0m\u001b[0;34m\u001b[0m\u001b[0;34m\u001b[0m\u001b[0m\n\u001b[1;32m    186\u001b[0m     \u001b[0;32mdef\u001b[0m \u001b[0mmagic_deco\u001b[0m\u001b[0;34m(\u001b[0m\u001b[0marg\u001b[0m\u001b[0;34m)\u001b[0m\u001b[0;34m:\u001b[0m\u001b[0;34m\u001b[0m\u001b[0;34m\u001b[0m\u001b[0m\n\u001b[0;32m--> 187\u001b[0;31m         \u001b[0mcall\u001b[0m \u001b[0;34m=\u001b[0m \u001b[0;32mlambda\u001b[0m \u001b[0mf\u001b[0m\u001b[0;34m,\u001b[0m \u001b[0;34m*\u001b[0m\u001b[0ma\u001b[0m\u001b[0;34m,\u001b[0m \u001b[0;34m**\u001b[0m\u001b[0mk\u001b[0m\u001b[0;34m:\u001b[0m \u001b[0mf\u001b[0m\u001b[0;34m(\u001b[0m\u001b[0;34m*\u001b[0m\u001b[0ma\u001b[0m\u001b[0;34m,\u001b[0m \u001b[0;34m**\u001b[0m\u001b[0mk\u001b[0m\u001b[0;34m)\u001b[0m\u001b[0;34m\u001b[0m\u001b[0;34m\u001b[0m\u001b[0m\n\u001b[0m\u001b[1;32m    188\u001b[0m \u001b[0;34m\u001b[0m\u001b[0m\n\u001b[1;32m    189\u001b[0m         \u001b[0;32mif\u001b[0m \u001b[0mcallable\u001b[0m\u001b[0;34m(\u001b[0m\u001b[0marg\u001b[0m\u001b[0;34m)\u001b[0m\u001b[0;34m:\u001b[0m\u001b[0;34m\u001b[0m\u001b[0;34m\u001b[0m\u001b[0m\n",
            "\u001b[0;32m/usr/local/lib/python3.10/dist-packages/rpy2/ipython/rmagic.py\u001b[0m in \u001b[0;36mR\u001b[0;34m(self, line, cell, local_ns)\u001b[0m\n\u001b[1;32m    761\u001b[0m                     \u001b[0mreturn_output\u001b[0m \u001b[0;34m=\u001b[0m \u001b[0;32mFalse\u001b[0m\u001b[0;34m\u001b[0m\u001b[0;34m\u001b[0m\u001b[0m\n\u001b[1;32m    762\u001b[0m             \u001b[0;32melse\u001b[0m\u001b[0;34m:\u001b[0m\u001b[0;34m\u001b[0m\u001b[0;34m\u001b[0m\u001b[0m\n\u001b[0;32m--> 763\u001b[0;31m                 \u001b[0mtext_result\u001b[0m\u001b[0;34m,\u001b[0m \u001b[0mresult\u001b[0m\u001b[0;34m,\u001b[0m \u001b[0mvisible\u001b[0m \u001b[0;34m=\u001b[0m \u001b[0mself\u001b[0m\u001b[0;34m.\u001b[0m\u001b[0meval\u001b[0m\u001b[0;34m(\u001b[0m\u001b[0mcode\u001b[0m\u001b[0;34m)\u001b[0m\u001b[0;34m\u001b[0m\u001b[0;34m\u001b[0m\u001b[0m\n\u001b[0m\u001b[1;32m    764\u001b[0m                 \u001b[0mtext_output\u001b[0m \u001b[0;34m+=\u001b[0m \u001b[0mtext_result\u001b[0m\u001b[0;34m\u001b[0m\u001b[0;34m\u001b[0m\u001b[0m\n\u001b[1;32m    765\u001b[0m                 \u001b[0;32mif\u001b[0m \u001b[0mvisible\u001b[0m\u001b[0;34m:\u001b[0m\u001b[0;34m\u001b[0m\u001b[0;34m\u001b[0m\u001b[0m\n",
            "\u001b[0;32m/usr/local/lib/python3.10/dist-packages/rpy2/ipython/rmagic.py\u001b[0m in \u001b[0;36meval\u001b[0;34m(self, code)\u001b[0m\n\u001b[1;32m    266\u001b[0m             \u001b[0;32mtry\u001b[0m\u001b[0;34m:\u001b[0m\u001b[0;34m\u001b[0m\u001b[0;34m\u001b[0m\u001b[0m\n\u001b[1;32m    267\u001b[0m                 \u001b[0;31m# Need the newline in case the last line in code is a comment.\u001b[0m\u001b[0;34m\u001b[0m\u001b[0;34m\u001b[0m\u001b[0m\n\u001b[0;32m--> 268\u001b[0;31m                 \u001b[0mvalue\u001b[0m\u001b[0;34m,\u001b[0m \u001b[0mvisible\u001b[0m \u001b[0;34m=\u001b[0m \u001b[0mro\u001b[0m\u001b[0;34m.\u001b[0m\u001b[0mr\u001b[0m\u001b[0;34m(\u001b[0m\u001b[0;34m\"withVisible({%s\\n})\"\u001b[0m \u001b[0;34m%\u001b[0m \u001b[0mcode\u001b[0m\u001b[0;34m)\u001b[0m\u001b[0;34m\u001b[0m\u001b[0;34m\u001b[0m\u001b[0m\n\u001b[0m\u001b[1;32m    269\u001b[0m             \u001b[0;32mexcept\u001b[0m \u001b[0;34m(\u001b[0m\u001b[0mri\u001b[0m\u001b[0;34m.\u001b[0m\u001b[0membedded\u001b[0m\u001b[0;34m.\u001b[0m\u001b[0mRRuntimeError\u001b[0m\u001b[0;34m,\u001b[0m \u001b[0mValueError\u001b[0m\u001b[0;34m)\u001b[0m \u001b[0;32mas\u001b[0m \u001b[0mexception\u001b[0m\u001b[0;34m:\u001b[0m\u001b[0;34m\u001b[0m\u001b[0;34m\u001b[0m\u001b[0m\n\u001b[1;32m    270\u001b[0m                 \u001b[0;31m# Otherwise next return seems to have copy of error.\u001b[0m\u001b[0;34m\u001b[0m\u001b[0;34m\u001b[0m\u001b[0m\n",
            "\u001b[0;32m/usr/local/lib/python3.10/dist-packages/rpy2/robjects/__init__.py\u001b[0m in \u001b[0;36m__call__\u001b[0;34m(self, string)\u001b[0m\n\u001b[1;32m    435\u001b[0m \u001b[0;34m\u001b[0m\u001b[0m\n\u001b[1;32m    436\u001b[0m     \u001b[0;32mdef\u001b[0m \u001b[0m__call__\u001b[0m\u001b[0;34m(\u001b[0m\u001b[0mself\u001b[0m\u001b[0;34m,\u001b[0m \u001b[0mstring\u001b[0m\u001b[0;34m)\u001b[0m\u001b[0;34m:\u001b[0m\u001b[0;34m\u001b[0m\u001b[0;34m\u001b[0m\u001b[0m\n\u001b[0;32m--> 437\u001b[0;31m         \u001b[0mp\u001b[0m \u001b[0;34m=\u001b[0m \u001b[0mrinterface\u001b[0m\u001b[0;34m.\u001b[0m\u001b[0mparse\u001b[0m\u001b[0;34m(\u001b[0m\u001b[0mstring\u001b[0m\u001b[0;34m)\u001b[0m\u001b[0;34m\u001b[0m\u001b[0;34m\u001b[0m\u001b[0m\n\u001b[0m\u001b[1;32m    438\u001b[0m         \u001b[0mres\u001b[0m \u001b[0;34m=\u001b[0m \u001b[0mself\u001b[0m\u001b[0;34m.\u001b[0m\u001b[0meval\u001b[0m\u001b[0;34m(\u001b[0m\u001b[0mp\u001b[0m\u001b[0;34m)\u001b[0m\u001b[0;34m\u001b[0m\u001b[0;34m\u001b[0m\u001b[0m\n\u001b[1;32m    439\u001b[0m         \u001b[0;32mreturn\u001b[0m \u001b[0mconversion\u001b[0m\u001b[0;34m.\u001b[0m\u001b[0mrpy2py\u001b[0m\u001b[0;34m(\u001b[0m\u001b[0mres\u001b[0m\u001b[0;34m)\u001b[0m\u001b[0;34m\u001b[0m\u001b[0;34m\u001b[0m\u001b[0m\n",
            "\u001b[0;32m/usr/local/lib/python3.10/dist-packages/rpy2/rinterface_lib/conversion.py\u001b[0m in \u001b[0;36m_\u001b[0;34m(*args, **kwargs)\u001b[0m\n\u001b[1;32m     43\u001b[0m \u001b[0;32mdef\u001b[0m \u001b[0m_cdata_res_to_rinterface\u001b[0m\u001b[0;34m(\u001b[0m\u001b[0mfunction\u001b[0m\u001b[0;34m)\u001b[0m\u001b[0;34m:\u001b[0m\u001b[0;34m\u001b[0m\u001b[0;34m\u001b[0m\u001b[0m\n\u001b[1;32m     44\u001b[0m     \u001b[0;32mdef\u001b[0m \u001b[0m_\u001b[0m\u001b[0;34m(\u001b[0m\u001b[0;34m*\u001b[0m\u001b[0margs\u001b[0m\u001b[0;34m,\u001b[0m \u001b[0;34m**\u001b[0m\u001b[0mkwargs\u001b[0m\u001b[0;34m)\u001b[0m\u001b[0;34m:\u001b[0m\u001b[0;34m\u001b[0m\u001b[0;34m\u001b[0m\u001b[0m\n\u001b[0;32m---> 45\u001b[0;31m         \u001b[0mcdata\u001b[0m \u001b[0;34m=\u001b[0m \u001b[0mfunction\u001b[0m\u001b[0;34m(\u001b[0m\u001b[0;34m*\u001b[0m\u001b[0margs\u001b[0m\u001b[0;34m,\u001b[0m \u001b[0;34m**\u001b[0m\u001b[0mkwargs\u001b[0m\u001b[0;34m)\u001b[0m\u001b[0;34m\u001b[0m\u001b[0;34m\u001b[0m\u001b[0m\n\u001b[0m\u001b[1;32m     46\u001b[0m         \u001b[0;31m# TODO: test cdata is of the expected CType\u001b[0m\u001b[0;34m\u001b[0m\u001b[0;34m\u001b[0m\u001b[0m\n\u001b[1;32m     47\u001b[0m         \u001b[0;32mreturn\u001b[0m \u001b[0m_cdata_to_rinterface\u001b[0m\u001b[0;34m(\u001b[0m\u001b[0mcdata\u001b[0m\u001b[0;34m)\u001b[0m\u001b[0;34m\u001b[0m\u001b[0;34m\u001b[0m\u001b[0m\n",
            "\u001b[0;32m/usr/local/lib/python3.10/dist-packages/rpy2/rinterface.py\u001b[0m in \u001b[0;36mparse\u001b[0;34m(text, num)\u001b[0m\n\u001b[1;32m     98\u001b[0m     \u001b[0mrobj\u001b[0m \u001b[0;34m=\u001b[0m \u001b[0mStrSexpVector\u001b[0m\u001b[0;34m(\u001b[0m\u001b[0;34m[\u001b[0m\u001b[0mtext\u001b[0m\u001b[0;34m]\u001b[0m\u001b[0;34m)\u001b[0m\u001b[0;34m\u001b[0m\u001b[0;34m\u001b[0m\u001b[0m\n\u001b[1;32m     99\u001b[0m     \u001b[0;32mwith\u001b[0m \u001b[0mmemorymanagement\u001b[0m\u001b[0;34m.\u001b[0m\u001b[0mrmemory\u001b[0m\u001b[0;34m(\u001b[0m\u001b[0;34m)\u001b[0m \u001b[0;32mas\u001b[0m \u001b[0mrmemory\u001b[0m\u001b[0;34m:\u001b[0m\u001b[0;34m\u001b[0m\u001b[0;34m\u001b[0m\u001b[0m\n\u001b[0;32m--> 100\u001b[0;31m         \u001b[0mres\u001b[0m \u001b[0;34m=\u001b[0m \u001b[0m_rinterface\u001b[0m\u001b[0;34m.\u001b[0m\u001b[0m_parse\u001b[0m\u001b[0;34m(\u001b[0m\u001b[0mrobj\u001b[0m\u001b[0;34m.\u001b[0m\u001b[0m__sexp__\u001b[0m\u001b[0;34m.\u001b[0m\u001b[0m_cdata\u001b[0m\u001b[0;34m,\u001b[0m \u001b[0mnum\u001b[0m\u001b[0;34m,\u001b[0m \u001b[0mrmemory\u001b[0m\u001b[0;34m)\u001b[0m\u001b[0;34m\u001b[0m\u001b[0;34m\u001b[0m\u001b[0m\n\u001b[0m\u001b[1;32m    101\u001b[0m     \u001b[0;32mreturn\u001b[0m \u001b[0mres\u001b[0m\u001b[0;34m\u001b[0m\u001b[0;34m\u001b[0m\u001b[0m\n\u001b[1;32m    102\u001b[0m \u001b[0;34m\u001b[0m\u001b[0m\n",
            "\u001b[0;32m/usr/local/lib/python3.10/dist-packages/rpy2/rinterface_lib/_rinterface_capi.py\u001b[0m in \u001b[0;36m_parse\u001b[0;34m(cdata, num, rmemory)\u001b[0m\n\u001b[1;32m    650\u001b[0m     \u001b[0;31m# PARSE_EOF\u001b[0m\u001b[0;34m\u001b[0m\u001b[0;34m\u001b[0m\u001b[0m\n\u001b[1;32m    651\u001b[0m     \u001b[0;32mif\u001b[0m \u001b[0mstatus\u001b[0m\u001b[0;34m[\u001b[0m\u001b[0;36m0\u001b[0m\u001b[0;34m]\u001b[0m \u001b[0;34m!=\u001b[0m \u001b[0mopenrlib\u001b[0m\u001b[0;34m.\u001b[0m\u001b[0mrlib\u001b[0m\u001b[0;34m.\u001b[0m\u001b[0mPARSE_OK\u001b[0m\u001b[0;34m:\u001b[0m\u001b[0;34m\u001b[0m\u001b[0;34m\u001b[0m\u001b[0m\n\u001b[0;32m--> 652\u001b[0;31m         raise RParsingError('Parsing status not OK',\n\u001b[0m\u001b[1;32m    653\u001b[0m                             status=PARSING_STATUS(status[0]))\n\u001b[1;32m    654\u001b[0m     \u001b[0;32mreturn\u001b[0m \u001b[0mres\u001b[0m\u001b[0;34m\u001b[0m\u001b[0;34m\u001b[0m\u001b[0m\n",
            "\u001b[0;31mRParsingError\u001b[0m: Parsing status not OK - PARSING_STATUS.PARSE_ERROR"
          ]
        }
      ]
    },
    {
      "cell_type": "code",
      "source": [
        "import rpy2.robjects as ro\n",
        "# Assuming you have already obtained the 'result' ListVector\n",
        "d_awake = result.rx2('d_awake')\n",
        "d_sleep = result.rx2('d_sleep')"
      ],
      "metadata": {
        "id": "I6abGSVqMmnh",
        "colab": {
          "base_uri": "https://localhost:8080/",
          "height": 232
        },
        "outputId": "85695dcb-5583-4a16-c744-9c56a045de37"
      },
      "execution_count": null,
      "outputs": [
        {
          "output_type": "error",
          "ename": "NameError",
          "evalue": "name 'result' is not defined",
          "traceback": [
            "\u001b[0;31m---------------------------------------------------------------------------\u001b[0m",
            "\u001b[0;31mNameError\u001b[0m                                 Traceback (most recent call last)",
            "\u001b[0;32m<ipython-input-5-17fe1ded8b97>\u001b[0m in \u001b[0;36m<cell line: 3>\u001b[0;34m()\u001b[0m\n\u001b[1;32m      1\u001b[0m \u001b[0;32mimport\u001b[0m \u001b[0mrpy2\u001b[0m\u001b[0;34m.\u001b[0m\u001b[0mrobjects\u001b[0m \u001b[0;32mas\u001b[0m \u001b[0mro\u001b[0m\u001b[0;34m\u001b[0m\u001b[0;34m\u001b[0m\u001b[0m\n\u001b[1;32m      2\u001b[0m \u001b[0;31m# Assuming you have already obtained the 'result' ListVector\u001b[0m\u001b[0;34m\u001b[0m\u001b[0;34m\u001b[0m\u001b[0m\n\u001b[0;32m----> 3\u001b[0;31m \u001b[0md_awake\u001b[0m \u001b[0;34m=\u001b[0m \u001b[0mresult\u001b[0m\u001b[0;34m.\u001b[0m\u001b[0mrx2\u001b[0m\u001b[0;34m(\u001b[0m\u001b[0;34m'd_awake'\u001b[0m\u001b[0;34m)\u001b[0m\u001b[0;34m\u001b[0m\u001b[0;34m\u001b[0m\u001b[0m\n\u001b[0m\u001b[1;32m      4\u001b[0m \u001b[0md_sleep\u001b[0m \u001b[0;34m=\u001b[0m \u001b[0mresult\u001b[0m\u001b[0;34m.\u001b[0m\u001b[0mrx2\u001b[0m\u001b[0;34m(\u001b[0m\u001b[0;34m'd_sleep'\u001b[0m\u001b[0;34m)\u001b[0m\u001b[0;34m\u001b[0m\u001b[0;34m\u001b[0m\u001b[0m\n",
            "\u001b[0;31mNameError\u001b[0m: name 'result' is not defined"
          ]
        }
      ]
    },
    {
      "cell_type": "code",
      "source": [
        "d_awake"
      ],
      "metadata": {
        "colab": {
          "base_uri": "https://localhost:8080/",
          "height": 250
        },
        "id": "4GMho-62Nu2f",
        "outputId": "32401efc-4c09-40b2-e1b1-c6ca9f6f3108"
      },
      "execution_count": null,
      "outputs": [
        {
          "output_type": "execute_result",
          "data": {
            "text/plain": [
              "<rpy2.robjects.vectors.DataFrame object at 0x7c90c4a98e80> [RTYPES.VECSXP]\n",
              "R classes: ('data.frame',)\n",
              "[FloatSexp..., FloatSexp..., FloatSexp..., FloatSexp..., ..., FloatSexp..., FloatSexp..., FloatSexp..., FloatSexp...]\n",
              "  1: <class 'rpy2.robjects.vectors.FloatVector'>\n",
              "  <rpy2.robjects.vectors.FloatVector object at 0x7c90c4bba800> [RTYPES.REALSXP]\n",
              "R classes: ('numeric',)\n",
              "[0.287884, 0.201098, 0.773431, 0.112303, ..., 0.102996, 0.000365, 0.462463, 0.390402]\n",
              "  2: <class 'rpy2.robjects.vectors.FloatVector'>\n",
              "  <rpy2.robjects.vectors.FloatVector object at 0x7c90c338bc00> [RTYPES.REALSXP]\n",
              "R classes: ('numeric',)\n",
              "[0.248868, 0.078216, 0.699030, 0.146420, ..., 0.218701, 0.217156, 0.189832, 0.083989]\n",
              "  3: <class 'rpy2.robjects.vectors.FloatVector'>\n",
              "  <rpy2.robjects.vectors.FloatVector object at 0x7c90c33deb00> [RTYPES.REALSXP]\n",
              "R classes: ('numeric',)\n",
              "[0.253810, 0.218820, 0.526918, 0.084935, ..., -0.046223, 0.067607, 0.260967, 0.431694]\n",
              "  4: <class 'rpy2.robjects.vectors.FloatVector'>\n",
              "  <rpy2.robjects.vectors.FloatVector object at 0x7c90c4b33e40> [RTYPES.REALSXP]\n",
              "R classes: ('numeric',)\n",
              "[0.132109, 0.091637, 0.555110, 0.075532, ..., 0.181773, 0.345919, 0.335978, 0.125105]\n",
              "...\n",
              "  6: <class 'rpy2.robjects.vectors.FloatVector'>\n",
              "  <rpy2.robjects.vectors.FloatVector object at 0x7c90c341c5c0> [RTYPES.REALSXP]\n",
              "R classes: ('numeric',)\n",
              "[0.122453, 0.148264, 0.087764, 0.199860, ..., 0.083973, 0.084019, 0.024457, -0.079597]\n",
              "  7: <class 'rpy2.robjects.vectors.FloatVector'>\n",
              "  <rpy2.robjects.vectors.FloatVector object at 0x7c910bc25400> [RTYPES.REALSXP]\n",
              "R classes: ('numeric',)\n",
              "[0.170616, 0.053857, 0.085772, -0.063514, ..., 0.057780, 0.139667, 0.039161, 0.134920]\n",
              "  8: <class 'rpy2.robjects.vectors.FloatVector'>\n",
              "  <rpy2.robjects.vectors.FloatVector object at 0x7c90c3442dc0> [RTYPES.REALSXP]\n",
              "R classes: ('numeric',)\n",
              "[0.147643, 0.232339, -0.009612, 0.022450, ..., -0.004482, 0.146817, -0.001700, 0.102995]\n",
              "  9: <class 'rpy2.robjects.vectors.FloatVector'>\n",
              "  <rpy2.robjects.vectors.FloatVector object at 0x7c90c3440e80> [RTYPES.REALSXP]\n",
              "R classes: ('numeric',)\n",
              "[0.053788, 0.197037, 0.127851, 0.061555, ..., 0.168040, 0.216039, -0.010567, -0.099601]"
            ],
            "text/html": [
              "\n",
              "        <span>R/rpy2 DataFrame (43 x 19100)</span>\n",
              "        <table>\n",
              "          <thead>\n",
              "            <tr>\n",
              "              \n",
              "              <th>1</th>\n",
              "              \n",
              "              <th>2</th>\n",
              "              \n",
              "              <th>3</th>\n",
              "              \n",
              "              <th>...</th>\n",
              "              \n",
              "              <th>32298</th>\n",
              "              \n",
              "              <th>32299</th>\n",
              "              \n",
              "              <th>32300</th>\n",
              "              \n",
              "            </tr>\n",
              "          </thead>\n",
              "          <tbody>\n",
              "          \n",
              "          <tr>\n",
              "            \n",
              "            <td>\n",
              "              0.287884\n",
              "            </td>\n",
              "            \n",
              "            <td>\n",
              "              0.248868\n",
              "            </td>\n",
              "            \n",
              "            <td>\n",
              "              0.253810\n",
              "            </td>\n",
              "            \n",
              "            <td>\n",
              "              ...\n",
              "            </td>\n",
              "            \n",
              "            <td>\n",
              "              0.170616\n",
              "            </td>\n",
              "            \n",
              "            <td>\n",
              "              0.147643\n",
              "            </td>\n",
              "            \n",
              "            <td>\n",
              "              0.053788\n",
              "            </td>\n",
              "            \n",
              "          </tr>\n",
              "          \n",
              "          <tr>\n",
              "            \n",
              "            <td>\n",
              "              0.201098\n",
              "            </td>\n",
              "            \n",
              "            <td>\n",
              "              0.078216\n",
              "            </td>\n",
              "            \n",
              "            <td>\n",
              "              0.218820\n",
              "            </td>\n",
              "            \n",
              "            <td>\n",
              "              \n",
              "            </td>\n",
              "            \n",
              "            <td>\n",
              "              0.053857\n",
              "            </td>\n",
              "            \n",
              "            <td>\n",
              "              0.232339\n",
              "            </td>\n",
              "            \n",
              "            <td>\n",
              "              0.197037\n",
              "            </td>\n",
              "            \n",
              "          </tr>\n",
              "          \n",
              "          <tr>\n",
              "            \n",
              "            <td>\n",
              "              0.773431\n",
              "            </td>\n",
              "            \n",
              "            <td>\n",
              "              0.699030\n",
              "            </td>\n",
              "            \n",
              "            <td>\n",
              "              0.526918\n",
              "            </td>\n",
              "            \n",
              "            <td>\n",
              "              \n",
              "            </td>\n",
              "            \n",
              "            <td>\n",
              "              0.085772\n",
              "            </td>\n",
              "            \n",
              "            <td>\n",
              "              -0.009612\n",
              "            </td>\n",
              "            \n",
              "            <td>\n",
              "              0.127851\n",
              "            </td>\n",
              "            \n",
              "          </tr>\n",
              "          \n",
              "          <tr>\n",
              "            \n",
              "            <td>\n",
              "              0.112303\n",
              "            </td>\n",
              "            \n",
              "            <td>\n",
              "              0.146420\n",
              "            </td>\n",
              "            \n",
              "            <td>\n",
              "              0.084935\n",
              "            </td>\n",
              "            \n",
              "            <td>\n",
              "              \n",
              "            </td>\n",
              "            \n",
              "            <td>\n",
              "              -0.063514\n",
              "            </td>\n",
              "            \n",
              "            <td>\n",
              "              0.022450\n",
              "            </td>\n",
              "            \n",
              "            <td>\n",
              "              0.061555\n",
              "            </td>\n",
              "            \n",
              "          </tr>\n",
              "          \n",
              "          <tr>\n",
              "            \n",
              "            <td>\n",
              "              ...\n",
              "            </td>\n",
              "            \n",
              "            <td>\n",
              "              ...\n",
              "            </td>\n",
              "            \n",
              "            <td>\n",
              "              ...\n",
              "            </td>\n",
              "            \n",
              "            <td>\n",
              "              \n",
              "            </td>\n",
              "            \n",
              "            <td>\n",
              "              ...\n",
              "            </td>\n",
              "            \n",
              "            <td>\n",
              "              ...\n",
              "            </td>\n",
              "            \n",
              "            <td>\n",
              "              ...\n",
              "            </td>\n",
              "            \n",
              "          </tr>\n",
              "          \n",
              "          <tr>\n",
              "            \n",
              "            <td>\n",
              "              0.102996\n",
              "            </td>\n",
              "            \n",
              "            <td>\n",
              "              0.218701\n",
              "            </td>\n",
              "            \n",
              "            <td>\n",
              "              -0.046223\n",
              "            </td>\n",
              "            \n",
              "            <td>\n",
              "              \n",
              "            </td>\n",
              "            \n",
              "            <td>\n",
              "              0.057780\n",
              "            </td>\n",
              "            \n",
              "            <td>\n",
              "              -0.004482\n",
              "            </td>\n",
              "            \n",
              "            <td>\n",
              "              0.168040\n",
              "            </td>\n",
              "            \n",
              "          </tr>\n",
              "          \n",
              "          <tr>\n",
              "            \n",
              "            <td>\n",
              "              0.000365\n",
              "            </td>\n",
              "            \n",
              "            <td>\n",
              "              0.217156\n",
              "            </td>\n",
              "            \n",
              "            <td>\n",
              "              0.067607\n",
              "            </td>\n",
              "            \n",
              "            <td>\n",
              "              \n",
              "            </td>\n",
              "            \n",
              "            <td>\n",
              "              0.139667\n",
              "            </td>\n",
              "            \n",
              "            <td>\n",
              "              0.146817\n",
              "            </td>\n",
              "            \n",
              "            <td>\n",
              "              0.216039\n",
              "            </td>\n",
              "            \n",
              "          </tr>\n",
              "          \n",
              "          <tr>\n",
              "            \n",
              "            <td>\n",
              "              0.462463\n",
              "            </td>\n",
              "            \n",
              "            <td>\n",
              "              0.189832\n",
              "            </td>\n",
              "            \n",
              "            <td>\n",
              "              0.260967\n",
              "            </td>\n",
              "            \n",
              "            <td>\n",
              "              \n",
              "            </td>\n",
              "            \n",
              "            <td>\n",
              "              0.039161\n",
              "            </td>\n",
              "            \n",
              "            <td>\n",
              "              -0.001700\n",
              "            </td>\n",
              "            \n",
              "            <td>\n",
              "              -0.010567\n",
              "            </td>\n",
              "            \n",
              "          </tr>\n",
              "          \n",
              "          <tr>\n",
              "            \n",
              "            <td>\n",
              "              0.390402\n",
              "            </td>\n",
              "            \n",
              "            <td>\n",
              "              0.083989\n",
              "            </td>\n",
              "            \n",
              "            <td>\n",
              "              0.431694\n",
              "            </td>\n",
              "            \n",
              "            <td>\n",
              "              \n",
              "            </td>\n",
              "            \n",
              "            <td>\n",
              "              0.134920\n",
              "            </td>\n",
              "            \n",
              "            <td>\n",
              "              0.102995\n",
              "            </td>\n",
              "            \n",
              "            <td>\n",
              "              -0.099601\n",
              "            </td>\n",
              "            \n",
              "          </tr>\n",
              "          \n",
              "          </tbody>\n",
              "        </table>\n",
              "    "
            ]
          },
          "metadata": {},
          "execution_count": 21
        }
      ]
    },
    {
      "cell_type": "code",
      "execution_count": null,
      "metadata": {
        "id": "qJRROqacjQTT",
        "colab": {
          "base_uri": "https://localhost:8080/",
          "height": 399
        },
        "outputId": "9f60e84c-d010-4dd6-fd08-f50c4b47cc21"
      },
      "outputs": [
        {
          "output_type": "error",
          "ename": "KeyboardInterrupt",
          "evalue": "",
          "traceback": [
            "\u001b[0;31m---------------------------------------------------------------------------\u001b[0m",
            "\u001b[0;31mKeyboardInterrupt\u001b[0m                         Traceback (most recent call last)",
            "\u001b[0;32m<ipython-input-22-6605ab07c38f>\u001b[0m in \u001b[0;36m<cell line: 7>\u001b[0;34m()\u001b[0m\n\u001b[1;32m      7\u001b[0m \u001b[0;32mfor\u001b[0m \u001b[0mi\u001b[0m \u001b[0;32min\u001b[0m \u001b[0mrange\u001b[0m\u001b[0;34m(\u001b[0m\u001b[0mn\u001b[0m \u001b[0;34m-\u001b[0m \u001b[0;36m1\u001b[0m\u001b[0;34m)\u001b[0m\u001b[0;34m:\u001b[0m\u001b[0;34m\u001b[0m\u001b[0;34m\u001b[0m\u001b[0m\n\u001b[1;32m      8\u001b[0m     \u001b[0;32mfor\u001b[0m \u001b[0mj\u001b[0m \u001b[0;32min\u001b[0m \u001b[0mrange\u001b[0m\u001b[0;34m(\u001b[0m\u001b[0mi\u001b[0m \u001b[0;34m+\u001b[0m \u001b[0;36m1\u001b[0m\u001b[0;34m,\u001b[0m \u001b[0mn\u001b[0m\u001b[0;34m)\u001b[0m\u001b[0;34m:\u001b[0m\u001b[0;34m\u001b[0m\u001b[0;34m\u001b[0m\u001b[0m\n\u001b[0;32m----> 9\u001b[0;31m         \u001b[0mdist\u001b[0m\u001b[0;34m[\u001b[0m\u001b[0mi\u001b[0m\u001b[0;34m,\u001b[0m \u001b[0mj\u001b[0m\u001b[0;34m]\u001b[0m \u001b[0;34m=\u001b[0m \u001b[0;36m1\u001b[0m \u001b[0;34m-\u001b[0m \u001b[0mcosine\u001b[0m\u001b[0;34m(\u001b[0m\u001b[0mX\u001b[0m\u001b[0;34m[\u001b[0m\u001b[0mi\u001b[0m\u001b[0;34m,\u001b[0m \u001b[0;34m:\u001b[0m\u001b[0;34m]\u001b[0m\u001b[0;34m,\u001b[0m \u001b[0mX\u001b[0m\u001b[0;34m[\u001b[0m\u001b[0mj\u001b[0m\u001b[0;34m,\u001b[0m \u001b[0;34m:\u001b[0m\u001b[0;34m]\u001b[0m\u001b[0;34m)\u001b[0m\u001b[0;34m\u001b[0m\u001b[0;34m\u001b[0m\u001b[0m\n\u001b[0m\u001b[1;32m     10\u001b[0m \u001b[0;34m\u001b[0m\u001b[0m\n\u001b[1;32m     11\u001b[0m \u001b[0;31m# Normalize the distance matrix\u001b[0m\u001b[0;34m\u001b[0m\u001b[0;34m\u001b[0m\u001b[0m\n",
            "\u001b[0;32m/usr/local/lib/python3.10/dist-packages/scipy/spatial/distance.py\u001b[0m in \u001b[0;36mcosine\u001b[0;34m(u, v, w)\u001b[0m\n\u001b[1;32m    682\u001b[0m     \u001b[0;31m#   or 'reflective correlation'\u001b[0m\u001b[0;34m\u001b[0m\u001b[0;34m\u001b[0m\u001b[0m\n\u001b[1;32m    683\u001b[0m     \u001b[0;31m# clamp the result to 0-2\u001b[0m\u001b[0;34m\u001b[0m\u001b[0;34m\u001b[0m\u001b[0m\n\u001b[0;32m--> 684\u001b[0;31m     \u001b[0;32mreturn\u001b[0m \u001b[0mmax\u001b[0m\u001b[0;34m(\u001b[0m\u001b[0;36m0\u001b[0m\u001b[0;34m,\u001b[0m \u001b[0mmin\u001b[0m\u001b[0;34m(\u001b[0m\u001b[0mcorrelation\u001b[0m\u001b[0;34m(\u001b[0m\u001b[0mu\u001b[0m\u001b[0;34m,\u001b[0m \u001b[0mv\u001b[0m\u001b[0;34m,\u001b[0m \u001b[0mw\u001b[0m\u001b[0;34m=\u001b[0m\u001b[0mw\u001b[0m\u001b[0;34m,\u001b[0m \u001b[0mcentered\u001b[0m\u001b[0;34m=\u001b[0m\u001b[0;32mFalse\u001b[0m\u001b[0;34m)\u001b[0m\u001b[0;34m,\u001b[0m \u001b[0;36m2.0\u001b[0m\u001b[0;34m)\u001b[0m\u001b[0;34m)\u001b[0m\u001b[0;34m\u001b[0m\u001b[0;34m\u001b[0m\u001b[0m\n\u001b[0m\u001b[1;32m    685\u001b[0m \u001b[0;34m\u001b[0m\u001b[0m\n\u001b[1;32m    686\u001b[0m \u001b[0;34m\u001b[0m\u001b[0m\n",
            "\u001b[0;32m/usr/local/lib/python3.10/dist-packages/scipy/spatial/distance.py\u001b[0m in \u001b[0;36mcorrelation\u001b[0;34m(u, v, w, centered)\u001b[0m\n\u001b[1;32m    632\u001b[0m         \u001b[0mv\u001b[0m \u001b[0;34m=\u001b[0m \u001b[0mv\u001b[0m \u001b[0;34m-\u001b[0m \u001b[0mvmu\u001b[0m\u001b[0;34m\u001b[0m\u001b[0;34m\u001b[0m\u001b[0m\n\u001b[1;32m    633\u001b[0m     \u001b[0muv\u001b[0m \u001b[0;34m=\u001b[0m \u001b[0mnp\u001b[0m\u001b[0;34m.\u001b[0m\u001b[0maverage\u001b[0m\u001b[0;34m(\u001b[0m\u001b[0mu\u001b[0m \u001b[0;34m*\u001b[0m \u001b[0mv\u001b[0m\u001b[0;34m,\u001b[0m \u001b[0mweights\u001b[0m\u001b[0;34m=\u001b[0m\u001b[0mw\u001b[0m\u001b[0;34m)\u001b[0m\u001b[0;34m\u001b[0m\u001b[0;34m\u001b[0m\u001b[0m\n\u001b[0;32m--> 634\u001b[0;31m     \u001b[0muu\u001b[0m \u001b[0;34m=\u001b[0m \u001b[0mnp\u001b[0m\u001b[0;34m.\u001b[0m\u001b[0maverage\u001b[0m\u001b[0;34m(\u001b[0m\u001b[0mnp\u001b[0m\u001b[0;34m.\u001b[0m\u001b[0msquare\u001b[0m\u001b[0;34m(\u001b[0m\u001b[0mu\u001b[0m\u001b[0;34m)\u001b[0m\u001b[0;34m,\u001b[0m \u001b[0mweights\u001b[0m\u001b[0;34m=\u001b[0m\u001b[0mw\u001b[0m\u001b[0;34m)\u001b[0m\u001b[0;34m\u001b[0m\u001b[0;34m\u001b[0m\u001b[0m\n\u001b[0m\u001b[1;32m    635\u001b[0m     \u001b[0mvv\u001b[0m \u001b[0;34m=\u001b[0m \u001b[0mnp\u001b[0m\u001b[0;34m.\u001b[0m\u001b[0maverage\u001b[0m\u001b[0;34m(\u001b[0m\u001b[0mnp\u001b[0m\u001b[0;34m.\u001b[0m\u001b[0msquare\u001b[0m\u001b[0;34m(\u001b[0m\u001b[0mv\u001b[0m\u001b[0;34m)\u001b[0m\u001b[0;34m,\u001b[0m \u001b[0mweights\u001b[0m\u001b[0;34m=\u001b[0m\u001b[0mw\u001b[0m\u001b[0;34m)\u001b[0m\u001b[0;34m\u001b[0m\u001b[0;34m\u001b[0m\u001b[0m\n\u001b[1;32m    636\u001b[0m     \u001b[0mdist\u001b[0m \u001b[0;34m=\u001b[0m \u001b[0;36m1.0\u001b[0m \u001b[0;34m-\u001b[0m \u001b[0muv\u001b[0m \u001b[0;34m/\u001b[0m \u001b[0mnp\u001b[0m\u001b[0;34m.\u001b[0m\u001b[0msqrt\u001b[0m\u001b[0;34m(\u001b[0m\u001b[0muu\u001b[0m \u001b[0;34m*\u001b[0m \u001b[0mvv\u001b[0m\u001b[0;34m)\u001b[0m\u001b[0;34m\u001b[0m\u001b[0;34m\u001b[0m\u001b[0m\n",
            "\u001b[0;32m/usr/local/lib/python3.10/dist-packages/numpy/core/overrides.py\u001b[0m in \u001b[0;36maverage\u001b[0;34m(*args, **kwargs)\u001b[0m\n",
            "\u001b[0;32m/usr/local/lib/python3.10/dist-packages/numpy/lib/function_base.py\u001b[0m in \u001b[0;36maverage\u001b[0;34m(a, axis, weights, returned, keepdims)\u001b[0m\n\u001b[1;32m    516\u001b[0m \u001b[0;34m\u001b[0m\u001b[0m\n\u001b[1;32m    517\u001b[0m     \u001b[0;32mif\u001b[0m \u001b[0mweights\u001b[0m \u001b[0;32mis\u001b[0m \u001b[0;32mNone\u001b[0m\u001b[0;34m:\u001b[0m\u001b[0;34m\u001b[0m\u001b[0;34m\u001b[0m\u001b[0m\n\u001b[0;32m--> 518\u001b[0;31m         \u001b[0mavg\u001b[0m \u001b[0;34m=\u001b[0m \u001b[0ma\u001b[0m\u001b[0;34m.\u001b[0m\u001b[0mmean\u001b[0m\u001b[0;34m(\u001b[0m\u001b[0maxis\u001b[0m\u001b[0;34m,\u001b[0m \u001b[0;34m**\u001b[0m\u001b[0mkeepdims_kw\u001b[0m\u001b[0;34m)\u001b[0m\u001b[0;34m\u001b[0m\u001b[0;34m\u001b[0m\u001b[0m\n\u001b[0m\u001b[1;32m    519\u001b[0m         \u001b[0mscl\u001b[0m \u001b[0;34m=\u001b[0m \u001b[0mavg\u001b[0m\u001b[0;34m.\u001b[0m\u001b[0mdtype\u001b[0m\u001b[0;34m.\u001b[0m\u001b[0mtype\u001b[0m\u001b[0;34m(\u001b[0m\u001b[0ma\u001b[0m\u001b[0;34m.\u001b[0m\u001b[0msize\u001b[0m\u001b[0;34m/\u001b[0m\u001b[0mavg\u001b[0m\u001b[0;34m.\u001b[0m\u001b[0msize\u001b[0m\u001b[0;34m)\u001b[0m\u001b[0;34m\u001b[0m\u001b[0;34m\u001b[0m\u001b[0m\n\u001b[1;32m    520\u001b[0m     \u001b[0;32melse\u001b[0m\u001b[0;34m:\u001b[0m\u001b[0;34m\u001b[0m\u001b[0;34m\u001b[0m\u001b[0m\n",
            "\u001b[0;32m/usr/local/lib/python3.10/dist-packages/numpy/core/_methods.py\u001b[0m in \u001b[0;36m_mean\u001b[0;34m(a, axis, dtype, out, keepdims, where)\u001b[0m\n\u001b[1;32m    188\u001b[0m             \u001b[0mret\u001b[0m \u001b[0;34m=\u001b[0m \u001b[0marr\u001b[0m\u001b[0;34m.\u001b[0m\u001b[0mdtype\u001b[0m\u001b[0;34m.\u001b[0m\u001b[0mtype\u001b[0m\u001b[0;34m(\u001b[0m\u001b[0mret\u001b[0m \u001b[0;34m/\u001b[0m \u001b[0mrcount\u001b[0m\u001b[0;34m)\u001b[0m\u001b[0;34m\u001b[0m\u001b[0;34m\u001b[0m\u001b[0m\n\u001b[1;32m    189\u001b[0m         \u001b[0;32melse\u001b[0m\u001b[0;34m:\u001b[0m\u001b[0;34m\u001b[0m\u001b[0;34m\u001b[0m\u001b[0m\n\u001b[0;32m--> 190\u001b[0;31m             \u001b[0mret\u001b[0m \u001b[0;34m=\u001b[0m \u001b[0mret\u001b[0m\u001b[0;34m.\u001b[0m\u001b[0mdtype\u001b[0m\u001b[0;34m.\u001b[0m\u001b[0mtype\u001b[0m\u001b[0;34m(\u001b[0m\u001b[0mret\u001b[0m \u001b[0;34m/\u001b[0m \u001b[0mrcount\u001b[0m\u001b[0;34m)\u001b[0m\u001b[0;34m\u001b[0m\u001b[0;34m\u001b[0m\u001b[0m\n\u001b[0m\u001b[1;32m    191\u001b[0m     \u001b[0;32melse\u001b[0m\u001b[0;34m:\u001b[0m\u001b[0;34m\u001b[0m\u001b[0;34m\u001b[0m\u001b[0m\n\u001b[1;32m    192\u001b[0m         \u001b[0mret\u001b[0m \u001b[0;34m=\u001b[0m \u001b[0mret\u001b[0m \u001b[0;34m/\u001b[0m \u001b[0mrcount\u001b[0m\u001b[0;34m\u001b[0m\u001b[0;34m\u001b[0m\u001b[0m\n",
            "\u001b[0;31mKeyboardInterrupt\u001b[0m: "
          ]
        }
      ],
      "source": [
        "from scipy.spatial.distance import cosine\n",
        "\n",
        "X = np.array(d_awake)\n",
        "n = X.shape[0]\n",
        "dist = np.empty((n, n))\n",
        "\n",
        "for i in range(n - 1):\n",
        "    for j in range(i + 1, n):\n",
        "        dist[i, j] = 1 - cosine(X[i, :], X[j, :])\n",
        "\n",
        "min_val = np.min(dist)\n",
        "max_val = np.max(dist)\n",
        "ts_dist_awake = (dist - min_val) / (max_val - min_val)\n",
        "\n",
        "ts_dist_awake.to_csv('/gdrive/Shareddrives/Turi_lab/Data/Sleep/ts_dist_awake.csv', index=False)\n",
        "\n",
        "X = np.array(d_sleep)\n",
        "n = X.shape[0]\n",
        "dist = np.empty((n, n))\n",
        "\n",
        "for i in range(n - 1):\n",
        "    for j in range(i + 1, n):\n",
        "        dist[i, j] = 1 - cosine(X[i, :], X[j, :])\n",
        "\n",
        "min_val = np.min(dist)\n",
        "max_val = np.max(dist)\n",
        "ts_dist_sleep = (dist - min_val) / (max_val - min_val)\n",
        "ts_dist_sleep.to_csv('/gdrive/Shareddrives/Turi_lab/Data/Sleep/ts_dist_sleep.csv', index=False)"
      ]
    },
    {
      "cell_type": "markdown",
      "source": [
        "Get significant cell:"
      ],
      "metadata": {
        "id": "CQh71a5I1eSY"
      }
    },
    {
      "cell_type": "code",
      "execution_count": null,
      "metadata": {
        "id": "nX7XgwXKheiQ",
        "colab": {
          "base_uri": "https://localhost:8080/",
          "height": 393
        },
        "outputId": "9f1e6991-465a-4c7a-c695-9543f8db4e62"
      },
      "outputs": [
        {
          "output_type": "error",
          "ename": "ModuleNotFoundError",
          "evalue": "No module named 'neuropil'",
          "traceback": [
            "\u001b[0;31m---------------------------------------------------------------------------\u001b[0m",
            "\u001b[0;31mModuleNotFoundError\u001b[0m                       Traceback (most recent call last)",
            "\u001b[0;32m<ipython-input-12-1ba1129dd5c5>\u001b[0m in \u001b[0;36m<cell line: 5>\u001b[0;34m()\u001b[0m\n\u001b[1;32m      3\u001b[0m \u001b[0;32mimport\u001b[0m \u001b[0mmatplotlib\u001b[0m\u001b[0;34m.\u001b[0m\u001b[0mpyplot\u001b[0m \u001b[0;32mas\u001b[0m \u001b[0mplt\u001b[0m\u001b[0;34m\u001b[0m\u001b[0;34m\u001b[0m\u001b[0m\n\u001b[1;32m      4\u001b[0m \u001b[0msys\u001b[0m\u001b[0;34m.\u001b[0m\u001b[0mpath\u001b[0m\u001b[0;34m.\u001b[0m\u001b[0mappend\u001b[0m\u001b[0;34m(\u001b[0m\u001b[0;34m'/content/sleep/notebooks/neuropil_analysis/'\u001b[0m\u001b[0;34m)\u001b[0m\u001b[0;34m\u001b[0m\u001b[0;34m\u001b[0m\u001b[0m\n\u001b[0;32m----> 5\u001b[0;31m \u001b[0;32mimport\u001b[0m \u001b[0mneuropil\u001b[0m \u001b[0;32mas\u001b[0m \u001b[0mnpil\u001b[0m\u001b[0;34m\u001b[0m\u001b[0;34m\u001b[0m\u001b[0m\n\u001b[0m\u001b[1;32m      6\u001b[0m \u001b[0msys\u001b[0m\u001b[0;34m.\u001b[0m\u001b[0mpath\u001b[0m\u001b[0;34m.\u001b[0m\u001b[0mappend\u001b[0m\u001b[0;34m(\u001b[0m\u001b[0;34m\"/content/sleep/src/\"\u001b[0m\u001b[0;34m)\u001b[0m\u001b[0;34m\u001b[0m\u001b[0;34m\u001b[0m\u001b[0m\n\u001b[1;32m      7\u001b[0m \u001b[0;32mfrom\u001b[0m \u001b[0meeg_class\u001b[0m \u001b[0;32mimport\u001b[0m \u001b[0meegData\u001b[0m\u001b[0;34m\u001b[0m\u001b[0;34m\u001b[0m\u001b[0m\n",
            "\u001b[0;31mModuleNotFoundError\u001b[0m: No module named 'neuropil'",
            "",
            "\u001b[0;31m---------------------------------------------------------------------------\u001b[0;32m\nNOTE: If your import is failing due to a missing package, you can\nmanually install dependencies using either !pip or !apt.\n\nTo view examples of installing some common dependencies, click the\n\"Open Examples\" button below.\n\u001b[0;31m---------------------------------------------------------------------------\u001b[0m\n"
          ],
          "errorDetails": {
            "actions": [
              {
                "action": "open_url",
                "actionText": "Open Examples",
                "url": "/notebooks/snippets/importing_libraries.ipynb"
              }
            ]
          }
        }
      ],
      "source": [
        "import sys\n",
        "from os.path import join\n",
        "import matplotlib.pyplot as plt\n",
        "sys.path.append('/content/sleep/notebooks/neuropil_analysis/')\n",
        "import neuropil as npil\n",
        "sys.path.append(\"/content/sleep/src/\")\n",
        "from eeg_class import eegData\n",
        "from behavior_class import behaviorData\n",
        "\n",
        "#Loading sleep and other behavior data (velocity)\n",
        "sleep_data = pd.read_csv(join(data_path, 'velo_eeg.csv'))\n",
        "#Determining awake mobile and imobile periods\n",
        "sleep_data['mobile_immobile'] = behaviorData.define_immobility(\n",
        "        sleep_data[\"filtered velo\"])\n",
        "#Creating brain state filters for filtering the datasets\n",
        "brain_states =  eegData.brain_state_filter(\n",
        "        velo_eeg_df=sleep_data,\n",
        "        states=[\"awake_mobile\", \"awake_immobile\", \"NREM\", \"REM\", \"other\"],\n",
        "    )\n",
        "nrem_mask = brain_states['NREM']\n",
        "awake_mask = brain_states['awake_immobile']\n",
        "nrem_intervals = dfof_data.loc[:, nrem_mask.values]\n",
        "awake_intervals = dfof_data.loc[:, awake_mask.values]\n",
        "#Calculating significant cells\n",
        "significant_cells_nrem_vs_awake = npil.statistics.significance_calc(nrem_intervals.to_numpy(),\n",
        "                                                      awake_intervals.to_numpy())\n",
        "significant_cells_awake_vs_nrem = npil.statistics.significance_calc(awake_intervals.to_numpy(),\n",
        "                                                      nrem_intervals.to_numpy())\n",
        "sig_cell_mask = np.zeros(dfof_data.shape[0], dtype=bool)\n",
        "sig_cell_mask[significant_cells_nrem_vs_awake] = True\n",
        "significant_cell_data = dfof_data[sig_cell_mask]\n",
        "significant_cell_data"
      ]
    },
    {
      "cell_type": "markdown",
      "source": [
        "Second Part (R):"
      ],
      "metadata": {
        "id": "mZdvYxLK0Rgf"
      }
    },
    {
      "cell_type": "code",
      "execution_count": null,
      "metadata": {
        "id": "cajx2JStdsLz"
      },
      "outputs": [],
      "source": [
        "ts_dist_awake = read.csv(\"/gdrive/Shareddrives/Turi_lab/Data/Sleep/2p/ts_dist_awake.csv\")\n",
        "ts_dist_sleep = read.csv('/gdrive/Shareddrives/Turi_lab/Data/Sleep/ts_dist_sleep.csv')\n",
        "\n",
        "net.epsilon.create <- function(dist, epsilon) {\n",
        "    n = matrix(0, ncol(dist), nrow(dist))\n",
        "    n[dist < epsilon] = 1;\n",
        "    return(graph.adjacency(n, mode=\"undirected\", diag=F));\n",
        "}"
      ]
    },
    {
      "cell_type": "code",
      "execution_count": null,
      "metadata": {
        "id": "P7jXhTYrX6eF"
      },
      "outputs": [],
      "source": [
        "eps_seq = seq(0.01,0.99,0.01)\n",
        "ddd = function(ts_dist){\n",
        "modu = c()\n",
        "n_hubs = c()\n",
        "n_edges = c()\n",
        "for (i in 1:length(eps_seq)){\n",
        "net1 = net.epsilon.create(dist = ts_dist, epsilon = eps_seq[i])\n",
        "c1 = cluster_fast_greedy(net1)\n",
        "hub_score1 = hub.score(net1)\n",
        "n_hubs[i] = length(which(hub_score1[[\"vector\"]]>0.9))\n",
        "modu[i] = modularity(c1)\n",
        "n_edges[i] = gsize(net1)\n",
        "}\n",
        "return(list(n_hubs,n_edges,modu))\n",
        "}\n",
        "\n",
        "tt = tibble(\n",
        "  eps = rep(eps_seq,2),\n",
        "  state = c(rep(\"aw\",length(eps_seq)),rep(\"sl\",length(eps_seq))),\n",
        "  n_hub = c(ddd(ts_dist_awake)[[1]],ddd(ts_dist_sleep)[[1]]),\n",
        "  n_edge = c(ddd(ts_dist_awake)[[2]],ddd(ts_dist_sleep)[[2]]),\n",
        "  modu = c(ddd(ts_dist_awake)[[3]],ddd(ts_dist_sleep)[[3]])\n",
        ")\n",
        "\n",
        "tt %>%\n",
        "  ggplot(aes(x=eps,y=modu,colour=state))+\n",
        "  geom_point(size=0.8)+\n",
        "  geom_line()\n",
        "\n",
        "tt %>%\n",
        "  ggplot(aes(x=eps,y=n_hub,colour=state))+\n",
        "  geom_point(size=0.8)+\n",
        "  geom_line()\n",
        "\n",
        "tt %>%\n",
        "  ggplot(aes(x=eps,y=n_edge,colour=state))+\n",
        "  geom_point(size=0.8)+\n",
        "  geom_line()\n",
        "\n",
        "tt %>%\n",
        "  ggplot(aes(x=n_edge,y=n_hub,colour=state))+\n",
        "  geom_point(size=0.8)+\n",
        "  geom_line()\n",
        "\n",
        "## significant sleep Gergo\n",
        "tibble(\n",
        "  n = 1:length(rownames(roi_cluster)),\n",
        "  roi = rownames(roi_cluster)) %>%\n",
        "  filter(roi %in% sig_cell) %>% view\n"
      ]
    },
    {
      "cell_type": "code",
      "execution_count": null,
      "metadata": {
        "id": "QhBKwf2YfYMq"
      },
      "outputs": [],
      "source": [
        "ts_dist = ts_dist_sleep\n",
        "eps = 0.2\n",
        "net = net.epsilon.create(dist = ts_dist, epsilon = eps)\n",
        "c = cluster_fast_greedy(net)\n",
        "membership(c)\n",
        "plot(net, vertex.color=membership(c), layout=layout_with_fr(net))\n",
        "#hub score\n",
        "hub_score <- hub.score(net)\n",
        "which(hub_score[[\"vector\"]]>=0.9)"
      ]
    }
  ],
  "metadata": {
    "colab": {
      "provenance": [],
      "include_colab_link": true
    },
    "kernelspec": {
      "display_name": "Python 3",
      "name": "python3"
    },
    "language_info": {
      "name": "python"
    }
  },
  "nbformat": 4,
  "nbformat_minor": 0
}