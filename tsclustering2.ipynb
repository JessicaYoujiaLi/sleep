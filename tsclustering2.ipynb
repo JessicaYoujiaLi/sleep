{
  "nbformat": 4,
  "nbformat_minor": 0,
  "metadata": {
    "colab": {
      "provenance": [],
      "authorship_tag": "ABX9TyPF9zEc+Q3xnuhSYhMOWZi9",
      "include_colab_link": true
    },
    "kernelspec": {
      "name": "ir",
      "display_name": "R"
    },
    "language_info": {
      "name": "R"
    }
  },
  "cells": [
    {
      "cell_type": "markdown",
      "metadata": {
        "id": "view-in-github",
        "colab_type": "text"
      },
      "source": [
        "<a href=\"https://colab.research.google.com/github/GergelyTuri/sleep/blob/master/tsclustering2.ipynb\" target=\"_parent\"><img src=\"https://colab.research.google.com/assets/colab-badge.svg\" alt=\"Open In Colab\"/></a>"
      ]
    },
    {
      "cell_type": "code",
      "execution_count": 2,
      "metadata": {
        "colab": {
          "base_uri": "https://localhost:8080/"
        },
        "id": "UhVe4psykZer",
        "outputId": "cfa7026e-6236-4b38-beea-9e2187182974"
      },
      "outputs": [
        {
          "output_type": "stream",
          "name": "stderr",
          "text": [
            "Installing package into ‘/usr/local/lib/R/site-library’\n",
            "(as ‘lib’ is unspecified)\n",
            "\n",
            "Warning message in install.packages(\"igraph\"):\n",
            "“installation of package ‘igraph’ had non-zero exit status”\n"
          ]
        }
      ],
      "source": [
        "library(tidyverse)\n",
        "install.packages(\"igraph\")\n"
      ]
    }
  ]
}