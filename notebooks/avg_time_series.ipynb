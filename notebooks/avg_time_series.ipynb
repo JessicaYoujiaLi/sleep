{
 "cells": [
  {
   "cell_type": "markdown",
   "metadata": {},
   "source": [
    "# Loading and saving averaged time images for suite2p dataset\n",
    "* 1/9/2024 setup"
   ]
  },
  {
   "cell_type": "code",
   "execution_count": null,
   "metadata": {},
   "outputs": [],
   "source": [
    "import sys, os\n",
    "import matplotlib.pyplot as plt\n",
    "from os.path import join\n",
    "import numpy as np\n",
    "import pandas as pd\n",
    "\n",
    "sys.path.append(\"/home/gergely/code/sleep/base/\")\n",
    "\n",
    "from classes.suite2p_class import Suite2p\n",
    "from classes.mouse_class import Mouse"
   ]
  },
  {
   "cell_type": "code",
   "execution_count": null,
   "metadata": {},
   "outputs": [],
   "source": [
    "mouse = Mouse(\"140302_3\")\n",
    "s2p_folders = mouse.find_suite2p_folders()\n",
    "for folder in enumerate(s2p_folders):\n",
    "    print(folder)"
   ]
  },
  {
   "cell_type": "markdown",
   "metadata": {},
   "source": [
    "### Procedure to be implemented in the class:"
   ]
  },
  {
   "cell_type": "code",
   "execution_count": null,
   "metadata": {},
   "outputs": [],
   "source": [
    "s2p_folder = s2p_folders[4]\n",
    "ops_path = join(s2p_folder, \"ops1.npy\")\n",
    "ops_array = np.load(ops_path, allow_pickle=True)\n",
    "\n",
    "# Check the number of elements in ops_array\n",
    "num_elements = len(ops_array)\n",
    "\n",
    "# Define a consistent plot size for both scenarios\n",
    "plot_width_per_image = 5  # Width per image in inches\n",
    "plot_height_per_image = 5  # Height per image in inches\n",
    "\n",
    "# Single element handling\n",
    "if num_elements == 1:\n",
    "    fig, ax = plt.subplots(figsize=(plot_width_per_image, plot_height_per_image))\n",
    "    image_data = ops_array[0][\"meanImg\"]\n",
    "    ax.imshow(\n",
    "        image_data, cmap=\"gray\"\n",
    "    )  # cmap='gray' for grayscale, remove if your images are in color\n",
    "    ax.set_title(\"Mean Image\")\n",
    "    ax.axis(\"off\")\n",
    "\n",
    "# Multiple elements handling\n",
    "else:\n",
    "    # Set up the subplot grid\n",
    "    cols = int(np.ceil(np.sqrt(num_elements)))\n",
    "    rows = int(np.ceil(num_elements / cols))\n",
    "\n",
    "    # Calculate the total plot size\n",
    "    total_width = plot_width_per_image * cols\n",
    "    total_height = plot_height_per_image * rows\n",
    "\n",
    "    # Create subplots\n",
    "    fig, axes = plt.subplots(rows, cols, figsize=(total_width, total_height))\n",
    "    axes = axes.flatten()\n",
    "\n",
    "    # Loop through each item and plot\n",
    "    for i, ops in enumerate(ops_array):\n",
    "        image_data = ops[\"meanImg\"]\n",
    "        axes[i].imshow(image_data, cmap=\"gray\")\n",
    "        axes[i].set_title(f\"Mean Image {i+1}\")\n",
    "        axes[i].axis(\"off\")\n",
    "\n",
    "    # Turn off any unused subplots\n",
    "    for j in range(i + 1, len(axes)):\n",
    "        axes[j].axis(\"off\")\n",
    "\n",
    "plt.tight_layout()\n",
    "plt.show()"
   ]
  },
  {
   "cell_type": "markdown",
   "metadata": {},
   "source": [
    "### Calling the implementation:"
   ]
  },
  {
   "cell_type": "code",
   "execution_count": null,
   "metadata": {},
   "outputs": [],
   "source": [
    "s2p = Suite2p(s2p_folder)\n",
    "s2p.time_avg_image()"
   ]
  }
 ],
 "metadata": {
  "kernelspec": {
   "display_name": "sleep",
   "language": "python",
   "name": "python3"
  },
  "language_info": {
   "codemirror_mode": {
    "name": "ipython",
    "version": 3
   },
   "file_extension": ".py",
   "mimetype": "text/x-python",
   "name": "python",
   "nbconvert_exporter": "python",
   "pygments_lexer": "ipython3",
   "version": "3.8.18"
  }
 },
 "nbformat": 4,
 "nbformat_minor": 2
}
