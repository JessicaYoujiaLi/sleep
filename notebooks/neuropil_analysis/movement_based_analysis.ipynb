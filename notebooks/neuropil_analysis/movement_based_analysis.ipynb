{
 "cells": [
  {
   "cell_type": "markdown",
   "metadata": {},
   "source": [
    "# Power spectrum density analysis of dendritic data. \n",
    "This analysis is purely based on locomotory signals bc there is no eeg data available yet.\n",
    "* 1/27/2024"
   ]
  },
  {
   "cell_type": "code",
   "execution_count": null,
   "metadata": {},
   "outputs": [],
   "source": [
    "import sys, os\n",
    "import json\n",
    "import matplotlib.pyplot as plt\n",
    "from os.path import join\n",
    "import pandas as pd\n",
    "import numpy as np\n",
    "import scipy.signal as signal\n",
    "from scipy.interpolate import interp1d\n",
    "\n",
    "sys.path.append(\"/home/gergely/code/sleep/src\")\n",
    "\n",
    "from suite2p_class import Suite2p\n",
    "\n",
    "from imaging_data_class import ImagingData\n",
    "\n",
    "# from eeg_class import eegData\n",
    "import behavior_class as bc\n",
    "import dfof\n",
    "\n",
    "\n",
    "def freq_calc(data: pd.Series, fs: int = 10):\n",
    "    \"\"\"data: npil_eeg data\"\"\"\n",
    "    frequencies, psd = signal.welch(data, fs=fs, detrend=\"linear\")\n",
    "    return frequencies, psd"
   ]
  },
  {
   "cell_type": "code",
   "execution_count": null,
   "metadata": {},
   "outputs": [],
   "source": [
    "mouse = ImagingData(\"140502_5\")\n",
    "\n",
    "s2p_folders = mouse.find_suite2p_folders()\n",
    "for folder in enumerate(s2p_folders):\n",
    "    print(folder)"
   ]
  },
  {
   "cell_type": "code",
   "execution_count": null,
   "metadata": {},
   "outputs": [],
   "source": [
    "s2p_folder = s2p_folders[8]\n",
    "\n",
    "mobile_immobile_data = sima_folder = os.path.dirname(s2p_folder)"
   ]
  },
  {
   "cell_type": "markdown",
   "metadata": {},
   "source": [
    "## Make Sure the folder is set correctly in the `behavior_folders[1][1]` variable!!!\n",
    "TODO: fix this so that it is not hardcoded"
   ]
  },
  {
   "cell_type": "code",
   "execution_count": null,
   "metadata": {},
   "outputs": [],
   "source": [
    "behavior = bc.behaviorData(mouse_id=mouse.mouse_id)\n",
    "behavior_folders = [\n",
    "    (index, folder) for index, folder in enumerate(behavior.find_behavior_folders())\n",
    "]\n",
    "print(behavior_folders)\n",
    "with open(join(behavior_folders[1][1], \"mobility_immobility.json\"), \"rb\") as f:\n",
    "    data = json.load(f)\n",
    "\n",
    "df = pd.DataFrame(columns=[\"mob_immob\"], data=data)"
   ]
  },
  {
   "cell_type": "code",
   "execution_count": null,
   "metadata": {},
   "outputs": [],
   "source": [
    "df\n",
    "# True if mobile"
   ]
  },
  {
   "cell_type": "code",
   "execution_count": null,
   "metadata": {},
   "outputs": [],
   "source": [
    "s2p_calc_dfof = dfof.Suite2pDFOF(window=1800)\n",
    "jia_calc_dfof = dfof.JiaDFOF(slow_trend_window=1800)\n",
    "s2p_data = Suite2p(s2p_folder=s2p_folder)\n",
    "s2p_data\n",
    "cells = s2p_data.get_cells()\n",
    "npil = s2p_data.get_npil()"
   ]
  },
  {
   "cell_type": "code",
   "execution_count": null,
   "metadata": {},
   "outputs": [],
   "source": [
    "cell_dfof = s2p_calc_dfof.calculate(signal=cells, npil=npil)\n",
    "npil_dfof = jia_calc_dfof.calculate(signal=npil)"
   ]
  },
  {
   "cell_type": "code",
   "execution_count": null,
   "metadata": {},
   "outputs": [],
   "source": [
    "mean_cellF = cell_dfof.mean(axis=0)\n",
    "mean_npilF = npil_dfof.mean(axis=0)"
   ]
  },
  {
   "cell_type": "code",
   "execution_count": null,
   "metadata": {},
   "outputs": [],
   "source": [
    "fig, ax = plt.subplots(nrows=3, figsize=(20, 5), sharey=True)\n",
    "# concatentate the True values:\n",
    "ax[0].plot(mean_cellF.values, color=\"k\", label=\"all cells\")\n",
    "ax[0].legend(loc=\"upper right\", labelcolor=\"k\")\n",
    "ax[1].plot(mean_cellF[df[\"mob_immob\"]].values, label=\"movement\")\n",
    "ax[1].legend(loc=\"upper right\", labelcolor=\"k\")\n",
    "ax[2].plot(mean_cellF[~df[\"mob_immob\"]].values, color=\"orange\")\n",
    "ax[2].legend([\"stationary\"], loc=\"upper right\", labelcolor=\"k\")\n",
    "plt.show()\n",
    "\n",
    "fig.savefig(\n",
    "    join(sima_folder, \"Dendritic dfof movement vs stat.png\"),\n",
    "    bbox_inches=\"tight\",\n",
    "    dpi=300,\n",
    ")"
   ]
  },
  {
   "cell_type": "markdown",
   "metadata": {},
   "source": [
    "### Calculations"
   ]
  },
  {
   "cell_type": "code",
   "execution_count": null,
   "metadata": {},
   "outputs": [],
   "source": [
    "input_data = {\n",
    "    \"mobile_cell\": pd.Series(mean_cellF[df[\"mob_immob\"]].values),\n",
    "    \"mobile_npil\": pd.Series(mean_npilF[df[\"mob_immob\"]].values),\n",
    "    \"stat_npil\": pd.Series(mean_npilF[~df[\"mob_immob\"]].values),\n",
    "    \"stat_cell\": pd.Series(mean_cellF[~df[\"mob_immob\"]].values),\n",
    "}"
   ]
  },
  {
   "cell_type": "code",
   "execution_count": null,
   "metadata": {},
   "outputs": [],
   "source": [
    "results = {}\n",
    "\n",
    "for key, value in input_data.items():\n",
    "    freq, psd = freq_calc(value)\n",
    "    results[key] = {\"freq\": freq, \"psd\": psd}\n",
    "\n",
    "results.keys()"
   ]
  },
  {
   "cell_type": "code",
   "execution_count": null,
   "metadata": {},
   "outputs": [],
   "source": [
    "# Create a figure with 2 subplots in 1 row and 2 columns\n",
    "fig, axs = plt.subplots(nrows=1, ncols=2, figsize=(10, 5), sharey=True)\n",
    "fig.suptitle(\"Power Spectral Density: Awake vs NREM\")\n",
    "\n",
    "# Plot the first semilogy plot in the first subplot\n",
    "axs[0].semilogy(\n",
    "    results[\"mobile_cell\"][\"freq\"], results[\"mobile_cell\"][\"psd\"], label=\"mobile\"\n",
    ")\n",
    "axs[0].semilogy(results[\"stat_cell\"][\"freq\"], results[\"stat_cell\"][\"psd\"], label=\"stat\")\n",
    "axs[0].legend(loc=\"lower left\")\n",
    "\n",
    "# Plot the second semilogy plot in the first subplot\n",
    "axs[1].semilogy(\n",
    "    results[\"mobile_npil\"][\"freq\"], results[\"mobile_npil\"][\"psd\"], label=\"mobile\"\n",
    ")\n",
    "axs[1].semilogy(results[\"stat_npil\"][\"freq\"], results[\"stat_npil\"][\"psd\"], label=\"stat\")\n",
    "axs[1].legend(loc=\"lower left\")\n",
    "\n",
    "# Set the title and axis labels for the first subplot\n",
    "axs[0].set_title(\"Cell signal\")\n",
    "axs[0].set_xlabel(\"Frequency (Hz)\")\n",
    "axs[0].set_ylabel(\"Power/Frequency (dB/Hz)\")\n",
    "\n",
    "# Set the title and axis labels for the second subplot\n",
    "axs[1].set_title(\"Npil signal\")\n",
    "axs[1].set_xlabel(\"Frequency (Hz)\")\n",
    "\n",
    "# Show the plot\n",
    "plt.show()\n",
    "fig.savefig(\n",
    "    join(sima_folder, \"PSD plot cell vs npil.png\"), bbox_inches=\"tight\", dpi=300\n",
    ")"
   ]
  },
  {
   "cell_type": "code",
   "execution_count": null,
   "metadata": {},
   "outputs": [],
   "source": []
  }
 ],
 "metadata": {
  "kernelspec": {
   "display_name": "sleep",
   "language": "python",
   "name": "python3"
  },
  "language_info": {
   "codemirror_mode": {
    "name": "ipython",
    "version": 3
   },
   "file_extension": ".py",
   "mimetype": "text/x-python",
   "name": "python",
   "nbconvert_exporter": "python",
   "pygments_lexer": "ipython3",
   "version": "3.8.18"
  }
 },
 "nbformat": 4,
 "nbformat_minor": 2
}
