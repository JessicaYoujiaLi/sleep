{
 "cells": [
  {
   "cell_type": "markdown",
   "id": "5941bfa9",
   "metadata": {},
   "source": [
    "# Analyzing neuropil signals in the mice \n",
    "* 10/9/23 setup\n",
    "* 10/16/23 migrating to `sleep` repo and stripping of sima stuff"
   ]
  },
  {
   "cell_type": "code",
   "execution_count": 1,
   "id": "d58bd568",
   "metadata": {},
   "outputs": [],
   "source": [
    "import sys, os\n",
    "import matplotlib.pyplot as plt\n",
    "import itertools\n",
    "\n",
    "import pandas as pd\n",
    "import numpy as np\n",
    "import scipy as sp\n",
    "import scipy.fft as fft\n",
    "import scipy.signal as signal\n",
    "\n",
    "sys.path.append('/home/gergely/code/sleep/base/')\n",
    "\n",
    "from suite2p_class import Suite2p\n",
    "from mouse_class import Mouse\n",
    "from eeg_class import eegData\n",
    "from behavior_class import behaviorData\n",
    "# import pandas_bokeh\n",
    "# pandas_bokeh.output_notebook()\n",
    "\n",
    "# from bokeh.io import output_file, show\n",
    "# from bokeh.plotting import figure\n",
    "# from bokeh.models import LinearAxis, Range1d\n",
    "\n",
    "# from bokeh.layouts import column\n",
    "# from bokeh.models import (CustomJS, LinearAxis, Range1d, Select,\n",
    "#                           WheelZoomTool, ZoomInTool, ZoomOutTool)\n",
    "# from bokeh.plotting import figure, show\n"
   ]
  },
  {
   "cell_type": "code",
   "execution_count": 2,
   "id": "e381dce5",
   "metadata": {},
   "outputs": [],
   "source": [
    "mice  =[\n",
    "    '5HT2afl05b_1', \n",
    "    '5HT2afl05b_1',\n",
    "    'sert52b_1',\n",
    "    'sert52b_5',\n",
    "    'sert54a_5'\n",
    "    ]\n"
   ]
  },
  {
   "cell_type": "code",
   "execution_count": 3,
   "id": "c9f934bc",
   "metadata": {},
   "outputs": [],
   "source": [
    "mouse = Mouse(mice[0])\n",
    "folders = mouse.find_tseries_folders(mouse.root_folder)"
   ]
  },
  {
   "cell_type": "code",
   "execution_count": 4,
   "id": "d862616c",
   "metadata": {},
   "outputs": [
    {
     "data": {
      "text/plain": [
       "['/data2/gergely/invivo_DATA/sleep/sert52b_1/4_3_SD/TSeries-04032023-1323_SD_sess1-001/TSeries-04032023-1323_SD_sess1-001.sima/suite2p',\n",
       " '/data2/gergely/invivo_DATA/sleep/sert52b_1/4_4/TSeries-04042023-1023_sess2-002/TSeries-04042023-1023_sess2-002.sima/suite2p']"
      ]
     },
     "execution_count": 4,
     "metadata": {},
     "output_type": "execute_result"
    }
   ],
   "source": [
    "s2p_mouse = Suite2p(mouse_id='sert52b_1')\n",
    "s2p_folders = s2p_mouse.s2p_folders\n",
    "s2p_folders"
   ]
  },
  {
   "cell_type": "code",
   "execution_count": 5,
   "id": "96753520",
   "metadata": {},
   "outputs": [
    {
     "data": {
      "text/plain": [
       "'/data2/gergely/invivo_DATA/sleep/sert52b_1/4_3_SD/TSeries-04032023-1323_SD_sess1-001/TSeries-04032023-1323_SD_sess1-001.sima'"
      ]
     },
     "execution_count": 5,
     "metadata": {},
     "output_type": "execute_result"
    }
   ],
   "source": [
    "sima_folder = os.path.dirname(s2p_folders[0])\n",
    "sima_folder"
   ]
  },
  {
   "cell_type": "code",
   "execution_count": 10,
   "id": "33c93d6d",
   "metadata": {},
   "outputs": [
    {
     "data": {
      "text/html": [
       "<div>\n",
       "<style scoped>\n",
       "    .dataframe tbody tr th:only-of-type {\n",
       "        vertical-align: middle;\n",
       "    }\n",
       "\n",
       "    .dataframe tbody tr th {\n",
       "        vertical-align: top;\n",
       "    }\n",
       "\n",
       "    .dataframe thead th {\n",
       "        text-align: right;\n",
       "    }\n",
       "</style>\n",
       "<table border=\"1\" class=\"dataframe\">\n",
       "  <thead>\n",
       "    <tr style=\"text-align: right;\">\n",
       "      <th></th>\n",
       "      <th>Frames</th>\n",
       "      <th>filtered velo</th>\n",
       "      <th>score</th>\n",
       "      <th>awake</th>\n",
       "      <th>NREM</th>\n",
       "      <th>REM</th>\n",
       "      <th>other</th>\n",
       "    </tr>\n",
       "  </thead>\n",
       "  <tbody>\n",
       "    <tr>\n",
       "      <th>0</th>\n",
       "      <td>0</td>\n",
       "      <td>0.0</td>\n",
       "      <td>0</td>\n",
       "      <td>True</td>\n",
       "      <td>False</td>\n",
       "      <td>False</td>\n",
       "      <td>False</td>\n",
       "    </tr>\n",
       "    <tr>\n",
       "      <th>1</th>\n",
       "      <td>1</td>\n",
       "      <td>0.0</td>\n",
       "      <td>0</td>\n",
       "      <td>True</td>\n",
       "      <td>False</td>\n",
       "      <td>False</td>\n",
       "      <td>False</td>\n",
       "    </tr>\n",
       "    <tr>\n",
       "      <th>2</th>\n",
       "      <td>2</td>\n",
       "      <td>0.0</td>\n",
       "      <td>0</td>\n",
       "      <td>True</td>\n",
       "      <td>False</td>\n",
       "      <td>False</td>\n",
       "      <td>False</td>\n",
       "    </tr>\n",
       "    <tr>\n",
       "      <th>3</th>\n",
       "      <td>3</td>\n",
       "      <td>0.0</td>\n",
       "      <td>0</td>\n",
       "      <td>True</td>\n",
       "      <td>False</td>\n",
       "      <td>False</td>\n",
       "      <td>False</td>\n",
       "    </tr>\n",
       "    <tr>\n",
       "      <th>4</th>\n",
       "      <td>4</td>\n",
       "      <td>0.0</td>\n",
       "      <td>0</td>\n",
       "      <td>True</td>\n",
       "      <td>False</td>\n",
       "      <td>False</td>\n",
       "      <td>False</td>\n",
       "    </tr>\n",
       "    <tr>\n",
       "      <th>...</th>\n",
       "      <td>...</td>\n",
       "      <td>...</td>\n",
       "      <td>...</td>\n",
       "      <td>...</td>\n",
       "      <td>...</td>\n",
       "      <td>...</td>\n",
       "      <td>...</td>\n",
       "    </tr>\n",
       "    <tr>\n",
       "      <th>24750</th>\n",
       "      <td>24750</td>\n",
       "      <td>0.0</td>\n",
       "      <td>0</td>\n",
       "      <td>True</td>\n",
       "      <td>False</td>\n",
       "      <td>False</td>\n",
       "      <td>False</td>\n",
       "    </tr>\n",
       "    <tr>\n",
       "      <th>24751</th>\n",
       "      <td>24751</td>\n",
       "      <td>0.0</td>\n",
       "      <td>0</td>\n",
       "      <td>True</td>\n",
       "      <td>False</td>\n",
       "      <td>False</td>\n",
       "      <td>False</td>\n",
       "    </tr>\n",
       "    <tr>\n",
       "      <th>24752</th>\n",
       "      <td>24752</td>\n",
       "      <td>0.0</td>\n",
       "      <td>0</td>\n",
       "      <td>True</td>\n",
       "      <td>False</td>\n",
       "      <td>False</td>\n",
       "      <td>False</td>\n",
       "    </tr>\n",
       "    <tr>\n",
       "      <th>24753</th>\n",
       "      <td>24753</td>\n",
       "      <td>0.0</td>\n",
       "      <td>0</td>\n",
       "      <td>True</td>\n",
       "      <td>False</td>\n",
       "      <td>False</td>\n",
       "      <td>False</td>\n",
       "    </tr>\n",
       "    <tr>\n",
       "      <th>24754</th>\n",
       "      <td>24754</td>\n",
       "      <td>0.0</td>\n",
       "      <td>0</td>\n",
       "      <td>True</td>\n",
       "      <td>False</td>\n",
       "      <td>False</td>\n",
       "      <td>False</td>\n",
       "    </tr>\n",
       "  </tbody>\n",
       "</table>\n",
       "<p>24755 rows × 7 columns</p>\n",
       "</div>"
      ],
      "text/plain": [
       "       Frames  filtered velo  score  awake   NREM    REM  other\n",
       "0           0            0.0      0   True  False  False  False\n",
       "1           1            0.0      0   True  False  False  False\n",
       "2           2            0.0      0   True  False  False  False\n",
       "3           3            0.0      0   True  False  False  False\n",
       "4           4            0.0      0   True  False  False  False\n",
       "...       ...            ...    ...    ...    ...    ...    ...\n",
       "24750   24750            0.0      0   True  False  False  False\n",
       "24751   24751            0.0      0   True  False  False  False\n",
       "24752   24752            0.0      0   True  False  False  False\n",
       "24753   24753            0.0      0   True  False  False  False\n",
       "24754   24754            0.0      0   True  False  False  False\n",
       "\n",
       "[24755 rows x 7 columns]"
      ]
     },
     "execution_count": 10,
     "metadata": {},
     "output_type": "execute_result"
    }
   ],
   "source": [
    "eeg = eegData(sima_folder=sima_folder)\n",
    "eeg.eeg_folder\n",
    "eeg_velo = eeg.load_processed_velocity_eeg\n",
    "eeg_velo"
   ]
  },
  {
   "cell_type": "code",
   "execution_count": 7,
   "id": "cd4305b2",
   "metadata": {},
   "outputs": [],
   "source": [
    "behData = behaviorData(sima_folder=sima_folder)\n",
    "beh_folder = behData.behavior_folder"
   ]
  },
  {
   "cell_type": "code",
   "execution_count": 8,
   "id": "d12096fd",
   "metadata": {},
   "outputs": [],
   "source": [
    "df = behData.processed_velocity\n",
    "filt_velo = df['filtered velo']"
   ]
  },
  {
   "cell_type": "code",
   "execution_count": 9,
   "id": "45f858fa",
   "metadata": {},
   "outputs": [
    {
     "data": {
      "text/plain": [
       "[<matplotlib.lines.Line2D at 0x7f34aaba73d0>]"
      ]
     },
     "execution_count": 9,
     "metadata": {},
     "output_type": "execute_result"
    },
    {
     "data": {
      "image/png": "[encoded data removed]",
      "text/plain": [
       "<Figure size 640x480 with 1 Axes>"
      ]
     },
     "metadata": {},
     "output_type": "display_data"
    }
   ],
   "source": [
    "immob = behData.define_immobility(filt_velo)\n",
    "plt.plot(immob,color='r')\n",
    "plt.plot(filt_velo,color='b', alpha=0.5)"
   ]
  },
  {
   "cell_type": "code",
   "execution_count": null,
   "id": "7925ecae",
   "metadata": {},
   "outputs": [],
   "source": [
    "cells = s2p_mouse.true_cells(s2p_folders[0])\n",
    "cells"
   ]
  },
  {
   "cell_type": "code",
   "execution_count": null,
   "id": "7de40fb6",
   "metadata": {},
   "outputs": [],
   "source": [
    "def mean_npil(npil_file: str, csv_file: str) -> pd.DataFrame:\n",
    "    neuropil_signal = np.load(npil_file)\n",
    "    eeg_signal = pd.read_csv(csv_file)\n",
    "    nrem_signal = eeg_signal['NREM'].astype(int)\n",
    "    npil_eeg = pd.DataFrame({'NREM': nrem_signal,\n",
    "                        'npil':neuropil_signal.mean(axis=0)})\n",
    "    return npil_eeg"
   ]
  },
  {
   "cell_type": "code",
   "execution_count": null,
   "id": "2503b6d1",
   "metadata": {},
   "outputs": [],
   "source": [
    "mice = {'5HT2afl05b_1': [747, 745, 740, 749],\n",
    "        '5HT2afl05b_2': [762, 761, 760]}\n",
    "trials = []\n",
    "for mouse in mice:\n",
    "    trials.extend(mice[mouse])\n",
    "\n",
    "sima_paths = []\n",
    "for trial in trials:\n",
    "    sima_paths.append(ImagingExperiment(trial).sima_path)"
   ]
  },
  {
   "cell_type": "code",
   "execution_count": null,
   "id": "2b843c6f",
   "metadata": {},
   "outputs": [],
   "source": [
    "npil_files = []\n",
    "for path in sima_paths:\n",
    "    for r, d, f in os.walk(path):\n",
    "        for file in f:\n",
    "            if 'Fneu.npy' in file:\n",
    "                npil_files.append(os.path.join(r,file))\n",
    "            \n",
    "brain_states = []\n",
    "for path in sima_paths:\n",
    "    for r, d, f in os.walk(path):\n",
    "        for file in f:\n",
    "            if 'velo_eeg.csv' in file:\n",
    "                brain_states.append(os.path.join(r,file))\n",
    "len(npil_files)"
   ]
  },
  {
   "cell_type": "code",
   "execution_count": null,
   "id": "fe11030f",
   "metadata": {},
   "outputs": [],
   "source": [
    "npil_means = []\n",
    "for npil, state in zip(npil_files, brain_states):\n",
    "    npil_means.append(mean_npil(npil, state))\n",
    "\n",
    "freqs = []\n",
    "for df in npil_means:\n",
    "    freqs.append(freq_calc(df))"
   ]
  },
  {
   "cell_type": "code",
   "execution_count": null,
   "id": "a97eff5d",
   "metadata": {},
   "outputs": [],
   "source": [
    "nrem_signal = []\n",
    "awake_signal = []\n",
    "for mean in npil_means:\n",
    "    nrem = mean[mean['NREM'] == 1]['npil'].values\n",
    "    awake = mean[mean['NREM'] == 0]['npil'].values\n",
    "    nrem_signal.append(nrem)\n",
    "    awake_signal.append(awake[:len(nrem)])\n",
    "# for nrem, awake in zip(nrem_signal, awake_signal):\n",
    "plt.figure(figsize=(15,5))\n",
    "plt.plot(nrem_signal[6], color='red')\n",
    "plt.plot(awake_signal[6], color='blue')\n"
   ]
  },
  {
   "cell_type": "code",
   "execution_count": null,
   "id": "9092ac8c",
   "metadata": {},
   "outputs": [],
   "source": [
    "def freq_calc(data: pd.DataFrame):\n",
    "    \"\"\"data: npil_eeg data\"\"\"\n",
    "    nrem = data[data['NREM'] == 1]['npil'].values\n",
    "    awake = data[data['NREM'] == 0]['npil'].values\n",
    "    frequencies_nrem, psd_nrem = signal.welch(nrem,\n",
    "                                          fs=10)\n",
    "    frequencies_awake, psd_awake = signal.welch(awake[:len(nrem)],\n",
    "                                          fs=10)\n",
    "    return frequencies_nrem, psd_nrem, frequencies_awake, psd_awake\n",
    "#     plt.semilogy(frequencies_nrem, psd_nrem, label='NREM')\n",
    "#     plt.semilogy(frequencies_awake, psd_awake, label='Awake')\n",
    "#     plt.xlabel('Frequency (Hz)')\n",
    "#     plt.ylabel('Power/Frequency (dB/Hz)')\n",
    "#     plt.title('Power Spectral Density (Low Frequencies)')\n",
    "#     plt.legend()\n",
    "#     plt.grid()\n",
    "#     plt.show()\n",
    "    \n",
    "    "
   ]
  },
  {
   "cell_type": "code",
   "execution_count": null,
   "id": "609891d2",
   "metadata": {},
   "outputs": [],
   "source": [
    "nrem_f = []\n",
    "awake_f =[]\n",
    "for mean in npil_means:\n",
    "    _, p_nrem, _, p_awake = freq_calc(mean)\n",
    "    nrem_f.append(p_nrem)\n",
    "    awake_f.append(p_awake)\n",
    "nrem_mean = np.mean(nrem_f, axis=0)\n",
    "awake_mean = np.mean(awake_f, axis=0)\n",
    "x= np.linspace(0, 5, num=len(nrem_mean))\n",
    "plt.semilogy(x, nrem_mean, label='NREM')\n",
    "plt.semilogy(x, awake_mean, label='Awake')\n",
    "plt.title('Power Spectral Density')  # Customize the title if needed\n",
    "plt.xlabel('Frequency (Hz)')\n",
    "plt.ylabel('Power/Frequency (dB/Hz)')\n",
    "plt.legend()\n",
    "plt.show()"
   ]
  },
  {
   "cell_type": "code",
   "execution_count": null,
   "id": "90886775",
   "metadata": {
    "scrolled": true
   },
   "outputs": [],
   "source": [
    "figure, axs = plt.subplots(ncols=3, nrows=3, sharex=True, \n",
    "                          figsize=(15,15))\n",
    "\n",
    "# Loop through the subplots and DataFrames in parallel\n",
    "for ax, df in zip(axs.flat, itertools.islice(npil_means, 9)):\n",
    "    if df is not None:\n",
    "        # Calculate the frequencies and PSD using freq_calc\n",
    "        f_nrem, p_nrem, f_awake, p_awake= freq_calc(df)\n",
    "\n",
    "        # Plot the data on the current subplot (ax)\n",
    "        ax.semilogy([0,1], p_nrem, label='NREM')\n",
    "        ax.semilogy([0,1], p_awake, label='Awake')\n",
    "        ax.set_title('Power Spectral Density')  # Customize the title if needed\n",
    "        ax.set_xlabel('Frequency (Hz)')\n",
    "        ax.set_ylabel('Power/Frequency (dB/Hz)')\n",
    "        ax.legend()\n",
    "    else:\n",
    "        # If there are no more DataFrames, hide the subplot\n",
    "        ax.axis('off')\n",
    "\n",
    "# Adjust layout to prevent overlapping titles and labels\n",
    "figure.tight_layout()\n",
    "\n",
    "# Show the plot\n",
    "plt.show()"
   ]
  },
  {
   "cell_type": "code",
   "execution_count": null,
   "id": "20a84543",
   "metadata": {
    "collapsed": true
   },
   "outputs": [],
   "source": [
    "neuropil_signal = np.load(npil_files[0])\n",
    "eeg_signal = pd.read_csv(brain_states[0])\n",
    "nrem_signal = eeg_signal['NREM'].astype(int)\n",
    "npil_eeg = pd.DataFrame({'NREM': nrem_signal,\n",
    "                        'npil':neuropil_signal.mean(axis=0)})\n",
    "npil_eeg"
   ]
  },
  {
   "cell_type": "code",
   "execution_count": null,
   "id": "3c3d22f0",
   "metadata": {},
   "outputs": [],
   "source": [
    "x = npil_eeg.index\n",
    "y1 = npil_eeg['npil']\n",
    "y2 = npil_eeg['NREM']\n",
    "\n",
    "p = figure()\n",
    "p.line(x, y1)\n",
    "p.axis.axis_label = 'npil'\n",
    "\n",
    "p.extra_x_ranges['NREM'] = Range1d(x.start, x.stop)\n",
    "p.extra_y_ranges['NREM'] = Range1d(0,1)\n",
    "\n",
    "nrem = p.line(x,y2, color='red',x_range_name='NREM',\n",
    "                y_range_name='NREM')\n",
    "\n",
    "ax2 = LinearAxis(axis_label='nrem',\n",
    "                x_range_name='NREM',\n",
    "                y_range_name='NREM')\n",
    "\n",
    "ax2.axis_label_text_color = 'red'\n",
    "p.add_layout(ax2, 'left')\n",
    "\n",
    "ax3 = LinearAxis(axis_label='nrem')\n",
    "p.add_layout(ax3, 'below')\n",
    "\n",
    "wheel_zoom = WheelZoomTool()\n",
    "p.add_tools(wheel_zoom)\n",
    "p.toolbar.active_scroll = wheel_zoom\n",
    "select = Select(title=\"Zoom together:\",\n",
    "                options=[\"none\", \"cross\", \"all\"],\n",
    "                )\n",
    "\n",
    "show(p)"
   ]
  },
  {
   "cell_type": "code",
   "execution_count": null,
   "id": "08c2c6e4",
   "metadata": {},
   "outputs": [],
   "source": [
    "nrem = npil_eeg[npil_eeg['NREM']==1]['npil'].values\n",
    "awake = npil_eeg[npil_eeg['NREM']==0]['npil'].values\n",
    "nrem"
   ]
  },
  {
   "cell_type": "code",
   "execution_count": null,
   "id": "28ce42b0",
   "metadata": {},
   "outputs": [],
   "source": []
  },
  {
   "cell_type": "code",
   "execution_count": null,
   "id": "529898bf",
   "metadata": {},
   "outputs": [],
   "source": [
    "low_freq = 0.0\n",
    "high_freq = 15.0\n",
    "\n",
    "frequencies_nrem, psd_nrem = signal.welch(nrem,\n",
    "                                          fs=10)\n",
    "frequencies_awake, psd_awake = signal.welch(awake[:len(nrem)],\n",
    "                                          fs=10)\n",
    "low_idx_nrem = np.where(frequencies_nrem >= low_freq)[0][0]\n",
    "high_idx_nrem = np.where(frequencies_nrem <= high_freq)[0][-1]\n",
    "\n",
    "low_idx_awake = np.where(frequencies_awake >= low_freq)[0][0]\n",
    "high_idx_awake = np.where(frequencies_awake <= high_freq)[0][-1]\n",
    "plt.figure(figsize=(10, 6))\n",
    "plt.semilogy(frequencies_nrem[low_idx_nrem:high_idx_nrem], \n",
    "             psd_nrem[low_idx_nrem:high_idx_nrem], label='NREM')\n",
    "plt.semilogy(frequencies_awake[low_idx_awake:high_idx_awake], \n",
    "             psd_awake[low_idx_awake:high_idx_awake], label='Awake')\n",
    "plt.xlabel('Frequency (Hz)')\n",
    "plt.ylabel('Power/Frequency (dB/Hz)')\n",
    "plt.title('Power Spectral Density (Low Frequencies)')\n",
    "plt.legend()\n",
    "plt.grid()\n",
    "plt.show()"
   ]
  },
  {
   "cell_type": "code",
   "execution_count": null,
   "id": "ca99ae7b",
   "metadata": {},
   "outputs": [],
   "source": [
    "# Define parameters for STFT\n",
    "window_length = 100  # Length of the window in samples (adjust as needed)\n",
    "overlap = 50  # Number of samples to overlap between consecutive windows (adjust as needed)\n",
    "\n",
    "# Compute STFT for 'nrem' signal\n",
    "frequencies_nrem, times_nrem, Sxx_nrem = signal.spectrogram(nrem, fs=10,\n",
    "                                                           window='hann', nperseg=window_length,\n",
    "                                                           noverlap=overlap)\n",
    "\n",
    "# Compute STFT for 'awake' signal\n",
    "frequencies_awake, times_awake, Sxx_awake = signal.spectrogram(awake[:len(nrem)], fs=10,\n",
    "                                                               window='hann', nperseg=window_length,\n",
    "                                                               noverlap=overlap)\n"
   ]
  },
  {
   "cell_type": "code",
   "execution_count": null,
   "id": "829b25f0",
   "metadata": {},
   "outputs": [],
   "source": [
    "# Plot the spectrogram for 'nrem' signal\n",
    "plt.figure(figsize=(10, 6))\n",
    "plt.imshow(10 * np.log10(Sxx_nrem), aspect='auto', cmap='viridis', origin='lower',\n",
    "           extent=[times_nrem.min(), times_nrem.max(), frequencies_nrem.min(), frequencies_nrem.max()])\n",
    "plt.colorbar(label='Power/Frequency (dB/Hz)')\n",
    "plt.xlabel('Time (s)')\n",
    "plt.ylabel('Frequency (Hz)')\n",
    "plt.title('Spectrogram (NREM)')\n",
    "plt.show()\n",
    "\n",
    "# Plot the spectrogram for 'awake' signal\n",
    "plt.figure(figsize=(10, 6))\n",
    "plt.imshow(10 * np.log10(Sxx_awake), aspect='auto', cmap='viridis', origin='lower',\n",
    "           extent=[times_awake.min(), times_awake.max(), frequencies_awake.min(), frequencies_awake.max()])\n",
    "plt.colorbar(label='Power/Frequency (dB/Hz)')\n",
    "plt.xlabel('Time (s)')\n",
    "plt.ylabel('Frequency (Hz)')\n",
    "plt.title('Spectrogram (Awake)')\n",
    "plt.show()\n"
   ]
  },
  {
   "cell_type": "code",
   "execution_count": null,
   "id": "32895692",
   "metadata": {},
   "outputs": [],
   "source": []
  }
 ],
 "metadata": {
  "kernelspec": {
   "display_name": "sleep",
   "language": "python",
   "name": "python3"
  },
  "language_info": {
   "codemirror_mode": {
    "name": "ipython",
    "version": 3
   },
   "file_extension": ".py",
   "mimetype": "text/x-python",
   "name": "python",
   "nbconvert_exporter": "python",
   "pygments_lexer": "ipython3",
   "version": "3.8.18"
  },
  "varInspector": {
   "cols": {
    "lenName": 16,
    "lenType": 16,
    "lenVar": 40
   },
   "kernels_config": {
    "python": {
     "delete_cmd_postfix": "",
     "delete_cmd_prefix": "del ",
     "library": "var_list.py",
     "varRefreshCmd": "print(var_dic_list())"
    },
    "r": {
     "delete_cmd_postfix": ") ",
     "delete_cmd_prefix": "rm(",
     "library": "var_list.r",
     "varRefreshCmd": "cat(var_dic_list()) "
    }
   },
   "types_to_exclude": [
    "module",
    "function",
    "builtin_function_or_method",
    "instance",
    "_Feature"
   ],
   "window_display": false
  }
 },
 "nbformat": 4,
 "nbformat_minor": 5
}
