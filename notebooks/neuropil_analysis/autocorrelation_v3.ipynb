{
 "cells": [
  {
   "cell_type": "markdown",
   "metadata": {},
   "source": [
    "# Exploratory notebook\n",
    "The analysis is based on the Gonzalo-Moser EC paper. \n",
    "* 1/28/24 setup\n",
    "* TODO need to separate the awake and sleep epochs\n",
    "* using spikes instead of Ca2+ data\n",
    "* comparing locomotion and non locomotion"
   ]
  },
  {
   "cell_type": "code",
   "execution_count": null,
   "metadata": {},
   "outputs": [],
   "source": [
    "import os, sys\n",
    "from os.path import dirname, join\n",
    "import json\n",
    "import numpy as np\n",
    "import pandas as pd\n",
    "import seaborn as sns\n",
    "import matplotlib.pyplot as plt\n",
    "import seaborn as sns\n",
    "from scipy.fftpack import fft\n",
    "from scipy.stats import zscore\n",
    "\n",
    "sys.path.append(\"/home/gergely/code/sleep/src\")\n",
    "\n",
    "from imaging_data_class import ImagingData\n",
    "from classes.suite2p_class import Suite2p as s2p\n",
    "import imaging_data_class as idc\n",
    "import behavior_class as bc"
   ]
  },
  {
   "cell_type": "code",
   "execution_count": null,
   "metadata": {},
   "outputs": [],
   "source": [
    "mice = [\n",
    "    \"140302_3\"\n",
    "]  # [\"5HT2afl05b_1\", \"5HT2afl05b_2\", \"sert52b_1\", \"sert52b_5\", \"sert54a_5\"]"
   ]
  },
  {
   "cell_type": "code",
   "execution_count": null,
   "metadata": {},
   "outputs": [],
   "source": [
    "mouse = ImagingData(mice[0])\n",
    "mouse.mouse_id\n",
    "s2p_folders = mouse.find_suite2p_folders()\n",
    "for folder in enumerate(s2p_folders):\n",
    "    print(folder)"
   ]
  },
  {
   "cell_type": "code",
   "execution_count": null,
   "metadata": {},
   "outputs": [],
   "source": [
    "s2p_folder = s2p_folders[10]"
   ]
  },
  {
   "cell_type": "code",
   "execution_count": null,
   "metadata": {},
   "outputs": [],
   "source": [
    "s2p_data = s2p(s2p_folder)\n",
    "spikes = s2p_data.get_spikes()\n",
    "# z scoring\n",
    "n_neurons, n_time = spikes.shape\n",
    "spks = zscore(spikes, axis=1)"
   ]
  },
  {
   "cell_type": "markdown",
   "metadata": {},
   "source": [
    "### Behavior"
   ]
  },
  {
   "cell_type": "code",
   "execution_count": null,
   "metadata": {},
   "outputs": [],
   "source": [
    "behavior = bc.behaviorData(mouse_id=mice[0])\n",
    "behavior_folders = [\n",
    "    (index, folder) for index, folder in enumerate(behavior.find_behavior_folders())\n",
    "]\n",
    "behavior_folders"
   ]
  },
  {
   "cell_type": "code",
   "execution_count": null,
   "metadata": {},
   "outputs": [],
   "source": [
    "beh_folder_to_load = 10\n",
    "behavior_file = \"140302_3_20231222154006_910_sleep.json\""
   ]
  },
  {
   "cell_type": "code",
   "execution_count": null,
   "metadata": {},
   "outputs": [],
   "source": [
    "processed_behavior = behavior_folders[beh_folder_to_load][1]\n",
    "\n",
    "if not dirname(processed_behavior) == dirname(s2p_folder):\n",
    "    raise ValueError(\"Behavior and imaging data folders do not match\")\n",
    "\n",
    "try:\n",
    "    with open(join(processed_behavior, behavior_file), \"r\") as f:\n",
    "        beh = json.load(f)\n",
    "except FileNotFoundError:\n",
    "    print(\"File not found\")"
   ]
  },
  {
   "cell_type": "code",
   "execution_count": null,
   "metadata": {},
   "outputs": [],
   "source": [
    "with open(join(processed_behavior, \"filtered_velocity.json\"), \"r\") as f:\n",
    "    speed = np.array(json.load(f))\n",
    "\n",
    "position = np.array(beh[0][\"data\"][\"treadmillPosition\"])\n",
    "\n",
    "with open(join(processed_behavior, \"mobility_immobility.json\"), \"r\") as f:\n",
    "    mob_immob = np.array(json.load(f))"
   ]
  },
  {
   "cell_type": "code",
   "execution_count": null,
   "metadata": {},
   "outputs": [],
   "source": [
    "moving_spks = spks[:, mob_immob == 1]\n",
    "notmoving_spks = spks[:, ~mob_immob == 1]"
   ]
  },
  {
   "cell_type": "code",
   "execution_count": null,
   "metadata": {},
   "outputs": [],
   "source": [
    "def calculate_autocorrelations(df):\n",
    "    autocorrelations = []  # To store autocorrelation results\n",
    "    for index, row in df.iterrows():\n",
    "        signal = row.values\n",
    "        autocorr = np.correlate(signal, signal, mode=\"full\")\n",
    "        autocorr = autocorr[autocorr.size // 2 :]  # Keep second half\n",
    "        autocorr /= autocorr[0]  # Normalize\n",
    "        autocorrelations.append(autocorr[:500])\n",
    "    return np.array(autocorrelations)"
   ]
  },
  {
   "cell_type": "code",
   "execution_count": null,
   "metadata": {},
   "outputs": [],
   "source": [
    "def plot_heatmap(autocorrelations, title, ax):\n",
    "    sns.heatmap(\n",
    "        autocorrelations, cmap=\"viridis\", cbar_kws={\"label\": \"Autocorrelation\"}, ax=ax\n",
    "    )\n",
    "    plt.title(title)\n",
    "    plt.xlabel(\"Lag\")\n",
    "    plt.ylabel(\"Neuron Index\")"
   ]
  },
  {
   "cell_type": "markdown",
   "metadata": {},
   "source": [
    "## Calcluates and plots the autocorrelation of the traces. "
   ]
  },
  {
   "cell_type": "code",
   "execution_count": null,
   "metadata": {},
   "outputs": [],
   "source": [
    "moving_autocorr = calculate_autocorrelations(moving_spks)\n",
    "notmoving_autocorr = calculate_autocorrelations(notmoving_spks)"
   ]
  },
  {
   "cell_type": "code",
   "execution_count": null,
   "metadata": {},
   "outputs": [],
   "source": [
    "fig, axes = plt.subplots(nrows=1, ncols=2, figsize=(16, 6))\n",
    "\n",
    "# Plotting the heatmaps on specified axes\n",
    "plot_heatmap(moving_autocorr, \"Autocorrelation Heatmap - Moving\", axes[0])\n",
    "plot_heatmap(notmoving_autocorr, \"Autocorrelation Heatmap - Not Moving\", axes[1])\n",
    "\n",
    "plt.tight_layout(rect=[0, 0.03, 1, 0.95])\n",
    "fig.suptitle(\"Autocorrelation Heatmaps\", fontsize=16, y=1.02)\n",
    "plt.show()"
   ]
  },
  {
   "cell_type": "markdown",
   "metadata": {},
   "source": [
    "## Calculating PSD of the traces"
   ]
  },
  {
   "cell_type": "code",
   "execution_count": null,
   "metadata": {},
   "outputs": [],
   "source": [
    "def calculate_psd_of_autocorrelation(data, sampling_rate, freq_range):\n",
    "    \"\"\"\n",
    "    Calculate the Power Spectral Density (PSD) of the autocorrelations within a specific frequency range.\n",
    "\n",
    "    Parameters:\n",
    "    - data: numpy array of the input signals (2D: signals x time points).\n",
    "    - sampling_rate: Sampling rate of the data in Hz.\n",
    "    - freq_range: Tuple specifying the desired frequency range (min_freq, max_freq) within which the PSD is calculated.\n",
    "\n",
    "    Returns:\n",
    "    - freqs: Frequencies corresponding to the calculated PSD values within the specified range.\n",
    "    - psd_values: PSD values within the specified frequency range.\n",
    "    \"\"\"\n",
    "    psd_values = []\n",
    "    for signal in data:\n",
    "        # # Calculate autocorrelation\n",
    "        # autocorr = np.correlate(signal, signal, mode=\"full\")\n",
    "        # autocorr = autocorr[autocorr.size // 2 :]  # Keep second half\n",
    "        # autocorr /= autocorr[0]  # Normalize\n",
    "\n",
    "        # Calculate PSD using the FFT of the autocorrelation\n",
    "        psd = np.fft.fft(signal)\n",
    "        psd = np.abs(psd) ** 2\n",
    "\n",
    "        # Frequency bins\n",
    "        freqs = np.fft.fftfreq(signal.size, d=1 / sampling_rate)\n",
    "\n",
    "        # Limit PSD to desired frequency range\n",
    "        freq_mask = (freqs >= freq_range[0]) & (freqs <= freq_range[1])\n",
    "        psd_values.append(psd[freq_mask])\n",
    "\n",
    "    freqs = freqs[freq_mask]  # Update freqs to match the limited range\n",
    "\n",
    "    return freqs, np.array(psd_values)"
   ]
  },
  {
   "cell_type": "code",
   "execution_count": null,
   "metadata": {},
   "outputs": [],
   "source": [
    "def calculate_psd(data, sampling_rate, freq_range=None):\n",
    "    \"\"\"\n",
    "    Calculate the Power Spectral Density (PSD) for a given signal.\n",
    "\n",
    "    Parameters:\n",
    "    - data: 2D numpy array of the input signals (signals x time points).\n",
    "    - sampling_rate: Sampling rate of the data in Hz.\n",
    "    - freq_range: Optional tuple specifying the frequency range (min_freq, max_freq) for the PSD calculation.\n",
    "\n",
    "    Returns:\n",
    "    - freqs: 1D numpy array of frequencies corresponding to the PSD values.\n",
    "    - psd_values: 2D numpy array of PSD values (signals x PSD values).\n",
    "    \"\"\"\n",
    "    n = data.shape[1]  # Number of data points\n",
    "    freqs = np.fft.rfftfreq(n, d=1.0 / sampling_rate)\n",
    "    psd_values = []\n",
    "\n",
    "    for signal in data:\n",
    "        # Compute the FFT and PSD\n",
    "        fft_result = np.fft.rfft(signal)\n",
    "        psd = np.abs(fft_result) ** 2 / n\n",
    "        psd_values.append(psd)\n",
    "\n",
    "    psd_values = np.array(psd_values)\n",
    "\n",
    "    if freq_range is not None:\n",
    "        # Limit PSD and frequencies to the specified range\n",
    "        min_freq, max_freq = freq_range\n",
    "        freq_mask = (freqs >= min_freq) & (freqs <= max_freq)\n",
    "        freqs = freqs[freq_mask]\n",
    "        psd_values = psd_values[:, freq_mask]\n",
    "\n",
    "    return freqs, psd_values"
   ]
  },
  {
   "cell_type": "code",
   "execution_count": null,
   "metadata": {},
   "outputs": [],
   "source": [
    "moving_freq, moving_psd = calculate_psd(moving_spks, 20, (0, 0.1))\n",
    "notmoving_freq, notmoving_psd = calculate_psd(notmoving_spks, 20, (0, 0.1))"
   ]
  },
  {
   "cell_type": "code",
   "execution_count": null,
   "metadata": {},
   "outputs": [],
   "source": [
    "def plot_psd(\n",
    "    freqs,\n",
    "    psd_values,\n",
    "    ax,\n",
    "    title=\"PSD of Autocorrelation\",\n",
    "    xlabel=\"Frequency (Hz)\",\n",
    "    ylabel=\"Power Spectral Density\",\n",
    "    label=None,\n",
    "):\n",
    "    \"\"\"\n",
    "    Plot a line plot of the Power Spectral Density (PSD) values.\n",
    "\n",
    "    Parameters:\n",
    "    - freqs: 1D numpy array of frequencies corresponding to the PSD values.\n",
    "    - psd_values: 2D numpy array of PSD values for each signal (rows for signals, columns for PSD values).\n",
    "    - ax: matplotlib.axes.Axes object where the plot will be drawn.\n",
    "    - title: String, title of the plot.\n",
    "    - xlabel: String, label for the x-axis.\n",
    "    - ylabel: String, label for the y-axis.\n",
    "    \"\"\"\n",
    "    # Plot the average PSD across all signals for simplicity\n",
    "    # You can modify this to plot individual signals or a subset\n",
    "    avg_psd = np.mean(psd_values, axis=0)\n",
    "    ax.plot(freqs, avg_psd, label=label)\n",
    "    ax.set_title(title)\n",
    "    ax.set_xlabel(xlabel)\n",
    "    ax.set_ylabel(ylabel)\n",
    "    ax.legend()"
   ]
  },
  {
   "cell_type": "code",
   "execution_count": null,
   "metadata": {},
   "outputs": [],
   "source": [
    "fig, axes = plt.subplots(nrows=1, ncols=1, figsize=(16, 6))\n",
    "plot_psd(\n",
    "    moving_freq,\n",
    "    moving_psd,\n",
    "    axes,\n",
    "    title=\"PSD of Autocorrelation - Moving\",\n",
    "    label=\"Moving\",\n",
    ")\n",
    "plot_psd(\n",
    "    notmoving_freq,\n",
    "    notmoving_psd,\n",
    "    axes,\n",
    "    title=\"PSD of Autocorrelation - Not Moving\",\n",
    "    label=\"Not Moving\",\n",
    ")\n",
    "plt.tight_layout(rect=[0, 0.03, 1, 0.95])\n",
    "fig.suptitle(\"Power Spectral Density of Autocorrelations\", fontsize=16, y=1.02)\n",
    "plt.show()"
   ]
  },
  {
   "cell_type": "code",
   "execution_count": null,
   "metadata": {},
   "outputs": [],
   "source": [
    "# Your sampling rate\n",
    "sampling_rate = 20  # Replace with your actual sampling rate\n",
    "\n",
    "# Length of the autocorrelation data\n",
    "N = len(autocorrelations[0])\n",
    "\n",
    "# Calculate the frequency values corresponding to FFT output\n",
    "frequencies = np.fft.fftfreq(N, d=1 / sampling_rate)\n",
    "\n",
    "# Indices for frequencies between 0 and 1 Hz\n",
    "low_freq_indices = np.where((frequencies >= 0) & (frequencies <= 1))[0]\n",
    "\n",
    "psd_list = []\n",
    "for autocorr in autocorrelations:\n",
    "    # Calculate the Fourier Transform\n",
    "    psd = np.abs(fft(autocorr)) ** 2\n",
    "\n",
    "    # Select the PSD components for 0-1 Hz\n",
    "    psd_low_freq = psd[low_freq_indices]\n",
    "\n",
    "    # Z-score normalization\n",
    "    psd_z_scored = zscore(psd_low_freq)\n",
    "    psd_list.append(psd_z_scored)\n",
    "\n",
    "# Sorting based on the maximum power\n",
    "psd_sorted = sorted(psd_list, key=lambda x: np.max(x), reverse=True)\n",
    "\n",
    "# Plotting\n",
    "plt.figure(figsize=(12, 8))\n",
    "for psd in psd_sorted:\n",
    "    plt.plot(\n",
    "        frequencies[low_freq_indices], psd\n",
    "    )  # Ensure the x-axis is using the selected frequencies\n",
    "plt.title(\"Sorted Z-scored Power Spectral Densities (0-1 Hz)\")\n",
    "plt.xlabel(\"Frequency (Hz)\")\n",
    "plt.ylabel(\"Z-scored PSD\")\n",
    "plt.xlim(0.01, 0.2)  # Set x-axis limit to show only 0 to 1 Hz\n",
    "plt.ylim(-0.2, 10)  # Set y-axis limit to show the PSDs\n",
    "plt.show()"
   ]
  },
  {
   "cell_type": "code",
   "execution_count": null,
   "metadata": {},
   "outputs": [],
   "source": [
    "# Your sampling rate\n",
    "sampling_rate = 20  # Replace with your actual sampling rate\n",
    "\n",
    "# Length of the autocorrelation data\n",
    "N = len(autocorrelations[0])\n",
    "\n",
    "# Calculate the frequency values corresponding to FFT output\n",
    "frequencies = np.fft.fftfreq(N, d=1 / sampling_rate)\n",
    "\n",
    "# Indices for frequencies between 0 and 1 Hz\n",
    "low_freq_indices = np.where((frequencies >= 0) & (frequencies <= 5))[0]\n",
    "\n",
    "psd_list = []\n",
    "for autocorr in autocorrelations:\n",
    "    # Calculate the Fourier Transform\n",
    "    psd = np.abs(fft(autocorr)) ** 2\n",
    "\n",
    "    # Select the PSD components for 0-1 Hz\n",
    "    psd_low_freq = psd[low_freq_indices]\n",
    "\n",
    "    # Z-score normalization\n",
    "    psd_z_scored = zscore(psd_low_freq)\n",
    "    psd_list.append(psd_z_scored)\n",
    "\n",
    "# Sorting based on the maximum power\n",
    "psd_sorted = sorted(psd_list, key=lambda x: np.max(x), reverse=True)\n",
    "\n",
    "# Plotting with semilogy\n",
    "plt.figure(figsize=(12, 8))\n",
    "for psd in psd_sorted:\n",
    "    plt.semilogy(\n",
    "        frequencies[low_freq_indices], psd\n",
    "    )  # Use semilogy for logarithmic y-axis\n",
    "plt.title(\"Sorted Z-scored Power Spectral Densities (0-1 Hz)\")\n",
    "plt.xlabel(\"Frequency (Hz)\")\n",
    "plt.ylabel(\"Z-scored PSD (log scale)\")\n",
    "plt.xlim(0, 0.1)  # Set x-axis limit to show only 0 to 1 Hz\n",
    "plt.show()"
   ]
  },
  {
   "cell_type": "code",
   "execution_count": null,
   "metadata": {},
   "outputs": [],
   "source": [
    "import numpy as np\n",
    "\n",
    "# Given values\n",
    "sampling_frequency = 20  # Hz\n",
    "n = len(autocorrelations[0])  # Length of autocorrelation data\n",
    "\n",
    "# Calculate frequency bins with correct resolution\n",
    "freq_bins = np.fft.fftfreq(n, d=1.0 / sampling_frequency)\n",
    "\n",
    "# Correctly identify indices for positive frequencies\n",
    "positive_freq_indices = np.where(freq_bins > 0)[0]  # Only positive frequencies\n",
    "\n",
    "# Find indices within the specified frequency range\n",
    "min_freq = 0.00\n",
    "max_freq = 0.1\n",
    "desired_freq_indices = np.where((freq_bins >= min_freq) & (freq_bins <= max_freq))[0]\n",
    "\n",
    "# If there are no indices found within the range, this indicates a potential issue\n",
    "if len(desired_freq_indices) == 0:\n",
    "    print(\n",
    "        \"No frequency bins found within the specified range. Consider checking the frequency range or the length of your data.\"\n",
    "    )\n",
    "\n",
    "# Assuming this part is correct, and you have PSDs calculated\n",
    "# Ensure that you only use the positive frequency part for slicing\n",
    "if len(desired_freq_indices) > 0:\n",
    "    sliced_psds = [\n",
    "        psd[desired_freq_indices]\n",
    "        for psd in psds\n",
    "        if len(psd) > max(desired_freq_indices)\n",
    "    ]\n",
    "\n",
    "    if not sliced_psds:\n",
    "        print(\n",
    "            \"Sliced PSDs list is empty. Check if the PSD calculation or slicing went wrong.\"\n",
    "        )\n",
    "    else:\n",
    "        # Continue with plotting as before, ensuring sliced_psds is not empty\n",
    "        print(\"Sliced PSDs ready for plotting.\")\n",
    "\n",
    "# Plotting\n",
    "plt.figure(figsize=(12, 8))\n",
    "sns.heatmap(sliced_psds, cmap=\"viridis\", cbar_kws={\"label\": \"Power Spectral Density\"})\n",
    "# Adjust the x-axis to show actual frequency values\n",
    "plt.xticks(\n",
    "    ticks=np.linspace(0, len(desired_freq_indices) - 1, 5),\n",
    "    labels=np.round(np.linspace(min_freq, max_freq, 5), 3),\n",
    ")\n",
    "plt.xlabel(\"Frequency (Hz)\")\n",
    "plt.ylabel(\"Signal Trace\")\n",
    "plt.title(\"PSD Heatmap of Autocorrelated Neuronal Spike Data (0.005 to 0.1 Hz)\")\n",
    "plt.show()"
   ]
  },
  {
   "cell_type": "code",
   "execution_count": null,
   "metadata": {},
   "outputs": [],
   "source": []
  }
 ],
 "metadata": {
  "kernelspec": {
   "display_name": "sleep",
   "language": "python",
   "name": "python3"
  },
  "language_info": {
   "codemirror_mode": {
    "name": "ipython",
    "version": 3
   },
   "file_extension": ".py",
   "mimetype": "text/x-python",
   "name": "python",
   "nbconvert_exporter": "python",
   "pygments_lexer": "ipython3",
   "version": "3.8.18"
  }
 },
 "nbformat": 4,
 "nbformat_minor": 2
}
