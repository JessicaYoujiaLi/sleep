{
 "cells": [
  {
   "cell_type": "markdown",
   "metadata": {},
   "source": [
    "# Exploratory notebook\n",
    "The analysis is based on the Gonzalo-Moser EC paper. \n",
    "* 1/28/24 setup\n",
    "* TODO need to separate the awake and sleep epochs"
   ]
  },
  {
   "cell_type": "code",
   "execution_count": null,
   "metadata": {},
   "outputs": [],
   "source": [
    "import os, sys\n",
    "import numpy as np\n",
    "import pandas as pd\n",
    "import matplotlib.pyplot as plt\n",
    "import seaborn as sns\n",
    "from scipy.fftpack import fft\n",
    "from scipy.stats import zscore\n",
    "\n",
    "sys.path.append(\"/home/gergely/code/sleep/src\")\n",
    "\n",
    "from classes.suite2p_class import Suite2p\n",
    "\n",
    "from imaging_data_class import ImagingData\n",
    "import classes.dfof\n",
    "\n",
    "s2p_calc_dfof = dfof.Suite2pDFOF(window=1800)\n",
    "jia_calc_dfof = dfof.JiaDFOF(slow_trend_window=1800)"
   ]
  },
  {
   "cell_type": "code",
   "execution_count": null,
   "metadata": {},
   "outputs": [],
   "source": [
    "mice = [\"5HT2afl05b_1\", \"5HT2afl05b_2\", \"sert52b_1\", \"sert52b_5\", \"sert54a_5\"]"
   ]
  },
  {
   "cell_type": "code",
   "execution_count": null,
   "metadata": {},
   "outputs": [],
   "source": [
    "mouse = ImagingData(mice[0])\n",
    "mouse.mouse_id\n",
    "s2p_folders = mouse.find_suite2p_folders()\n",
    "for folder in enumerate(s2p_folders):\n",
    "    print(folder)"
   ]
  },
  {
   "cell_type": "code",
   "execution_count": null,
   "metadata": {},
   "outputs": [],
   "source": [
    "s2p_folder = s2p_folders[9]"
   ]
  },
  {
   "cell_type": "code",
   "execution_count": null,
   "metadata": {},
   "outputs": [],
   "source": [
    "s2p_data = Suite2p(s2p_folder=s2p_folder)\n",
    "cells = s2p_data.get_cells()\n",
    "npil = s2p_data.get_npil()"
   ]
  },
  {
   "cell_type": "code",
   "execution_count": null,
   "metadata": {},
   "outputs": [],
   "source": [
    "cell_dfof = s2p_calc_dfof.calculate(signal=cells, npil=npil)"
   ]
  },
  {
   "cell_type": "markdown",
   "metadata": {},
   "source": [
    "## Calcluates and plots the autocorrelation of the traces. "
   ]
  },
  {
   "cell_type": "code",
   "execution_count": null,
   "metadata": {},
   "outputs": [],
   "source": [
    "autocorrelations = []\n",
    "# Iterate over each row (each signal trace)\n",
    "for index, row in cell_dfof.iterrows():\n",
    "    # Convert the row to a NumPy array\n",
    "    data = row.values\n",
    "\n",
    "    # Compute the autocorrelation\n",
    "    autocorr = np.correlate(data, data, mode=\"full\")\n",
    "    autocorr /= np.max(autocorr)  # Normalize\n",
    "    autocorr = autocorr[len(autocorr) // 2 :]  # Take the second half\n",
    "\n",
    "    # Store the result\n",
    "    autocorrelations.append(autocorr)\n",
    "\n",
    "    # Optional: Plot each autocorrelation\n",
    "    plt.figure()\n",
    "    plt.plot(autocorr)\n",
    "    plt.title(f\"Autocorrelation of Signal Trace {index+1}\")\n",
    "    plt.xlabel(\"Lag\")\n",
    "    plt.ylabel(\"Autocorrelation\")\n",
    "    plt.show()"
   ]
  },
  {
   "cell_type": "code",
   "execution_count": null,
   "metadata": {},
   "outputs": [],
   "source": [
    "# this runs for 10+ minutes!!!\n",
    "num_traces = cell_dfof.shape[0]\n",
    "# Initialize a matrix to store cross-correlation results\n",
    "cross_corr_matrix = np.zeros((num_traces, num_traces))\n",
    "\n",
    "# Compute cross-correlation for each pair of traces\n",
    "for i in range(num_traces):\n",
    "    for j in range(num_traces):\n",
    "        # Cross-correlate the i-th and j-th trace\n",
    "        cross_corr = np.correlate(\n",
    "            cell_dfof.iloc[i, :], cell_dfof.iloc[j, :], mode=\"full\"\n",
    "        )\n",
    "        # You might want to normalize or process the cross-correlation result further\n",
    "        cross_corr_matrix[i, j] = np.max(cross_corr)  # Example: store the maximum value\n",
    "\n",
    "# Heatmap Visualization\n",
    "plt.figure(figsize=(10, 8))\n",
    "sns.heatmap(cross_corr_matrix, annot=False, cmap=\"viridis\")\n",
    "plt.title(\"Cross-Correlation Matrix Heatmap\")\n",
    "plt.xlabel(\"Trace Index\")\n",
    "plt.ylabel(\"Trace Index\")\n",
    "plt.show()"
   ]
  },
  {
   "cell_type": "code",
   "execution_count": null,
   "metadata": {},
   "outputs": [],
   "source": [
    "# Your sampling rate\n",
    "sampling_rate = 10  # Replace with your actual sampling rate\n",
    "\n",
    "# Length of the autocorrelation data\n",
    "N = len(autocorrelations[0])\n",
    "\n",
    "# Calculate the frequency values corresponding to FFT output\n",
    "frequencies = np.fft.fftfreq(N, d=1 / sampling_rate)\n",
    "\n",
    "# Indices for frequencies between 0 and 1 Hz\n",
    "low_freq_indices = np.where((frequencies >= 0) & (frequencies <= 1))[0]\n",
    "\n",
    "psd_list = []\n",
    "for autocorr in autocorrelations:\n",
    "    # Calculate the Fourier Transform\n",
    "    psd = np.abs(fft(autocorr)) ** 2\n",
    "\n",
    "    # Select the PSD components for 0-1 Hz\n",
    "    psd_low_freq = psd[low_freq_indices]\n",
    "\n",
    "    # Z-score normalization\n",
    "    psd_z_scored = zscore(psd_low_freq)\n",
    "    psd_list.append(psd_z_scored)\n",
    "\n",
    "# Sorting based on the maximum power\n",
    "psd_sorted = sorted(psd_list, key=lambda x: np.max(x), reverse=True)\n",
    "\n",
    "# Plotting\n",
    "plt.figure(figsize=(12, 8))\n",
    "for psd in psd_sorted:\n",
    "    plt.plot(\n",
    "        frequencies[low_freq_indices], psd\n",
    "    )  # Ensure the x-axis is using the selected frequencies\n",
    "plt.title(\"Sorted Z-scored Power Spectral Densities (0-1 Hz)\")\n",
    "plt.xlabel(\"Frequency (Hz)\")\n",
    "plt.ylabel(\"Z-scored PSD\")\n",
    "plt.xlim(0.01, 0.2)  # Set x-axis limit to show only 0 to 1 Hz\n",
    "plt.ylim(-0.2, 0.02)  # Set y-axis limit to show the PSDs\n",
    "plt.show()"
   ]
  },
  {
   "cell_type": "code",
   "execution_count": null,
   "metadata": {},
   "outputs": [],
   "source": [
    "# Your sampling rate\n",
    "sampling_rate = 10  # Replace with your actual sampling rate\n",
    "\n",
    "# Length of the autocorrelation data\n",
    "N = len(autocorrelations[0])\n",
    "\n",
    "# Calculate the frequency values corresponding to FFT output\n",
    "frequencies = np.fft.fftfreq(N, d=1 / sampling_rate)\n",
    "\n",
    "# Indices for frequencies between 0 and 1 Hz\n",
    "low_freq_indices = np.where((frequencies >= 0) & (frequencies <= 5))[0]\n",
    "\n",
    "psd_list = []\n",
    "for autocorr in autocorrelations:\n",
    "    # Calculate the Fourier Transform\n",
    "    psd = np.abs(fft(autocorr)) ** 2\n",
    "\n",
    "    # Select the PSD components for 0-1 Hz\n",
    "    psd_low_freq = psd[low_freq_indices]\n",
    "\n",
    "    # Z-score normalization\n",
    "    psd_z_scored = zscore(psd_low_freq)\n",
    "    psd_list.append(psd_z_scored)\n",
    "\n",
    "# Sorting based on the maximum power\n",
    "psd_sorted = sorted(psd_list, key=lambda x: np.max(x), reverse=True)\n",
    "\n",
    "# Plotting with semilogy\n",
    "plt.figure(figsize=(12, 8))\n",
    "for psd in psd_sorted:\n",
    "    plt.semilogy(\n",
    "        frequencies[low_freq_indices], psd\n",
    "    )  # Use semilogy for logarithmic y-axis\n",
    "plt.title(\"Sorted Z-scored Power Spectral Densities (0-1 Hz)\")\n",
    "plt.xlabel(\"Frequency (Hz)\")\n",
    "plt.ylabel(\"Z-scored PSD (log scale)\")\n",
    "plt.xlim(0, 0.1)  # Set x-axis limit to show only 0 to 1 Hz\n",
    "plt.show()"
   ]
  },
  {
   "cell_type": "code",
   "execution_count": null,
   "metadata": {},
   "outputs": [],
   "source": []
  }
 ],
 "metadata": {
  "kernelspec": {
   "display_name": "sleep",
   "language": "python",
   "name": "python3"
  },
  "language_info": {
   "codemirror_mode": {
    "name": "ipython",
    "version": 3
   },
   "file_extension": ".py",
   "mimetype": "text/x-python",
   "name": "python",
   "nbconvert_exporter": "python",
   "pygments_lexer": "ipython3",
   "version": "3.8.18"
  }
 },
 "nbformat": 4,
 "nbformat_minor": 2
}
