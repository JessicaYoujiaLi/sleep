{
 "cells": [
  {
   "cell_type": "markdown",
   "id": "0",
   "metadata": {},
   "source": [
    "# Analyzing neuropil signals one experiment at a time \n",
    "* 10/9/23 setup\n",
    "* 10/16/23 migrating to `sleep` repo and stripping of sima stuff\n",
    "* 10/18/23 kinda works for a sinle mouse\n",
    "* refactoring with dfof calculation\n",
    "* 10/30/23 adding dfof calculation"
   ]
  },
  {
   "cell_type": "code",
   "execution_count": null,
   "id": "1",
   "metadata": {},
   "outputs": [],
   "source": [
    "import sys, os\n",
    "import matplotlib.pyplot as plt\n",
    "from os.path import join\n",
    "import pandas as pd\n",
    "import scipy.signal as signal\n",
    "from scipy.interpolate import interp1d\n",
    "\n",
    "# sys.path.append(\"/home/gergely/code/sleep/src\")\n",
    "\n",
    "from src.classes.suite2p_class import Suite2p\n",
    "\n",
    "from src.classes.imaging_data_class import ImagingData\n",
    "from src.classes.eeg_class import eegData\n",
    "from src.classes.behavior_class import behaviorData\n",
    "import src.classes.dfof\n",
    "\n",
    "\n",
    "def freq_calc(data: pd.Series, fs: int = 10):\n",
    "    \"\"\"data: npil_eeg data\"\"\"\n",
    "    frequencies, psd = signal.welch(data, fs=fs, detrend=\"linear\")\n",
    "    return frequencies, psd"
   ]
  },
  {
   "cell_type": "markdown",
   "id": "2",
   "metadata": {},
   "source": [
    "### initializations of necessary classes"
   ]
  },
  {
   "cell_type": "code",
   "execution_count": null,
   "id": "3",
   "metadata": {},
   "outputs": [],
   "source": [
    "mice = [\"5HT2afl05b_1\", \"5HT2afl05b_2\", \"sert52b_1\", \"sert52b_5\", \"sert54a_5\"]"
   ]
  },
  {
   "cell_type": "code",
   "execution_count": null,
   "id": "4",
   "metadata": {},
   "outputs": [],
   "source": [
    "mouse = ImagingData(mice[0])\n",
    "mouse.mouse_id\n",
    "s2p_folders = mouse.find_s2p_folders()\n",
    "for folder in enumerate(s2p_folders):\n",
    "    print(folder)"
   ]
  },
  {
   "cell_type": "code",
   "execution_count": null,
   "id": "5",
   "metadata": {},
   "outputs": [],
   "source": [
    "s2p_folder = s2p_folders[9]\n",
    "sima_folder = os.path.dirname(s2p_folder)\n",
    "sima_folder"
   ]
  },
  {
   "cell_type": "code",
   "execution_count": null,
   "id": "6",
   "metadata": {},
   "outputs": [],
   "source": [
    "file_name = join(sima_folder, \"eeg\", \"velo_eeg.csv\")\n",
    "eeg_velo = eegData.load_processed_velocity_eeg(file_name=file_name)\n",
    "\n",
    "eeg_velo[\"mobile_immobile\"] = behaviorData.define_mobility(eeg_velo[\"filtered velo\"])\n",
    "eeg_velo"
   ]
  },
  {
   "cell_type": "code",
   "execution_count": null,
   "id": "7",
   "metadata": {},
   "outputs": [],
   "source": [
    "df = eegData.brain_state_filter(\n",
    "    velo_eeg_df=eeg_velo,\n",
    "    states=[\"awake_mobile\", \"awake_immobile\", \"NREM\", \"REM\", \"other\"],\n",
    ")\n",
    "df"
   ]
  },
  {
   "cell_type": "markdown",
   "id": "8",
   "metadata": {},
   "source": [
    "### Loading raw fluorescence data then calculating dfof"
   ]
  },
  {
   "cell_type": "code",
   "execution_count": null,
   "id": "9",
   "metadata": {},
   "outputs": [],
   "source": [
    "s2p_calc_dfof = dfof.Suite2pDFOF(window=1800)\n",
    "jia_calc_dfof = dfof.JiaDFOF(slow_trend_window=1800)\n",
    "s2p_data = Suite2p(s2p_folder=s2p_folder)\n",
    "s2p_data\n",
    "cells = s2p_data.get_cells()\n",
    "npil = s2p_data.get_npil()"
   ]
  },
  {
   "cell_type": "code",
   "execution_count": null,
   "id": "10",
   "metadata": {},
   "outputs": [],
   "source": [
    "cell_dfof = s2p_calc_dfof.calculate(signal=cells, npil=npil)\n",
    "npil_dfof = jia_calc_dfof.calculate(signal=npil)"
   ]
  },
  {
   "cell_type": "markdown",
   "id": "11",
   "metadata": {},
   "source": [
    "### Looking at only the NREM vs awake immobile periods"
   ]
  },
  {
   "cell_type": "markdown",
   "id": "12",
   "metadata": {},
   "source": [
    "#### Cell signal NREM vs. Awake immobile"
   ]
  },
  {
   "cell_type": "code",
   "execution_count": null,
   "id": "13",
   "metadata": {},
   "outputs": [],
   "source": [
    "mean_cellF = cell_dfof.mean(axis=0)\n",
    "fig, ax = plt.subplots(nrows=3, figsize=(20, 5), sharey=True)\n",
    "# concatentate the True values:\n",
    "ax[0].plot(mean_cellF.values, color=\"k\", label=\"all cells\")\n",
    "ax[0].legend(loc=\"upper right\", labelcolor=\"k\")\n",
    "ax[1].plot(mean_cellF[df[\"awake_immobile\"]].values, label=\"awake\")\n",
    "ax[1].legend(loc=\"upper right\", labelcolor=\"k\")\n",
    "ax[2].plot(mean_cellF[df[\"NREM\"]].values, color=\"orange\")\n",
    "ax[2].legend([\"NREM\"], loc=\"upper right\", labelcolor=\"k\")\n",
    "plt.show()\n",
    "# fig.savefig(join(sima_folder, 'NREM Awake_immob Mean cell traces.png'),\n",
    "#             bbox_inches='tight', dpi=300)"
   ]
  },
  {
   "cell_type": "markdown",
   "id": "14",
   "metadata": {},
   "source": [
    "### Npil signal NREM vs. Awake immobile"
   ]
  },
  {
   "cell_type": "markdown",
   "id": "15",
   "metadata": {},
   "source": [
    "#### NREM vs Awake immobile"
   ]
  },
  {
   "cell_type": "code",
   "execution_count": null,
   "id": "16",
   "metadata": {},
   "outputs": [],
   "source": [
    "mean_npilF = npil_dfof.mean(axis=0)\n",
    "fig, ax = plt.subplots(nrows=3, figsize=(20, 5), sharey=True)\n",
    "ax[0].plot(mean_npilF.values, color=\"k\")\n",
    "ax[0].legend([\"all npil\"], loc=\"upper right\", labelcolor=\"k\")\n",
    "ax[1].plot(mean_npilF[df[\"awake_immobile\"]].values, label=\"awake\")\n",
    "ax[1].legend(labelcolor=\"k\")\n",
    "ax[1].legend(loc=\"upper right\", labelcolor=\"k\")\n",
    "ax[2].plot(mean_npilF[df[\"NREM\"]].values, color=\"orange\", label=\"NREM\")\n",
    "ax[2].legend([\"NREM\"], loc=\"upper right\", labelcolor=\"k\")\n",
    "plt.show()\n",
    "# fig.savefig(\n",
    "#     join(sima_folder, \"NREM Awake_immob Mean npil traces.png\"),\n",
    "#     bbox_inches=\"tight\",\n",
    "#     dpi=300,\n",
    "# )"
   ]
  },
  {
   "cell_type": "markdown",
   "id": "17",
   "metadata": {},
   "source": [
    "### Calculations"
   ]
  },
  {
   "cell_type": "code",
   "execution_count": null,
   "id": "18",
   "metadata": {},
   "outputs": [],
   "source": [
    "input_data = {\n",
    "    \"nrem_cell\": pd.Series(mean_cellF[df[\"NREM\"]].values),\n",
    "    \"nrem_npil\": pd.Series(mean_npilF[df[\"NREM\"]].values),\n",
    "    \"awake_npil\": pd.Series(mean_npilF[df[\"awake_immobile\"]].values),\n",
    "    \"awake_cell\": pd.Series(mean_cellF[df[\"awake_immobile\"]].values),\n",
    "}"
   ]
  },
  {
   "cell_type": "code",
   "execution_count": null,
   "id": "19",
   "metadata": {},
   "outputs": [],
   "source": [
    "results = {}\n",
    "\n",
    "for key, value in input_data.items():\n",
    "    freq, psd = freq_calc(value)\n",
    "    results[key] = {\"freq\": freq, \"psd\": psd}\n",
    "\n",
    "results.keys()"
   ]
  },
  {
   "cell_type": "code",
   "execution_count": null,
   "id": "20",
   "metadata": {},
   "outputs": [],
   "source": [
    "# Create a figure with 2 subplots in 1 row and 2 columns\n",
    "fig, axs = plt.subplots(nrows=1, ncols=2, figsize=(10, 5), sharey=True)\n",
    "fig.suptitle(\"Power Spectral Density: Awake vs NREM\")\n",
    "\n",
    "# Plot the first semilogy plot in the first subplot\n",
    "axs[0].semilogy(\n",
    "    results[\"awake_cell\"][\"freq\"], results[\"awake_cell\"][\"psd\"], label=\"awake\"\n",
    ")\n",
    "axs[0].semilogy(results[\"nrem_cell\"][\"freq\"], results[\"nrem_cell\"][\"psd\"], label=\"nrem\")\n",
    "axs[0].legend(loc=\"lower left\")\n",
    "\n",
    "# Plot the second semilogy plot in the first subplot\n",
    "axs[1].semilogy(\n",
    "    results[\"awake_npil\"][\"freq\"], results[\"awake_npil\"][\"psd\"], label=\"awake\"\n",
    ")\n",
    "axs[1].semilogy(results[\"nrem_npil\"][\"freq\"], results[\"nrem_npil\"][\"psd\"], label=\"nrem\")\n",
    "axs[1].legend(loc=\"lower left\")\n",
    "\n",
    "# Set the title and axis labels for the first subplot\n",
    "axs[0].set_title(\"Cell signal\")\n",
    "axs[0].set_xlabel(\"Frequency (Hz)\")\n",
    "axs[0].set_ylabel(\"Power/Frequency (dB/Hz)\")\n",
    "\n",
    "# Set the title and axis labels for the second subplot\n",
    "axs[1].set_title(\"Npil signal\")\n",
    "axs[1].set_xlabel(\"Frequency (Hz)\")\n",
    "\n",
    "# Show the plot\n",
    "plt.show()\n",
    "# fig.savefig(join(sima_folder, 'PSD plot cell vs npil.png'),\n",
    "#             bbox_inches='tight', dpi=300)"
   ]
  },
  {
   "cell_type": "code",
   "execution_count": null,
   "id": "21",
   "metadata": {},
   "outputs": [],
   "source": [
    "# Create a figure with 2 subplots in 1 row and 2 columns\n",
    "fig, axs = plt.subplots(nrows=1, ncols=2, figsize=(10, 5), sharey=True)\n",
    "fig.suptitle(\"Power Spectral Density: Cell vs Npil\")\n",
    "\n",
    "# Plot the first semilogy plot in the first subplot\n",
    "axs[0].semilogy(\n",
    "    results[\"awake_cell\"][\"freq\"], results[\"awake_cell\"][\"psd\"], label=\"cell\"\n",
    ")\n",
    "axs[0].semilogy(\n",
    "    results[\"awake_npil\"][\"freq\"], results[\"awake_npil\"][\"psd\"], label=\"npil\"\n",
    ")\n",
    "axs[0].legend()\n",
    "\n",
    "# Plot the second semilogy plot in the first subplot\n",
    "axs[1].semilogy(results[\"nrem_cell\"][\"freq\"], results[\"nrem_cell\"][\"psd\"], label=\"cell\")\n",
    "axs[1].semilogy(results[\"nrem_npil\"][\"freq\"], results[\"nrem_npil\"][\"psd\"], label=\"npil\")\n",
    "axs[1].legend()\n",
    "\n",
    "# Set the title and axis labels for the first subplot\n",
    "axs[0].set_title(\"Awake signal\")\n",
    "axs[0].set_xlabel(\"Frequency (Hz)\")\n",
    "axs[0].set_ylabel(\"Power/Frequency (dB/Hz)\")\n",
    "\n",
    "# Set the title and axis labels for the second subplot\n",
    "axs[1].set_title(\"NREM signal\")\n",
    "axs[1].set_xlabel(\"Frequency (Hz)\")\n",
    "\n",
    "# Show the plot\n",
    "plt.show()\n",
    "# fig.savefig(join(sima_folder, 'PSD plot awake vs NREM.png'),\n",
    "#             bbox_inches='tight', dpi=300)"
   ]
  },
  {
   "cell_type": "markdown",
   "id": "22",
   "metadata": {},
   "source": [
    "### Old-style calcs"
   ]
  },
  {
   "cell_type": "markdown",
   "id": "23",
   "metadata": {},
   "source": [
    "### NREM vs non-NREM"
   ]
  },
  {
   "cell_type": "code",
   "execution_count": null,
   "id": "24",
   "metadata": {},
   "outputs": [],
   "source": [
    "cells = s2p_mouse.true_signal(s2p_folder=s2p_folder)\n",
    "# cells = s2p_mouse.true_cells(s2p_folder)\n",
    "mean_cellF = pd.DataFrame(cells.mean(axis=0))\n",
    "mean_cellF\n",
    "fig, ax = plt.subplots(nrows=2, figsize=(20, 5))\n",
    "ax[0].plot(\n",
    "    signal.detrend(mean_cellF[~df[\"NREM\"]], axis=0, type=\"linear\"),\n",
    "    color=\"orange\",\n",
    "    label=\"awake\",\n",
    ")\n",
    "ax[0].legend(loc=\"upper right\", labelcolor=\"k\")\n",
    "ax[1].plot(signal.detrend(mean_cellF[df[\"NREM\"]], axis=0, type=\"linear\"))\n",
    "ax[1].legend([\"NREM\"], loc=\"upper right\", labelcolor=\"k\")\n",
    "plt.show()\n",
    "# fig.savefig(join(sima_folder, 'NREM Awake Mean cell traces.png'),\n",
    "#             bbox_inches='tight', dpi=300)"
   ]
  },
  {
   "cell_type": "markdown",
   "id": "25",
   "metadata": {},
   "source": [
    "### NREM vs. non-NREM"
   ]
  },
  {
   "cell_type": "code",
   "execution_count": null,
   "id": "26",
   "metadata": {},
   "outputs": [],
   "source": [
    "cells = s2p_mouse.true_signal(s2p_folder=s2p_folder, signal_source=\"Fneu\")\n",
    "mean_npilF = pd.DataFrame(cells.mean(axis=0))\n",
    "mean_npilF\n",
    "fig, ax = plt.subplots(nrows=2, figsize=(20, 5))\n",
    "ax[0].plot(\n",
    "    signal.detrend(mean_npilF[~df[\"NREM\"]], axis=0, type=\"linear\"),\n",
    "    color=\"orange\",\n",
    "    label=\"awake\",\n",
    ")\n",
    "ax[0].legend(loc=\"upper right\", labelcolor=\"k\")\n",
    "ax[0].legend(labelcolor=\"k\")\n",
    "ax[1].plot(signal.detrend(mean_npilF[df[\"NREM\"]], axis=0, type=\"linear\"), label=\"NREM\")\n",
    "ax[1].legend([\"NREM\"], loc=\"upper right\", labelcolor=\"k\")\n",
    "plt.show()\n",
    "fig.savefig(\n",
    "    join(sima_folder, \"NREM Awake Mean npil traces.png\"), bbox_inches=\"tight\", dpi=300\n",
    ")"
   ]
  }
 ],
 "metadata": {
  "kernelspec": {
   "display_name": "sleep",
   "language": "python",
   "name": "python3"
  },
  "language_info": {
   "codemirror_mode": {
    "name": "ipython",
    "version": 3
   },
   "file_extension": ".py",
   "mimetype": "text/x-python",
   "name": "python",
   "nbconvert_exporter": "python",
   "pygments_lexer": "ipython3",
   "version": "3.8.18"
  },
  "varInspector": {
   "cols": {
    "lenName": 16,
    "lenType": 16,
    "lenVar": 40
   },
   "kernels_config": {
    "python": {
     "delete_cmd_postfix": "",
     "delete_cmd_prefix": "del ",
     "library": "var_list.py",
     "varRefreshCmd": "print(var_dic_list())"
    },
    "r": {
     "delete_cmd_postfix": ") ",
     "delete_cmd_prefix": "rm(",
     "library": "var_list.r",
     "varRefreshCmd": "cat(var_dic_list()) "
    }
   },
   "types_to_exclude": [
    "module",
    "function",
    "builtin_function_or_method",
    "instance",
    "_Feature"
   ],
   "window_display": false
  }
 },
 "nbformat": 4,
 "nbformat_minor": 5
}
