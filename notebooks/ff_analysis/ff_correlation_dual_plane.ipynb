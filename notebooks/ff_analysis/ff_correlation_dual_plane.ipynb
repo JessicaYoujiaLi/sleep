{
 "cells": [
  {
   "cell_type": "markdown",
   "metadata": {},
   "source": [
    "# Correlating full frame calcium imaging between somatic and dendritic ROIs\n",
    "\n",
    "* 10/31/2024 - setup\n",
    "\n",
    "## conclusion: there is pretty high correlation between somatic and dendritic frames in this dataset during locomotion and rest. "
   ]
  },
  {
   "cell_type": "code",
   "execution_count": 29,
   "metadata": {},
   "outputs": [],
   "source": [
    "from os.path import join\n",
    "import json\n",
    "import numpy as np\n",
    "from scipy.interpolate import interp1d\n",
    "import pandas as pd"
   ]
  },
  {
   "cell_type": "code",
   "execution_count": 24,
   "metadata": {},
   "outputs": [],
   "source": [
    "sima_dir = \"/data2/gergely/invivo_DATA/sleep/dock11c5/8_2/TSeries-08022024-1036-001/TSeries-08022024-1036-001.sima/\"\n",
    "ff_ca_data = pd.read_csv(join(sima_dir, \"s2p_ff\", \"ff_ca_data.csv\"))\n",
    "mob_immobs = []\n",
    "\n",
    "data = join(sima_dir, \"behavior\", \"mobility_immobility.json\")\n",
    "with open(data, \"r\") as f:\n",
    "    mob_immobs = np.array(json.load(f))"
   ]
  },
  {
   "cell_type": "code",
   "execution_count": 26,
   "metadata": {},
   "outputs": [
    {
     "data": {
      "text/plain": [
       "20374"
      ]
     },
     "execution_count": 26,
     "metadata": {},
     "output_type": "execute_result"
    }
   ],
   "source": [
    "len(mob_immobs)"
   ]
  },
  {
   "cell_type": "code",
   "execution_count": 9,
   "metadata": {},
   "outputs": [
    {
     "name": "stdout",
     "output_type": "stream",
     "text": [
      "Correlation between 'plane0' and 'plane1': 0.8771130182874436\n"
     ]
    }
   ],
   "source": [
    "# Pivot the DataFrame to wide format, aligning values based on 'Frame' for each 'Plane'\n",
    "wide_df = ff_ca_data.pivot(index=\"Frame\", columns=\"Plane\", values=\"AveragePixelValue\")\n",
    "\n",
    "# Drop any rows with NaN values (if there's a mismatch in frames)\n",
    "wide_df = wide_df.dropna()\n",
    "\n",
    "# Calculate the correlation between 'plane0' and 'plane1'\n",
    "correlation = wide_df[\"plane0\"].corr(wide_df[\"plane1\"])\n",
    "\n",
    "print(f\"Correlation between 'plane0' and 'plane1': {correlation}\")\n"
   ]
  },
  {
   "cell_type": "code",
   "execution_count": 33,
   "metadata": {},
   "outputs": [
    {
     "name": "stdout",
     "output_type": "stream",
     "text": [
      "Correlation between plane0 and plane1 for mobility = 0: 0.8824605691656683\n",
      "Correlation between plane0 and plane1 for mobility = 1: 0.8676099144669701\n"
     ]
    }
   ],
   "source": [
    "# Verify the length of JSON data matches the number of rows in wide_df\n",
    "if len(mob_immobs) != len(wide_df):\n",
    "    # Interpolate the JSON data to match the length of wide_df\n",
    "    x_original = np.linspace(0, 1, len(mob_immobs))\n",
    "    x_target = np.linspace(0, 1, len(wide_df))\n",
    "    interpolator = interp1d(x_original, mob_immobs, kind=\"linear\")\n",
    "    mob_immobs = interpolator(x_target)\n",
    "\n",
    "# Convert the interpolated values to integers\n",
    "mob_immobs = mob_immobs.astype(int)\n",
    "\n",
    "# Add the JSON data (interpolated if needed) as a new column to wide_df\n",
    "wide_df[\"mobility_immobility\"] = mob_immobs\n",
    "\n",
    "# Filter plane0 and plane1 data based on mobility_immobility values\n",
    "plane0_mobility_0 = wide_df[wide_df[\"mobility_immobility\"] == 0][\"plane0\"]\n",
    "plane1_mobility_0 = wide_df[wide_df[\"mobility_immobility\"] == 0][\"plane1\"]\n",
    "plane0_mobility_1 = wide_df[wide_df[\"mobility_immobility\"] == 1][\"plane0\"]\n",
    "plane1_mobility_1 = wide_df[wide_df[\"mobility_immobility\"] == 1][\"plane1\"]\n",
    "\n",
    "# Calculate correlations\n",
    "correlation_mobility_0 = plane0_mobility_0.corr(plane1_mobility_0)\n",
    "correlation_mobility_1 = plane0_mobility_1.corr(plane1_mobility_1)\n",
    "\n",
    "print(\n",
    "    f\"Correlation between plane0 and plane1 for mobility = 0: {correlation_mobility_0}\"\n",
    ")\n",
    "print(\n",
    "    f\"Correlation between plane0 and plane1 for mobility = 1: {correlation_mobility_1}\"\n",
    ")\n"
   ]
  }
 ],
 "metadata": {
  "language_info": {
   "name": "python"
  }
 },
 "nbformat": 4,
 "nbformat_minor": 2
}
