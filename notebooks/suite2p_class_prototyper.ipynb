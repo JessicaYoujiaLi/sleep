{
 "cells": [
  {
   "cell_type": "code",
   "execution_count": 11,
   "metadata": {},
   "outputs": [],
   "source": [
    "from os import listdir, walk\n",
    "from os.path import isfile, join"
   ]
  },
  {
   "cell_type": "code",
   "execution_count": 14,
   "metadata": {},
   "outputs": [],
   "source": [
    "def find_suite2p_folders(root_dir):\n",
    "    suite2p_folders = []\n",
    "    for dirpath, dirnames, filenames in walk(root_dir):\n",
    "        if 'suite2p' in dirnames:\n",
    "            suite2p_folders.append(dirpath)\n",
    "    return suite2p_folders"
   ]
  },
  {
   "cell_type": "code",
   "execution_count": 15,
   "metadata": {},
   "outputs": [],
   "source": [
    "datadir = '/data2/gergely/invivo_DATA/sleep/sert53a_5'\n",
    "suite2p_folders = find_suite2p_folders(datadir)"
   ]
  },
  {
   "cell_type": "code",
   "execution_count": 16,
   "metadata": {},
   "outputs": [
    {
     "data": {
      "text/plain": [
       "['/data2/gergely/invivo_DATA/sleep/sert53a_5/11_30/TSeries-11302022-1009-001/TSeries-11302022-1009-001.sima',\n",
       " '/data2/gergely/invivo_DATA/sleep/sert53a_5/12_8_PCB/TSeries-12082022-pcb01-002/TSeries-12082022-pcb01-002.sima',\n",
       " '/data2/gergely/invivo_DATA/sleep/sert53a_5/12_8_PCB/TSeries-12082022-baseline-001/TSeries-12082022-baseline-001.sima',\n",
       " '/data2/gergely/invivo_DATA/sleep/sert53a_5/11_21/TSeries-11212022-postSD-GC-003/TSeries-11212022-postSD-GC-003.sima',\n",
       " '/data2/gergely/invivo_DATA/sleep/sert53a_5/11_21/TSeries-11212022-postSD-GC-001/TSeries-11212022-postSD-GC-001.sima',\n",
       " '/data2/gergely/invivo_DATA/sleep/sert53a_5/11_21/TSeries-11212022-postSD-GC-MC-002/TSeries-11212022-postSD-GC-MC-002.sima']"
      ]
     },
     "execution_count": 16,
     "metadata": {},
     "output_type": "execute_result"
    }
   ],
   "source": [
    "suite2p_folders"
   ]
  },
  {
   "cell_type": "code",
   "execution_count": null,
   "metadata": {},
   "outputs": [],
   "source": []
  }
 ],
 "metadata": {
  "kernelspec": {
   "display_name": "Python 3",
   "language": "python",
   "name": "python3"
  },
  "language_info": {
   "codemirror_mode": {
    "name": "ipython",
    "version": 3
   },
   "file_extension": ".py",
   "mimetype": "text/x-python",
   "name": "python",
   "nbconvert_exporter": "python",
   "pygments_lexer": "ipython3",
   "version": "3.8.18"
  }
 },
 "nbformat": 4,
 "nbformat_minor": 2
}
