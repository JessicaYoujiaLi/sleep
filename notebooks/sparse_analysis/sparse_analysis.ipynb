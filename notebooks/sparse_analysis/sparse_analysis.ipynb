{
 "cells": [
  {
   "cell_type": "markdown",
   "metadata": {},
   "source": [
    "# Analyis notebook for sparsely labeled cells.\n",
    "\n",
    "Based on `sparse_prototype.ipynb`. Protoyping was done with this dataset: `\"/data2/gergely/invivo_DATA/sleep/dock13b1/8_8/TSeries-08082024-1650-001/TSeries-08082024-1650-001.sima/\"`, cell# `1029`\n",
    "\n",
    "Currently it works with fluorescence or spike data. Both are Z-scored. \n",
    "\n",
    "* setup 11/12/2024"
   ]
  },
  {
   "cell_type": "code",
   "execution_count": null,
   "metadata": {},
   "outputs": [],
   "source": [
    "import os\n",
    "from os.path import join\n",
    "import json\n",
    "\n",
    "import matplotlib.pyplot as plt\n",
    "import numpy as np\n",
    "# import scipy.stats as stats\n",
    "from scipy.stats import zscore\n",
    "# import statsmodels.api as sm\n",
    "\n",
    "import pandas as pd\n",
    "# import seaborn as sns\n",
    "\n",
    "from src.classes.suite2p_class import Suite2p as s2p\n",
    "import sparse_helpers as sp\n",
    "\n",
    "plt.rcParams[\"text.usetex\"] = False\n",
    "plt.rcParams[\"svg.fonttype\"] = \"none\""
   ]
  },
  {
   "cell_type": "code",
   "execution_count": null,
   "metadata": {},
   "outputs": [],
   "source": [
    "sima_folder = \"/data2/gergely/invivo_DATA/sleep/dock13b3/8_4/TSeries-08042024-1156-001/TSeries-08042024-1156-001.sima/\"\n",
    "\n",
    "# which cell_num to plot, use the number from the suite2p gui\n",
    "cell_num = int(900)"
   ]
  },
  {
   "cell_type": "code",
   "execution_count": null,
   "metadata": {},
   "outputs": [],
   "source": [
    "cell_folder = join(sima_folder, f\"cell{cell_num}\")\n",
    "if not os.path.exists(cell_folder):\n",
    "    os.makedirs(cell_folder)"
   ]
  },
  {
   "cell_type": "markdown",
   "metadata": {},
   "source": [
    "## Data prep prerequisites:\n",
    "* have fluorescence or spike data `suite2p` folder with segemented cells.\n",
    "* have mobility data `mobility_immobility.json`\n",
    "* have brain state data: `velo_eeg.csv`"
   ]
  },
  {
   "cell_type": "code",
   "execution_count": null,
   "metadata": {},
   "outputs": [],
   "source": [
    "data = {}\n",
    "ids = {}\n",
    "planes = {0: \"top_plane_d\", 1: \"mid_plane_d\", 2: \"soma_plane_d\"}\n",
    "\n",
    "for plane, plane_name in planes.items():\n",
    "    s2p_data = s2p(join(sima_folder, \"suite2p\"))\n",
    "    signals = s2p_data.get_cells(plane=plane)\n",
    "    roi_ids = s2p_data.get_iscell_indices(plane=plane)\n",
    "    # z scoring\n",
    "    zscored_signal = zscore(signals, axis=1)\n",
    "\n",
    "    # Add the z-scored data to the dictionary\n",
    "    if plane_name not in data:\n",
    "        data[plane_name] = []  # Initialize a list for each plane\n",
    "    data[plane_name].append(zscored_signal)\n",
    "    ids[plane_name] = roi_ids\n",
    "\n",
    "# Load the mobility data\n",
    "mobility_data = []\n",
    "mob_data = join(sima_folder, \"behavior\", \"mobility_immobility.json\")\n",
    "with open(mob_data, \"r\") as f:\n",
    "    mobility_data.append(np.array(json.load(f)))\n",
    "\n",
    "# Load the brain states\n",
    "brain_states = pd.read_csv(join(sima_folder, \"eeg\", \"velo_eeg.csv\"))\n",
    "\n",
    "# check if the data is the same length\n",
    "data[\"top_plane_d\"][0].shape, mobility_data[0].shape, brain_states.shape\n"
   ]
  },
  {
   "cell_type": "markdown",
   "metadata": {},
   "source": [
    "### Creating a dictionary for the roi id-s."
   ]
  },
  {
   "cell_type": "code",
   "execution_count": null,
   "metadata": {},
   "outputs": [],
   "source": [
    "id_dict = {}\n",
    "for key, list_of_arrays in ids.items():\n",
    "    if len(list_of_arrays) == 0:\n",
    "        continue\n",
    "    concatenated_array = np.hstack(list_of_arrays)\n",
    "\n",
    "    for i, roi_id in enumerate(concatenated_array):\n",
    "        id_dict[f\"{key}_{i}\"] = int(roi_id)"
   ]
  },
  {
   "cell_type": "markdown",
   "metadata": {},
   "source": [
    "### Selecting the soma ROI"
   ]
  },
  {
   "cell_type": "code",
   "execution_count": null,
   "metadata": {},
   "outputs": [],
   "source": [
    "soma_id = None\n",
    "for key, value in id_dict.items():\n",
    "    if value == cell_num:\n",
    "        soma_id = key\n",
    "        break\n",
    "soma_id"
   ]
  },
  {
   "cell_type": "markdown",
   "metadata": {},
   "source": [
    "### Adding brain state data"
   ]
  },
  {
   "cell_type": "code",
   "execution_count": null,
   "metadata": {},
   "outputs": [],
   "source": [
    "data_dict = {}\n",
    "for key, list_of_arrays in data.items():\n",
    "    # Convert the list of arrays to a 2D array by stacking along axis 0\n",
    "    concatenated_array = np.vstack(list_of_arrays)\n",
    "    for i in range(concatenated_array.shape[0]):\n",
    "        data_dict[f\"{key}_{i}\"] = concatenated_array[i]\n",
    "\n",
    "# Create a DataFrame\n",
    "data_df = pd.DataFrame(data_dict)\n",
    "data_df[\"mobility\"] = np.hstack(mobility_data)\n",
    "data_df[\"mobile\"] = data_df[\"mobility\"] == 1\n",
    "data_df[\"immobile\"] = data_df[\"mobility\"] == 0\n",
    "data_df = pd.concat([data_df, brain_states[[\"awake\", \"NREM\", \"REM\", \"other\"]]], axis=1)\n",
    "\n",
    "data_df.head()"
   ]
  },
  {
   "cell_type": "markdown",
   "metadata": {},
   "source": [
    "### Renaming the column which contains the somatic data"
   ]
  },
  {
   "cell_type": "code",
   "execution_count": null,
   "metadata": {},
   "outputs": [],
   "source": [
    "data_df.rename(columns={soma_id: \"soma\"}, inplace=True)\n",
    "data_df.head()"
   ]
  },
  {
   "cell_type": "markdown",
   "metadata": {},
   "source": [
    "## Calculatons and plotting"
   ]
  },
  {
   "cell_type": "code",
   "execution_count": null,
   "metadata": {},
   "outputs": [],
   "source": [
    "sp.plot_soma_denrite_traces(data_df, cell_folder, cell_num, savefig=True)"
   ]
  },
  {
   "cell_type": "code",
   "execution_count": null,
   "metadata": {},
   "outputs": [],
   "source": [
    "xcorr_data = sp.data_calculation(\n",
    "    data_df, \"awake\", \"NREM\", cell_folder, cell_num, \"pearson\", save_data=True\n",
    ")\n",
    "xcorr_data"
   ]
  },
  {
   "cell_type": "code",
   "execution_count": null,
   "metadata": {},
   "outputs": [],
   "source": [
    "sp.plot_xcorr_scatter(xcorr_data, \"awake\", \"NREM\", cell_folder, cell_num, savefig=True)"
   ]
  },
  {
   "cell_type": "code",
   "execution_count": null,
   "metadata": {},
   "outputs": [],
   "source": [
    "std_dev = sp.data_calculation(\n",
    "    data_df, \"awake\", \"NREM\", cell_folder, cell_num, \"stdev\", save_data=True\n",
    ")\n",
    "std_dev"
   ]
  },
  {
   "cell_type": "code",
   "execution_count": null,
   "metadata": {},
   "outputs": [],
   "source": [
    "sp.plot_std_dev_bars(std_dev, \"awake\", \"NREM\", cell_folder, cell_num,\n",
    "                      savefig=True)"
   ]
  },
  {
   "cell_type": "code",
   "execution_count": null,
   "metadata": {},
   "outputs": [],
   "source": [
    "sp.plot_correlation_heatmap(\n",
    "    xcorr_data, \"awake\", \"NREM\", cell_folder, cell_num, savefig=True\n",
    ")"
   ]
  },
  {
   "cell_type": "code",
   "execution_count": null,
   "metadata": {},
   "outputs": [],
   "source": [
    "soma_dendrite_corr = sp.calculate_mean_correlations_triangle(xcorr_data,\n",
    "                                                             cell_folder,\n",
    "                                                            cell_num,\n",
    "                                                             \"awake pearson\",\n",
    "                                                             \"NREM pearson\",\n",
    "                                                            save_data=True)\n",
    "soma_dendrite_corr"
   ]
  },
  {
   "cell_type": "code",
   "execution_count": null,
   "metadata": {},
   "outputs": [],
   "source": [
    "sp.plot_mean_correlations_line(soma_dendrite_corr,\n",
    "                                cell_folder,\n",
    "                                  cell_num,\n",
    "                                  \"awake pearson\",\n",
    "                                  \"NREM pearson\",\n",
    "                                  savefig=True)"
   ]
  },
  {
   "cell_type": "code",
   "execution_count": null,
   "metadata": {},
   "outputs": [],
   "source": []
  }
 ],
 "metadata": {
  "language_info": {
   "name": "python"
  }
 },
 "nbformat": 4,
 "nbformat_minor": 2
}
