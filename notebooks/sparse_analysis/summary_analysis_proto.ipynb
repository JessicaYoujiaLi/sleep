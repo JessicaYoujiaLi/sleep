{
 "cells": [
  {
   "cell_type": "markdown",
   "metadata": {},
   "source": [
    "# Prototype code for summary analysis of sparsley labeled data\n",
    "\n",
    "* 12/14/2024 Setup"
   ]
  },
  {
   "cell_type": "code",
   "execution_count": null,
   "metadata": {},
   "outputs": [],
   "source": [
    "import metadata\n",
    "from os.path import join, exists\n",
    "from os import walk\n",
    "from glob import glob\n",
    "\n",
    "import pandas as pd\n",
    "import numpy as np\n",
    "import matplotlib.pyplot as plt\n",
    "import seaborn as sns"
   ]
  },
  {
   "cell_type": "code",
   "execution_count": null,
   "metadata": {},
   "outputs": [],
   "source": [
    "def find_cell_folders(data_folder: str) -> list:\n",
    "    \"\"\"\"Finds the cell folders in a given data folder.\"\"\"\n",
    "    \n",
    "    if not exists(data_folder):\n",
    "        print(f\"Path does not exist: {data_folder}\")\n",
    "        return []\n",
    "    cell_folders = []\n",
    "    for root, dirs, files in walk(data_folder):\n",
    "        # print(f\"Checking in: {root}\")\n",
    "        # print(f\"Subdirectories: {dirs}\")\n",
    "        for d in dirs:\n",
    "            if d.startswith('cell'):\n",
    "                cell_folders.append(join(root, d))\n",
    "    return cell_folders\n",
    "\n",
    "def find_matching_files(folder: str, pattern: str = \"pearson_awake_NREM_*.csv\") -> list:\n",
    "    \"\"\"\n",
    "    Finds files in a given folder that match a specific pattern.\n",
    "    By default, matches files that start with 'pearson_awake_NREM_' and end with '.csv'.\n",
    "    \n",
    "    Parameters:\n",
    "    - folder (str): The folder to search in.\n",
    "    - pattern (str): The pattern to match (default: 'pearson_awake_NREM_*.csv').\n",
    "    \n",
    "    Returns:\n",
    "    - list: A list of full paths to the matching files.\n",
    "    \"\"\"\n",
    "    if not exists(folder):\n",
    "        print(f\"Path does not exist: {folder}\")\n",
    "        return []\n",
    "\n",
    "    # Use glob to find matching files\n",
    "    matching_files = glob(join(folder, pattern))\n",
    "    return matching_files"
   ]
  },
  {
   "cell_type": "markdown",
   "metadata": {},
   "source": [
    "## Compiling a single list for all the data"
   ]
  },
  {
   "cell_type": "code",
   "execution_count": null,
   "metadata": {},
   "outputs": [],
   "source": [
    "clean_data_paths = metadata.CLEAN_DATA_PATHS\n",
    "cell_folders_nested = [find_cell_folders(data_folder) for data_folder in clean_data_paths]\n",
    "cell_folders = [item for sublist in cell_folders_nested for item in sublist]\n",
    "cell_folders"
   ]
  },
  {
   "cell_type": "code",
   "execution_count": null,
   "metadata": {},
   "outputs": [],
   "source": [
    "corr_file = find_matching_files(cell_folders[0])\n",
    "corr_file"
   ]
  },
  {
   "cell_type": "code",
   "execution_count": null,
   "metadata": {},
   "outputs": [],
   "source": [
    "corr_data = pd.read_csv(corr_file[0])\n",
    "corr_data.info()"
   ]
  },
  {
   "cell_type": "code",
   "execution_count": null,
   "metadata": {},
   "outputs": [],
   "source": [
    "sns.heatmap(corr_data[['awake pearson', 'NREM pearson']], cmap='coolwarm', center=0)"
   ]
  },
  {
   "cell_type": "code",
   "execution_count": null,
   "metadata": {},
   "outputs": [],
   "source": []
  }
 ],
 "metadata": {
  "language_info": {
   "name": "python"
  }
 },
 "nbformat": 4,
 "nbformat_minor": 2
}
