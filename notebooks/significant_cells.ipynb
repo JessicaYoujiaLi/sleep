{
 "cells": [
  {
   "cell_type": "markdown",
   "metadata": {
    "colab_type": "text",
    "id": "view-in-github"
   },
   "source": [
    "<a href=\"https://colab.research.google.com/github/GergelyTuri/sleep/blob/master/notebooks/Significant_cells.ipynb\" target=\"_parent\"><img src=\"https://colab.research.google.com/assets/colab-badge.svg\" alt=\"Open In Colab\"/></a>"
   ]
  },
  {
   "cell_type": "markdown",
   "metadata": {
    "id": "ecCoggI96JsX"
   },
   "source": [
    "# Notebook for calculating cells which significatly upregulated during sleep\n",
    "* 11/27/2023 - setup\n",
    "* 2/13/2024 - modified version after refactoring"
   ]
  },
  {
   "cell_type": "code",
   "execution_count": null,
   "metadata": {
    "colab": {
     "base_uri": "https://localhost:8080/"
    },
    "id": "ybiR-w4g6FW7",
    "outputId": "481fae68-f91f-4bc4-a57d-0083bd2f77e2"
   },
   "outputs": [],
   "source": [
    "!git clone https://github.com/GergelyTuri/sleep.git"
   ]
  },
  {
   "cell_type": "code",
   "execution_count": null,
   "metadata": {
    "id": "0YY6FW2I_j1m"
   },
   "outputs": [],
   "source": [
    "# %cd /content/sleep/\n",
    "# !git pull"
   ]
  },
  {
   "cell_type": "code",
   "execution_count": null,
   "metadata": {
    "id": "dzp3bDU9_zTJ"
   },
   "outputs": [],
   "source": [
    "%cd /content/sleep/\n",
    "!pip install ."
   ]
  },
  {
   "cell_type": "code",
   "execution_count": null,
   "metadata": {
    "id": "xlC_UgZV7zU_"
   },
   "outputs": [],
   "source": [
    "import sys\n",
    "from os.path import join\n",
    "import matplotlib.pyplot as plt\n",
    "\n",
    "import pandas as pd\n",
    "import numpy as np\n",
    "# sys.path.append('/content/sleep/notebooks/neuropil_analysis/')\n",
    "# import neuropil as npil\n",
    "sys.path.append(\"/content/sleep/src/\")\n",
    "from eeg_class import eegData\n",
    "from behavior_class import behaviorData\n",
    "import custom_statistics"
   ]
  },
  {
   "cell_type": "code",
   "execution_count": null,
   "metadata": {
    "id": "8hYTyx3ACfTH"
   },
   "outputs": [],
   "source": [
    "from google.colab import drive\n",
    "drive.mount('/gdrive')"
   ]
  },
  {
   "cell_type": "code",
   "execution_count": null,
   "metadata": {
    "id": "2zW7oAOlHYfS"
   },
   "outputs": [],
   "source": [
    "data_path = '/gdrive/Shareddrives/Turi_lab/Data/Sleep/2p/Analysis/data/5HT2afl05b_1/7_12_SD2'\n",
    "file_name = 'dfof_mc.csv'"
   ]
  },
  {
   "cell_type": "markdown",
   "metadata": {
    "id": "fe0cJZF0oYDI"
   },
   "source": [
    "## Loading dfof data"
   ]
  },
  {
   "cell_type": "code",
   "execution_count": null,
   "metadata": {
    "id": "j3ZQFvtHB9s-"
   },
   "outputs": [],
   "source": [
    "dfof_data = pd.read_csv(join(data_path, file_name))\n",
    "dfof_data.set_index('roi_label', drop=True, inplace=True)\n",
    "dfof_data.head()"
   ]
  },
  {
   "cell_type": "markdown",
   "metadata": {
    "id": "eNoE5IVkocy2"
   },
   "source": [
    "## Loading sleep and other behavior data (velocity)"
   ]
  },
  {
   "cell_type": "code",
   "execution_count": null,
   "metadata": {
    "id": "aCaMrFgIH_WF"
   },
   "outputs": [],
   "source": [
    "sleep_data = pd.read_csv(join(data_path, 'velo_eeg.csv'))\n",
    "sleep_data.head()"
   ]
  },
  {
   "cell_type": "markdown",
   "metadata": {
    "id": "Lq9HFu_yol92"
   },
   "source": [
    "### Determining awake mobile and imobile periods"
   ]
  },
  {
   "cell_type": "code",
   "execution_count": null,
   "metadata": {
    "id": "6AaZpKxAJFDf"
   },
   "outputs": [],
   "source": [
    "sleep_data['mobile_immobile'] = behaviorData.define_mobility(\n",
    "        sleep_data[\"filtered velo\"])\n",
    "sleep_data.head()"
   ]
  },
  {
   "cell_type": "markdown",
   "metadata": {
    "id": "Q7Szlytzow3h"
   },
   "source": [
    "Plotting some of it to make sure it worked"
   ]
  },
  {
   "cell_type": "code",
   "execution_count": null,
   "metadata": {
    "id": "kwhowEtVYCwr"
   },
   "outputs": [],
   "source": [
    "sleep_data[\"filtered velo\"][:100].plot()\n",
    "sleep_data['mobile_immobile'][:100].astype(int).plot()"
   ]
  },
  {
   "cell_type": "markdown",
   "metadata": {
    "id": "-5oQlyAWo2Yv"
   },
   "source": [
    "### Creating brain state filters for filtering the datasets"
   ]
  },
  {
   "cell_type": "code",
   "execution_count": null,
   "metadata": {
    "id": "84nnGHyoYVJ6"
   },
   "outputs": [],
   "source": [
    "brain_states =  eegData.brain_state_filter(\n",
    "        velo_eeg_df=sleep_data,\n",
    "        states=[\"awake_mobile\", \"awake_immobile\", \"NREM\", \"REM\", \"other\"],\n",
    "    )"
   ]
  },
  {
   "cell_type": "markdown",
   "metadata": {
    "id": "RsdYz2tOo_BY"
   },
   "source": [
    "Creating more filters..."
   ]
  },
  {
   "cell_type": "code",
   "execution_count": null,
   "metadata": {
    "id": "VGFo6jTIYhUz"
   },
   "outputs": [],
   "source": [
    "nrem_mask = brain_states['NREM']\n",
    "awake_mask = brain_states['awake_immobile']"
   ]
  },
  {
   "cell_type": "code",
   "execution_count": null,
   "metadata": {
    "id": "NrqeLNN2Zy26"
   },
   "outputs": [],
   "source": [
    "nrem_intervals = dfof_data.loc[:, nrem_mask.values]\n",
    "awake_intervals = dfof_data.loc[:, awake_mask.values]"
   ]
  },
  {
   "cell_type": "markdown",
   "metadata": {
    "id": "m9EwAPAFpC3U"
   },
   "source": [
    "### Calculating significant cells"
   ]
  },
  {
   "cell_type": "code",
   "execution_count": null,
   "metadata": {
    "id": "-SuFNDhQehrD"
   },
   "outputs": [],
   "source": [
    "significant_cells_nrem_vs_awake = custom_statistics.significance_calc(nrem_intervals.to_numpy(),\n",
    "                                                      awake_intervals.to_numpy())"
   ]
  },
  {
   "cell_type": "code",
   "execution_count": null,
   "metadata": {
    "colab": {
     "base_uri": "https://localhost:8080/"
    },
    "id": "9a02XL539r33",
    "outputId": "9166c4ce-ecbf-47d5-b6ea-c69bc92e50a7"
   },
   "outputs": [],
   "source": [
    "significant_cells_nrem_vs_awake"
   ]
  },
  {
   "cell_type": "code",
   "execution_count": null,
   "metadata": {
    "id": "i6_bvFEj9euK"
   },
   "outputs": [],
   "source": [
    "significant_cells_awake_vs_nrem = custom_statistics.significance_calc(awake_intervals.to_numpy(),\n",
    "                                                      nrem_intervals.to_numpy())"
   ]
  },
  {
   "cell_type": "code",
   "execution_count": null,
   "metadata": {
    "id": "UCLP3n3_9y4M"
   },
   "outputs": [],
   "source": [
    "significant_cells_awake_vs_nrem"
   ]
  },
  {
   "cell_type": "markdown",
   "metadata": {
    "id": "5bNcXATfpM3W"
   },
   "source": [
    "### filtering out significant and non significant cells from the original data"
   ]
  },
  {
   "cell_type": "code",
   "execution_count": null,
   "metadata": {
    "id": "lSpsKUVRhqDD"
   },
   "outputs": [],
   "source": [
    "sig_cell_mask = np.zeros(dfof_data.shape[0], dtype=bool)\n",
    "sig_cell_mask[significant_cells_nrem_vs_awake] = True\n",
    "significant_cell_data = dfof_data[sig_cell_mask]\n",
    "non_significant_cell_data = dfof_data.iloc[~sig_cell_mask]"
   ]
  },
  {
   "cell_type": "code",
   "execution_count": null,
   "metadata": {
    "id": "6_23_ZDdhsb6"
   },
   "outputs": [],
   "source": [
    "print(f\"significant cells: {significant_cell_data.index} \\n Non significant cells: {non_significant_cell_data.index}\")"
   ]
  }
 ],
 "metadata": {
  "colab": {
   "authorship_tag": "ABX9TyMoTwUE9MzWObVZHD77ETUH",
   "include_colab_link": true,
   "provenance": []
  },
  "kernelspec": {
   "display_name": "Python 3",
   "name": "python3"
  },
  "language_info": {
   "name": "python"
  }
 },
 "nbformat": 4,
 "nbformat_minor": 0
}
