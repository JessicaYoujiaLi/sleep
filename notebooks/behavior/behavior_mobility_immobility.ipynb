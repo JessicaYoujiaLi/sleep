{
 "cells": [
  {
   "cell_type": "markdown"define_mobility
   "metadata": {},
   "source": [
    "# This notebook will analyze the velocity data of a mouse\n",
    "It will export a json file where 1 is moving and 0 is not moving.\n",
    "Make sure that the frame rate is the same for the recordins."
   ]
  },
  {
   "cell_type": "code",
   "execution_count": 1,
   "metadata": {},
   "outputs": [],
   "source": [
    "from os.path import join\n",
    "from src import behavior_class as bc\n",
    "\n",
    "# import src.database as db"
   ]
  },
  {
   "cell_type": "markdown",
   "metadata": {},
   "source": [
    "TODO: use database to do all of this"
   ]
  },
  {
   "cell_type": "code",
   "execution_count": null,
   "metadata": {},
   "outputs": [],
   "source": [
    "# exps = db.fetch_mouse_trials(\"140502_5\")\n",
    "# exps"
   ]
  },
  {
   "cell_type": "code",
   "execution_count": 2,
   "metadata": {},
   "outputs": [
    {
     "name": "stdout",
     "output_type": "stream",
     "text": [
      "Searching for behavior folders in /data2/gergely/invivo_DATA/sleep/140302_3\n",
      "Searching for behavior folders in /data2/gergely/invivo_DATA/sleep/140302_3\n"
     ]
    },
    {
     "data": {
      "text/plain": [
       "[(0,\n",
       "  '/data2/gergely/invivo_DATA/sleep/140302_3/12_21/TSeries-12212023-1051-001/TSeries-12212023-1051-001.sima/behavior'),\n",
       " (1,\n",
       "  '/data2/gergely/invivo_DATA/sleep/140302_3/12_21/TSeries-12212023-1051-002/TSeries-12212023-1051-002.sima/behavior'),\n",
       " (2,\n",
       "  '/data2/gergely/invivo_DATA/sleep/140302_3/12_11/TSeries-12112023-0825_sess01-001/TSeries-12112023-0825_sess01-001_Cycle00001_Element00001.sima/behavior'),\n",
       " (3,\n",
       "  '/data2/gergely/invivo_DATA/sleep/140302_3/12_11/TSeries-12112023-0825_sess02_MC-002/TSeries-12112023-0825_sess02_MC-002.sima/behavior'),\n",
       " (4,\n",
       "  '/data2/gergely/invivo_DATA/sleep/140302_3/12_13/TSeries-12132023-0849_GC_MC-003/TSeries-12132023-0849_GC_MC-003.sima/behavior'),\n",
       " (5,\n",
       "  '/data2/gergely/invivo_DATA/sleep/140302_3/12_13/TSeries-12132023-0849_GC_dendrite-004/TSeries-12132023-0849_GC_dendrite-004.sima/behavior'),\n",
       " (6,\n",
       "  '/data2/gergely/invivo_DATA/sleep/140302_3/12_13/TSeries-12132023-0849_GC-002/TSeries-12132023-0849_GC-002.sima/behavior'),\n",
       " (7,\n",
       "  '/data2/gergely/invivo_DATA/sleep/140302_3/12_19/TSeries-12192023-1407_MC-002/TSeries-12192023-1407_MC-002.sima/behavior'),\n",
       " (8,\n",
       "  '/data2/gergely/invivo_DATA/sleep/140302_3/12_19/TSeries-12192023-1407-001/TSeries-12192023-1407-001.sima/behavior'),\n",
       " (9,\n",
       "  '/data2/gergely/invivo_DATA/sleep/140302_3/1_18/TSeries-01182024-0805-003/TSeries-01182024-0805-003.sima/behavior'),\n",
       " (10,\n",
       "  '/data2/gergely/invivo_DATA/sleep/140302_3/12_22/TSeries-12222023-1406-002/TSeries-12222023-1406-002.sima/behavior'),\n",
       " (11,\n",
       "  '/data2/gergely/invivo_DATA/sleep/140302_3/12_22/TSeries-12222023-1406-001/TSeries-12222023-1406-001.sima/behavior'),\n",
       " (12,\n",
       "  '/data2/gergely/invivo_DATA/sleep/140302_3/12_20_PCB/TSeries-12202023-1051_pcb-002/TSeries-12202023-1051_pcb-002.sima/behavior'),\n",
       " (13,\n",
       "  '/data2/gergely/invivo_DATA/sleep/140302_3/12_20_PCB/TSeries-12202023-1051_ctrl-001/TSeries-12202023-1051_ctrl-001.sima/behavior')]"
      ]
     },
     "execution_count": 2,
     "metadata": {},
     "output_type": "execute_result"
    }
   ],
   "source": [
    "behavior = bc.behaviorData(\"140302_3\")\n",
    "beh_folders = [\n",
    "    (index, folder) for index, folder in enumerate(behavior.find_behavior_folders())\n",
    "]\n",
    "beh_folders"
   ]
  },
  {
   "cell_type": "code",
   "execution_count": 3,
   "metadata": {},
   "outputs": [
    {
     "data": {
      "text/plain": [
       "['/data2/gergely/invivo_DATA/sleep/140302_3/12_22/TSeries-12222023-1406-002/TSeries-12222023-1406-002.sima/behavior']"
      ]
     },
     "execution_count": 3,
     "metadata": {},
     "output_type": "execute_result"
    }
   ],
   "source": [
    "behavior_folders = [beh_folders[10][1]]\n",
    "behavior_folders"
   ]
  },
  {
   "cell_type": "code",
   "execution_count": 4,
   "metadata": {},
   "outputs": [
    {
     "name": "stdout",
     "output_type": "stream",
     "text": [
      "/data2/gergely/invivo_DATA/sleep/140302_3/12_22/TSeries-12222023-1406-002/TSeries-12222023-1406-002.sima/behavior\n"
     ]
    }
   ],
   "source": [
    "for behavior_folder in behavior_folders:\n",
    "    print(behavior_folder)\n",
    "    processed_velo = behavior.load_processed_velocity(behavior_folder)\n",
    "    immobility = behavior.define_immobility(velocity=processed_velo)\n",
    "    immobility.to_json(\n",
    "        join(behavior_folder, \"mobility_immobility.json\"), orient=\"records\", indent=4\n",
    "    )"
   ]
  },
  {
   "cell_type": "code",
   "execution_count": null,
   "metadata": {},
   "outputs": [],
   "source": []
  }
 ],
 "metadata": {
  "kernelspec": {
   "display_name": "sleep",
   "language": "python",
   "name": "python3"
  },
  "language_info": {
   "codemirror_mode": {
    "name": "ipython",
    "version": 3
   },
   "file_extension": ".py",
   "mimetype": "text/x-python",
   "name": "python",
   "nbconvert_exporter": "python",
   "pygments_lexer": "ipython3",
   "version": "3.8.18"
  }
 },
 "nbformat": 4,
 "nbformat_minor": 2
}
