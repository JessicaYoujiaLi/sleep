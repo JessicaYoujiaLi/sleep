{
 "cells": [
  {
   "cell_type": "markdown",
   "metadata": {},
   "source": [
    "# This notebook will analyze the velocity data of a mouse\n",
    "It will export a csv file where 1 is moving and 0 is not moving.\n",
    "Make sure that the frame rate is the same for the recordins."
   ]
  },
  {
   "cell_type": "code",
   "execution_count": 1,
   "metadata": {},
   "outputs": [],
   "source": [
    "from os.path import join\n",
    "from src import behavior_class as bc"
   ]
  },
  {
   "cell_type": "code",
   "execution_count": 8,
   "metadata": {},
   "outputs": [
    {
     "name": "stdout",
     "output_type": "stream",
     "text": [
      "Searching for behavior folders in /data2/gergely/invivo_DATA/sleep/140502_5\n"
     ]
    }
   ],
   "source": [
    "behavior = bc.behaviorData(\"140502_5\")"
   ]
  },
  {
   "cell_type": "code",
   "execution_count": 9,
   "metadata": {},
   "outputs": [
    {
     "name": "stdout",
     "output_type": "stream",
     "text": [
      "/data2/gergely/invivo_DATA/sleep/140502_5/1_16/TSeries-01162024-0853_dendrite-001/TSeries-01162024-0853_dendrite-001.sima/behavior\n",
      "/data2/gergely/invivo_DATA/sleep/140502_5/1_17/TSeries-01172024-0745_dendrites-001/TSeries-01172024-0745_dendrites-001.sima/behavior\n"
     ]
    }
   ],
   "source": [
    "for behavior_folder in behavior.behavior_folders:\n",
    "    print(behavior_folder)\n",
    "    processed_velo = behavior.processed_velocity(behavior_folder)\n",
    "    immobility = behavior.define_immobility(velocity=processed_velo)\n",
    "    immobility.to_csv(\n",
    "        join(behavior_folder, \"mobility_immobility.csv\"), index=False, header=False\n",
    "    )"
   ]
  },
  {
   "cell_type": "code",
   "execution_count": null,
   "metadata": {},
   "outputs": [],
   "source": []
  }
 ],
 "metadata": {
  "kernelspec": {
   "display_name": "sleep",
   "language": "python",
   "name": "python3"
  },
  "language_info": {
   "codemirror_mode": {
    "name": "ipython",
    "version": 3
   },
   "file_extension": ".py",
   "mimetype": "text/x-python",
   "name": "python",
   "nbconvert_exporter": "python",
   "pygments_lexer": "ipython3",
   "version": "3.8.18"
  }
 },
 "nbformat": 4,
 "nbformat_minor": 2
}
