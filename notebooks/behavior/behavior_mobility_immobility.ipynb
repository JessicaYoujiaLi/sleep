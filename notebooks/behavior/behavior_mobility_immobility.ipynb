{
 "cells": [
  {
   "cell_type": "markdown",
   "metadata": {},
   "source": [
    "# This notebook will analyze the velocity data of a mouse\n",
    "It will export a csv file where 1 is moving and 0 is not moving.\n",
    "Make sure that the frame rate is the same for the recordins."
   ]
  },
  {
   "cell_type": "code",
   "execution_count": 1,
   "metadata": {},
   "outputs": [],
   "source": [
    "from os.path import join\n",
    "import json\n",
    "from src import behavior_class as bc\n",
    "import src.database as db"
   ]
  },
  {
   "cell_type": "code",
   "execution_count": null,
   "metadata": {},
   "outputs": [],
   "source": [
    "# exps = db.fetch_mouse_trials(\"140502_5\")\n",
    "# exps"
   ]
  },
  {
   "cell_type": "code",
   "execution_count": 2,
   "metadata": {},
   "outputs": [
    {
     "name": "stdout",
     "output_type": "stream",
     "text": [
      "Searching for behavior folders in /data2/gergely/invivo_DATA/sleep/140302_3\n"
     ]
    }
   ],
   "source": [
    "behavior = bc.behaviorData(\"140302_3\")"
   ]
  },
  {
   "cell_type": "code",
   "execution_count": 3,
   "metadata": {},
   "outputs": [
    {
     "name": "stdout",
     "output_type": "stream",
     "text": [
      "/data2/gergely/invivo_DATA/sleep/140302_3/1_18/TSeries-01182024-0805-003/TSeries-01182024-0805-003.sima/behavior\n"
     ]
    }
   ],
   "source": [
    "for behavior_folder in behavior.behavior_folders:\n",
    "    print(behavior_folder)\n",
    "    processed_velo = behavior.processed_velocity(behavior_folder)\n",
    "    immobility = behavior.define_immobility(velocity=processed_velo)\n",
    "    immobility.to_json(\n",
    "        join(behavior_folder, \"mobility_immobility.json\"), orient=\"records\", indent=4\n",
    "    )"
   ]
  },
  {
   "cell_type": "code",
   "execution_count": null,
   "metadata": {},
   "outputs": [],
   "source": []
  }
 ],
 "metadata": {
  "kernelspec": {
   "display_name": "sleep",
   "language": "python",
   "name": "python3"
  },
  "language_info": {
   "codemirror_mode": {
    "name": "ipython",
    "version": 3
   },
   "file_extension": ".py",
   "mimetype": "text/x-python",
   "name": "python",
   "nbconvert_exporter": "python",
   "pygments_lexer": "ipython3",
   "version": "3.8.18"
  }
 },
 "nbformat": 4,
 "nbformat_minor": 2
}
