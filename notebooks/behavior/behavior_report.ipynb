{
 "cells": [
  {
   "cell_type": "markdown",
   "metadata": {},
   "source": [
    "# Creating behavior reports\n",
    "will create a summary of a behavior session."
   ]
  },
  {
   "cell_type": "code",
   "execution_count": null,
   "metadata": {},
   "outputs": [],
   "source": [
    "import json\n",
    "import os\n",
    "from os.path import join\n",
    "from src import behavior_class as bc\n",
    "import matplotlib.pyplot as plt\n",
    "import numpy as np\n",
    "import pandas as pd"
   ]
  },
  {
   "cell_type": "code",
   "execution_count": null,
   "metadata": {},
   "outputs": [],
   "source": [
    "mouse_id = \"140302_3\""
   ]
  },
  {
   "cell_type": "code",
   "execution_count": null,
   "metadata": {},
   "outputs": [],
   "source": [
    "behavior = bc.behaviorData(mouse_id)\n",
    "behavior_folders = [\n",
    "    (index, folder) for index, folder in enumerate(behavior.find_behavior_folders())\n",
    "]\n",
    "behavior_folders"
   ]
  },
  {
   "cell_type": "code",
   "execution_count": null,
   "metadata": {},
   "outputs": [],
   "source": [
    "beh_folder = behavior_folders[0][1]\n",
    "processed_json = \"140302_3_20240118121644_932_sleep.json\"\n",
    "\n",
    "file_path = join(beh_folder, processed_json)\n",
    "\n",
    "if os.path.isfile(file_path):\n",
    "    print(\"File exists\")\n",
    "else:\n",
    "    print(f\"File {processed_json} does not exist\")"
   ]
  },
  {
   "cell_type": "markdown",
   "metadata": {},
   "source": [
    "## Summary data"
   ]
  },
  {
   "cell_type": "code",
   "execution_count": null,
   "metadata": {},
   "outputs": [],
   "source": [
    "with open(join(beh_folder, processed_json)) as f:\n",
    "    beh_data = json.load(f)\n",
    "\n",
    "summary_dict = {\n",
    "    \"recording_duration\": beh_data[0][\"data\"][\"recordingDuration\"],\n",
    "    \"number_laps\": max(beh_data[0][\"data\"][\"lap_bin\"]),\n",
    "    \"mean_velocity\": np.mean(beh_data[0][\"data\"][\"velocity\"])\n",
    "    / beh_data[0][\"data\"][\"recordingDuration\"],\n",
    "}\n",
    "with open(join(beh_folder, \"behavior_summary.json\"), \"w\") as f:\n",
    "    json.dump(summary_dict, f, indent=4)"
   ]
  },
  {
   "cell_type": "markdown",
   "metadata": {},
   "source": [
    "## Summary plots"
   ]
  },
  {
   "cell_type": "code",
   "execution_count": null,
   "metadata": {},
   "outputs": [],
   "source": [
    "filtered_velocity = pd.read_json(join(beh_folder, \"filtered_velocity.json\"))\n",
    "mob_immob = pd.read_json(join(beh_folder, \"mobility_immobility.json\"))"
   ]
  },
  {
   "cell_type": "code",
   "execution_count": null,
   "metadata": {},
   "outputs": [],
   "source": [
    "fig, ax = plt.subplots(nrows=2, ncols=2, figsize=(12, 6), sharex=True)\n",
    "duration = int(beh_data[0][\"data\"][\"recordingDuration\"])\n",
    "num_data_points = len(beh_data[0][\"data\"][\"velocity\"])\n",
    "x = np.linspace(0, duration, num_data_points)\n",
    "\n",
    "# Velocity\n",
    "ax[0, 0].plot(x, np.array(beh_data[0][\"data\"][\"velocity\"]))\n",
    "ax[0, 0].set_title(\"Velocity\")\n",
    "\n",
    "# position\n",
    "ax[1, 0].plot(x, np.array(beh_data[0][\"data\"][\"treadmillPosition\"]))\n",
    "ax[1, 0].set_title(\"Position\")\n",
    "ax[1, 0].set_xlabel(\"Time [s]\")\n",
    "\n",
    "# filtered velocity\n",
    "ax[0, 1].plot(x, np.array(filtered_velocity))\n",
    "ax[0, 1].set_title(\"Filtered Velocity\")\n",
    "\n",
    "# mobility immobility\n",
    "ax[1, 1].plot(x, mob_immob)\n",
    "ax[1, 1].set_title(\"Mobility Immobility\")\n",
    "ax[1, 1].set_xlabel(\"Time [s]\")\n",
    "\n",
    "plt.tight_layout()\n",
    "plt.savefig(join(beh_folder, \"behavior_summary.png\"))"
   ]
  },
  {
   "cell_type": "code",
   "execution_count": null,
   "metadata": {},
   "outputs": [],
   "source": [
    "plt.plot(np.array(beh_data[0][\"data\"][\"velocity\"]))\n",
    "plt.plot(np.array(filtered_velocity))"
   ]
  },
  {
   "cell_type": "code",
   "execution_count": null,
   "metadata": {},
   "outputs": [],
   "source": []
  }
 ],
 "metadata": {
  "kernelspec": {
   "display_name": "sleep",
   "language": "python",
   "name": "python3"
  },
  "language_info": {
   "codemirror_mode": {
    "name": "ipython",
    "version": 3
   },
   "file_extension": ".py",
   "mimetype": "text/x-python",
   "name": "python",
   "nbconvert_exporter": "python",
   "pygments_lexer": "ipython3",
   "version": "3.8.18"
  }
 },
 "nbformat": 4,
 "nbformat_minor": 2
}
