{
 "cells": [
  {
   "cell_type": "markdown",
   "metadata": {},
   "source": [
    "# Tests for imaging data class\n",
    "* 3/12/24 setup"
   ]
  },
  {
   "cell_type": "code",
   "execution_count": 1,
   "metadata": {},
   "outputs": [],
   "source": [
    "import src.imaging_data_class as imdat"
   ]
  },
  {
   "cell_type": "code",
   "execution_count": 2,
   "metadata": {},
   "outputs": [],
   "source": [
    "imdata = imdat.ImagingData(\"5HT2afl05b_1\")"
   ]
  },
  {
   "cell_type": "code",
   "execution_count": 4,
   "metadata": {},
   "outputs": [
    {
     "name": "stdout",
     "output_type": "stream",
     "text": [
      "Looking for TSeries folders in /data2/gergely/invivo_DATA/sleep/5HT2afl05b_1\n"
     ]
    },
    {
     "data": {
      "text/plain": [
       "['/data2/gergely/invivo_DATA/sleep/5HT2afl05b_1/7_7_Zstack_pento/TSeries-07072021-0833_MC_pento-002',\n",
       " '/data2/gergely/invivo_DATA/sleep/5HT2afl05b_1/7_7_Zstack_pento/TSeries-07072021-0833_GC_pento-001',\n",
       " '/data2/gergely/invivo_DATA/sleep/5HT2afl05b_1/7_2/TSeries-07022021-0814_MC-002',\n",
       " '/data2/gergely/invivo_DATA/sleep/5HT2afl05b_1/7_2/TSeries-07022021-0814-001',\n",
       " '/data2/gergely/invivo_DATA/sleep/5HT2afl05b_1/7_1/TSeries-07012021-0854_MCs_afternoon-002',\n",
       " '/data2/gergely/invivo_DATA/sleep/5HT2afl05b_1/7_1/TSeries-07012021-0854_MCs-001',\n",
       " '/data2/gergely/invivo_DATA/sleep/5HT2afl05b_1/7_12_SD2/TSeries-07122021-0901-002',\n",
       " '/data2/gergely/invivo_DATA/sleep/5HT2afl05b_1/7_7_SD/TSeries-07072021-0833_MC1-002',\n",
       " '/data2/gergely/invivo_DATA/sleep/5HT2afl05b_1/7_7_SD/TSeries-07072021-0833_MC2-004',\n",
       " '/data2/gergely/invivo_DATA/sleep/5HT2afl05b_1/7_7_SD/TSeries-07072021-0833_GC1-001',\n",
       " '/data2/gergely/invivo_DATA/sleep/5HT2afl05b_1/7_7_SD/TSeries-07072021-0833_GC2-003',\n",
       " '/data2/gergely/invivo_DATA/sleep/5HT2afl05b_1/7_9_DOI/TSeries-07092021-DOI-001',\n",
       " '/data2/gergely/invivo_DATA/sleep/5HT2afl05b_1/7_15_DOI2/TSeries-07152021-0822-001',\n",
       " '/data2/gergely/invivo_DATA/sleep/5HT2afl05b_1/6_29/TSeries-06292021-0808-001',\n",
       " '/data2/gergely/invivo_DATA/sleep/5HT2afl05b_1/7_3/TSeries-07032021-1008_GC-002',\n",
       " '/data2/gergely/invivo_DATA/sleep/5HT2afl05b_1/7_3/TSeries-07032021-1008_GC-001']"
      ]
     },
     "execution_count": 4,
     "metadata": {},
     "output_type": "execute_result"
    }
   ],
   "source": [
    "imdata.find_tseries_folders()"
   ]
  },
  {
   "cell_type": "code",
   "execution_count": null,
   "metadata": {},
   "outputs": [],
   "source": []
  }
 ],
 "metadata": {
  "kernelspec": {
   "display_name": "sleep",
   "language": "python",
   "name": "python3"
  },
  "language_info": {
   "codemirror_mode": {
    "name": "ipython",
    "version": 3
   },
   "file_extension": ".py",
   "mimetype": "text/x-python",
   "name": "python",
   "nbconvert_exporter": "python",
   "pygments_lexer": "ipython3",
   "version": "3.8.18"
  }
 },
 "nbformat": 4,
 "nbformat_minor": 2
}
