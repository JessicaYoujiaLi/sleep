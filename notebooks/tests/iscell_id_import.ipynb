{
 "cells": [
  {
   "cell_type": "markdown",
   "metadata": {},
   "source": [
    "# importing iscell ids\n",
    "this notebook is a prototype for a new method for `suite2p_class` which can import iscell ids. "
   ]
  },
  {
   "cell_type": "code",
   "execution_count": null,
   "metadata": {},
   "outputs": [],
   "source": [
    "import numpy as np\n",
    "import src.classes.suite2p_class as s2p"
   ]
  },
  {
   "cell_type": "code",
   "execution_count": null,
   "metadata": {},
   "outputs": [],
   "source": [
    "data_path = \"/data2/gergely/invivo_DATA/sleep/dock13b1/8_8/TSeries-08082024-1650-001/TSeries-08082024-1650-001.sima/suite2p/combined/\"\n"
   ]
  },
  {
   "cell_type": "code",
   "execution_count": null,
   "metadata": {},
   "outputs": [],
   "source": [
    "iscell = np.load(data_path + \"iscell.npy\", allow_pickle=True)\n",
    "first_column = iscell[:, 0]\n",
    "position_ids = np.where(first_column == 1)[0]\n",
    "position_ids"
   ]
  },
  {
   "cell_type": "code",
   "execution_count": null,
   "metadata": {},
   "outputs": [],
   "source": []
  }
 ],
 "metadata": {
  "language_info": {
   "name": "python"
  }
 },
 "nbformat": 4,
 "nbformat_minor": 2
}
