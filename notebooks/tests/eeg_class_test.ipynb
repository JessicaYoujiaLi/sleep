{
 "cells": [
  {
   "cell_type": "markdown",
   "metadata": {},
   "source": [
    "# Tests for eeg class\n",
    "* 3/12/2024 setup"
   ]
  },
  {
   "cell_type": "code",
   "execution_count": 1,
   "metadata": {},
   "outputs": [],
   "source": [
    "import src.eeg_class as eeg"
   ]
  },
  {
   "cell_type": "code",
   "execution_count": 2,
   "metadata": {},
   "outputs": [
    {
     "name": "stdout",
     "output_type": "stream",
     "text": [
      "Searching for eeg folders in /data2/gergely/invivo_DATA/sleep/5HT2afl05b_1\n"
     ]
    }
   ],
   "source": [
    "eeg_data = eeg.eegData(\"5HT2afl05b_1\")"
   ]
  },
  {
   "cell_type": "code",
   "execution_count": 3,
   "metadata": {},
   "outputs": [
    {
     "data": {
      "text/plain": [
       "['/data2/gergely/invivo_DATA/sleep/5HT2afl05b_1/7_7_Zstack_pento/TSeries-07072021-0833_MC_pento-002/TSeries-07072021-0833_MC_pento-002_Cycle00001_Element00001.sima/eeg',\n",
       " '/data2/gergely/invivo_DATA/sleep/5HT2afl05b_1/7_7_Zstack_pento/TSeries-07072021-0833_GC_pento-001/TSeries-07072021-0833_GC_pento-001_Cycle00001_Element00001.sima/eeg',\n",
       " '/data2/gergely/invivo_DATA/sleep/5HT2afl05b_1/7_2/TSeries-07022021-0814_MC-002/TSeries-07022021-0814_MC-002_Cycle00001_Element00001.sima/eeg',\n",
       " '/data2/gergely/invivo_DATA/sleep/5HT2afl05b_1/7_2/TSeries-07022021-0814-001/TSeries-07022021-0814-001_Cycle00001_Element00001.sima/eeg',\n",
       " '/data2/gergely/invivo_DATA/sleep/5HT2afl05b_1/7_1/TSeries-07012021-0854_MCs_afternoon-002/TSeries-07012021-0854_MCs_afternoon-002_Cycle00001_Element00001.sima/eeg',\n",
       " '/data2/gergely/invivo_DATA/sleep/5HT2afl05b_1/7_1/TSeries-07012021-0854_MCs-001/TSeries-07012021-0854_MCs-001_Cycle00001_Element00001.sima/eeg',\n",
       " '/data2/gergely/invivo_DATA/sleep/5HT2afl05b_1/7_12_SD2/TSeries-07122021-0901-002/TSeries-07122021-0901-002_Cycle00001_Element00001.sima/eeg',\n",
       " '/data2/gergely/invivo_DATA/sleep/5HT2afl05b_1/7_7_SD/TSeries-07072021-0833_MC1-002/TSeries-07072021-0833_MC1-002_Cycle00001_Element00001.sima/eeg',\n",
       " '/data2/gergely/invivo_DATA/sleep/5HT2afl05b_1/7_7_SD/TSeries-07072021-0833_MC2-004/TSeries-07072021-0833_MC2-004_Cycle00001_Element00001.sima/eeg',\n",
       " '/data2/gergely/invivo_DATA/sleep/5HT2afl05b_1/7_7_SD/TSeries-07072021-0833_GC1-001/TSeries-07072021-0833_GC1-001_Cycle00001_Element00001.sima/eeg',\n",
       " '/data2/gergely/invivo_DATA/sleep/5HT2afl05b_1/7_7_SD/TSeries-07072021-0833_GC2-003/TSeries-07072021-0833_GC2-003_Cycle00001_Element00001.sima/eeg',\n",
       " '/data2/gergely/invivo_DATA/sleep/5HT2afl05b_1/7_15_DOI2/TSeries-07152021-0822-001/TSeries-07152021-0822-001_Cycle00001_Element00001.sima/eeg',\n",
       " '/data2/gergely/invivo_DATA/sleep/5HT2afl05b_1/6_29/TSeries-06292021-0808-001/TSeries-06292021-0808-001_Cycle00001_Element00001.sima/eeg',\n",
       " '/data2/gergely/invivo_DATA/sleep/5HT2afl05b_1/7_3/TSeries-07032021-1008_GC-002/TSeries-07032021-1008_GC-002_Cycle00001_Element00001.sima/eeg',\n",
       " '/data2/gergely/invivo_DATA/sleep/5HT2afl05b_1/7_3/TSeries-07032021-1008_GC-001/TSeries-07032021-1008_GC-001_Cycle00001_Element00001.sima/eeg']"
      ]
     },
     "execution_count": 3,
     "metadata": {},
     "output_type": "execute_result"
    }
   ],
   "source": [
    "eeg_data.eeg_folders"
   ]
  },
  {
   "cell_type": "code",
   "execution_count": null,
   "metadata": {},
   "outputs": [],
   "source": []
  }
 ],
 "metadata": {
  "kernelspec": {
   "display_name": "sleep",
   "language": "python",
   "name": "python3"
  },
  "language_info": {
   "codemirror_mode": {
    "name": "ipython",
    "version": 3
   },
   "file_extension": ".py",
   "mimetype": "text/x-python",
   "name": "python",
   "nbconvert_exporter": "python",
   "pygments_lexer": "ipython3",
   "version": "3.8.18"
  }
 },
 "nbformat": 4,
 "nbformat_minor": 2
}
