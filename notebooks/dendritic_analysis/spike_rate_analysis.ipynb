{
 "cells": [
  {
   "cell_type": "markdown",
   "metadata": {},
   "source": [
    "# group analysis for spike rates\n",
    "* 1/27/24 setup"
   ]
  },
  {
   "cell_type": "code",
   "execution_count": 1,
   "metadata": {},
   "outputs": [],
   "source": [
    "import sys\n",
    "from os.path import join\n",
    "from os import walk\n",
    "\n",
    "from src import database as db\n",
    "import matplotlib.pyplot as plt\n",
    "import pandas as pd\n",
    "import seaborn as sns"
   ]
  },
  {
   "cell_type": "code",
   "execution_count": 2,
   "metadata": {},
   "outputs": [],
   "source": [
    "# sessions to be analyzed:\n",
    "trials = [931, 937, 932]\n",
    "behavior_files = [\n",
    "    \"140502_5_20240116110945_931_sleep.json\",\n",
    "    \"140502_5_20240117113156_937_sleep.json\",\n",
    "    \"140302_3_20240118121644_932_sleep.json\",\n",
    "]"
   ]
  },
  {
   "cell_type": "code",
   "execution_count": 3,
   "metadata": {},
   "outputs": [
    {
     "data": {
      "text/plain": [
       "['/data2/gergely/invivo_DATA/sleep/140502_5/1_16/TSeries-01162024-0853_dendrite-001',\n",
       " '/data2/gergely/invivo_DATA/sleep/140502_5/1_17/TSeries-01172024-0745_dendrites-001',\n",
       " '/data2/gergely/invivo_DATA/sleep/140302_3/1_18/TSeries-01182024-0805-003']"
      ]
     },
     "execution_count": 3,
     "metadata": {},
     "output_type": "execute_result"
    }
   ],
   "source": [
    "imaging_paths = []\n",
    "for trial in trials:\n",
    "    imaging_paths.append(db.fetch_trial(trial)[\"tSeries_path\"])\n",
    "imaging_paths"
   ]
  },
  {
   "cell_type": "code",
   "execution_count": 4,
   "metadata": {},
   "outputs": [],
   "source": [
    "spike_rates = []\n",
    "for imaging_path in imaging_paths:\n",
    "    for root, dirs, files in walk(imaging_path):\n",
    "        if \"mobility_immobility_mean_spike_rate.json\" in files:\n",
    "            spike_rates.append(\n",
    "                pd.read_json(join(root, \"mobility_immobility_mean_spike_rate.json\"))\n",
    "            )"
   ]
  },
  {
   "cell_type": "code",
   "execution_count": 5,
   "metadata": {},
   "outputs": [
    {
     "data": {
      "text/html": [
       "<div>\n",
       "<style scoped>\n",
       "    .dataframe tbody tr th:only-of-type {\n",
       "        vertical-align: middle;\n",
       "    }\n",
       "\n",
       "    .dataframe tbody tr th {\n",
       "        vertical-align: top;\n",
       "    }\n",
       "\n",
       "    .dataframe thead th {\n",
       "        text-align: right;\n",
       "    }\n",
       "</style>\n",
       "<table border=\"1\" class=\"dataframe\">\n",
       "  <thead>\n",
       "    <tr style=\"text-align: right;\">\n",
       "      <th></th>\n",
       "      <th>Condition</th>\n",
       "      <th>Mean Value</th>\n",
       "      <th>Mean Rate</th>\n",
       "      <th>Condition_numeric</th>\n",
       "    </tr>\n",
       "  </thead>\n",
       "  <tbody>\n",
       "    <tr>\n",
       "      <th>0</th>\n",
       "      <td>Moving</td>\n",
       "      <td>-0.078687</td>\n",
       "      <td>-0.000054</td>\n",
       "      <td>1</td>\n",
       "    </tr>\n",
       "    <tr>\n",
       "      <th>1</th>\n",
       "      <td>Not Moving</td>\n",
       "      <td>0.052731</td>\n",
       "      <td>0.000024</td>\n",
       "      <td>2</td>\n",
       "    </tr>\n",
       "    <tr>\n",
       "      <th>0</th>\n",
       "      <td>Moving</td>\n",
       "      <td>-0.053443</td>\n",
       "      <td>-0.000049</td>\n",
       "      <td>1</td>\n",
       "    </tr>\n",
       "    <tr>\n",
       "      <th>1</th>\n",
       "      <td>Not Moving</td>\n",
       "      <td>0.023236</td>\n",
       "      <td>0.000009</td>\n",
       "      <td>2</td>\n",
       "    </tr>\n",
       "    <tr>\n",
       "      <th>0</th>\n",
       "      <td>Moving</td>\n",
       "      <td>-0.101487</td>\n",
       "      <td>-0.000101</td>\n",
       "      <td>1</td>\n",
       "    </tr>\n",
       "    <tr>\n",
       "      <th>1</th>\n",
       "      <td>Not Moving</td>\n",
       "      <td>0.039429</td>\n",
       "      <td>0.000015</td>\n",
       "      <td>2</td>\n",
       "    </tr>\n",
       "  </tbody>\n",
       "</table>\n",
       "</div>"
      ],
      "text/plain": [
       "    Condition  Mean Value  Mean Rate  Condition_numeric\n",
       "0      Moving   -0.078687  -0.000054                  1\n",
       "1  Not Moving    0.052731   0.000024                  2\n",
       "0      Moving   -0.053443  -0.000049                  1\n",
       "1  Not Moving    0.023236   0.000009                  2\n",
       "0      Moving   -0.101487  -0.000101                  1\n",
       "1  Not Moving    0.039429   0.000015                  2"
      ]
     },
     "execution_count": 5,
     "metadata": {},
     "output_type": "execute_result"
    }
   ],
   "source": [
    "spike_rate_df = pd.concat(spike_rates, axis=0)\n",
    "spike_rate_df"
   ]
  },
  {
   "cell_type": "code",
   "execution_count": 6,
   "metadata": {},
   "outputs": [
    {
     "name": "stderr",
     "output_type": "stream",
     "text": [
      "/home/gergely/anaconda3/envs/sleep/lib/python3.8/site-packages/seaborn/axisgrid.py:118: UserWarning: The figure layout has changed to tight\n",
      "  self._figure.tight_layout(*args, **kwargs)\n",
      "/home/gergely/anaconda3/envs/sleep/lib/python3.8/site-packages/seaborn/categorical.py:1728: UserWarning: You passed a edgecolor/edgecolors ((0.1477136475930195, 0.14772002848141771, 0.1476949000552352)) for an unfilled marker ('_').  Matplotlib is ignoring the edgecolor in favor of the facecolor.  This behavior may change in the future.\n",
      "  ax.scatter(x, y, label=hue_level,\n",
      "/home/gergely/anaconda3/envs/sleep/lib/python3.8/site-packages/seaborn/categorical.py:1728: UserWarning: You passed a edgecolor/edgecolors ((0.0, 0.0, 0.0)) for an unfilled marker ('_').  Matplotlib is ignoring the edgecolor in favor of the facecolor.  This behavior may change in the future.\n",
      "  ax.scatter(x, y, label=hue_level,\n",
      "/home/gergely/anaconda3/envs/sleep/lib/python3.8/site-packages/seaborn/categorical.py:1728: UserWarning: You passed a edgecolor/edgecolors ((0.1477136475930195, 0.14772002848141771, 0.1476949000552352)) for an unfilled marker ('_').  Matplotlib is ignoring the edgecolor in favor of the facecolor.  This behavior may change in the future.\n",
      "  ax.scatter(x, y, label=hue_level,\n",
      "/home/gergely/anaconda3/envs/sleep/lib/python3.8/site-packages/seaborn/categorical.py:1728: UserWarning: You passed a edgecolor/edgecolors ((0.0, 0.0, 0.0)) for an unfilled marker ('_').  Matplotlib is ignoring the edgecolor in favor of the facecolor.  This behavior may change in the future.\n",
      "  ax.scatter(x, y, label=hue_level,\n"
     ]
    },
    {
     "data": {
      "image/png": "[encoded data removed]",
      "text/plain": [
       "<Figure size 800x400 with 2 Axes>"
      ]
     },
     "metadata": {},
     "output_type": "display_data"
    }
   ],
   "source": [
    "df_long = pd.melt(\n",
    "    spike_rate_df,\n",
    "    id_vars=[\"Condition\", \"Condition_numeric\"],\n",
    "    var_name=\"Metric\",\n",
    "    value_name=\"Value\",\n",
    ")\n",
    "# Create the Seaborn catplot\n",
    "g = sns.catplot(\n",
    "    x=\"Condition\",\n",
    "    y=\"Value\",\n",
    "    hue=\"Condition\",\n",
    "    col=\"Metric\",\n",
    "    data=df_long,\n",
    "    kind=\"strip\",\n",
    "    height=4,\n",
    "    aspect=1,\n",
    "    sharey=False,\n",
    ")\n",
    "\n",
    "# Iterate over each subplot and overlay pointplot\n",
    "for ax, metric in zip(g.axes.flat, df_long[\"Metric\"].unique()):\n",
    "    sns.pointplot(\n",
    "        x=\"Condition\",\n",
    "        y=\"Value\",\n",
    "        hue=\"Condition\",\n",
    "        data=df_long[df_long[\"Metric\"] == metric],\n",
    "        errorbar=\"sd\",\n",
    "        join=False,\n",
    "        color=\"k\",\n",
    "        markers=\"_\",\n",
    "        ax=ax,\n",
    "    )\n",
    "    ax.legend().remove()\n",
    "\n",
    "# Adjust the plot aesthetics\n",
    "g.set_axis_labels(\"\", \"Value\")\n",
    "g.set_titles(\"{col_name}\")\n",
    "plt.savefig(\"spike_rate.png\")\n",
    "plt.show()"
   ]
  },
  {
   "cell_type": "code",
   "execution_count": 47,
   "metadata": {},
   "outputs": [
    {
     "data": {
      "text/html": [
       "<div>\n",
       "<style scoped>\n",
       "    .dataframe tbody tr th:only-of-type {\n",
       "        vertical-align: middle;\n",
       "    }\n",
       "\n",
       "    .dataframe tbody tr th {\n",
       "        vertical-align: top;\n",
       "    }\n",
       "\n",
       "    .dataframe thead th {\n",
       "        text-align: right;\n",
       "    }\n",
       "</style>\n",
       "<table border=\"1\" class=\"dataframe\">\n",
       "  <thead>\n",
       "    <tr style=\"text-align: right;\">\n",
       "      <th></th>\n",
       "      <th>Condition</th>\n",
       "      <th>Condition_numeric</th>\n",
       "      <th>Metric</th>\n",
       "      <th>Value</th>\n",
       "    </tr>\n",
       "  </thead>\n",
       "  <tbody>\n",
       "    <tr>\n",
       "      <th>0</th>\n",
       "      <td>Moving</td>\n",
       "      <td>1</td>\n",
       "      <td>Mean Value</td>\n",
       "      <td>-0.078687</td>\n",
       "    </tr>\n",
       "    <tr>\n",
       "      <th>1</th>\n",
       "      <td>Not Moving</td>\n",
       "      <td>2</td>\n",
       "      <td>Mean Value</td>\n",
       "      <td>0.052731</td>\n",
       "    </tr>\n",
       "    <tr>\n",
       "      <th>2</th>\n",
       "      <td>Moving</td>\n",
       "      <td>1</td>\n",
       "      <td>Mean Value</td>\n",
       "      <td>-0.053443</td>\n",
       "    </tr>\n",
       "    <tr>\n",
       "      <th>3</th>\n",
       "      <td>Not Moving</td>\n",
       "      <td>2</td>\n",
       "      <td>Mean Value</td>\n",
       "      <td>0.023236</td>\n",
       "    </tr>\n",
       "    <tr>\n",
       "      <th>4</th>\n",
       "      <td>Moving</td>\n",
       "      <td>1</td>\n",
       "      <td>Mean Value</td>\n",
       "      <td>-0.101487</td>\n",
       "    </tr>\n",
       "    <tr>\n",
       "      <th>5</th>\n",
       "      <td>Not Moving</td>\n",
       "      <td>2</td>\n",
       "      <td>Mean Value</td>\n",
       "      <td>0.039429</td>\n",
       "    </tr>\n",
       "    <tr>\n",
       "      <th>6</th>\n",
       "      <td>Moving</td>\n",
       "      <td>1</td>\n",
       "      <td>Mean Rate</td>\n",
       "      <td>-0.000054</td>\n",
       "    </tr>\n",
       "    <tr>\n",
       "      <th>7</th>\n",
       "      <td>Not Moving</td>\n",
       "      <td>2</td>\n",
       "      <td>Mean Rate</td>\n",
       "      <td>0.000024</td>\n",
       "    </tr>\n",
       "    <tr>\n",
       "      <th>8</th>\n",
       "      <td>Moving</td>\n",
       "      <td>1</td>\n",
       "      <td>Mean Rate</td>\n",
       "      <td>-0.000049</td>\n",
       "    </tr>\n",
       "    <tr>\n",
       "      <th>9</th>\n",
       "      <td>Not Moving</td>\n",
       "      <td>2</td>\n",
       "      <td>Mean Rate</td>\n",
       "      <td>0.000009</td>\n",
       "    </tr>\n",
       "    <tr>\n",
       "      <th>10</th>\n",
       "      <td>Moving</td>\n",
       "      <td>1</td>\n",
       "      <td>Mean Rate</td>\n",
       "      <td>-0.000101</td>\n",
       "    </tr>\n",
       "    <tr>\n",
       "      <th>11</th>\n",
       "      <td>Not Moving</td>\n",
       "      <td>2</td>\n",
       "      <td>Mean Rate</td>\n",
       "      <td>0.000015</td>\n",
       "    </tr>\n",
       "  </tbody>\n",
       "</table>\n",
       "</div>"
      ],
      "text/plain": [
       "     Condition  Condition_numeric      Metric     Value\n",
       "0       Moving                  1  Mean Value -0.078687\n",
       "1   Not Moving                  2  Mean Value  0.052731\n",
       "2       Moving                  1  Mean Value -0.053443\n",
       "3   Not Moving                  2  Mean Value  0.023236\n",
       "4       Moving                  1  Mean Value -0.101487\n",
       "5   Not Moving                  2  Mean Value  0.039429\n",
       "6       Moving                  1   Mean Rate -0.000054\n",
       "7   Not Moving                  2   Mean Rate  0.000024\n",
       "8       Moving                  1   Mean Rate -0.000049\n",
       "9   Not Moving                  2   Mean Rate  0.000009\n",
       "10      Moving                  1   Mean Rate -0.000101\n",
       "11  Not Moving                  2   Mean Rate  0.000015"
      ]
     },
     "execution_count": 47,
     "metadata": {},
     "output_type": "execute_result"
    }
   ],
   "source": [
    "df_long"
   ]
  },
  {
   "cell_type": "code",
   "execution_count": null,
   "metadata": {},
   "outputs": [],
   "source": []
  }
 ],
 "metadata": {
  "kernelspec": {
   "display_name": "sleep",
   "language": "python",
   "name": "python3"
  },
  "language_info": {
   "codemirror_mode": {
    "name": "ipython",
    "version": 3
   },
   "file_extension": ".py",
   "mimetype": "text/x-python",
   "name": "python",
   "nbconvert_exporter": "python",
   "pygments_lexer": "ipython3",
   "version": "3.8.18"
  }
 },
 "nbformat": 4,
 "nbformat_minor": 2
}
