{
 "cells": [
  {
   "cell_type": "markdown",
   "metadata": {},
   "source": [
    "# group analysis for spike rates\n",
    "* 1/27/24 setup"
   ]
  },
  {
   "cell_type": "code",
   "execution_count": 28,
   "metadata": {},
   "outputs": [],
   "source": [
    "import sys\n",
    "from os.path import join\n",
    "from os import walk\n",
    "\n",
    "from src import behavior_class as bc\n",
    "from src import database as db\n",
    "import matplotlib.pyplot as plt\n",
    "import numpy as np\n",
    "import pandas as pd\n",
    "\n",
    "sys.path.append(\"/home/gergely/code/sleep/src\")\n",
    "\n",
    "from suite2p_class import Suite2p as s2p\n",
    "import imaging_data_class as idc\n",
    "import behavior_class as bc"
   ]
  },
  {
   "cell_type": "code",
   "execution_count": 14,
   "metadata": {},
   "outputs": [],
   "source": [
    "# sessions to be analyzed:\n",
    "trials = [931, 937, 932]\n",
    "behavior_files = [\n",
    "    \"140502_5_20240116110945_931_sleep.json\",\n",
    "    \"140502_5_20240117113156_937_sleep.json\",\n",
    "    \"140302_3_20240118121644_932_sleep.json\",\n",
    "]"
   ]
  },
  {
   "cell_type": "code",
   "execution_count": 24,
   "metadata": {},
   "outputs": [
    {
     "data": {
      "text/plain": [
       "['/data2/gergely/invivo_DATA/sleep/140502_5/1_16/TSeries-01162024-0853_dendrite-001',\n",
       " '/data2/gergely/invivo_DATA/sleep/140502_5/1_17/TSeries-01172024-0745_dendrites-001',\n",
       " '/data2/gergely/invivo_DATA/sleep/140302_3/1_18/TSeries-01182024-0805-003']"
      ]
     },
     "execution_count": 24,
     "metadata": {},
     "output_type": "execute_result"
    }
   ],
   "source": [
    "imaging_paths = []\n",
    "for trial in trials:\n",
    "    imaging_paths.append(db.fetch_trial(trial)[\"tSeries_path\"])\n",
    "imaging_paths"
   ]
  },
  {
   "cell_type": "code",
   "execution_count": 31,
   "metadata": {},
   "outputs": [
    {
     "ename": "AttributeError",
     "evalue": "'list' object has no attribute 'endswith'",
     "output_type": "error",
     "traceback": [
      "\u001b[0;31m---------------------------------------------------------------------------\u001b[0m",
      "\u001b[0;31mAttributeError\u001b[0m                            Traceback (most recent call last)",
      "\u001b[1;32m/home/gergely/code/sleep/notebooks/dendritic_analysis/spike_rate_analysis.ipynb Cell 5\u001b[0m line \u001b[0;36m4\n\u001b[1;32m      <a href='vscode-notebook-cell://ssh-remote%2B192.168.34.54/home/gergely/code/sleep/notebooks/dendritic_analysis/spike_rate_analysis.ipynb#X11sdnNjb2RlLXJlbW90ZQ%3D%3D?line=1'>2</a>\u001b[0m \u001b[39mfor\u001b[39;00m imaging_path \u001b[39min\u001b[39;00m imaging_paths:\n\u001b[1;32m      <a href='vscode-notebook-cell://ssh-remote%2B192.168.34.54/home/gergely/code/sleep/notebooks/dendritic_analysis/spike_rate_analysis.ipynb#X11sdnNjb2RlLXJlbW90ZQ%3D%3D?line=2'>3</a>\u001b[0m     \u001b[39mfor\u001b[39;00m root, dirs, files \u001b[39min\u001b[39;00m walk(imaging_path):\n\u001b[0;32m----> <a href='vscode-notebook-cell://ssh-remote%2B192.168.34.54/home/gergely/code/sleep/notebooks/dendritic_analysis/spike_rate_analysis.ipynb#X11sdnNjb2RlLXJlbW90ZQ%3D%3D?line=3'>4</a>\u001b[0m         \u001b[39mif\u001b[39;00m dirs\u001b[39m.\u001b[39;49mendswith(\u001b[39m\"\u001b[39m\u001b[39msima\u001b[39m\u001b[39m\"\u001b[39m):\n\u001b[1;32m      <a href='vscode-notebook-cell://ssh-remote%2B192.168.34.54/home/gergely/code/sleep/notebooks/dendritic_analysis/spike_rate_analysis.ipynb#X11sdnNjb2RlLXJlbW90ZQ%3D%3D?line=4'>5</a>\u001b[0m             \u001b[39mprint\u001b[39m(\u001b[39m\"\u001b[39m\u001b[39msima found \u001b[39m\u001b[39m{dirs}\u001b[39;00m\u001b[39m\"\u001b[39m)\n",
      "\u001b[0;31mAttributeError\u001b[0m: 'list' object has no attribute 'endswith'"
     ]
    }
   ],
   "source": [
    "spike_rates = []\n",
    "for imaging_path in imaging_paths:\n",
    "    for root, dirs, files in walk(imaging_path):\n",
    "        if endswith(\"sima\"):\n",
    "            print(\"sima found {dirs}\")"
   ]
  },
  {
   "cell_type": "code",
   "execution_count": 26,
   "metadata": {},
   "outputs": [
    {
     "data": {
      "text/plain": [
       "[]"
      ]
     },
     "execution_count": 26,
     "metadata": {},
     "output_type": "execute_result"
    }
   ],
   "source": [
    "spike_rates"
   ]
  },
  {
   "cell_type": "code",
   "execution_count": null,
   "metadata": {},
   "outputs": [],
   "source": []
  }
 ],
 "metadata": {
  "kernelspec": {
   "display_name": "sleep",
   "language": "python",
   "name": "python3"
  },
  "language_info": {
   "codemirror_mode": {
    "name": "ipython",
    "version": 3
   },
   "file_extension": ".py",
   "mimetype": "text/x-python",
   "name": "python",
   "nbconvert_exporter": "python",
   "pygments_lexer": "ipython3",
   "version": "3.8.18"
  }
 },
 "nbformat": 4,
 "nbformat_minor": 2
}
