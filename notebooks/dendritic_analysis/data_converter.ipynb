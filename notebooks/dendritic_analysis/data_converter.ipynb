{
 "cells": [
  {
   "cell_type": "markdown",
   "metadata": {},
   "source": [
    "# Data converter\n",
    "used for conveting data for rastermap input"
   ]
  },
  {
   "cell_type": "code",
   "execution_count": 1,
   "metadata": {},
   "outputs": [],
   "source": [
    "import sys\n",
    "from os.path import join\n",
    "import matplotlib.pyplot as plt\n",
    "import numpy as np\n",
    "from scipy.stats import zscore\n",
    "from rastermap import Rastermap, utils\n",
    "\n",
    "sys.path.append(\"/home/gergely/code/sleep/src\")\n",
    "\n",
    "from suite2p_class import Suite2p as s2p\n",
    "import imaging_data_class as idc\n",
    "import behavior_class as bc"
   ]
  },
  {
   "cell_type": "code",
   "execution_count": 2,
   "metadata": {},
   "outputs": [
    {
     "name": "stdout",
     "output_type": "stream",
     "text": [
      "Searching for suite2p folders in /data2/gergely/invivo_DATA/sleep/140503_2\n"
     ]
    },
    {
     "data": {
      "text/plain": [
       "[(0,\n",
       "  '/data2/gergely/invivo_DATA/sleep/140503_2/1_16/TSeries-01162024-0853_dendrite-001/TSeries-01162024-0853_dendrite-001.sima/suite2p'),\n",
       " (1,\n",
       "  '/data2/gergely/invivo_DATA/sleep/140503_2/1_12/TSeries-01122024-0738_GC1-001/TSeries-01122024-0738_GC1-001.sima/suite2p'),\n",
       " (2,\n",
       "  '/data2/gergely/invivo_DATA/sleep/140503_2/1_10_24/TSeries-01102024-0803_GC1-001/TSeries-01102024-0803_GC1-001.sima/suite2p'),\n",
       " (3,\n",
       "  '/data2/gergely/invivo_DATA/sleep/140503_2/1_10_24/TSeries-01102024-0803_GC2-002/TSeries-01102024-0803_GC2-002.sima/suite2p'),\n",
       " (4,\n",
       "  '/data2/gergely/invivo_DATA/sleep/140503_2/1_18/TSeries-01182024-0805-001/TSeries-01182024-0805-001.sima/suite2p'),\n",
       " (5,\n",
       "  '/data2/gergely/invivo_DATA/sleep/140503_2/1_17/TSeries-01172024-0745_dendrites-001/TSeries-01172024-0745_dendrites-001.sima/suite2p')]"
      ]
     },
     "execution_count": 2,
     "metadata": {},
     "output_type": "execute_result"
    }
   ],
   "source": [
    "mouse_id = \"140503_2\"\n",
    "imaging_data = idc.ImagingData(mouse_id=mouse_id)\n",
    "s2p_folders = [\n",
    "    (index, folder) for index, folder in enumerate(imaging_data.find_suite2p_folders())\n",
    "]\n",
    "s2p_folders"
   ]
  },
  {
   "cell_type": "code",
   "execution_count": 9,
   "metadata": {},
   "outputs": [],
   "source": [
    "s2p_data = s2p(s2p_folders[4][1])\n",
    "spikes = s2p_data.get_spikes()"
   ]
  },
  {
   "cell_type": "code",
   "execution_count": null,
   "metadata": {},
   "outputs": [],
   "source": [
    "plt.plot(spikes[0])"
   ]
  },
  {
   "cell_type": "code",
   "execution_count": 10,
   "metadata": {},
   "outputs": [
    {
     "data": {
      "text/plain": [
       "[<matplotlib.lines.Line2D at 0x7facc34349d0>]"
      ]
     },
     "execution_count": 10,
     "metadata": {},
     "output_type": "execute_result"
    },
    {
     "data": {
      "image/png": "[encoded data removed]",
      "text/plain": [
       "<Figure size 640x480 with 1 Axes>"
      ]
     },
     "metadata": {},
     "output_type": "display_data"
    }
   ],
   "source": [
    "# z scoring\n",
    "n_neurons, n_time = spikes.shape\n",
    "spks = zscore(spikes, axis=1)\n",
    "plt.plot(spks[0])"
   ]
  },
  {
   "cell_type": "code",
   "execution_count": 11,
   "metadata": {},
   "outputs": [
    {
     "data": {
      "text/plain": [
       "(55, 36000)"
      ]
     },
     "execution_count": 11,
     "metadata": {},
     "output_type": "execute_result"
    }
   ],
   "source": [
    "spks.shape"
   ]
  },
  {
   "cell_type": "code",
   "execution_count": 8,
   "metadata": {},
   "outputs": [
    {
     "name": "stdout",
     "output_type": "stream",
     "text": [
      "Searching for behavior folders in /data2/gergely/invivo_DATA/sleep/140503_2\n",
      "Searching for behavior folders in /data2/gergely/invivo_DATA/sleep/140503_2\n"
     ]
    },
    {
     "data": {
      "text/plain": [
       "0        False\n",
       "1        False\n",
       "2        False\n",
       "3        False\n",
       "4        False\n",
       "         ...  \n",
       "35995    False\n",
       "35996    False\n",
       "35997    False\n",
       "35998    False\n",
       "35999    False\n",
       "Name: filtered velo, Length: 36000, dtype: bool"
      ]
     },
     "execution_count": 8,
     "metadata": {},
     "output_type": "execute_result"
    }
   ],
   "source": [
    "behavior = bc.behaviorData(mouse_id=mouse_id)\n",
    "behavior_folders = [\n",
    "    (index, folder) for index, folder in enumerate(behavior.find_behavior_folders())\n",
    "]\n",
    "velo = behavior.processed_velocity(behavior_folders[1][1])\n",
    "speed = behavior.define_immobility(velo)\n",
    "speed"
   ]
  },
  {
   "cell_type": "code",
   "execution_count": 12,
   "metadata": {},
   "outputs": [
    {
     "name": "stdout",
     "output_type": "stream",
     "text": [
      "normalizing data across axis=1\n",
      "projecting out mean along axis=0\n",
      "data normalized, 0.07sec\n",
      "sorting activity: 55 valid samples by 36000 timepoints\n",
      "n_PCs = 26 computed, 0.54sec\n",
      "skipping clustering, n_clusters is None\n",
      "clusters sorted, time 1.74sec\n",
      "rastermap complete, time 1.74sec\n"
     ]
    }
   ],
   "source": [
    "model = Rastermap(\n",
    "    n_clusters=None,  # None turns off clustering and sorts single neurons\n",
    "    n_PCs=26,  # use fewer PCs than neurons\n",
    "    locality=0.15,  # some locality in sorting (this is a value from 0-1)\n",
    "    time_lag_window=15,  # use future timepoints to compute correlation\n",
    "    grid_upsample=0,  # 0 turns off upsampling since we're using single neurons\n",
    ").fit(spks)\n",
    "y = model.embedding  # neurons x 1\n",
    "isort = model.isort"
   ]
  },
  {
   "cell_type": "markdown",
   "metadata": {},
   "source": [
    "compute tuning curve for each neuron"
   ]
  },
  {
   "cell_type": "code",
   "execution_count": 13,
   "metadata": {},
   "outputs": [
    {
     "ename": "NameError",
     "evalue": "name 'loc_signed' is not defined",
     "output_type": "error",
     "traceback": [
      "\u001b[0;31m---------------------------------------------------------------------------\u001b[0m",
      "\u001b[0;31mNameError\u001b[0m                                 Traceback (most recent call last)",
      "\u001b[1;32m/home/gergely/code/sleep/notebooks/dendritic_analysis/data_converter.ipynb Cell 11\u001b[0m line \u001b[0;36m3\n\u001b[1;32m      <a href='vscode-notebook-cell://ssh-remote%2B192.168.34.54/home/gergely/code/sleep/notebooks/dendritic_analysis/data_converter.ipynb#X16sdnNjb2RlLXJlbW90ZQ%3D%3D?line=0'>1</a>\u001b[0m n_pos \u001b[39m=\u001b[39m \u001b[39m15\u001b[39m\n\u001b[1;32m      <a href='vscode-notebook-cell://ssh-remote%2B192.168.34.54/home/gergely/code/sleep/notebooks/dendritic_analysis/data_converter.ipynb#X16sdnNjb2RlLXJlbW90ZQ%3D%3D?line=1'>2</a>\u001b[0m bins \u001b[39m=\u001b[39m np\u001b[39m.\u001b[39marange(\u001b[39m-\u001b[39m\u001b[39m1\u001b[39m, \u001b[39m1\u001b[39m \u001b[39m+\u001b[39m \u001b[39m1.0\u001b[39m \u001b[39m/\u001b[39m n_pos, \u001b[39m1.0\u001b[39m \u001b[39m/\u001b[39m n_pos)\n\u001b[0;32m----> <a href='vscode-notebook-cell://ssh-remote%2B192.168.34.54/home/gergely/code/sleep/notebooks/dendritic_analysis/data_converter.ipynb#X16sdnNjb2RlLXJlbW90ZQ%3D%3D?line=2'>3</a>\u001b[0m ibin \u001b[39m=\u001b[39m np\u001b[39m.\u001b[39mdigitize(loc_signed, bins) \u001b[39m-\u001b[39m \u001b[39m1\u001b[39m\n\u001b[1;32m      <a href='vscode-notebook-cell://ssh-remote%2B192.168.34.54/home/gergely/code/sleep/notebooks/dendritic_analysis/data_converter.ipynb#X16sdnNjb2RlLXJlbW90ZQ%3D%3D?line=3'>4</a>\u001b[0m n_bins \u001b[39m=\u001b[39m ibin\u001b[39m.\u001b[39mmax()\n\u001b[1;32m      <a href='vscode-notebook-cell://ssh-remote%2B192.168.34.54/home/gergely/code/sleep/notebooks/dendritic_analysis/data_converter.ipynb#X16sdnNjb2RlLXJlbW90ZQ%3D%3D?line=4'>5</a>\u001b[0m inan \u001b[39m=\u001b[39m np\u001b[39m.\u001b[39misnan(loc_signed)\n",
      "\u001b[0;31mNameError\u001b[0m: name 'loc_signed' is not defined"
     ]
    }
   ],
   "source": [
    "n_pos = 15\n",
    "bins = np.arange(-1, 1 + 1.0 / n_pos, 1.0 / n_pos)\n",
    "ibin = np.digitize(loc_signed, bins) - 1\n",
    "n_bins = ibin.max()\n",
    "inan = np.isnan(loc_signed)\n",
    "ibin[inan] = -1\n",
    "tcurves = np.zeros((spks.shape[0], n_bins))\n",
    "for b in range(n_bins):\n",
    "    tcurves[:, b] = spks[:, ibin == b].mean(axis=1)\n",
    "tcurves -= tcurves.mean(axis=1, keepdims=True)"
   ]
  }
 ],
 "metadata": {
  "kernelspec": {
   "display_name": "sleep",
   "language": "python",
   "name": "python3"
  },
  "language_info": {
   "codemirror_mode": {
    "name": "ipython",
    "version": 3
   },
   "file_extension": ".py",
   "mimetype": "text/x-python",
   "name": "python",
   "nbconvert_exporter": "python",
   "pygments_lexer": "ipython3",
   "version": "3.8.18"
  }
 },
 "nbformat": 4,
 "nbformat_minor": 2
}
