{
 "cells": [
  {
   "cell_type": "markdown",
   "metadata": {},
   "source": [
    "# Rastermap prototype\n",
    "* setup 1/27/24\n",
    "* works with a single session\n",
    "* the shading for moving/not moving intervals sometimes doesn't work"
   ]
  },
  {
   "cell_type": "code",
   "execution_count": 1,
   "metadata": {},
   "outputs": [],
   "source": [
    "import sys\n",
    "import json\n",
    "from os.path import join, dirname\n",
    "import matplotlib.pyplot as plt\n",
    "import numpy as np\n",
    "import pandas as pd\n",
    "import seaborn as sns\n",
    "from scipy.stats import zscore\n",
    "from rastermap import Rastermap\n",
    "\n",
    "sys.path.append(\"/home/gergely/code/sleep/src\")\n",
    "\n",
    "from classes.suite2p_class import Suite2p as s2p\n",
    "import classes.imaging_data_class as idc\n",
    "import classes.behavior_class as bc"
   ]
  },
  {
   "cell_type": "markdown",
   "metadata": {},
   "source": [
    "### Global variables"
   ]
  },
  {
   "cell_type": "code",
   "execution_count": 2,
   "metadata": {},
   "outputs": [],
   "source": [
    "mouse_id = \"5HT2afl05b_2\""
   ]
  },
  {
   "cell_type": "code",
   "execution_count": 3,
   "metadata": {},
   "outputs": [
    {
     "name": "stdout",
     "output_type": "stream",
     "text": [
      "Looking for Suite2p folders in /data2/gergely/invivo_DATA/sleep/5HT2afl05b_2\n"
     ]
    },
    {
     "data": {
      "text/plain": [
       "[(0,\n",
       "  '/data2/gergely/invivo_DATA/sleep/5HT2afl05b_2/7_6_SD/TSeries-07062021-0844_MC2-004/TSeries-07062021-0844_MC2-004_Cycle00001_Element00001.sima/suite2p'),\n",
       " (1,\n",
       "  '/data2/gergely/invivo_DATA/sleep/5HT2afl05b_2/7_6_SD/TSeries-07062021-0844_MC2-004/TSeries-07062021-0844_MC2-004_Cycle00001_Element00001.sima/s2p_ff/suite2p'),\n",
       " (2,\n",
       "  '/data2/gergely/invivo_DATA/sleep/5HT2afl05b_2/7_6_SD/TSeries-07062021-0844_MC-002/TSeries-07062021-0844_MC-002_Cycle00001_Element00001.sima/suite2p'),\n",
       " (3,\n",
       "  '/data2/gergely/invivo_DATA/sleep/5HT2afl05b_2/7_6_SD/TSeries-07062021-0844_MC-002/TSeries-07062021-0844_MC-002_Cycle00001_Element00001.sima/s2p_ff/suite2p'),\n",
       " (4,\n",
       "  '/data2/gergely/invivo_DATA/sleep/5HT2afl05b_2/7_6_SD/TSeries-07062021-0844_GC-001/TSeries-07062021-0844_GC-001_Cycle00001_Element00001.sima/suite2p'),\n",
       " (5,\n",
       "  '/data2/gergely/invivo_DATA/sleep/5HT2afl05b_2/7_6_SD/TSeries-07062021-0844_GC-001/TSeries-07062021-0844_GC-001_Cycle00001_Element00001.sima/s2p_ff/suite2p'),\n",
       " (6,\n",
       "  '/data2/gergely/invivo_DATA/sleep/5HT2afl05b_2/7_1/TSeries-07012021-0854-001/TSeries-07012021-0854-001_Cycle00001_Element00001.sima/s2p/suite2p.bak'),\n",
       " (7,\n",
       "  '/data2/gergely/invivo_DATA/sleep/5HT2afl05b_2/7_1/TSeries-07012021-0854-001/TSeries-07012021-0854-001_Cycle00001_Element00001.sima/s2p/suite2p'),\n",
       " (8,\n",
       "  '/data2/gergely/invivo_DATA/sleep/5HT2afl05b_2/7_7_Zstacks/TSeries-07072021-0833_MC_pento-002/TSeries-07072021-0833_MC_pento-002_Cycle00001_Element00001.sima/s2p/suite2p'),\n",
       " (9,\n",
       "  '/data2/gergely/invivo_DATA/sleep/5HT2afl05b_2/7_7_Zstacks/TSeries-07072021-0833_GC_pento-001/TSeries-07072021-0833_GC_pento-001_Cycle00001_Element00001.sima/s2p/suite2p'),\n",
       " (10,\n",
       "  '/data2/gergely/invivo_DATA/sleep/5HT2afl05b_2/7_12_SD2/TSeries-07122021-0901-001/TSeries-07122021-0901-001_Cycle00001_Element00001.sima/suite2p'),\n",
       " (11,\n",
       "  '/data2/gergely/invivo_DATA/sleep/5HT2afl05b_2/7_9_DOI/TSeries-07092021-DOI-001/TSeries-07092021-DOI-001_Cycle00001_Element00001.sima/s2p/suite2p'),\n",
       " (12,\n",
       "  '/data2/gergely/invivo_DATA/sleep/5HT2afl05b_2/6_28/TSeries-06282021-1359-001/TSeries-06282021-1359-001_Cycle00001_Element00001.sima/s2p/suite2p.bak'),\n",
       " (13,\n",
       "  '/data2/gergely/invivo_DATA/sleep/5HT2afl05b_2/6_28/TSeries-06282021-1359-001/TSeries-06282021-1359-001_Cycle00001_Element00001.sima/s2p/suite2p'),\n",
       " (14,\n",
       "  '/data2/gergely/invivo_DATA/sleep/5HT2afl05b_2/7_15_DOI2/TSeries-07152021-0822-001/TSeries-07152021-0822-001_Cycle00001_Element00001.sima.bak/s2p/suite2p'),\n",
       " (15,\n",
       "  '/data2/gergely/invivo_DATA/sleep/5HT2afl05b_2/7_15_DOI2/TSeries-07152021-0822-001/TSeries-07152021-0822-001_Cycle00001_Element00001.sima/suite2p'),\n",
       " (16,\n",
       "  '/data2/gergely/invivo_DATA/sleep/5HT2afl05b_2/7_3/TSeries-07032021-1008_GC-003/TSeries-07032021-1008_GC-003_Cycle00001_Element00001.sima/s2p/suite2p.bak'),\n",
       " (17,\n",
       "  '/data2/gergely/invivo_DATA/sleep/5HT2afl05b_2/7_3/TSeries-07032021-1008_GC-003/TSeries-07032021-1008_GC-003_Cycle00001_Element00001.sima/s2p/suite2p'),\n",
       " (18,\n",
       "  '/data2/gergely/invivo_DATA/sleep/5HT2afl05b_2/7_3/TSeries-07032021-1008_MC-002/TSeries-07032021-1008_MC-002_Cycle00001_Element00001.sima/s2p/suite2p.bak'),\n",
       " (19,\n",
       "  '/data2/gergely/invivo_DATA/sleep/5HT2afl05b_2/7_3/TSeries-07032021-1008_MC-002/TSeries-07032021-1008_MC-002_Cycle00001_Element00001.sima/s2p/suite2p'),\n",
       " (20,\n",
       "  '/data2/gergely/invivo_DATA/sleep/5HT2afl05b_2/7_3/TSeries-07032021-1008_GC-001/TSeries-07032021-1008_GC-001_Cycle00001_Element00001.sima/s2p/suite2p.bak'),\n",
       " (21,\n",
       "  '/data2/gergely/invivo_DATA/sleep/5HT2afl05b_2/7_3/TSeries-07032021-1008_GC-001/TSeries-07032021-1008_GC-001_Cycle00001_Element00001.sima/s2p/suite2p')]"
      ]
     },
     "execution_count": 3,
     "metadata": {},
     "output_type": "execute_result"
    }
   ],
   "source": [
    "imaging_data = idc.ImagingData(mouse_id=mouse_id)\n",
    "s2p_folders = [\n",
    "    (index, folder) for index, folder in enumerate(imaging_data.find_s2p_folders())\n",
    "]\n",
    "s2p_folders"
   ]
  },
  {
   "cell_type": "code",
   "execution_count": 15,
   "metadata": {},
   "outputs": [],
   "source": [
    "folder_to_load = 2\n",
    "s2p_folder = s2p_folders[folder_to_load][1]"
   ]
  },
  {
   "cell_type": "code",
   "execution_count": 16,
   "metadata": {},
   "outputs": [
    {
     "name": "stderr",
     "output_type": "stream",
     "text": [
      "/home/gergely/code/sleep/src/classes/suite2p_class.py:76: UserWarning: Combined directory not found, falling back to plane0.\n",
      "  warnings.warn(\n"
     ]
    }
   ],
   "source": [
    "s2p_data = s2p(s2p_folder)\n",
    "spikes = s2p_data.get_spikes()\n",
    "# z scoring\n",
    "n_neurons, n_time = spikes.shape\n",
    "spks = zscore(spikes, axis=1)"
   ]
  },
  {
   "cell_type": "code",
   "execution_count": 18,
   "metadata": {},
   "outputs": [
    {
     "name": "stdout",
     "output_type": "stream",
     "text": [
      "Searching for behavior folders in /data2/gergely/invivo_DATA/sleep/5HT2afl05b_2\n",
      "Searching for behavior folders in /data2/gergely/invivo_DATA/sleep/5HT2afl05b_2\n"
     ]
    },
    {
     "data": {
      "text/plain": [
       "[(0,\n",
       "  '/data2/gergely/invivo_DATA/sleep/5HT2afl05b_2/7_6_SD/TSeries-07062021-0844_MC2-004/TSeries-07062021-0844_MC2-004_Cycle00001_Element00001.sima/behavior'),\n",
       " (1,\n",
       "  '/data2/gergely/invivo_DATA/sleep/5HT2afl05b_2/7_6_SD/TSeries-07062021-0844_MC-002/TSeries-07062021-0844_MC-002_Cycle00001_Element00001.sima/behavior'),\n",
       " (2,\n",
       "  '/data2/gergely/invivo_DATA/sleep/5HT2afl05b_2/7_6_SD/TSeries-07062021-0844_GC-003/TSeries-07062021-0844_GC-003_Cycle00001_Element00001.sima/behavior'),\n",
       " (3,\n",
       "  '/data2/gergely/invivo_DATA/sleep/5HT2afl05b_2/7_6_SD/TSeries-07062021-0844_GC-001/TSeries-07062021-0844_GC-001_Cycle00001_Element00001.sima/behavior'),\n",
       " (4,\n",
       "  '/data2/gergely/invivo_DATA/sleep/5HT2afl05b_2/7_1/TSeries-07012021-0854-001/TSeries-07012021-0854-001_Cycle00001_Element00001.sima/behavior'),\n",
       " (5,\n",
       "  '/data2/gergely/invivo_DATA/sleep/5HT2afl05b_2/7_7_Zstacks/TSeries-07072021-0833_MC_pento-002/TSeries-07072021-0833_MC_pento-002_Cycle00001_Element00001.sima/behavior'),\n",
       " (6,\n",
       "  '/data2/gergely/invivo_DATA/sleep/5HT2afl05b_2/7_7_Zstacks/TSeries-07072021-0833_MC_pento-002/TSeries-07072021-0833_MC_pento-002.sima/behavior'),\n",
       " (7,\n",
       "  '/data2/gergely/invivo_DATA/sleep/5HT2afl05b_2/7_7_Zstacks/TSeries-07072021-0833_GC_pento-001/TSeries-07072021-0833_GC_pento-001_Cycle00001_Element00001.sima/behavior'),\n",
       " (8,\n",
       "  '/data2/gergely/invivo_DATA/sleep/5HT2afl05b_2/7_12_SD2/TSeries-07122021-0901-001/TSeries-07122021-0901-001_Cycle00001_Element00001.sima/behavior'),\n",
       " (9,\n",
       "  '/data2/gergely/invivo_DATA/sleep/5HT2afl05b_2/7_9_DOI/TSeries-07092021-DOI-001/TSeries-07092021-DOI-001_Cycle00001_Element00001.sima/behavior'),\n",
       " (10,\n",
       "  '/data2/gergely/invivo_DATA/sleep/5HT2afl05b_2/6_28/TSeries-06282021-1359-001/TSeries-06282021-1359-001_Cycle00001_Element00001.sima/behavior'),\n",
       " (11,\n",
       "  '/data2/gergely/invivo_DATA/sleep/5HT2afl05b_2/7_15_DOI2/TSeries-07152021-0822-001/TSeries-07152021-0822-001_Cycle00001_Element00001.sima/behavior'),\n",
       " (12,\n",
       "  '/data2/gergely/invivo_DATA/sleep/5HT2afl05b_2/7_3/TSeries-07032021-1008_GC-003/TSeries-07032021-1008_GC-003_Cycle00001_Element00001.sima/behavior'),\n",
       " (13,\n",
       "  '/data2/gergely/invivo_DATA/sleep/5HT2afl05b_2/7_3/TSeries-07032021-1008_MC-002/TSeries-07032021-1008_MC-002_Cycle00001_Element00001.sima/behavior'),\n",
       " (14,\n",
       "  '/data2/gergely/invivo_DATA/sleep/5HT2afl05b_2/7_3/TSeries-07032021-1008_GC-001/TSeries-07032021-1008_GC-001_Cycle00001_Element00001.sima/behavior')]"
      ]
     },
     "execution_count": 18,
     "metadata": {},
     "output_type": "execute_result"
    }
   ],
   "source": [
    "behavior = bc.behaviorData(mouse_id=mouse_id)\n",
    "behavior_folders = [\n",
    "    (index, folder) for index, folder in enumerate(behavior.find_behavior_folders())\n",
    "]\n",
    "behavior_folders"
   ]
  },
  {
   "cell_type": "code",
   "execution_count": 19,
   "metadata": {},
   "outputs": [],
   "source": [
    "beh_folder_to_load = 1\n",
    "behavior_file = \"5ht2afl05b_2_20210706112012_761_sleep.json\""
   ]
  },
  {
   "cell_type": "code",
   "execution_count": 20,
   "metadata": {},
   "outputs": [],
   "source": [
    "processed_behavior = behavior_folders[beh_folder_to_load][1]\n",
    "\n",
    "if not dirname(processed_behavior) == dirname(s2p_folder):\n",
    "    raise ValueError(\"Behavior and imaging data folders do not match\")\n",
    "\n",
    "try:\n",
    "    with open(join(processed_behavior, behavior_file), \"r\") as f:\n",
    "        beh = json.load(f)\n",
    "except FileNotFoundError:\n",
    "    print(\"File not found\")"
   ]
  },
  {
   "cell_type": "code",
   "execution_count": 21,
   "metadata": {},
   "outputs": [],
   "source": [
    "with open(join(processed_behavior, \"filtered_velocity.json\"), \"r\") as f:\n",
    "    speed = np.array(json.load(f))\n",
    "\n",
    "position = np.array(beh[0][\"data\"][\"treadmillPosition\"])\n",
    "\n",
    "with open(join(processed_behavior, \"mobility_immobility.json\"), \"r\") as f:\n",
    "    mob_immob = np.array(json.load(f))"
   ]
  },
  {
   "cell_type": "code",
   "execution_count": 32,
   "metadata": {},
   "outputs": [
    {
     "data": {
      "text/plain": [
       "[<matplotlib.lines.Line2D at 0x7fdc3016f8e0>]"
      ]
     },
     "execution_count": 32,
     "metadata": {},
     "output_type": "execute_result"
    },
    {
     "data": {
      "image/png": "[encoded data removed]",
      "text/plain": [
       "<Figure size 640x480 with 1 Axes>"
      ]
     },
     "metadata": {},
     "output_type": "display_data"
    }
   ],
   "source": [
    "plt.plot(mob_immob)"
   ]
  },
  {
   "cell_type": "markdown",
   "metadata": {},
   "source": [
    "### Averaging spikes based on behavior:"
   ]
  },
  {
   "cell_type": "code",
   "execution_count": 23,
   "metadata": {},
   "outputs": [],
   "source": [
    "delta_t = 0.096691  # sampling rate of the imaging data\n",
    "moving_spks = spks[:, mob_immob == 1].mean()\n",
    "notmoving_spks = spks[:, ~mob_immob == 1].mean()\n",
    "\n",
    "# calculating spike rates:\n",
    "total_duration_moving = np.sum(mob_immob == 1) * delta_t\n",
    "total_duration_notmoving = np.sum(~mob_immob == 1) * delta_t\n",
    "\n",
    "moving_rate = moving_spks / total_duration_moving if total_duration_moving > 0 else 0\n",
    "notmoving_rate = (\n",
    "    notmoving_spks / total_duration_notmoving if total_duration_notmoving > 0 else 0\n",
    ")\n",
    "\n",
    "data = {\n",
    "    \"Condition\": [\"Moving\", \"Not Moving\"],\n",
    "    \"Mean Value\": [moving_spks, notmoving_spks],\n",
    "    \"Mean Rate\": [moving_rate, notmoving_rate],\n",
    "}\n",
    "\n",
    "df = pd.DataFrame(data)\n",
    "df[\"Condition\"] = df[\"Condition\"].astype(\"category\")\n",
    "condition_mapping = {\"Moving\": 1, \"Not Moving\": 2}\n",
    "df[\"Condition_numeric\"] = df[\"Condition\"].map(condition_mapping)\n",
    "df.to_json(\n",
    "    join(dirname(processed_behavior), \"mobility_immobility_mean_spike_rate.json\")\n",
    ")"
   ]
  },
  {
   "cell_type": "code",
   "execution_count": 24,
   "metadata": {},
   "outputs": [
    {
     "data": {
      "text/plain": [
       "0.12422953"
      ]
     },
     "execution_count": 24,
     "metadata": {},
     "output_type": "execute_result"
    }
   ],
   "source": [
    "moving_spks"
   ]
  },
  {
   "cell_type": "code",
   "execution_count": 25,
   "metadata": {},
   "outputs": [
    {
     "name": "stderr",
     "output_type": "stream",
     "text": [
      "/home/gergely/anaconda3/envs/sleep/lib/python3.8/site-packages/seaborn/axisgrid.py:118: UserWarning: The figure layout has changed to tight\n",
      "  self._figure.tight_layout(*args, **kwargs)\n"
     ]
    },
    {
     "data": {
      "image/png": "[encoded data removed]",
      "text/plain": [
       "<Figure size 800x400 with 2 Axes>"
      ]
     },
     "metadata": {},
     "output_type": "display_data"
    }
   ],
   "source": [
    "# Convert the data to a long-format DataFrame\n",
    "df_long = pd.DataFrame(data)\n",
    "df_long = pd.melt(df_long, id_vars=\"Condition\", var_name=\"Metric\", value_name=\"Value\")\n",
    "\n",
    "# Use Seaborn's catplot to create point plots\n",
    "g = sns.catplot(\n",
    "    x=\"Condition\",\n",
    "    y=\"Value\",\n",
    "    col=\"Metric\",\n",
    "    data=df_long,\n",
    "    kind=\"point\",\n",
    "    height=4,\n",
    "    aspect=1,\n",
    "    sharey=False,\n",
    ")\n",
    "\n",
    "# Adjust the plot aesthetics\n",
    "g.set_titles(\"{col_name}\")\n",
    "g.set_axis_labels(\"\", \"Value\")\n",
    "plt.savefig(\n",
    "    join(dirname(processed_behavior), \"mobility_immobility_mean_and_spike_rate.png\")\n",
    ")\n",
    "plt.show()"
   ]
  },
  {
   "cell_type": "code",
   "execution_count": 26,
   "metadata": {},
   "outputs": [
    {
     "data": {
      "text/plain": [
       "25"
      ]
     },
     "execution_count": 26,
     "metadata": {},
     "output_type": "execute_result"
    }
   ],
   "source": [
    "# the number of PCs to calculate is half the number of neurons\n",
    "PCs = int(np.ceil(spks.shape[0] / 2))\n",
    "PCs"
   ]
  },
  {
   "cell_type": "code",
   "execution_count": 27,
   "metadata": {},
   "outputs": [
    {
     "data": {
      "text/plain": [
       "numpy.ndarray"
      ]
     },
     "execution_count": 27,
     "metadata": {},
     "output_type": "execute_result"
    }
   ],
   "source": [
    "type(spks)"
   ]
  },
  {
   "cell_type": "code",
   "execution_count": 28,
   "metadata": {},
   "outputs": [
    {
     "name": "stdout",
     "output_type": "stream",
     "text": [
      "normalizing data across axis=1\n",
      "binning in time with time_bin = 5\n",
      "projecting out mean along axis=0\n",
      "data normalized, 0.02sec\n",
      "sorting activity: 49 valid samples by 36000 timepoints\n",
      "n_PCs = 25 computed, 0.03sec\n"
     ]
    },
    {
     "name": "stderr",
     "output_type": "stream",
     "text": [
      "/home/gergely/anaconda3/envs/sleep/lib/python3.8/site-packages/rastermap/rastermap.py:343: UserWarning: data has <= 50 samples, \n",
      "\n",
      "                                going to skip clustering and sort samples\n",
      "  warnings.warn(\"\"\"data has <= 50 samples, \\n\n"
     ]
    },
    {
     "name": "stdout",
     "output_type": "stream",
     "text": [
      "clusters sorted, time 0.57sec\n",
      "rastermap complete, time 0.57sec\n"
     ]
    }
   ],
   "source": [
    "model = Rastermap(\n",
    "    n_clusters=None,  # None turns off clustering and sorts single neurons\n",
    "    n_PCs=PCs,  # use fewer PCs than neurons\n",
    "    locality=0.5,  # some locality in sorting (this is a value from 0-1)\n",
    "    time_lag_window=15,  # use future timepoints to compute correlation\n",
    "    grid_upsample=0,  # 0 turns off upsampling since we're using single neurons\n",
    "    time_bin=5,\n",
    ").fit(spks)\n",
    "y = model.embedding  # neurons x 1\n",
    "isort = model.isort"
   ]
  },
  {
   "cell_type": "markdown",
   "metadata": {},
   "source": [
    "compute tuning curve for each neuron"
   ]
  },
  {
   "cell_type": "code",
   "execution_count": 29,
   "metadata": {},
   "outputs": [
    {
     "data": {
      "text/plain": [
       "75000"
      ]
     },
     "execution_count": 29,
     "metadata": {},
     "output_type": "execute_result"
    }
   ],
   "source": [
    "len(position)"
   ]
  },
  {
   "cell_type": "code",
   "execution_count": 30,
   "metadata": {},
   "outputs": [
    {
     "ename": "IndexError",
     "evalue": "boolean index did not match indexed array along dimension 1; dimension is 36000 but corresponding boolean dimension is 75000",
     "output_type": "error",
     "traceback": [
      "\u001b[0;31m---------------------------------------------------------------------------\u001b[0m",
      "\u001b[0;31mIndexError\u001b[0m                                Traceback (most recent call last)",
      "\u001b[1;32m/home/gergely/code/sleep/notebooks/dendritic_analysis/rastermap_single_session.ipynb Cell 22\u001b[0m line \u001b[0;36m9\n\u001b[1;32m      <a href='vscode-notebook-cell://ssh-remote%2B192.168.34.54/home/gergely/code/sleep/notebooks/dendritic_analysis/rastermap_single_session.ipynb#X23sdnNjb2RlLXJlbW90ZQ%3D%3D?line=6'>7</a>\u001b[0m tcurves \u001b[39m=\u001b[39m np\u001b[39m.\u001b[39mzeros((spks\u001b[39m.\u001b[39mshape[\u001b[39m0\u001b[39m], n_bins))\n\u001b[1;32m      <a href='vscode-notebook-cell://ssh-remote%2B192.168.34.54/home/gergely/code/sleep/notebooks/dendritic_analysis/rastermap_single_session.ipynb#X23sdnNjb2RlLXJlbW90ZQ%3D%3D?line=7'>8</a>\u001b[0m \u001b[39mfor\u001b[39;00m b \u001b[39min\u001b[39;00m \u001b[39mrange\u001b[39m(n_bins):\n\u001b[0;32m----> <a href='vscode-notebook-cell://ssh-remote%2B192.168.34.54/home/gergely/code/sleep/notebooks/dendritic_analysis/rastermap_single_session.ipynb#X23sdnNjb2RlLXJlbW90ZQ%3D%3D?line=8'>9</a>\u001b[0m     tcurves[:, b] \u001b[39m=\u001b[39m spks[:, ibin \u001b[39m==\u001b[39;49m b]\u001b[39m.\u001b[39mmean(axis\u001b[39m=\u001b[39m\u001b[39m1\u001b[39m)\n\u001b[1;32m     <a href='vscode-notebook-cell://ssh-remote%2B192.168.34.54/home/gergely/code/sleep/notebooks/dendritic_analysis/rastermap_single_session.ipynb#X23sdnNjb2RlLXJlbW90ZQ%3D%3D?line=9'>10</a>\u001b[0m tcurves \u001b[39m-\u001b[39m\u001b[39m=\u001b[39m tcurves\u001b[39m.\u001b[39mmean(axis\u001b[39m=\u001b[39m\u001b[39m1\u001b[39m, keepdims\u001b[39m=\u001b[39m\u001b[39mTrue\u001b[39;00m)\n",
      "\u001b[0;31mIndexError\u001b[0m: boolean index did not match indexed array along dimension 1; dimension is 36000 but corresponding boolean dimension is 75000"
     ]
    }
   ],
   "source": [
    "n_pos = 100\n",
    "bins = np.arange(0, 1 + 1.0 / n_pos, 1.0 / n_pos)\n",
    "ibin = np.digitize(position, bins) - 1\n",
    "n_bins = ibin.max()\n",
    "inan = np.isnan(position)\n",
    "ibin[inan] = -1\n",
    "tcurves = np.zeros((spks.shape[0], n_bins))\n",
    "for b in range(n_bins):\n",
    "    tcurves[:, b] = spks[:, ibin == b].mean(axis=1)\n",
    "tcurves -= tcurves.mean(axis=1, keepdims=True)"
   ]
  },
  {
   "cell_type": "code",
   "execution_count": null,
   "metadata": {},
   "outputs": [],
   "source": [
    "# make figure with grid for easy plotting\n",
    "from turtle import down\n",
    "\n",
    "fig = plt.figure(figsize=(12, 8), dpi=200)\n",
    "grid = plt.GridSpec(10, 24, figure=fig, wspace=0.1, hspace=0.4)\n",
    "# time = np.linspace(0, 3600, 36000)\n",
    "\n",
    "# plot location\n",
    "ax = plt.subplot(grid[0, :-5])\n",
    "ax.plot(position, lw=1)  # , color=kp_colors[0])\n",
    "ax.set_xlim([0, len(position)])\n",
    "ax.axis(\"off\")\n",
    "ax.set_title(\"2D location\")\n",
    "\n",
    "# plot running speed\n",
    "ax = plt.subplot(grid[1, :-5])\n",
    "ax.plot(speed, color=0.5 * np.ones(3), lw=1)\n",
    "ax.set_xlim([0, len(speed)])\n",
    "ax.axis(\"off\")\n",
    "ax.set_title(\"running speed\")\n",
    "\n",
    "# Plot spike mean for each condition (moving vs. not moving)\n",
    "ax = plt.subplot(grid[0:2, -3:])\n",
    "colors = [\"#4c72b0\", \"#dd8452\"]  # Specify colors for each condition\n",
    "for cond, color in zip(condition_mapping.keys(), colors):\n",
    "    cond_data = df[df[\"Condition\"] == cond]\n",
    "    ax.scatter(cond_data[\"Condition_numeric\"], cond_data[\"Mean Value\"], color=color)\n",
    "\n",
    "# Adjusting plot aesthetics\n",
    "ax.set_xticks(list(condition_mapping.values()))\n",
    "ax.set_xticklabels(list(condition_mapping.keys()), fontsize=6)\n",
    "ax.tick_params(axis=\"y\", labelsize=6)\n",
    "ax.set_xlim(0.5, 2.5)\n",
    "ax.set_ylabel(\"Z-Scored Mean\", fontsize=6)\n",
    "ax.set_title(\"Spike Mean\", fontsize=6)\n",
    "sns.despine()\n",
    "\n",
    "# plot sorted neural activity\n",
    "ax = plt.subplot(grid[2:, :-5])\n",
    "time_extent = [0, 3600, 0, spks.shape[0]]  # [xmin, xmax, ymin, ymax]\n",
    "ax.imshow(\n",
    "    spks[isort], cmap=\"gray_r\", vmin=0, vmax=1.2, aspect=\"auto\", extent=time_extent\n",
    ")\n",
    "ax.set_xlabel(\"time\")\n",
    "ax.set_ylabel(\"superneurons\")\n",
    "\n",
    "# Shaded mobility periods\n",
    "down_mobility = np.array(\n",
    "    [any(mob_immob[i : i + 10]) for i in range(0, len(mob_immob), 10)]\n",
    ")\n",
    "mobility = down_mobility.astype(int)\n",
    "# Assuming x-axis aligns with the length of immobility array\n",
    "x = np.arange(len(mobility))\n",
    "\n",
    "# Find where immobility periods start and end\n",
    "immobility_starts = np.where(np.diff(mobility) == 1)[0] + 1\n",
    "immobility_ends = np.where(np.diff(mobility) == -1)[0]\n",
    "\n",
    "# Plot immobility periods\n",
    "for start, end in zip(immobility_starts, immobility_ends):\n",
    "    ax.fill_between(x[start:end], 0, spks.shape[0], color=\"#FA8072\", alpha=0.3)\n",
    "\n",
    "# plot single-neuron tuning curves\n",
    "ax = plt.subplot(grid[2:, -5:])\n",
    "x = np.arange(0, n_bins)\n",
    "dy = 2\n",
    "# xpad = n_pos / 10\n",
    "nn = spks.shape[0]\n",
    "for t in range(len(tcurves)):\n",
    "    ax.plot(x, tcurves[isort[t], :n_pos] * dy - dy / 2 + nn - t, color=\"k\", lw=0.5)\n",
    "\n",
    "ax.text(n_pos / 2, -14, \"position\", ha=\"center\")\n",
    "ax.text(0, -3, \"0\")\n",
    "ax.text(n_pos, -3, \"2\", ha=\"right\")\n",
    "ax.set_ylim([0, nn])\n",
    "ax.axis(\"off\")\n",
    "plt.show()\n",
    "plt.tight_layout()\n",
    "\n",
    "# fig.savefig(join(processed_behavior, \"rastermap.png\"), dpi=300)"
   ]
  },
  {
   "cell_type": "code",
   "execution_count": null,
   "metadata": {},
   "outputs": [],
   "source": [
    "y = model.embedding[:, 0]\n",
    "plt.scatter(xpos, ypos, cmap=\"gist_rainbow\", c=y, s=1)"
   ]
  },
  {
   "cell_type": "code",
   "execution_count": null,
   "metadata": {},
   "outputs": [],
   "source": []
  }
 ],
 "metadata": {
  "kernelspec": {
   "display_name": "sleep",
   "language": "python",
   "name": "python3"
  },
  "language_info": {
   "codemirror_mode": {
    "name": "ipython",
    "version": 3
   },
   "file_extension": ".py",
   "mimetype": "text/x-python",
   "name": "python",
   "nbconvert_exporter": "python",
   "pygments_lexer": "ipython3",
   "version": "3.8.18"
  }
 },
 "nbformat": 4,
 "nbformat_minor": 2
}
