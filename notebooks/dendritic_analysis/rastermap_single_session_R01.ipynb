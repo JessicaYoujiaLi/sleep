{
 "cells": [
  {
   "cell_type": "markdown",
   "metadata": {},
   "source": [
    "# Rastermap prototype\n",
    "* setup 1/27/24\n",
    "* works with a single session\n",
    "* the shading for moving/not moving intervals sometimes doesn't work\n",
    "* 2/11/2024 used this notebook to generate figures for the R01 submission with YP "
   ]
  },
  {
   "cell_type": "code",
   "execution_count": null,
   "metadata": {},
   "outputs": [],
   "source": [
    "import sys\n",
    "import json\n",
    "from os.path import join, dirname\n",
    "import matplotlib.pyplot as plt\n",
    "import numpy as np\n",
    "from scipy.interpolate import interp1d\n",
    "import pandas as pd\n",
    "import seaborn as sns\n",
    "from scipy.stats import zscore\n",
    "from rastermap import Rastermap\n",
    "\n",
    "sys.path.append(\"/home/gergely/code/sleep/src\")\n",
    "\n",
    "from classes.suite2p_class import Suite2p as s2p\n",
    "import classes.imaging_data_class as idc\n",
    "import classes.behavior_class as bc"
   ]
  },
  {
   "cell_type": "markdown",
   "metadata": {},
   "source": [
    "### Global variables"
   ]
  },
  {
   "cell_type": "code",
   "execution_count": null,
   "metadata": {},
   "outputs": [],
   "source": [
    "mouse_id = \"dock11b1\""
   ]
  },
  {
   "cell_type": "code",
   "execution_count": null,
   "metadata": {},
   "outputs": [],
   "source": [
    "imaging_data = idc.ImagingData(mouse_id=mouse_id)\n",
    "s2p_folders = [\n",
    "    (index, folder) for index, folder in enumerate(imaging_data.find_s2p_folders())\n",
    "]\n",
    "s2p_folders"
   ]
  },
  {
   "cell_type": "code",
   "execution_count": null,
   "metadata": {},
   "outputs": [],
   "source": [
    "folder_to_load = 3\n",
    "s2p_folder = s2p_folders[folder_to_load][1]"
   ]
  },
  {
   "cell_type": "code",
   "execution_count": null,
   "metadata": {},
   "outputs": [],
   "source": [
    "s2p_data = s2p(s2p_folder)\n",
    "spikes = s2p_data.get_spikes(plane=1)\n",
    "# z scoricng\n",
    "n_neurons, n_time = spikes.shape\n",
    "spks = zscore(spikes, axis=1)"
   ]
  },
  {
   "cell_type": "code",
   "execution_count": null,
   "metadata": {},
   "outputs": [],
   "source": [
    "behavior = bc.behaviorData(mouse_id=mouse_id)\n",
    "behavior_folders = [\n",
    "    (index, folder) for index, folder in enumerate(behavior.find_behavior_folders())\n",
    "]\n",
    "behavior_folders"
   ]
  },
  {
   "cell_type": "code",
   "execution_count": null,
   "metadata": {},
   "outputs": [],
   "source": [
    "beh_folder_to_load = 6\n",
    "behavior_file = \"dock11b1_20240803124357_953_sleep.json\""
   ]
  },
  {
   "cell_type": "code",
   "execution_count": null,
   "metadata": {},
   "outputs": [],
   "source": [
    "processed_behavior = behavior_folders[beh_folder_to_load][1]\n",
    "\n",
    "if not dirname(processed_behavior) == dirname(s2p_folder):\n",
    "    raise ValueError(\"Behavior and imaging data folders do not match\")\n",
    "\n",
    "try:\n",
    "    with open(join(processed_behavior, behavior_file), \"r\") as f:\n",
    "        beh = json.load(f)\n",
    "except FileNotFoundError:\n",
    "    print(\"File not found\")"
   ]
  },
  {
   "cell_type": "code",
   "execution_count": null,
   "metadata": {},
   "outputs": [],
   "source": [
    "with open(join(processed_behavior, \"filtered_velocity.json\"), \"r\") as f:\n",
    "    speed = np.array(json.load(f))\n",
    "\n",
    "position = np.array(beh[0][\"data\"][\"treadmillPosition\"])\n",
    "\n",
    "with open(join(processed_behavior, \"mobility_immobility.json\"), \"r\") as f:\n",
    "    mob_immob = np.array(json.load(f))"
   ]
  },
  {
   "cell_type": "code",
   "execution_count": null,
   "metadata": {},
   "outputs": [],
   "source": [
    "position.shape"
   ]
  },
  {
   "cell_type": "markdown",
   "metadata": {},
   "source": [
    "### Averaging spikes based on behavior:"
   ]
  },
  {
   "cell_type": "code",
   "execution_count": null,
   "metadata": {},
   "outputs": [],
   "source": [
    "if len(spks[0]) != len(mob_immob):\n",
    "    print(f\"spks.shape, mob_immob.shape)= {spks.shape, mob_immob.shape}, Interpolating\")\n",
    "    x_original = np.linspace(0, 1, len(mob_immob))\n",
    "    x_target = np.linspace(0, 1, len(spks[0]))\n",
    "    interpolator = interp1d(x_original, mob_immob, kind=\"linear\")\n",
    "    mob_immob = interpolator(x_target)\n",
    "    print(len(mob_immob), len(spks[0]))"
   ]
  },
  {
   "cell_type": "code",
   "execution_count": null,
   "metadata": {},
   "outputs": [],
   "source": [
    "delta_t = 0.033345968  # smapling rate of the imaging data\n",
    "moving_spks = spks[:, mob_immob == 1].mean()\n",
    "notmoving_spks = spks[:, mob_immob != 1].mean()\n",
    "\n",
    "# calculating spike rates:\n",
    "total_duration_moving = np.sum(mob_immob == 1) * delta_t\n",
    "total_duration_notmoving = np.sum(mob_immob != 1) * delta_t\n",
    "\n",
    "moving_rate = moving_spks / total_duration_moving if total_duration_moving > 0 else 0\n",
    "notmoving_rate = (\n",
    "    notmoving_spks / total_duration_notmoving if total_duration_notmoving > 0 else 0\n",
    ")\n",
    "\n",
    "data = {\n",
    "    \"Condition\": [\"Moving\", \"Not Moving\"],\n",
    "    \"Mean Value\": [moving_spks, notmoving_spks],\n",
    "    \"Mean Rate\": [moving_rate, notmoving_rate],\n",
    "}\n",
    "\n",
    "df = pd.DataFrame(data)\n",
    "df[\"Condition\"] = df[\"Condition\"].astype(\"category\")\n",
    "condition_mapping = {\"Moving\": 1, \"Not Moving\": 2}\n",
    "df[\"Condition_numeric\"] = df[\"Condition\"].map(condition_mapping)\n",
    "# df.to_json(\n",
    "#     join(dirname(processed_behavior), \"mobility_immobility_mean_spike_rate.json\")\n",
    "# )"
   ]
  },
  {
   "cell_type": "markdown",
   "metadata": {},
   "source": []
  },
  {
   "cell_type": "code",
   "execution_count": null,
   "metadata": {},
   "outputs": [],
   "source": [
    "# Convert the data to a long-format DataFrame\n",
    "df_long = pd.DataFrame(data)\n",
    "df_long = pd.melt(df_long, id_vars=\"Condition\", var_name=\"Metric\", value_name=\"Value\")\n",
    "\n",
    "# Use Seaborn's catplot to create point plots\n",
    "g = sns.catplot(\n",
    "    x=\"Condition\",\n",
    "    y=\"Value\",\n",
    "    col=\"Metric\",\n",
    "    data=df_long,\n",
    "    kind=\"point\",\n",
    "    height=4,\n",
    "    aspect=1,\n",
    "    sharey=False,\n",
    ")\n",
    "\n",
    "# Adjust the plot aesthetics\n",
    "g.set_titles(\"{col_name}\")\n",
    "g.set_axis_labels(\"\", \"Value\")\n",
    "# plt.savefig(\n",
    "#     join(dirname(processed_behavior), \"mobility_immobility_mean_and_spike_rate.png\")\n",
    "# )\n",
    "plt.show()"
   ]
  },
  {
   "cell_type": "code",
   "execution_count": null,
   "metadata": {},
   "outputs": [],
   "source": [
    "# the number of PCs to calculate is half the number of neurons\n",
    "PCs = int(np.ceil(spks.shape[0] / 2))\n",
    "PCs"
   ]
  },
  {
   "cell_type": "code",
   "execution_count": null,
   "metadata": {},
   "outputs": [],
   "source": [
    "model = Rastermap(\n",
    "    n_clusters=3,  # None turns off clustering and sorts single neurons\n",
    "    n_PCs=PCs,  # use fewer PCs than neurons\n",
    "    locality=0.1,  # some locality in sorting (this is a value from 0-1)\n",
    "    time_lag_window=5,  # use future timepoints to compute correlation\n",
    "    grid_upsample=0,  # 0 turns off upsampling since we're using single neurons\n",
    "    time_bin=5,\n",
    ").fit(spks)\n",
    "y = model.embedding  # neurons x 1\n",
    "isort = model.isort"
   ]
  },
  {
   "cell_type": "markdown",
   "metadata": {},
   "source": [
    "compute tuning curve for each neuron"
   ]
  },
  {
   "cell_type": "code",
   "execution_count": null,
   "metadata": {},
   "outputs": [],
   "source": [
    "n_pos = 100\n",
    "bins = np.arange(0, 1 + 1.0 / n_pos, 1.0 / n_pos)\n",
    "ibin = np.digitize(position, bins) - 1\n",
    "n_bins = ibin.max()\n",
    "inan = np.isnan(position)\n",
    "ibin[inan] = -1\n",
    "tcurves = np.zeros((spks.shape[0], n_bins))\n",
    "for b in range(n_bins):\n",
    "    tcurves[:, b] = spks[:, ibin == b].mean(axis=1)\n",
    "tcurves -= tcurves.mean(axis=1, keepdims=True)"
   ]
  },
  {
   "cell_type": "code",
   "execution_count": null,
   "metadata": {},
   "outputs": [],
   "source": [
    "# make figure with grid for easy plotting\n",
    "from turtle import down\n",
    "\n",
    "fig = plt.figure(figsize=(12, 8), dpi=200)\n",
    "grid = plt.GridSpec(10, 24, figure=fig, wspace=0.1, hspace=0.4)\n",
    "# time = np.linspace(0, 3600, 36000)\n",
    "\n",
    "# plot location\n",
    "ax = plt.subplot(grid[0, :-5])\n",
    "ax.plot(position, lw=1)  # , color=kp_colors[0])\n",
    "ax.set_xlim([0, len(position)])\n",
    "ax.axis(\"off\")\n",
    "ax.set_title(\"2D location\")\n",
    "\n",
    "# plot running speed\n",
    "ax = plt.subplot(grid[1, :-5])\n",
    "ax.plot(speed, color=0.5 * np.ones(3), lw=1)\n",
    "ax.set_xlim([0, len(speed)])\n",
    "ax.axis(\"off\")\n",
    "ax.set_title(\"running speed\")\n",
    "\n",
    "# Plot spike mean for each condition (moving vs. not moving)\n",
    "ax = plt.subplot(grid[0:2, -3:])\n",
    "colors = [\"#4c72b0\", \"#dd8452\"]  # Specify colors for each condition\n",
    "for cond, color in zip(condition_mapping.keys(), colors):\n",
    "    cond_data = df[df[\"Condition\"] == cond]\n",
    "    ax.scatter(cond_data[\"Condition_numeric\"], cond_data[\"Mean Value\"], color=color)\n",
    "\n",
    "# Adjusting plot aesthetics\n",
    "ax.set_xticks(list(condition_mapping.values()))\n",
    "ax.set_xticklabels(list(condition_mapping.keys()), fontsize=6)\n",
    "ax.tick_params(axis=\"y\", labelsize=6)\n",
    "ax.set_xlim(0.5, 2.5)\n",
    "ax.set_ylabel(\"Z-Scored Mean\", fontsize=6)\n",
    "ax.set_title(\"Spike Mean\", fontsize=6)\n",
    "sns.despine()\n",
    "\n",
    "# plot sorted neural activity\n",
    "ax = plt.subplot(grid[2:, :-5])\n",
    "time_extent = [0, 3600, 0, spks.shape[0]]  # [xmin, xmax, ymin, ymax]\n",
    "ax.imshow(\n",
    "    spks[isort], cmap=\"gray_r\", vmin=0, vmax=1.2, aspect=\"auto\", extent=time_extent\n",
    ")\n",
    "ax.set_xlabel(\"time\")\n",
    "ax.set_ylabel(\"superneurons\")\n",
    "\n",
    "# Shaded mobility periods\n",
    "down_mobility = np.array(\n",
    "    [any(mob_immob[i : i + 10]) for i in range(0, len(mob_immob), 10)]\n",
    ")\n",
    "mobility = down_mobility.astype(int)\n",
    "# Assuming x-axis aligns with the length of immobility array\n",
    "x = np.arange(len(mobility))\n",
    "\n",
    "# Find where immobility periods start and end\n",
    "immobility_starts = np.where(np.diff(mobility) == 1)[0] + 1\n",
    "immobility_ends = np.where(np.diff(mobility) == -1)[0]\n",
    "\n",
    "# Plot immobility periods\n",
    "for start, end in zip(immobility_starts, immobility_ends):\n",
    "    ax.fill_between(x[start:end], 0, spks.shape[0], color=\"#FA8072\", alpha=0.3)\n",
    "\n",
    "# plot single-neuron tuning curves\n",
    "ax = plt.subplot(grid[2:, -5:])\n",
    "x = np.arange(0, n_bins)\n",
    "dy = 2\n",
    "# xpad = n_pos / 10\n",
    "nn = spks.shape[0]\n",
    "for t in range(len(tcurves)):\n",
    "    ax.plot(x, tcurves[isort[t], :n_pos] * dy - dy / 2 + nn - t, color=\"k\", lw=0.5)\n",
    "\n",
    "ax.text(n_pos / 2, -14, \"position\", ha=\"center\")\n",
    "ax.text(0, -3, \"0\")\n",
    "ax.text(n_pos, -3, \"2\", ha=\"right\")\n",
    "ax.set_ylim([0, nn])\n",
    "ax.axis(\"off\")\n",
    "plt.show()\n",
    "plt.tight_layout()\n",
    "\n",
    "# fig.savefig(join(processed_behavior, \"rastermap.svg\"), dpi=300)"
   ]
  },
  {
   "cell_type": "code",
   "execution_count": null,
   "metadata": {},
   "outputs": [],
   "source": [
    "# make figure with grid for easy plotting\n",
    "from turtle import down\n",
    "\n",
    "fig = plt.figure(figsize=(12, 8), dpi=200)\n",
    "grid = plt.GridSpec(10, 24, figure=fig, wspace=0.1, hspace=0.4)\n",
    "# time = np.linspace(0, 3600, 36000)\n",
    "\n",
    "# plot location\n",
    "ax = plt.subplot(grid[0, :-5])\n",
    "ax.plot(position, lw=1)  # , color=kp_colors[0])\n",
    "ax.set_xlim([0, len(position)])\n",
    "ax.axis(\"off\")\n",
    "ax.set_title(\"2D location\")\n",
    "\n",
    "# plot running speed\n",
    "ax = plt.subplot(grid[1, :-5])\n",
    "ax.plot(speed, color=0.5 * np.ones(3), lw=1)\n",
    "ax.set_xlim([0, len(speed)])\n",
    "ax.axis(\"off\")\n",
    "ax.set_title(\"running speed\")\n",
    "\n",
    "# Plot spike mean for each condition (moving vs. not moving)\n",
    "ax = plt.subplot(grid[0:2, -3:])\n",
    "colors = [\"#4c72b0\", \"#dd8452\"]  # Specify colors for each condition\n",
    "for cond, color in zip(condition_mapping.keys(), colors):\n",
    "    cond_data = df[df[\"Condition\"] == cond]\n",
    "    ax.scatter(cond_data[\"Condition_numeric\"], cond_data[\"Mean Value\"], color=color)\n",
    "\n",
    "# Adjusting plot aesthetics\n",
    "ax.set_xticks(list(condition_mapping.values()))\n",
    "ax.set_xticklabels(list(condition_mapping.keys()), fontsize=6)\n",
    "ax.tick_params(axis=\"y\", labelsize=6)\n",
    "ax.set_xlim(0.5, 2.5)\n",
    "ax.set_ylabel(\"Z-Scored Mean\", fontsize=6)\n",
    "ax.set_title(\"Spike Mean\", fontsize=6)\n",
    "sns.despine()\n",
    "\n",
    "# plot sorted neural activity\n",
    "ax = plt.subplot(grid[2:, :-5])\n",
    "time_extent = [0, 3600, 0, spks.shape[0]]  # [xmin, xmax, ymin, ymax]\n",
    "ax.imshow(\n",
    "    spks[isort],\n",
    "    cmap=\"gray_r\",\n",
    "    vmin=0,\n",
    "    vmax=1.2,\n",
    "    aspect=\"auto\",\n",
    "    extent=time_extent,\n",
    ")\n",
    "ax.set_xlabel(\"time\")\n",
    "ax.set_ylabel(\"superneurons\")\n",
    "\n",
    "# Shaded mobility periods\n",
    "down_mobility = np.array(\n",
    "    [any(mob_immob[i : i + 10]) for i in range(0, len(mob_immob), 10)]\n",
    ")\n",
    "mobility = down_mobility.astype(int)\n",
    "# Assuming x-axis aligns with the length of immobility array\n",
    "x = np.arange(len(mobility))\n",
    "\n",
    "# Find where immobility periods start and end\n",
    "immobility_starts = np.where(np.diff(mobility) == 1)[0] + 1\n",
    "immobility_ends = np.where(np.diff(mobility) == -1)[0]\n",
    "\n",
    "# Plot immobility periods\n",
    "for start, end in zip(immobility_starts, immobility_ends):\n",
    "    ax.fill_between(x[start:end], 0, spks.shape[0], color=\"#FA8072\", alpha=0.3)\n",
    "\n",
    "# plot single-neuron tuning curves\n",
    "ax = plt.subplot(grid[2:, -5:])\n",
    "x = np.arange(0, n_bins)\n",
    "dy = 2\n",
    "# xpad = n_pos / 10\n",
    "nn = spks.shape[0]\n",
    "for t in range(len(tcurves)):\n",
    "    ax.plot(x, tcurves[isort[t], :n_pos] * dy - dy / 2 + nn - t, color=\"k\", lw=0.5)\n",
    "\n",
    "ax.text(n_pos / 2, -14, \"position\", ha=\"center\")\n",
    "ax.text(0, -3, \"0\")\n",
    "ax.text(n_pos, -3, \"2\", ha=\"right\")\n",
    "ax.set_ylim([0, nn])\n",
    "ax.axis(\"off\")\n",
    "plt.show()\n",
    "plt.tight_layout()\n",
    "\n",
    "# fig.savefig(join(processed_behavior, \"rastermap.svg\"), dpi=300)\n"
   ]
  },
  {
   "cell_type": "code",
   "execution_count": null,
   "metadata": {},
   "outputs": [],
   "source": [
    "model.embedding[:, 0]\n",
    "plt.scatter(xpos, ypos, cmap=\"gist_rainbow\", c=y, s=1)"
   ]
  },
  {
   "cell_type": "code",
   "execution_count": null,
   "metadata": {},
   "outputs": [],
   "source": []
  }
 ],
 "metadata": {
  "kernelspec": {
   "display_name": "sleep",
   "language": "python",
   "name": "python3"
  },
  "language_info": {
   "codemirror_mode": {
    "name": "ipython",
    "version": 3
   },
   "file_extension": ".py",
   "mimetype": "text/x-python",
   "name": "python",
   "nbconvert_exporter": "python",
   "pygments_lexer": "ipython3",
   "version": "3.8.18"
  }
 },
 "nbformat": 4,
 "nbformat_minor": 2
}
