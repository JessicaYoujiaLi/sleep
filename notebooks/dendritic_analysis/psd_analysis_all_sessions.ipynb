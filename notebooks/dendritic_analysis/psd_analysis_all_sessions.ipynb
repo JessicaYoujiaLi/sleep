{
 "cells": [
  {
   "cell_type": "markdown",
   "metadata": {},
   "source": [
    "# PSD analysis of spikes \n",
    "* 2/10/24 setup"
   ]
  },
  {
   "cell_type": "code",
   "execution_count": null,
   "metadata": {},
   "outputs": [],
   "source": [
    "import sys\n",
    "import json\n",
    "import matplotlib.pyplot as plt\n",
    "from os.path import join, dirname\n",
    "import pandas as pd\n",
    "import numpy as np\n",
    "import seaborn as sns\n",
    "\n",
    "from scipy.fftpack import fft\n",
    "from scipy.stats import zscore\n",
    "from scipy.interpolate import interp1d\n",
    "from scipy.stats import t\n",
    "\n",
    "sys.path.append(\"/home/gergely/code/sleep/src\")\n",
    "\n",
    "from imaging_data_class import ImagingData\n",
    "from classes.suite2p_class import Suite2p as s2p\n",
    "import imaging_data_class as idc\n",
    "import behavior_class as bc\n",
    "\n",
    "sys.path.append(\"/home/gergely/code/sleep/notebooks/neuropil_analysis\")\n",
    "\n",
    "import neuropil as npl"
   ]
  },
  {
   "cell_type": "markdown",
   "metadata": {},
   "source": [
    "### Dendritic recorrdings"
   ]
  },
  {
   "cell_type": "code",
   "execution_count": null,
   "metadata": {},
   "outputs": [],
   "source": [
    "mice = [\"140502_5\", \"140302_3\"]\n",
    "sima_folders = [\n",
    "    \"/data2/gergely/invivo_DATA/sleep/140502_5/1_16/TSeries-01162024-0853_dendrite-001/TSeries-01162024-0853_dendrite-001.sima\",\n",
    "    \"/data2/gergely/invivo_DATA/sleep/140502_5/1_17/TSeries-01172024-0745_dendrites-001/TSeries-01172024-0745_dendrites-001.sima\",\n",
    "    \"/data2/gergely/invivo_DATA/sleep/140302_3/1_18/TSeries-01182024-0805-003/TSeries-01182024-0805-003.sima\",\n",
    "]"
   ]
  },
  {
   "cell_type": "markdown",
   "metadata": {},
   "source": [
    "#### Spikes"
   ]
  },
  {
   "cell_type": "code",
   "execution_count": null,
   "metadata": {},
   "outputs": [],
   "source": [
    "spks = []\n",
    "for folder in sima_folders:\n",
    "    s2p_data = s2p(join(folder, \"suite2p\"))\n",
    "    spikes = s2p_data.get_spikes()\n",
    "    # z scoring\n",
    "    n_neurons, n_time = spikes.shape\n",
    "    spks.append(zscore(spikes, axis=1))\n",
    "\n",
    "mob_immobs = []\n",
    "for folder in sima_folders:\n",
    "    data = join(folder, \"behavior\", \"mobility_immobility.json\")\n",
    "    with open(data, \"r\") as f:\n",
    "        mob_immobs.append(np.array(json.load(f)))"
   ]
  },
  {
   "cell_type": "code",
   "execution_count": null,
   "metadata": {},
   "outputs": [],
   "source": [
    "moving_spikes = []\n",
    "immobile_spikes = []\n",
    "for spk, mob_immob in zip(spks, mob_immobs):\n",
    "    moving_spikes.append(spk[:, mob_immob == 1])\n",
    "    immobile_spikes.append(spk[:, ~mob_immob == 1])"
   ]
  },
  {
   "cell_type": "code",
   "execution_count": null,
   "metadata": {},
   "outputs": [],
   "source": [
    "# Initialize the dictionaries with lists to store multiple arrays\n",
    "moving_data = {\"freq\": [], \"psd\": []}\n",
    "notmoving_data = {\"freq\": [], \"psd\": []}\n",
    "\n",
    "# Assuming npl.calculate_psd is your function to calculate PSD\n",
    "# And assuming moving_spikes and immobile_spikes are iterables of your data arrays\n",
    "\n",
    "for mov_data in moving_spikes:\n",
    "    freq, psd = npl.calculate_psd(mov_data, 10, (0, 0.1))\n",
    "    moving_data[\"freq\"].append(freq)\n",
    "    moving_data[\"psd\"].append(np.mean(psd, axis=0))\n",
    "\n",
    "for imm_data in immobile_spikes:\n",
    "    freq, psd = npl.calculate_psd(imm_data, 10, (0, 0.1))\n",
    "    notmoving_data[\"freq\"].append(freq)\n",
    "    notmoving_data[\"psd\"].append(np.mean(psd, axis=0))"
   ]
  },
  {
   "cell_type": "code",
   "execution_count": null,
   "metadata": {},
   "outputs": [],
   "source": [
    "def plot_psd_from_dict(\n",
    "    data_dict,\n",
    "    ax=None,\n",
    "    title=\"PSD Plot\",\n",
    "    xlabel=\"Frequency (Hz)\",\n",
    "    ylabel=\"Power Spectral Density\",\n",
    "):\n",
    "    \"\"\"\n",
    "    Plot PSD data stored in a dictionary.\n",
    "\n",
    "    Parameters:\n",
    "    - data_dict: Dictionary with \"freq\" and \"psd\" keys, where \"freq\" is a list of frequency arrays,\n",
    "      and \"psd\" is a list of corresponding PSD arrays.\n",
    "    - ax: Optional; matplotlib.axes.Axes object for plotting. If None, a new figure and axes are created.\n",
    "    - title: Title of the plot.\n",
    "    - xlabel: Label for the x-axis.\n",
    "    - ylabel: Label for the y-axis.\n",
    "    \"\"\"\n",
    "    if ax is None:\n",
    "        fig, ax = plt.subplots()\n",
    "\n",
    "    # Assuming each \"freq\" and \"psd\" pair should be plotted together\n",
    "    for freq, psd in zip(data_dict[\"freq\"], data_dict[\"psd\"]):\n",
    "        ax.plot(freq, psd)\n",
    "\n",
    "    ax.set_title(title)\n",
    "    ax.set_xlabel(xlabel)\n",
    "    ax.set_ylabel(ylabel)\n",
    "    ax.set_yscale(\"log\")\n",
    "    ax.grid(True)"
   ]
  },
  {
   "cell_type": "code",
   "execution_count": null,
   "metadata": {},
   "outputs": [],
   "source": [
    "plot_psd_from_dict(moving_data, title=\"Moving PSD\")\n",
    "plot_psd_from_dict(notmoving_data, title=\"Not moving PSD\")"
   ]
  },
  {
   "cell_type": "markdown",
   "metadata": {},
   "source": [
    "Need to resample the psd-s so the frequency axis is the same for all the recordings."
   ]
  },
  {
   "cell_type": "code",
   "execution_count": null,
   "metadata": {},
   "outputs": [],
   "source": [
    "def resample_psd_to_common_freq(psd_dict, target_freqs):\n",
    "    \"\"\"\n",
    "    Resample PSD values in a dictionary to align with a common set of frequency points.\n",
    "\n",
    "    Parameters:\n",
    "    - psd_dict: Dictionary containing \"freq\" and \"psd\" keys.\n",
    "    - target_freqs: 1D numpy array of target frequency points for the resampling.\n",
    "\n",
    "    Returns:\n",
    "    - Resampled PSD values aligned with target_freqs.\n",
    "    \"\"\"\n",
    "    resampled_psds = []\n",
    "\n",
    "    for freq, psd in zip(psd_dict[\"freq\"], psd_dict[\"psd\"]):\n",
    "        # Create an interpolation function based on the original freq and psd\n",
    "        interp_func = interp1d(\n",
    "            freq, psd, kind=\"linear\", bounds_error=False, fill_value=\"extrapolate\"\n",
    "        )\n",
    "        # Use this function to calculate the PSD values at the target frequencies\n",
    "        resampled_psd = interp_func(target_freqs)\n",
    "        resampled_psds.append(resampled_psd)\n",
    "\n",
    "    return np.array(resampled_psds)"
   ]
  },
  {
   "cell_type": "code",
   "execution_count": null,
   "metadata": {},
   "outputs": [],
   "source": [
    "def calculate_mean_sem(data):\n",
    "    \"\"\"Calculate the mean and standard error of the mean (SEM) of the data.\"\"\"\n",
    "    mean = np.mean(data, axis=0)\n",
    "    sem = np.std(data, axis=0, ddof=1) / np.sqrt(data.shape[0])\n",
    "    return mean, sem\n",
    "\n",
    "\n",
    "def confidence_interval(data, confidence=0.95):\n",
    "    \"\"\"Calculate the t-distribution based confidence interval for the given data.\"\"\"\n",
    "    sem = np.std(data, axis=0, ddof=1) / np.sqrt(data.shape[0])\n",
    "    df = data.shape[0] - 1  # Degrees of freedom\n",
    "    multiplier = t.ppf((1 + confidence) / 2.0, df)\n",
    "    return sem * multiplier"
   ]
  },
  {
   "cell_type": "code",
   "execution_count": null,
   "metadata": {},
   "outputs": [],
   "source": [
    "target_freqs = np.linspace(0, 0.1, num=100)\n",
    "moving_resampled_psds = resample_psd_to_common_freq(moving_data, target_freqs)\n",
    "notmoving_resampled_psds = resample_psd_to_common_freq(notmoving_data, target_freqs)\n",
    "mean_moving_resampled_psd, sem_moving_resampled_psd = calculate_mean_sem(\n",
    "    moving_resampled_psds\n",
    ")\n",
    "mean_notmoving_resampled_psd, sem_notmoving_resampled_psd = calculate_mean_sem(\n",
    "    notmoving_resampled_psds\n",
    ")\n",
    "\n",
    "# Calculate the confidence interval for the mean PSD values\n",
    "ci_moving_resampled_psd = confidence_interval(moving_resampled_psds)\n",
    "ci_notmoving_resampled_psd = confidence_interval(notmoving_resampled_psds)\n",
    "\n",
    "# Plotting\n",
    "plt.figure(figsize=(10, 6))\n",
    "\n",
    "# Plot mean PSD\n",
    "plt.plot(\n",
    "    target_freqs, mean_moving_resampled_psd, label=\"Moving Average PSD\", color=\"blue\"\n",
    ")\n",
    "plt.plot(\n",
    "    target_freqs,\n",
    "    mean_notmoving_resampled_psd,\n",
    "    label=\"Not Moving Average PSD\",\n",
    "    color=\"red\",\n",
    ")\n",
    "\n",
    "# Add shaded confidence interval around the mean PSD\n",
    "plt.fill_between(\n",
    "    target_freqs,\n",
    "    mean_moving_resampled_psd - ci_moving_resampled_psd,\n",
    "    mean_moving_resampled_psd + ci_moving_resampled_psd,\n",
    "    color=\"blue\",\n",
    "    alpha=0.2,\n",
    ")\n",
    "plt.fill_between(\n",
    "    target_freqs,\n",
    "    mean_notmoving_resampled_psd - ci_notmoving_resampled_psd,\n",
    "    mean_notmoving_resampled_psd + ci_notmoving_resampled_psd,\n",
    "    color=\"red\",\n",
    "    alpha=0.2,\n",
    ")\n",
    "\n",
    "plt.title(\"Average PSD with 95% Confidence Intervals: Moving vs Not Moving\")\n",
    "plt.xlabel(\"Frequency (Hz)\")\n",
    "plt.ylabel(\"Power Spectral Density\")\n",
    "plt.legend()\n",
    "plt.grid(True)\n",
    "plt.yscale(\"log\")\n",
    "plt.show()"
   ]
  },
  {
   "cell_type": "code",
   "execution_count": null,
   "metadata": {},
   "outputs": [],
   "source": []
  }
 ],
 "metadata": {
  "kernelspec": {
   "display_name": "sleep",
   "language": "python",
   "name": "python3"
  },
  "language_info": {
   "codemirror_mode": {
    "name": "ipython",
    "version": 3
   },
   "file_extension": ".py",
   "mimetype": "text/x-python",
   "name": "python",
   "nbconvert_exporter": "python",
   "pygments_lexer": "ipython3",
   "version": "3.8.18"
  }
 },
 "nbformat": 4,
 "nbformat_minor": 2
}
