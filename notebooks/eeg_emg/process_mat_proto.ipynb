{
 "cells": [
  {
   "cell_type": "markdown",
   "metadata": {},
   "source": [
    "# Processing YP's matlab files. \n",
    "- 11/9/2024 setup"
   ]
  },
  {
   "cell_type": "code",
   "execution_count": null,
   "metadata": {},
   "outputs": [],
   "source": [
    "from os.path import join\n",
    "\n",
    "import matplotlib.pyplot as plt\n",
    "import numpy as np\n",
    "\n",
    "# from scipy.io import loadmat\n",
    "import h5py\n",
    "\n",
    "from src.classes import eeg_class as eeg"
   ]
  },
  {
   "cell_type": "code",
   "execution_count": null,
   "metadata": {},
   "outputs": [],
   "source": [
    "sima_folder = \"/data2/gergely/invivo_DATA/sleep/dock13b1/8_8/TSeries-08082024-1650-001/TSeries-08082024-1650-001.sima/\"\n",
    "mat_file = \"eeg1_m0-60.mat\"\n",
    "\n",
    "eeg_folder = join(sima_folder, \"eeg\", \"2024-08-08_17-27-25\")\n",
    "mat_path = join(eeg_folder, mat_file)\n"
   ]
  },
  {
   "cell_type": "code",
   "execution_count": null,
   "metadata": {},
   "outputs": [],
   "source": [
    "with h5py.File(mat_path, \"r\") as f:\n",
    "    # List all the keys in the file to see what data is available\n",
    "    print(list(f.keys()))\n",
    "\n",
    "    # Access a specific dataset, assuming 'dataset_name' exists in the file\n",
    "    data = f[\"sleepData\"]\n",
    "    print(data[\"state\"])\n"
   ]
  },
  {
   "cell_type": "code",
   "execution_count": null,
   "metadata": {},
   "outputs": [],
   "source": [
    "with h5py.File(mat_path, \"r\") as f:\n",
    "    # Access the dataset \"state\"\n",
    "    state_data = f[\"sleepData\"][\"state\"][:]\n",
    "    wake_epoch = f[\"sleepData\"][\"wakeEpoch\"][:]\n",
    "    rem_epoch = f[\"sleepData\"][\"remEpoch\"][:]\n",
    "    nrem_epoch = f[\"sleepData\"][\"nremEpoch\"][:]\n",
    "\n",
    "# Convert the data to a NumPy array\n",
    "state_array = np.array(state_data.reshape(-1))\n",
    "\n",
    "# Print the data\n",
    "print(state_array.shape)\n"
   ]
  },
  {
   "cell_type": "code",
   "execution_count": null,
   "metadata": {},
   "outputs": [],
   "source": [
    "wake_epoch\n",
    "# number, start, end, duration"
   ]
  },
  {
   "cell_type": "code",
   "execution_count": null,
   "metadata": {},
   "outputs": [],
   "source": [
    "plt.plot(state_array)\n"
   ]
  }
 ],
 "metadata": {
  "language_info": {
   "name": "python"
  }
 },
 "nbformat": 4,
 "nbformat_minor": 2
}
