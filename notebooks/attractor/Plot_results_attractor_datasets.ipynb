{
  "cells": [
    {
      "cell_type": "markdown",
      "metadata": {
        "colab_type": "text",
        "id": "view-in-github"
      },
      "source": [
        "<a href=\"https://colab.research.google.com/github/GergelyTuri/sleep/blob/master/notebooks/attractor/Plot_results_attractor_datasets.ipynb\" target=\"_parent\"><img src=\"https://colab.research.google.com/assets/colab-badge.svg\" alt=\"Open In Colab\"/></a>"
      ]
    },
    {
      "cell_type": "markdown",
      "metadata": {
        "id": "Q4P9QWgDyEBI"
      },
      "source": [
        "# Datasets that has been run through DCA pipeline:\n",
        "* 3/17/24 setup\n"
      ]
    },
    {
      "cell_type": "code",
      "execution_count": null,
      "metadata": {
        "colab": {
          "base_uri": "https://localhost:8080/"
        },
        "id": "mih9L2LvyEBK",
        "outputId": "1e742021-0705-4722-888a-cc996df388f5"
      },
      "outputs": [],
      "source": [
        "!git clone https://github.com/GergelyTuri/sleep.git"
      ]
    },
    {
      "cell_type": "code",
      "execution_count": null,
      "metadata": {
        "colab": {
          "base_uri": "https://localhost:8080/"
        },
        "id": "dxexp4ekyEBM",
        "outputId": "439a4068-b01f-4c8b-bdb7-ba96d9bb9063"
      },
      "outputs": [],
      "source": [
        "%cd sleep\n",
        "!pip install ."
      ]
    },
    {
      "cell_type": "code",
      "execution_count": null,
      "metadata": {
        "id": "AEQDM6ddyEBN"
      },
      "outputs": [],
      "source": [
        "# %cd sleep\n",
        "# !git pull"
      ]
    },
    {
      "cell_type": "code",
      "execution_count": null,
      "metadata": {
        "colab": {
          "base_uri": "https://localhost:8080/"
        },
        "id": "FJ-MxS7MyEBN",
        "outputId": "eb0382b5-8d6f-4ef5-8d3a-8ac0b51e6f3a"
      },
      "outputs": [],
      "source": [
        "from google.colab import drive\n",
        "drive.mount(\"/gdrive\")"
      ]
    },
    {
      "cell_type": "code",
      "execution_count": null,
      "metadata": {
        "id": "vH8bRE-QyEBO"
      },
      "outputs": [],
      "source": [
        "import os\n",
        "from pathlib import Path\n",
        "import glob\n",
        "import matplotlib.pyplot as plt\n",
        "import numpy as np\n",
        "\n",
        "from PIL import Image\n",
        "from sleep.src import google_drive"
      ]
    },
    {
      "cell_type": "code",
      "execution_count": null,
      "metadata": {
        "colab": {
          "base_uri": "https://localhost:8080/",
          "height": 1000
        },
        "id": "xk0sv2jzyEBQ",
        "outputId": "ba2ccc25-a5d5-473a-80e0-23b0deb6dfb6"
      },
      "outputs": [],
      "source": [
        "useful_data = google_drive.useful_datasets()\n",
        "useful_data"
      ]
    },
    {
      "cell_type": "code",
      "execution_count": null,
      "metadata": {
        "id": "hI5LaE-ezMDN"
      },
      "outputs": [],
      "source": [
        "paths_with_dcas = []\n",
        "\n",
        "# Iterate through each row in the DataFrame\n",
        "for index, row in useful_data.iterrows():\n",
        "    # Construct the expected path using values from the current row\n",
        "    exp_path = google_drive.return_exp_path(row['mouseID'], row['day'], row['sessionID'])\n",
        "\n",
        "    # Use glob to find all files in the path that end with dcas.png\n",
        "    dcas_files = glob.glob(os.path.join(exp_path, '*dcas.png'))\n",
        "\n",
        "    # Check if the list of files is not empty\n",
        "    if dcas_files:\n",
        "        # Since we found at least one file that matches, add the exp_path to our list\n",
        "        # Note: You could also consider adding the full paths of the found files instead\n",
        "        paths_with_dcas.append(exp_path)\n"
      ]
    },
    {
      "cell_type": "code",
      "execution_count": null,
      "metadata": {
        "colab": {
          "base_uri": "https://localhost:8080/"
        },
        "id": "Q3RQFyd04_S7",
        "outputId": "ba0e4619-f1e1-49ec-da26-79d3954f036f"
      },
      "outputs": [],
      "source": [
        "paths_with_dcas"
      ]
    },
    {
      "cell_type": "code",
      "execution_count": null,
      "metadata": {
        "id": "LYTNzUj45AzN"
      },
      "outputs": [],
      "source": [
        "def plot_images_grid(paths_with_dcas:list, which_plot: str, savefig: bool=False) -> None:\n",
        "    \"\"\"\n",
        "    Plot a grid of images from the given paths.\n",
        "\n",
        "    Args:\n",
        "        paths_with_dcas (list): List of paths containing images.\n",
        "        which_plot (str): The type of plot to display.\n",
        "        savefig (bool, optional): Whether to save the plot as a file. Defaults to False.\n",
        "\n",
        "    Returns:\n",
        "        None\n",
        "    \"\"\"\n",
        "    # Filter paths to those containing a file ending with 'dca_3d.png'\n",
        "    images_paths = []\n",
        "    for path in paths_with_dcas:\n",
        "        # Find files in the path that end with 'dca_3d.png'\n",
        "        found_files = glob.glob(os.path.join(path, f\"*{which_plot}.png\"))\n",
        "        images_paths.extend(found_files)\n",
        "\n",
        "    # Determine the grid size (for simplicity, a square grid)\n",
        "    num_images = len(images_paths)\n",
        "    grid_size = int(np.ceil(np.sqrt(num_images)))\n",
        "\n",
        "    # Create a figure to host the grid\n",
        "    fig, axs = plt.subplots(grid_size, grid_size, figsize=(20, 20))\n",
        "    axs = axs.flatten()\n",
        "\n",
        "    for ax, img_path in zip(axs, images_paths):\n",
        "        full_path = Path(img_path)\n",
        "        path_parts = list(full_path.parts)\n",
        "        title = \"\\n\".join(path_parts[-4:])\n",
        "        # Open and display the image\n",
        "        img = Image.open(img_path)\n",
        "        ax.imshow(img)\n",
        "        ax.axis(\"off\")  # Hide axes\n",
        "        ax.set_title(title, fontsize=10)\n",
        "\n",
        "    # Hide any unused subplots\n",
        "    for ax in axs[len(images_paths) :]:\n",
        "        ax.axis(\"off\")\n",
        "\n",
        "    plt.tight_layout()\n",
        "    if savefig:\n",
        "        plt.savefig(f\"{which_plot}_plots.png\", dpi=300)\n",
        "    plt.close()"
      ]
    },
    {
      "cell_type": "markdown",
      "metadata": {},
      "source": [
        "FYI: the plots will be saved locally in the folder where the notebook is running. Don't forget to download them if you want to keep them otherwise they will disappear after the notebook was shut down."
      ]
    },
    {
      "cell_type": "code",
      "execution_count": null,
      "metadata": {
        "colab": {
          "base_uri": "https://localhost:8080/",
          "height": 802
        },
        "id": "t-7qrU3o7sNk",
        "outputId": "ccfa27ba-4612-4e6b-b905-d453816834f1"
      },
      "outputs": [],
      "source": [
        "plots_to_print = [\n",
        "    \"composite\",\n",
        "    \"interval_plot\",\n",
        "    \"dcas\",\n",
        "    \"dca_scatter\",\n",
        "    \"dca_3d\",]\n",
        "# Assuming paths_with_dcas is already populated\n",
        "for plot in plots_to_print:\n",
        "    plot_images_grid(paths_with_dcas, which_plot=plot, savefig=True)"
      ]
    }
  ],
  "metadata": {
    "colab": {
      "include_colab_link": true,
      "provenance": []
    },
    "kernelspec": {
      "display_name": "Python 3",
      "name": "python3"
    },
    "language_info": {
      "name": "python"
    }
  },
  "nbformat": 4,
  "nbformat_minor": 0
}
