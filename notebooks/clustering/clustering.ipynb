{
  "cells": [
    {
      "cell_type": "markdown",
      "metadata": {
        "colab_type": "text",
        "id": "view-in-github"
      },
      "source": [
        "<a href=\"https://colab.research.google.com/github/GergelyTuri/sleep/blob/master/clustering.ipynb\" target=\"_parent\"><img src=\"https://colab.research.google.com/assets/colab-badge.svg\" alt=\"Open In Colab\"/></a>"
      ]
    },
    {
      "cell_type": "markdown",
      "metadata": {
        "id": "tqB42mkusf-W"
      },
      "source": [
        "# Notebook for clustering sleep data\n",
        "* setup by Jiayi Shi\n",
        "* 2/14/24 refactoring"
      ]
    },
    {
      "cell_type": "code",
      "execution_count": 2,
      "metadata": {
        "id": "c2oKAq8TeW3r"
      },
      "outputs": [],
      "source": [
        "import matplotlib.pyplot as plt\n",
        "import numpy as np\n",
        "import pandas as pd\n",
        "from tslearn.clustering import KShape, TimeSeriesKMeans\n",
        "from tslearn.utils import to_time_series_dataset"
      ]
    },
    {
      "cell_type": "markdown",
      "metadata": {},
      "source": [
        "### Data import"
      ]
    },
    {
      "cell_type": "code",
      "execution_count": null,
      "metadata": {
        "id": "8scpaelJbrdG"
      },
      "outputs": [],
      "source": [
        "data = pd.read_csv(\"/cell2.csv\")\n",
        "data.head()\n",
        "data = data.fillna(data.mean())\n",
        "data.head()"
      ]
    },
    {
      "cell_type": "code",
      "execution_count": null,
      "metadata": {
        "colab": {
          "base_uri": "https://localhost:8080/"
        },
        "id": "QVUr9WMje61c",
        "outputId": "3f846b05-260a-4ea5-f6f8-5f49296015cb"
      },
      "outputs": [
        {
          "name": "stdout",
          "output_type": "stream",
          "text": [
            "Init 1\n"
          ]
        }
      ],
      "source": [
        "# Split the data into two clusters based on the 'cell' column\n",
        "cluster_1 = data[data['cell_numeric'] == 1].drop('cell_numeric', axis=1).values\n",
        "cluster_2 = data[data['cell_numeric'] == 0].drop('cell_numeric', axis=1).values\n",
        "\n",
        "# Cluster each cluster separately\n",
        "ks = KShape(n_clusters=2, n_init=10, verbose=1)\n",
        "clustered_1 = ks.fit_predict(cluster_1)\n",
        "clustered_2 = ks.fit_predict(cluster_2)\n",
        "\n",
        "# Merge the clustered data back into one DataFrame\n",
        "clustered_data = pd.DataFrame({'cell_1': clustered_1, 'cell_0': clustered_2})"
      ]
    },
    {
      "cell_type": "code",
      "execution_count": null,
      "metadata": {
        "id": "TMhP-AffZ3T-"
      },
      "outputs": [],
      "source": [
        "# Calculate the percentage of upregulated timepoints for each cluster\n",
        "upreg_pct = pd.DataFrame()\n",
        "for cluster in clustered_data['cluster'].unique():\n",
        "    cluster_data = clustered_data.loc[clustered_data['cluster']==cluster,:]\n",
        "    upreg_pct.loc[cluster,'upreg_pct'] = np.mean(cluster_data['upregulated'])\n",
        "    \n",
        "# Plot the results\n",
        "plt.bar(x=upreg_pct.index, height=upreg_pct['upreg_pct'])\n",
        "plt.xlabel('Cluster')\n",
        "plt.ylabel('% Upregulated')\n",
        "plt.show()"
      ]
    },
    {
      "cell_type": "code",
      "execution_count": null,
      "metadata": {
        "colab": {
          "base_uri": "https://localhost:8080/"
        },
        "id": "Lk8qoGTBeYc9",
        "outputId": "043d616c-74bd-410d-9849-6493a103d94f"
      },
      "outputs": [],
      "source": [
        "train =[[1,2,3,4],[2,3,4,5,6,10],[2,3,3,3,3,3],[4,5,5,5,6,9,10],[10,2,4,5,9,3,5],]\n",
        "#status=[celltype,sleep/awake,roi_label]* number of time series\n",
        "\n",
        "X = to_time_series_dataset(train)\n",
        " \n",
        "#train=np.arange(25).reshape((5, 5))\n",
        " \n",
        "model1 = TimeSeriesKMeans(n_clusters=3, metric=\"dtw\",\n",
        "                         max_iter=10, random_state=1)\n",
        " \n",
        "model1.fit(X)\n",
        "print(model1.fit_predict(X))\n",
        "print(model1.predict(X))"
      ]
    },
    {
      "cell_type": "code",
      "execution_count": null,
      "metadata": {
        "colab": {
          "base_uri": "https://localhost:8080/"
        },
        "id": "kqPj97J3T6lR",
        "outputId": "00d0442b-3731-403f-ffbf-f84841290b5a"
      },
      "outputs": [
        {
          "name": "stdout",
          "output_type": "stream",
          "text": [
            "(19,)\n"
          ]
        }
      ],
      "source": [
        "mydata= pd.read_csv(\"/content/cell2.csv\")\n",
        "mydata.head()\n",
        "# Keep only the first 50000 rows\n",
        "mydata = mydata.head(50000)\n",
        "# Extract the dfof and sleep variables\n",
        "dfof = mydata['dfof'].values\n",
        "sleep = mydata['sleep_numeric'].values\n",
        "\n",
        "# Find the indices where the sleep value changes\n",
        "sleep_changes = np.where(np.diff(sleep) != 0)[0] + 1\n",
        "\n",
        "# Split the dfof array based on the sleep changes\n",
        "dfof_periods = np.split(dfof, sleep_changes)\n",
        "\n",
        "\n",
        "# Create a 2D array where each element is an array corresponding to a period between sleep value changes\n",
        "dfof_matrix = np.empty((len(dfof_periods),), dtype=object)\n",
        "dfof_matrix[:] = dfof_periods\n",
        "\n",
        "# Print the shape of the matrix\n",
        "print(dfof_matrix.shape)\n"
      ]
    },
    {
      "cell_type": "code",
      "execution_count": null,
      "metadata": {
        "colab": {
          "base_uri": "https://localhost:8080/"
        },
        "id": "49TDA8kmrV5c",
        "outputId": "03eb8bab-653b-4b3b-e0ad-7789e6841121"
      },
      "outputs": [
        {
          "data": {
            "text/plain": [
              "(11645,)"
            ]
          },
          "execution_count": 12,
          "metadata": {},
          "output_type": "execute_result"
        }
      ],
      "source": [
        "dfof_matrix[2].shape"
      ]
    },
    {
      "cell_type": "code",
      "execution_count": null,
      "metadata": {
        "colab": {
          "base_uri": "https://localhost:8080/"
        },
        "id": "F4Xm3y5TiW3Z",
        "outputId": "dbb423e9-57ec-4128-935b-06d9f945c448"
      },
      "outputs": [],
      "source": [
        "X = to_time_series_dataset(dfof_matrix)\n",
        " \n",
        "model1 = TimeSeriesKMeans(n_clusters=10, metric=\"dtw\",\n",
        "                         max_iter=10, random_state=1)\n",
        " \n",
        "model1.fit(X)\n",
        "print(model1.fit_predict(X))\n",
        "print(model1.predict(X))"
      ]
    },
    {
      "cell_type": "code",
      "execution_count": null,
      "metadata": {
        "colab": {
          "base_uri": "https://localhost:8080/",
          "height": 206
        },
        "id": "txj-9Egtn9us",
        "outputId": "52331254-5eea-4b2f-f88a-819dd87de7da"
      },
      "outputs": [
        {
          "data": {
            "text/html": [
              "\n",
              "  <div id=\"df-d4d9ace8-e911-4dea-a13c-0fed56a1bdac\">\n",
              "    <div class=\"colab-df-container\">\n",
              "      <div>\n",
              "<style scoped>\n",
              "    .dataframe tbody tr th:only-of-type {\n",
              "        vertical-align: middle;\n",
              "    }\n",
              "\n",
              "    .dataframe tbody tr th {\n",
              "        vertical-align: top;\n",
              "    }\n",
              "\n",
              "    .dataframe thead th {\n",
              "        text-align: right;\n",
              "    }\n",
              "</style>\n",
              "<table border=\"1\" class=\"dataframe\">\n",
              "  <thead>\n",
              "    <tr style=\"text-align: right;\">\n",
              "      <th></th>\n",
              "      <th>roi_label</th>\n",
              "      <th>dfof</th>\n",
              "      <th>sleep_numeric</th>\n",
              "      <th>cell_numeric</th>\n",
              "      <th>time</th>\n",
              "    </tr>\n",
              "  </thead>\n",
              "  <tbody>\n",
              "    <tr>\n",
              "      <th>0</th>\n",
              "      <td>3210110</td>\n",
              "      <td>0.069911</td>\n",
              "      <td>1.0</td>\n",
              "      <td>1.0</td>\n",
              "      <td>1.0</td>\n",
              "    </tr>\n",
              "    <tr>\n",
              "      <th>1</th>\n",
              "      <td>3210110</td>\n",
              "      <td>0.623665</td>\n",
              "      <td>1.0</td>\n",
              "      <td>1.0</td>\n",
              "      <td>2.0</td>\n",
              "    </tr>\n",
              "    <tr>\n",
              "      <th>2</th>\n",
              "      <td>3210110</td>\n",
              "      <td>0.437703</td>\n",
              "      <td>1.0</td>\n",
              "      <td>1.0</td>\n",
              "      <td>3.0</td>\n",
              "    </tr>\n",
              "    <tr>\n",
              "      <th>3</th>\n",
              "      <td>3210110</td>\n",
              "      <td>0.773147</td>\n",
              "      <td>1.0</td>\n",
              "      <td>1.0</td>\n",
              "      <td>4.0</td>\n",
              "    </tr>\n",
              "    <tr>\n",
              "      <th>4</th>\n",
              "      <td>3210110</td>\n",
              "      <td>0.506952</td>\n",
              "      <td>1.0</td>\n",
              "      <td>1.0</td>\n",
              "      <td>5.0</td>\n",
              "    </tr>\n",
              "  </tbody>\n",
              "</table>\n",
              "</div>\n",
              "      <button class=\"colab-df-convert\" onclick=\"convertToInteractive('df-d4d9ace8-e911-4dea-a13c-0fed56a1bdac')\"\n",
              "              title=\"Convert this dataframe to an interactive table.\"\n",
              "              style=\"display:none;\">\n",
              "        \n",
              "  <svg xmlns=\"http://www.w3.org/2000/svg\" height=\"24px\"viewBox=\"0 0 24 24\"\n",
              "       width=\"24px\">\n",
              "    <path d=\"M0 0h24v24H0V0z\" fill=\"none\"/>\n",
              "    <path d=\"M18.56 5.44l.94 2.06.94-2.06 2.06-.94-2.06-.94-.94-2.06-.94 2.06-2.06.94zm-11 1L8.5 8.5l.94-2.06 2.06-.94-2.06-.94L8.5 2.5l-.94 2.06-2.06.94zm10 10l.94 2.06.94-2.06 2.06-.94-2.06-.94-.94-2.06-.94 2.06-2.06.94z\"/><path d=\"M17.41 7.96l-1.37-1.37c-.4-.4-.92-.59-1.43-.59-.52 0-1.04.2-1.43.59L10.3 9.45l-7.72 7.72c-.78.78-.78 2.05 0 2.83L4 21.41c.39.39.9.59 1.41.59.51 0 1.02-.2 1.41-.59l7.78-7.78 2.81-2.81c.8-.78.8-2.07 0-2.86zM5.41 20L4 18.59l7.72-7.72 1.47 1.35L5.41 20z\"/>\n",
              "  </svg>\n",
              "      </button>\n",
              "      \n",
              "  <style>\n",
              "    .colab-df-container {\n",
              "      display:flex;\n",
              "      flex-wrap:wrap;\n",
              "      gap: 12px;\n",
              "    }\n",
              "\n",
              "    .colab-df-convert {\n",
              "      background-color: #E8F0FE;\n",
              "      border: none;\n",
              "      border-radius: 50%;\n",
              "      cursor: pointer;\n",
              "      display: none;\n",
              "      fill: #1967D2;\n",
              "      height: 32px;\n",
              "      padding: 0 0 0 0;\n",
              "      width: 32px;\n",
              "    }\n",
              "\n",
              "    .colab-df-convert:hover {\n",
              "      background-color: #E2EBFA;\n",
              "      box-shadow: 0px 1px 2px rgba(60, 64, 67, 0.3), 0px 1px 3px 1px rgba(60, 64, 67, 0.15);\n",
              "      fill: #174EA6;\n",
              "    }\n",
              "\n",
              "    [theme=dark] .colab-df-convert {\n",
              "      background-color: #3B4455;\n",
              "      fill: #D2E3FC;\n",
              "    }\n",
              "\n",
              "    [theme=dark] .colab-df-convert:hover {\n",
              "      background-color: #434B5C;\n",
              "      box-shadow: 0px 1px 3px 1px rgba(0, 0, 0, 0.15);\n",
              "      filter: drop-shadow(0px 1px 2px rgba(0, 0, 0, 0.3));\n",
              "      fill: #FFFFFF;\n",
              "    }\n",
              "  </style>\n",
              "\n",
              "      <script>\n",
              "        const buttonEl =\n",
              "          document.querySelector('#df-d4d9ace8-e911-4dea-a13c-0fed56a1bdac button.colab-df-convert');\n",
              "        buttonEl.style.display =\n",
              "          google.colab.kernel.accessAllowed ? 'block' : 'none';\n",
              "\n",
              "        async function convertToInteractive(key) {\n",
              "          const element = document.querySelector('#df-d4d9ace8-e911-4dea-a13c-0fed56a1bdac');\n",
              "          const dataTable =\n",
              "            await google.colab.kernel.invokeFunction('convertToInteractive',\n",
              "                                                     [key], {});\n",
              "          if (!dataTable) return;\n",
              "\n",
              "          const docLinkHtml = 'Like what you see? Visit the ' +\n",
              "            '<a target=\"_blank\" href=https://colab.research.google.com/notebooks/data_table.ipynb>data table notebook</a>'\n",
              "            + ' to learn more about interactive tables.';\n",
              "          element.innerHTML = '';\n",
              "          dataTable['output_type'] = 'display_data';\n",
              "          await google.colab.output.renderOutput(dataTable, element);\n",
              "          const docLink = document.createElement('div');\n",
              "          docLink.innerHTML = docLinkHtml;\n",
              "          element.appendChild(docLink);\n",
              "        }\n",
              "      </script>\n",
              "    </div>\n",
              "  </div>\n",
              "  "
            ],
            "text/plain": [
              "   roi_label      dfof  sleep_numeric  cell_numeric  time\n",
              "0    3210110  0.069911            1.0           1.0   1.0\n",
              "1    3210110  0.623665            1.0           1.0   2.0\n",
              "2    3210110  0.437703            1.0           1.0   3.0\n",
              "3    3210110  0.773147            1.0           1.0   4.0\n",
              "4    3210110  0.506952            1.0           1.0   5.0"
            ]
          },
          "execution_count": 5,
          "metadata": {},
          "output_type": "execute_result"
        }
      ],
      "source": [
        "mydata.head()"
      ]
    }
  ],
  "metadata": {
    "accelerator": "GPU",
    "colab": {
      "include_colab_link": true,
      "provenance": []
    },
    "gpuClass": "standard",
    "kernelspec": {
      "display_name": "Python 3",
      "name": "python3"
    },
    "language_info": {
      "codemirror_mode": {
        "name": "ipython",
        "version": 3
      },
      "file_extension": ".py",
      "mimetype": "text/x-python",
      "name": "python",
      "nbconvert_exporter": "python",
      "pygments_lexer": "ipython3",
      "version": "3.8.18"
    }
  },
  "nbformat": 4,
  "nbformat_minor": 0
}
