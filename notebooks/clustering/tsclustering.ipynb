{
  "cells": [
    {
      "cell_type": "markdown",
      "metadata": {
        "colab_type": "text",
        "id": "view-in-github"
      },
      "source": [
        "<a href=\"https://colab.research.google.com/github/GergelyTuri/sleep/blob/master/tsclustering.ipynb\" target=\"_parent\"><img src=\"https://colab.research.google.com/assets/colab-badge.svg\" alt=\"Open In Colab\"/></a>"
      ]
    },
    {
      "cell_type": "code",
      "execution_count": 1,
      "metadata": {
        "colab": {
          "base_uri": "https://localhost:8080/"
        },
        "id": "YgAHlDnGlCm5",
        "outputId": "258802cc-838c-4a62-f64a-d47daedb3023"
      },
      "outputs": [],
      "source": [
        "import pandas as pd\n",
        "import numpy as np\n",
        "from os.path import join\n",
        "from scipy.spatial.distance import cosine\n",
        "\n",
        "# from google.colab import drive\n",
        "\n",
        "# drive.mount(\"/gdrive\")"
      ]
    },
    {
      "cell_type": "markdown",
      "metadata": {
        "id": "-jw5vZ9AgIX0"
      },
      "source": [
        "## Data\n",
        "dfof: d_awake, d_sleep \\\\\n",
        "cosine similarity: ts_dist_awake, ts_dist_sleep\n",
        "\n"
      ]
    },
    {
      "cell_type": "code",
      "execution_count": 2,
      "metadata": {
        "id": "anH7vlTHlXbx"
      },
      "outputs": [],
      "source": [
        "summary_new = pd.read_csv(\n",
        "    \"~/gdrive/Shareddrives/Turi_lab/Data/Sleep/2p/Analysis/summary_sleep.csv\"\n",
        ")\n",
        "data_path = (\n",
        "    \"~/gdrive/Shareddrives/Turi_lab/Data/Sleep/2p/Analysis/data/5HT2afl05b_1/7_12_SD2\"\n",
        ")\n",
        "file_name = \"dfof_mc.csv\"\n",
        "dfof_data = pd.read_csv(join(data_path, file_name))\n",
        "dfof_data.set_index(\"roi_label\", drop=True, inplace=True)"
      ]
    },
    {
      "cell_type": "code",
      "execution_count": 3,
      "metadata": {
        "colab": {
          "base_uri": "https://localhost:8080/",
          "height": 35
        },
        "id": "6YmVuVyNFt2Z",
        "outputId": "53aa2847-2bde-45fb-db4c-4f0bb36276cf"
      },
      "outputs": [
        {
          "data": {
            "text/plain": [
              "'~/gdrive/Shareddrives/Turi_lab/Data/Sleep/2p/Analysis/data/5HT2afl05b_1/7_12_SD2/dfof_mc.csv'"
            ]
          },
          "execution_count": 3,
          "metadata": {},
          "output_type": "execute_result"
        }
      ],
      "source": [
        "join(data_path, file_name)"
      ]
    },
    {
      "cell_type": "code",
      "execution_count": 3,
      "metadata": {
        "id": "hWPV1pOOeUXO"
      },
      "outputs": [],
      "source": [
        "def process_dfof_mc(dfof: str, summary_new: pd.DataFrame) -> dict:\n",
        "    \"\"\"\n",
        "    Process dF/F data based on awake and sleep intervals.\n",
        "\n",
        "    Args:\n",
        "        dfof (str): The dF/F data.\n",
        "        summary_new (pd.DataFrame): The summary of awake and sleep intervals.\n",
        "\n",
        "    Returns:\n",
        "        dict: A dictionary containing the processed dF/F data for awake and sleep intervals.\n",
        "    \"\"\"\n",
        "    n_roi = dfof.shape[0]  # it seems that you don't call these variables\n",
        "    n_time = dfof.shape[1] # do you need them?\n",
        "    awake = []\n",
        "    sleep = []\n",
        "    for j in range(1, 21, 2):  # Adjusted range for Python's 0-indexing\n",
        "        awake.extend(range(summary_new[\"start\"][j - 1], summary_new[\"end\"][j - 1] + 1))\n",
        "        sleep.extend(range(summary_new[\"start\"][j], summary_new[\"end\"][j] + 1))\n",
        "\n",
        "    d_awake = dfof.iloc[:, [x - 1 for x in awake]]  # Adjust index for Python\n",
        "    d_sleep = dfof.iloc[:, [x - 1 for x in sleep]]\n",
        "    return {\"d_awake\": d_awake, \"d_sleep\": d_sleep}"
      ]
    },
    {
      "cell_type": "code",
      "execution_count": 4,
      "metadata": {
        "id": "209sXFNERDQq"
      },
      "outputs": [],
      "source": [
        "result = process_dfof_mc(dfof_data, summary_new)\n",
        "d_awake = result[\"d_awake\"]\n",
        "d_sleep = result[\"d_sleep\"]"
      ]
    },
    {
      "cell_type": "code",
      "execution_count": 6,
      "metadata": {},
      "outputs": [
        {
          "data": {
            "text/plain": [
              "pandas.core.frame.DataFrame"
            ]
          },
          "execution_count": 6,
          "metadata": {},
          "output_type": "execute_result"
        }
      ],
      "source": [
        "type(d_awake)"
      ]
    },
    {
      "cell_type": "code",
      "execution_count": null,
      "metadata": {},
      "outputs": [],
      "source": [
        "def calculate_cosine_distance(data: pd.DataFrame, state:str, save_path: None) -> pd.DataFrame:\n",
        "    \"\"\"\n",
        "    Calculates the cosine distance matrix for the given data.\n",
        "\n",
        "    Parameters:\n",
        "    data (pd.DataFrame): The input data.\n",
        "    state (str): The brain state ofthe data.\n",
        "    save_path (None): Path to save the distance matrix. If provided, the matrix is saved to this path.\n",
        "\n",
        "    Returns:\n",
        "    pd.DataFrame: The cosine distance matrix.\n",
        "    \"\"\"\n",
        "    X = data.values if isinstance(data, pd.DataFrame) else np.array(data)\n",
        "    n= X.shape[0]\n",
        "    dist = np.empty((n,n))\n",
        "    dist.fill(np.nan)\n",
        "\n",
        "    for i in range(n -1):\n",
        "        for j in range(i+1, n):\n",
        "            dist[i,j] = 1 - cosine(X[i, :], X[j, :])\n",
        "\n",
        "    # Fill the lower triangular part of the matrix to make it symmetric, since cosine distance is symmetric\n",
        "    for i in range(n):\n",
        "        for j in range(i + 1, n):\n",
        "            dist[j, i] = dist[i, j]\n",
        "\n",
        "    min_val = np.nanmin(dist)\n",
        "    max_val = np.nanmax(dist)\n",
        "    dist_data = (dist - min_val) / (max_val - min_val)\n",
        "\n",
        "    if save_path:\n",
        "        ts_dist_data = pd.DataFrame(dist_data)\n",
        "        ts_dist_data.to_csv(join(save_path, f'ts_dist_{state}.csv'), index=False)\n",
        "\n",
        "    return pd.DataFrame(dist_data)"
      ]
    },
    {
      "cell_type": "code",
      "execution_count": null,
      "metadata": {},
      "outputs": [],
      "source": [
        "# alternatively you can try this to see whethte it is faster.\n",
        "# it uses sklearn's cosine_similarity function, which is optimized for performance.\n",
        "\n",
        "# from sklearn.metrics.pairwise import cosine_similarity\n",
        "\n",
        "\n",
        "# def calculate_cosine_distance(\n",
        "#     data: pd.DataFrame, state: str, save_path: str = None\n",
        "# ) -> pd.DataFrame:\n",
        "#     \"\"\"\n",
        "#     Calculates the cosine distance matrix for the given data using vectorized operations for improved performance.\n",
        "\n",
        "#     Parameters:\n",
        "#     - data (pd.DataFrame): The input data.\n",
        "#     - state (str): The state of the data.\n",
        "#     - save_path (str, optional): Path to save the distance matrix. If provided, the matrix is saved to this path.\n",
        "\n",
        "#     Returns:\n",
        "#     - pd.DataFrame: The cosine distance matrix, normalized to have values between 0 and 1.\n",
        "#     \"\"\"\n",
        "#     # Convert DataFrame to NumPy array if it's not already one\n",
        "#     X = data.values if isinstance(data, pd.DataFrame) else np.array(data)\n",
        "\n",
        "#     # Calculate cosine similarity and then convert to distance\n",
        "#     similarity = cosine_similarity(X)\n",
        "#     distance = 1 - similarity\n",
        "\n",
        "#     # Optionally save the distance matrix to a file\n",
        "#     if save_path:\n",
        "#         pd.DataFrame(distance).to_csv(join(save_path, f\"ts_dist_{state}.csv\"), index=False)\n",
        "\n",
        "#     return pd.DataFrame(distance)"
      ]
    },
    {
      "cell_type": "code",
      "execution_count": null,
      "metadata": {},
      "outputs": [],
      "source": [
        "ts_dist_awake = calculate_cosine_distance(d_awake, \"awake\", \"/gdrive/Shareddrives/Turi_lab/Data/Sleep/\")\n",
        "ts_dist_sleep = calculate_cosine_distance(d_sleep, \"sleep\", \"/gdrive/Shareddrives/Turi_lab/Data/Sleep/\")    "
      ]
    }
  ],
  "metadata": {
    "colab": {
      "include_colab_link": true,
      "provenance": []
    },
    "kernelspec": {
      "display_name": "Python 3",
      "name": "python3"
    },
    "language_info": {
      "codemirror_mode": {
        "name": "ipython",
        "version": 3
      },
      "file_extension": ".py",
      "mimetype": "text/x-python",
      "name": "python",
      "nbconvert_exporter": "python",
      "pygments_lexer": "ipython3",
      "version": "3.8.18"
    }
  },
  "nbformat": 4,
  "nbformat_minor": 0
}
