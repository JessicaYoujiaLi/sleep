{
  "cells": [
    {
      "cell_type": "markdown",
      "metadata": {
        "id": "view-in-github",
        "colab_type": "text"
      },
      "source": [
        "<a href=\"https://colab.research.google.com/github/GergelyTuri/sleep/blob/master/notebooks/clustering/tsclustering.ipynb\" target=\"_parent\"><img src=\"https://colab.research.google.com/assets/colab-badge.svg\" alt=\"Open In Colab\"/></a>"
      ]
    },
    {
      "cell_type": "markdown",
      "source": [],
      "metadata": {
        "id": "gY5e7go_hKvM"
      }
    },
    {
      "cell_type": "code",
      "execution_count": 1,
      "metadata": {
        "id": "YgAHlDnGlCm5",
        "colab": {
          "base_uri": "https://localhost:8080/"
        },
        "outputId": "e4b10878-f5aa-4d96-c387-7425fea4af23"
      },
      "outputs": [
        {
          "output_type": "stream",
          "name": "stdout",
          "text": [
            "Mounted at /gdrive\n"
          ]
        }
      ],
      "source": [
        "import pandas as pd\n",
        "import numpy as np\n",
        "from os.path import join\n",
        "from google.colab import drive\n",
        "drive.mount('/gdrive')"
      ]
    },
    {
      "cell_type": "markdown",
      "metadata": {
        "id": "-jw5vZ9AgIX0"
      },
      "source": [
        "## Data\n",
        "dfof: d_awake, d_sleep \\\\\n",
        "cosine similarity: ts_dist_awake, ts_dist_sleep\n",
        "\n"
      ]
    },
    {
      "cell_type": "code",
      "execution_count": 2,
      "metadata": {
        "id": "anH7vlTHlXbx"
      },
      "outputs": [],
      "source": [
        "summary_new = pd.read_csv(\"/gdrive/Shareddrives/Turi_lab/Data/Sleep/2p/Analysis/summary_sleep.csv\")\n",
        "data_path = '/gdrive/Shareddrives/Turi_lab/Data/Sleep/2p/Analysis/data/5HT2afl05b_1/7_12_SD2'\n",
        "file_name = 'dfof_mc.csv'\n",
        "dfof_data = pd.read_csv(join(data_path, file_name))\n",
        "dfof_data.set_index('roi_label', drop=True, inplace=True)"
      ]
    },
    {
      "cell_type": "code",
      "source": [
        "def process_dfof_mc(dfof, summary_new):\n",
        "      \"\"\"\n",
        "    Process dF/F data based on awake and sleep intervals.\n",
        "\n",
        "    Args:\n",
        "        dfof (str): The dF/F data.\n",
        "        summary_new (pd.DataFrame): The summary of awake and sleep intervals.\n",
        "\n",
        "    Returns:\n",
        "        dict: A dictionary containing the processed dF/F data for awake and sleep intervals.\n",
        "    \"\"\"\n",
        "    awake = []\n",
        "    sleep = []\n",
        "    for j in range(1, 21, 2):  # Adjusted range for Python's 0-indexing\n",
        "        awake.extend(range(summary_new['start'][j-1], summary_new['end'][j-1]+1))\n",
        "        sleep.extend(range(summary_new['start'][j], summary_new['end'][j]+1))\n",
        "\n",
        "    d_awake = dfof.iloc[:, [x-1 for x in awake]]  # Adjust index for Python\n",
        "    d_sleep = dfof.iloc[:, [x-1 for x in sleep]]\n",
        "    return {'d_awake': d_awake, 'd_sleep': d_sleep}"
      ],
      "metadata": {
        "id": "hWPV1pOOeUXO"
      },
      "execution_count": 3,
      "outputs": []
    },
    {
      "cell_type": "code",
      "source": [
        "result = process_dfof_mc(dfof_data, summary_new)\n",
        "d_awake = result['d_awake']\n",
        "d_sleep = result['d_sleep']"
      ],
      "metadata": {
        "id": "209sXFNERDQq"
      },
      "execution_count": 4,
      "outputs": []
    },
    {
      "cell_type": "code",
      "execution_count": 5,
      "metadata": {
        "id": "qJRROqacjQTT"
      },
      "outputs": [],
      "source": [
        "def calculate_cosine_distance(data: pd.DataFrame, state:str, save_path: None) -> pd.DataFrame:\n",
        "    \"\"\"\n",
        "    Calculates the cosine distance matrix for the given data.\n",
        "\n",
        "    Parameters:\n",
        "    data (pd.DataFrame): The input data.\n",
        "    state (str): The brain state ofthe data.\n",
        "    save_path (None): Path to save the distance matrix. If provided, the matrix is saved to this path.\n",
        "\n",
        "    Returns:\n",
        "    pd.DataFrame: The cosine distance matrix.\n",
        "    \"\"\"\n",
        "    X = data.values if isinstance(data, pd.DataFrame) else np.array(data)\n",
        "    n= X.shape[0]\n",
        "    dist = np.empty((n,n))\n",
        "    dist.fill(np.nan)\n",
        "\n",
        "    for i in range(n -1):\n",
        "        for j in range(i+1, n):\n",
        "            dist[i,j] = 1 - cosine(X[i, :], X[j, :])\n",
        "\n",
        "    # Fill the lower triangular part of the matrix to make it symmetric\n",
        "    for i in range(n):\n",
        "        for j in range(i + 1, n):\n",
        "            dist[j, i] = dist[i, j]\n",
        "\n",
        "    min_val = np.nanmin(dist)\n",
        "    max_val = np.nanmax(dist)\n",
        "    dist_data = (dist - min_val) / (max_val - min_val)\n",
        "\n",
        "    if save_path:\n",
        "        ts_dist_data = pd.DataFrame(dist_data)\n",
        "        ts_dist_data.to_csv(join(save_path, f'ts_dist_{state}.csv'), index=False)\n",
        "\n",
        "    return pd.DataFrame(dist_data)"
      ]
    },
    {
      "cell_type": "code",
      "source": [
        "ts_dist_awake = calculate_cosine_distance(d_awake, \"awake\", \"/gdrive/Shareddrives/Turi_lab/Data/Sleep/\")\n",
        "ts_dist_sleep = calculate_cosine_distance(d_sleep, \"sleep\", \"/gdrive/Shareddrives/Turi_lab/Data/Sleep/\")"
      ],
      "metadata": {
        "id": "eKbqN5cLiBrh"
      },
      "execution_count": null,
      "outputs": []
    }
  ],
  "metadata": {
    "colab": {
      "provenance": [],
      "include_colab_link": true
    },
    "kernelspec": {
      "display_name": "Python 3",
      "name": "python3"
    },
    "language_info": {
      "name": "python"
    }
  },
  "nbformat": 4,
  "nbformat_minor": 0
}