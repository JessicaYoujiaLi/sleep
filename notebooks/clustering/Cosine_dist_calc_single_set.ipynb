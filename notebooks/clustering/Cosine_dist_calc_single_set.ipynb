{
 "cells": [
  {
   "cell_type": "markdown",
   "metadata": {
    "colab_type": "text",
    "id": "view-in-github"
   },
   "source": [
    "<a href=\"https://colab.research.google.com/github/GergelyTuri/sleep/blob/master/notebooks/Cosine_dist_calc_single_set.ipynb\" target=\"_parent\"><img src=\"https://colab.research.google.com/assets/colab-badge.svg\" alt=\"Open In Colab\"/></a>"
   ]
  },
  {
   "cell_type": "markdown",
   "metadata": {
    "id": "CmJD8wIBnngo"
   },
   "source": [
    "# Prototype notebook to calculate cosine distance for one dataset\n",
    "designed to run on google drive data.\n",
    "* 3/10/2024 setup"
   ]
  },
  {
   "cell_type": "code",
   "execution_count": null,
   "metadata": {
    "colab": {
     "base_uri": "https://localhost:8080/"
    },
    "id": "YyUJb19KPnYc",
    "outputId": "a7027078-093b-46cd-d442-6059661f79a7"
   },
   "outputs": [],
   "source": [
    "!git clone https://github.com/GergelyTuri/sleep.git"
   ]
  },
  {
   "cell_type": "code",
   "execution_count": null,
   "metadata": {
    "id": "MVRWi_EKPul9"
   },
   "outputs": [],
   "source": [
    "%cd sleep\n",
    "!pip install ."
   ]
  },
  {
   "cell_type": "code",
   "execution_count": null,
   "metadata": {
    "id": "fKpEjuPAkhA3"
   },
   "outputs": [],
   "source": [
    "# %cd sleep\n",
    "# !git pull"
   ]
  },
  {
   "cell_type": "code",
   "execution_count": null,
   "metadata": {
    "id": "R_kvH75JO6Bb"
   },
   "outputs": [],
   "source": [
    "from google.colab import drive\n",
    "drive.mount('/gdrive')"
   ]
  },
  {
   "cell_type": "code",
   "execution_count": null,
   "metadata": {
    "id": "TxjRNDkPP4oj"
   },
   "outputs": [],
   "source": [
    "from os.path import join\n",
    "import matplotlib.pyplot as plt\n",
    "from matplotlib.patches import Patch\n",
    "\n",
    "import numpy as np\n",
    "import pandas as pd\n",
    "import seaborn as sns\n",
    "from sleep.src import google_drive\n",
    "from sleep.src import clustering"
   ]
  },
  {
   "cell_type": "code",
   "execution_count": null,
   "metadata": {
    "colab": {
     "base_uri": "https://localhost:8080/",
     "height": 1000
    },
    "id": "pELuEwl7QA8e",
    "outputId": "c1c044ad-187f-4dfa-ba2d-7f373d2b9fd3"
   },
   "outputs": [],
   "source": [
    "useful_data = google_drive.useful_datasets()\n",
    "useful_data"
   ]
  },
  {
   "cell_type": "code",
   "execution_count": null,
   "metadata": {
    "colab": {
     "base_uri": "https://localhost:8080/",
     "height": 35
    },
    "id": "-MhJ2XpFQH56",
    "outputId": "3f635d02-b80c-4bd1-9079-b79914ae4659"
   },
   "outputs": [],
   "source": [
    "exp_path = google_drive.return_exp_path('5HT2afl05b_1', '7_12_SD2', 'TSeries-07122021-0901-002')\n",
    "exp_path"
   ]
  },
  {
   "cell_type": "code",
   "execution_count": null,
   "metadata": {
    "colab": {
     "base_uri": "https://localhost:8080/",
     "height": 424
    },
    "id": "vidMi4lObG3Y",
    "outputId": "61f8ac7a-12c8-433e-9058-0d4d834e25e2"
   },
   "outputs": [],
   "source": [
    "processed_sleep_df = pd.read_csv(join(exp_path, 'eeg', 'velo_eeg.csv'), )\n",
    "processed_sleep_df"
   ]
  },
  {
   "cell_type": "code",
   "execution_count": null,
   "metadata": {
    "id": "jnRcjjUhrosG"
   },
   "outputs": [],
   "source": [
    "file_name = 'dfof_mc.csv'\n",
    "dfof_data = pd.read_csv(join(exp_path, file_name))\n",
    "dfof_data.set_index('roi_label', drop=True, inplace=True)"
   ]
  },
  {
   "cell_type": "code",
   "execution_count": null,
   "metadata": {
    "id": "RQM8EhcDlEN4"
   },
   "outputs": [],
   "source": [
    "# Generate summary dataframes\n",
    "nrem_summary = clustering.interval_length_calculator(processed_sleep_df, 'NREM', 1)\n",
    "awake_summary = clustering.interval_length_calculator(processed_sleep_df, 'awake', 1)\n",
    "\n",
    "# Filter summary dataframes\n",
    "del_indices = nrem_summary.loc[nrem_summary[\"length\"] < 600, \"n\"].values\n",
    "summary_nrem = nrem_summary[~nrem_summary[\"n\"].isin(del_indices)].reset_index(drop=True).copy()\n",
    "\n",
    "del_indices = awake_summary.loc[awake_summary[\"length\"] < 600, \"n\"].values\n",
    "summary_awake = awake_summary[~awake_summary[\"n\"].isin(del_indices)].reset_index(drop=True).copy()"
   ]
  },
  {
   "cell_type": "code",
   "execution_count": null,
   "metadata": {
    "colab": {
     "base_uri": "https://localhost:8080/",
     "height": 394
    },
    "id": "7jMi7jWSfNFy",
    "outputId": "c1c6a184-357e-4d5e-f6e0-a2c8a0df07af"
   },
   "outputs": [],
   "source": [
    "summary_awake"
   ]
  },
  {
   "cell_type": "code",
   "execution_count": null,
   "metadata": {
    "id": "TKl9rIvWlGou"
   },
   "outputs": [],
   "source": [
    "awake_dfof_intervals = clustering.process_dfof_intervals(dfof_data, summary_awake)\n",
    "nrem_dfof_intervals = clustering.process_dfof_intervals(dfof_data, summary_nrem)"
   ]
  },
  {
   "cell_type": "code",
   "execution_count": null,
   "metadata": {
    "colab": {
     "base_uri": "https://localhost:8080/"
    },
    "id": "Pw18AgcMsTO4",
    "outputId": "97fce4f9-f41d-42d0-cc2e-5a0e63f353bd"
   },
   "outputs": [],
   "source": [
    "nrem_dfof_intervals.shape"
   ]
  },
  {
   "cell_type": "code",
   "execution_count": null,
   "metadata": {
    "id": "VSAJssC2Cyxm"
   },
   "outputs": [],
   "source": [
    "cos_dist_nrem = clustering.calculate_cosine_distance(nrem_dfof_intervals, 'nrem', normalize=True)\n",
    "cos_dist_awake = clustering.calculate_cosine_distance(awake_dfof_intervals, 'awake', normalize=True)"
   ]
  },
  {
   "cell_type": "code",
   "execution_count": null,
   "metadata": {
    "colab": {
     "base_uri": "https://localhost:8080/",
     "height": 580
    },
    "id": "CQ2_TmhiHEDf",
    "outputId": "3211c5b2-d1be-4c34-9468-5fb6c09c32c2"
   },
   "outputs": [],
   "source": [
    "sorted_cos_dist_nrem = clustering.sort_distance_matrix(cos_dist_nrem)\n",
    "sorted_cos_dist_awake = clustering.sort_distance_matrix(cos_dist_awake)\n",
    "\n",
    "# Now plot the sorted matrices using seaborn's heatmap function\n",
    "fig, axs = plt.subplots(1, 2, figsize=(16, 8), sharey=True)\n",
    "\n",
    "sns.heatmap(sorted_cos_dist_nrem, ax=axs[0], cmap=\"viridis\")\n",
    "axs[0].set_title(\"Sorted Cosine Distance - NREM\")\n",
    "\n",
    "sns.heatmap(sorted_cos_dist_awake, ax=axs[1], cmap=\"viridis\")\n",
    "axs[1].set_title(\"Sorted Cosine Distance - Awake\")\n",
    "\n",
    "plt.tight_layout()\n",
    "\n",
    "# saving the fig\n",
    "fig.savefig(join(exp_path, \"MC_sorted_cosine_dist.png\"), dpi=300)\n",
    "\n",
    "plt.show()"
   ]
  },
  {
   "cell_type": "code",
   "execution_count": null,
   "metadata": {
    "colab": {
     "base_uri": "https://localhost:8080/",
     "height": 564
    },
    "id": "xjlpPckQDiAO",
    "outputId": "9b90ff92-c65d-4fe1-9e64-152d5a329b0f"
   },
   "outputs": [],
   "source": [
    "# Flatten the matrices and remove the diagonal (self-distance) values\n",
    "distance_values_nrem = cos_dist_nrem.values.flatten()\n",
    "distance_values_nrem = distance_values_nrem[~np.isnan(distance_values_nrem)]  # Remove NaN values if any\n",
    "distance_values_nrem = distance_values_nrem[distance_values_nrem != 0]  # Remove self-distances\n",
    "\n",
    "distance_values_awake = cos_dist_awake.values.flatten()\n",
    "distance_values_awake = distance_values_awake[~np.isnan(distance_values_awake)]  # Remove NaN values if any\n",
    "distance_values_awake = distance_values_awake[distance_values_awake != 0]  # Remove self-distances\n",
    "\n",
    "# Combine the distance values into a single array with an associated label array\n",
    "distance_values_combined = np.concatenate([distance_values_nrem, distance_values_awake])\n",
    "states_combined = ['NREM'] * len(distance_values_nrem) + ['Awake'] * len(distance_values_awake)\n",
    "\n",
    "# Create DataFrame\n",
    "distances_df = pd.DataFrame({\n",
    "    'Cosine Distance': distance_values_combined,\n",
    "    'State': states_combined\n",
    "})\n",
    "\n",
    "distances_df['State'] = distances_df['State'].astype('category')\n",
    "\n",
    "# Plot\n",
    "plt.figure(figsize=(10, 6))\n",
    "ax = sns.histplot(\n",
    "    data=distances_df,\n",
    "    x='Cosine Distance',\n",
    "    hue='State',\n",
    "    kde=True,\n",
    "    element='step',\n",
    "    bins=30,\n",
    "    palette=['green', 'blue']  # Explicitly set the palette here to match your desired colors\n",
    ")\n",
    "\n",
    "plt.title('Distribution of Cosine Distance Values by State')\n",
    "plt.xlabel('Cosine Distance')\n",
    "plt.ylabel('Frequency')\n",
    "\n",
    "# Create custom legend handles with colors matching the plot\n",
    "legend_handles = [\n",
    "    Patch(facecolor='green', label='NREM'),\n",
    "    Patch(facecolor='blue', label='Awake')\n",
    "]\n",
    "\n",
    "# Use the custom handles to create the legend, ensuring colors match the plot\n",
    "plt.legend(handles=legend_handles, title='State')\n",
    "\n",
    "# Saving the figure\n",
    "plt.savefig(join(exp_path, 'MC_distrib_cosine_distance_values.png'), dpi=300)\n",
    "\n",
    "plt.show()"
   ]
  },
  {
   "cell_type": "code",
   "execution_count": null,
   "metadata": {
    "id": "SNssE5YpITIj"
   },
   "outputs": [],
   "source": []
  }
 ],
 "metadata": {
  "colab": {
   "authorship_tag": "ABX9TyNUiiSRZ839HOqh7CtxP2M0",
   "include_colab_link": true,
   "provenance": []
  },
  "kernelspec": {
   "display_name": "Python 3",
   "name": "python3"
  },
  "language_info": {
   "name": "python"
  }
 },
 "nbformat": 4,
 "nbformat_minor": 0
}
