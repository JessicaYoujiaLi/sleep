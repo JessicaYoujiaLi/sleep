{
  "cells": [
    {
      "cell_type": "markdown",
      "metadata": {
        "id": "view-in-github",
        "colab_type": "text"
      },
      "source": [
        "<a href=\"https://colab.research.google.com/github/GergelyTuri/sleep/blob/master/tsclustering3.ipynb\" target=\"_parent\"><img src=\"https://colab.research.google.com/assets/colab-badge.svg\" alt=\"Open In Colab\"/></a>"
      ]
    },
    {
      "cell_type": "code",
      "source": [
        "!git clone https://github.com/GergelyTuri/sleep.git"
      ],
      "metadata": {
        "colab": {
          "base_uri": "https://localhost:8080/"
        },
        "id": "lyKhXdZdTCHY",
        "outputId": "82a5f924-935e-4cb0-9b10-6ca7eba487c5"
      },
      "execution_count": 6,
      "outputs": [
        {
          "output_type": "stream",
          "name": "stdout",
          "text": [
            "fatal: destination path 'sleep' already exists and is not an empty directory.\n"
          ]
        }
      ]
    },
    {
      "cell_type": "code",
      "source": [
        "%cd /content/sleep/ !pip install ."
      ],
      "metadata": {
        "colab": {
          "base_uri": "https://localhost:8080/"
        },
        "id": "cdb6I2E-TEZc",
        "outputId": "0c553e5c-6888-4e47-8bc6-691652a2feb6"
      },
      "execution_count": null,
      "outputs": [
        {
          "output_type": "stream",
          "name": "stdout",
          "text": [
            "[Errno 2] No such file or directory: '/content/sleep/ !pip install .'\n",
            "/content\n"
          ]
        }
      ]
    },
    {
      "cell_type": "code",
      "source": [
        "import sys\n",
        "from os.path import join\n",
        "import matplotlib.pyplot as plt\n",
        "\n",
        "import pandas as pd\n",
        "import numpy as np\n",
        "# sys.path.append('/content/sleep/notebooks/neuropil_analysis/')\n",
        "# import neuropil as npil\n",
        "sys.path.append(\"/content/sleep/src/\")\n",
        "from eeg_class import eegData\n",
        "from behavior_class import behaviorData\n",
        "import statistics"
      ],
      "metadata": {
        "colab": {
          "base_uri": "https://localhost:8080/",
          "height": 518
        },
        "id": "jnJZL7lrSxVb",
        "outputId": "9efd6cdb-97b4-4a32-f58e-233eb232be4f"
      },
      "execution_count": null,
      "outputs": [
        {
          "output_type": "error",
          "ename": "ModuleNotFoundError",
          "evalue": "No module named 'src'",
          "traceback": [
            "\u001b[0;31m---------------------------------------------------------------------------\u001b[0m",
            "\u001b[0;31mModuleNotFoundError\u001b[0m                       Traceback (most recent call last)",
            "\u001b[0;32m<ipython-input-65-d452b8384657>\u001b[0m in \u001b[0;36m<cell line: 10>\u001b[0;34m()\u001b[0m\n\u001b[1;32m      8\u001b[0m \u001b[0;31m# import neuropil as npil\u001b[0m\u001b[0;34m\u001b[0m\u001b[0;34m\u001b[0m\u001b[0m\n\u001b[1;32m      9\u001b[0m \u001b[0msys\u001b[0m\u001b[0;34m.\u001b[0m\u001b[0mpath\u001b[0m\u001b[0;34m.\u001b[0m\u001b[0mappend\u001b[0m\u001b[0;34m(\u001b[0m\u001b[0;34m\"/content/sleep/src/\"\u001b[0m\u001b[0;34m)\u001b[0m\u001b[0;34m\u001b[0m\u001b[0;34m\u001b[0m\u001b[0m\n\u001b[0;32m---> 10\u001b[0;31m \u001b[0;32mfrom\u001b[0m \u001b[0meeg_class\u001b[0m \u001b[0;32mimport\u001b[0m \u001b[0meegData\u001b[0m\u001b[0;34m\u001b[0m\u001b[0;34m\u001b[0m\u001b[0m\n\u001b[0m\u001b[1;32m     11\u001b[0m \u001b[0;32mfrom\u001b[0m \u001b[0mbehavior_class\u001b[0m \u001b[0;32mimport\u001b[0m \u001b[0mbehaviorData\u001b[0m\u001b[0;34m\u001b[0m\u001b[0;34m\u001b[0m\u001b[0m\n\u001b[1;32m     12\u001b[0m \u001b[0;32mimport\u001b[0m \u001b[0mstatistics\u001b[0m\u001b[0;34m\u001b[0m\u001b[0;34m\u001b[0m\u001b[0m\n",
            "\u001b[0;32m/content/sleep/src/eeg_class.py\u001b[0m in \u001b[0;36m<module>\u001b[0;34m\u001b[0m\n\u001b[1;32m      9\u001b[0m \u001b[0;32mimport\u001b[0m \u001b[0mpandas\u001b[0m \u001b[0;32mas\u001b[0m \u001b[0mpd\u001b[0m\u001b[0;34m\u001b[0m\u001b[0;34m\u001b[0m\u001b[0m\n\u001b[1;32m     10\u001b[0m \u001b[0;34m\u001b[0m\u001b[0m\n\u001b[0;32m---> 11\u001b[0;31m \u001b[0;32mfrom\u001b[0m \u001b[0msrc\u001b[0m\u001b[0;34m.\u001b[0m\u001b[0mimaging_data_class\u001b[0m \u001b[0;32mimport\u001b[0m \u001b[0mImagingData\u001b[0m\u001b[0;34m\u001b[0m\u001b[0;34m\u001b[0m\u001b[0m\n\u001b[0m\u001b[1;32m     12\u001b[0m \u001b[0;34m\u001b[0m\u001b[0m\n\u001b[1;32m     13\u001b[0m \u001b[0;34m\u001b[0m\u001b[0m\n",
            "\u001b[0;31mModuleNotFoundError\u001b[0m: No module named 'src'",
            "",
            "\u001b[0;31m---------------------------------------------------------------------------\u001b[0;32m\nNOTE: If your import is failing due to a missing package, you can\nmanually install dependencies using either !pip or !apt.\n\nTo view examples of installing some common dependencies, click the\n\"Open Examples\" button below.\n\u001b[0;31m---------------------------------------------------------------------------\u001b[0m\n"
          ],
          "errorDetails": {
            "actions": [
              {
                "action": "open_url",
                "actionText": "Open Examples",
                "url": "/notebooks/snippets/importing_libraries.ipynb"
              }
            ]
          }
        }
      ]
    },
    {
      "cell_type": "code",
      "execution_count": null,
      "metadata": {
        "id": "nX7XgwXKheiQ",
        "colab": {
          "base_uri": "https://localhost:8080/",
          "height": 250
        },
        "outputId": "2d2e2fb6-5e4c-4bb2-a317-5cd0eb856e03"
      },
      "outputs": [
        {
          "output_type": "error",
          "ename": "NameError",
          "evalue": "name 'behaviorData' is not defined",
          "traceback": [
            "\u001b[0;31m---------------------------------------------------------------------------\u001b[0m",
            "\u001b[0;31mNameError\u001b[0m                                 Traceback (most recent call last)",
            "\u001b[0;32m<ipython-input-51-c7af7515d2c1>\u001b[0m in \u001b[0;36m<cell line: 4>\u001b[0;34m()\u001b[0m\n\u001b[1;32m      2\u001b[0m \u001b[0msleep_data\u001b[0m \u001b[0;34m=\u001b[0m \u001b[0mpd\u001b[0m\u001b[0;34m.\u001b[0m\u001b[0mread_csv\u001b[0m\u001b[0;34m(\u001b[0m\u001b[0mjoin\u001b[0m\u001b[0;34m(\u001b[0m\u001b[0mdata_path\u001b[0m\u001b[0;34m,\u001b[0m \u001b[0;34m'velo_eeg.csv'\u001b[0m\u001b[0;34m)\u001b[0m\u001b[0;34m)\u001b[0m\u001b[0;34m\u001b[0m\u001b[0;34m\u001b[0m\u001b[0m\n\u001b[1;32m      3\u001b[0m \u001b[0;31m#Determining awake mobile and imobile periods\u001b[0m\u001b[0;34m\u001b[0m\u001b[0;34m\u001b[0m\u001b[0m\n\u001b[0;32m----> 4\u001b[0;31m sleep_data['mobile_immobile'] = behaviorData.define_immobility(\n\u001b[0m\u001b[1;32m      5\u001b[0m         sleep_data[\"filtered velo\"])\n\u001b[1;32m      6\u001b[0m \u001b[0;31m#Creating brain state filters for filtering the datasets\u001b[0m\u001b[0;34m\u001b[0m\u001b[0;34m\u001b[0m\u001b[0m\n",
            "\u001b[0;31mNameError\u001b[0m: name 'behaviorData' is not defined"
          ]
        }
      ],
      "source": [
        "#Loading sleep and other behavior data (velocity)\n",
        "sleep_data = pd.read_csv(join(data_path, 'velo_eeg.csv'))\n",
        "#Determining awake mobile and imobile periods\n",
        "sleep_data['mobile_immobile'] = behaviorData.define_immobility(\n",
        "        sleep_data[\"filtered velo\"])\n",
        "#Creating brain state filters for filtering the datasets\n",
        "brain_states =  eegData.brain_state_filter(\n",
        "        velo_eeg_df=sleep_data,\n",
        "        states=[\"awake_mobile\", \"awake_immobile\", \"NREM\", \"REM\", \"other\"],\n",
        "    )\n",
        "nrem_mask = brain_states['NREM']\n",
        "awake_mask = brain_states['awake_immobile']\n",
        "nrem_intervals = dfof_data.loc[:, nrem_mask.values]\n",
        "awake_intervals = dfof_data.loc[:, awake_mask.values]\n",
        "#Calculating significant cells\n",
        "significant_cells_nrem_vs_awake = npil.statistics.significance_calc(nrem_intervals.to_numpy(),\n",
        "                                                      awake_intervals.to_numpy())\n",
        "significant_cells_awake_vs_nrem = npil.statistics.significance_calc(awake_intervals.to_numpy(),\n",
        "                                                      nrem_intervals.to_numpy())\n",
        "sig_cell_mask = np.zeros(dfof_data.shape[0], dtype=bool)\n",
        "sig_cell_mask[significant_cells_nrem_vs_awake] = True\n",
        "significant_cell_data = dfof_data[sig_cell_mask]\n",
        "significant_cell_data"
      ]
    },
    {
      "cell_type": "markdown",
      "source": [
        "Second Part (R):"
      ],
      "metadata": {
        "id": "mZdvYxLK0Rgf"
      }
    },
    {
      "cell_type": "code",
      "execution_count": null,
      "metadata": {
        "id": "cajx2JStdsLz"
      },
      "outputs": [],
      "source": [
        "ts_dist_awake = read.csv(\"/gdrive/Shareddrives/Turi_lab/Data/Sleep/2p/ts_dist_awake.csv\")\n",
        "ts_dist_sleep = read.csv('/gdrive/Shareddrives/Turi_lab/Data/Sleep/ts_dist_sleep.csv')\n",
        "\n",
        "net.epsilon.create <- function(dist, epsilon) {\n",
        "    n = matrix(0, ncol(dist), nrow(dist))\n",
        "    n[dist < epsilon] = 1;\n",
        "    return(graph.adjacency(n, mode=\"undirected\", diag=F));\n",
        "}"
      ]
    },
    {
      "cell_type": "code",
      "execution_count": null,
      "metadata": {
        "id": "P7jXhTYrX6eF"
      },
      "outputs": [],
      "source": [
        "eps_seq = seq(0.01,0.99,0.01)\n",
        "ddd = function(ts_dist){\n",
        "modu = c()\n",
        "n_hubs = c()\n",
        "n_edges = c()\n",
        "for (i in 1:length(eps_seq)){\n",
        "net1 = net.epsilon.create(dist = ts_dist, epsilon = eps_seq[i])\n",
        "c1 = cluster_fast_greedy(net1)\n",
        "hub_score1 = hub.score(net1)\n",
        "n_hubs[i] = length(which(hub_score1[[\"vector\"]]>0.9))\n",
        "modu[i] = modularity(c1)\n",
        "n_edges[i] = gsize(net1)\n",
        "}\n",
        "return(list(n_hubs,n_edges,modu))\n",
        "}\n",
        "\n",
        "tt = tibble(\n",
        "  eps = rep(eps_seq,2),\n",
        "  state = c(rep(\"aw\",length(eps_seq)),rep(\"sl\",length(eps_seq))),\n",
        "  n_hub = c(ddd(ts_dist_awake)[[1]],ddd(ts_dist_sleep)[[1]]),\n",
        "  n_edge = c(ddd(ts_dist_awake)[[2]],ddd(ts_dist_sleep)[[2]]),\n",
        "  modu = c(ddd(ts_dist_awake)[[3]],ddd(ts_dist_sleep)[[3]])\n",
        ")\n",
        "\n",
        "tt %>%\n",
        "  ggplot(aes(x=eps,y=modu,colour=state))+\n",
        "  geom_point(size=0.8)+\n",
        "  geom_line()\n",
        "\n",
        "tt %>%\n",
        "  ggplot(aes(x=eps,y=n_hub,colour=state))+\n",
        "  geom_point(size=0.8)+\n",
        "  geom_line()\n",
        "\n",
        "tt %>%\n",
        "  ggplot(aes(x=eps,y=n_edge,colour=state))+\n",
        "  geom_point(size=0.8)+\n",
        "  geom_line()\n",
        "\n",
        "tt %>%\n",
        "  ggplot(aes(x=n_edge,y=n_hub,colour=state))+\n",
        "  geom_point(size=0.8)+\n",
        "  geom_line()\n",
        "\n",
        "## significant sleep Gergo\n",
        "tibble(\n",
        "  n = 1:length(rownames(roi_cluster)),\n",
        "  roi = rownames(roi_cluster)) %>%\n",
        "  filter(roi %in% sig_cell) %>% view\n"
      ]
    },
    {
      "cell_type": "code",
      "execution_count": null,
      "metadata": {
        "id": "QhBKwf2YfYMq"
      },
      "outputs": [],
      "source": [
        "ts_dist = ts_dist_sleep\n",
        "eps = 0.2\n",
        "net = net.epsilon.create(dist = ts_dist, epsilon = eps)\n",
        "c = cluster_fast_greedy(net)\n",
        "membership(c)\n",
        "plot(net, vertex.color=membership(c), layout=layout_with_fr(net))\n",
        "#hub score\n",
        "hub_score <- hub.score(net)\n",
        "which(hub_score[[\"vector\"]]>=0.9)"
      ]
    }
  ],
  "metadata": {
    "colab": {
      "provenance": [],
      "include_colab_link": true
    },
    "kernelspec": {
      "display_name": "Python 3",
      "name": "python3"
    },
    "language_info": {
      "name": "python"
    }
  },
  "nbformat": 4,
  "nbformat_minor": 0
}