{
  "nbformat": 4,
  "nbformat_minor": 0,
  "metadata": {
    "colab": {
      "provenance": [],
      "include_colab_link": true
    },
    "kernelspec": {
      "name": "ir",
      "display_name": "R"
    },
    "language_info": {
      "name": "R"
    }
  },
  "cells": [
    {
      "cell_type": "markdown",
      "metadata": {
        "id": "view-in-github",
        "colab_type": "text"
      },
      "source": [
        "<a href=\"https://colab.research.google.com/github/GergelyTuri/sleep/blob/master/tsclustering2.ipynb\" target=\"_parent\"><img src=\"https://colab.research.google.com/assets/colab-badge.svg\" alt=\"Open In Colab\"/></a>"
      ]
    },
    {
      "cell_type": "code",
      "execution_count": 5,
      "metadata": {
        "colab": {
          "base_uri": "https://localhost:8080/",
          "height": 232
        },
        "id": "UhVe4psykZer",
        "outputId": "ecf98793-8f59-4a40-a73e-7cfa09872735"
      },
      "outputs": [
        {
          "output_type": "stream",
          "name": "stderr",
          "text": [
            "Installing package into ‘/usr/local/lib/R/site-library’\n",
            "(as ‘lib’ is unspecified)\n",
            "\n",
            "Warning message in install.packages(\"igraph\"):\n",
            "“installation of package ‘igraph’ had non-zero exit status”\n"
          ]
        },
        {
          "output_type": "error",
          "ename": "ERROR",
          "evalue": "Error in library(igraph): there is no package called ‘igraph’\n",
          "traceback": [
            "Error in library(igraph): there is no package called ‘igraph’\nTraceback:\n",
            "1. library(igraph)"
          ]
        }
      ],
      "source": [
        "library(tidyverse)\n",
        "install.packages(\"igraph\")\n",
        "library(googledrive)\n",
        "library(readr)\n",
        "library(igraph)"
      ]
    },
    {
      "cell_type": "code",
      "source": [
        "drive_auth()"
      ],
      "metadata": {
        "id": "5cwbCif2K5cs",
        "outputId": "ec780f05-0215-4611-a684-b3c32671d7e0",
        "colab": {
          "base_uri": "https://localhost:8080/"
        }
      },
      "execution_count": 6,
      "outputs": [
        {
          "output_type": "stream",
          "name": "stderr",
          "text": [
            "\u001b[1m\u001b[22mIs it OK to cache OAuth access credentials in the folder \u001b[34m~/.cache/gargle\u001b[39m\n",
            "between R sessions?\n",
            "\u001b[1m1\u001b[22m: Yes\n",
            "\u001b[1m2\u001b[22m: No\n"
          ]
        },
        {
          "name": "stdout",
          "output_type": "stream",
          "text": [
            "Selection: 1\n"
          ]
        },
        {
          "output_type": "stream",
          "name": "stderr",
          "text": [
            "Please point your browser to the following url: \n",
            "\n",
            "https://accounts.google.com/o/oauth2/v2/auth?client_id=603366585132-frjlouoa3s2ono25d2l9ukvhlsrlnr7k.apps.googleusercontent.com&scope=https%3A%2F%2Fwww.googleapis.com%2Fauth%2Fdrive%20https%3A%2F%2Fwww.googleapis.com%2Fauth%2Fuserinfo.email&redirect_uri=https%3A%2F%2Fwww.tidyverse.org%2Fgoogle-callback%2F&response_type=code&state=6db91495d660b022ebdbfda7d4a5a787&access_type=offline&prompt=consent\n",
            "\n"
          ]
        },
        {
          "name": "stdout",
          "output_type": "stream",
          "text": [
            "Enter authorization code: eyJjb2RlIjoiNC8wQWVhWVNIQzFGWHNKa1diMnFzYjR5eEF4OW16T3BZZ2xLbXdaQUx1ZDdpalhSNWlSa1FsMl9TZnJ6eHgwZ05GZHBrNHQwdyIsInN0YXRlIjoiNmRiOTE0OTVkNjYwYjAyMmViZGJmZGE3ZDRhNWE3ODcifQ==\n"
          ]
        }
      ]
    },
    {
      "cell_type": "code",
      "source": [
        "file <- drive_ls(q = \"/gdrive/Shareddrives/Turi_lab/Data/Sleep/2p\")\n"
      ],
      "metadata": {
        "id": "r8OXKlYuXs_T",
        "outputId": "977f4ab4-dabd-4ae4-a591-f0e21cdadfe6",
        "colab": {
          "base_uri": "https://localhost:8080/",
          "height": 482
        }
      },
      "execution_count": 8,
      "outputs": [
        {
          "output_type": "error",
          "ename": "ERROR",
          "evalue": "\u001b[1m\u001b[33mError\u001b[39m in `do_paginated_request()`:\u001b[22m\n\u001b[1m\u001b[22m\u001b[33m!\u001b[39m Client error: (403) Forbidden\nRequest had insufficient authentication scopes.\nPERMISSION_DENIED\n\u001b[36m•\u001b[39m message: Insufficient Permission\n\u001b[36m•\u001b[39m domain: global\n\u001b[36m•\u001b[39m reason: insufficientPermissions\n",
          "traceback": [
            "\u001b[1m\u001b[33mError\u001b[39m in `do_paginated_request()`:\u001b[22m\n\u001b[1m\u001b[22m\u001b[33m!\u001b[39m Client error: (403) Forbidden\nRequest had insufficient authentication scopes.\nPERMISSION_DENIED\n\u001b[36m•\u001b[39m message: Insufficient Permission\n\u001b[36m•\u001b[39m domain: global\n\u001b[36m•\u001b[39m reason: insufficientPermissions\nTraceback:\n",
            "1. drive_ls(q = \"/gdrive/Shareddrives/Turi_lab/Data/Sleep/2p\")",
            "2. drive_find(...)",
            "3. do_paginated_request(request, n_max = n_max, n = function(x) length(x$files))",
            "4. gargle::response_process(page)",
            "5. gargle_abort_request_failed(error_message(resp, call = call), \n .     resp, call = call)",
            "6. gargle_abort(message, class = c(\"gargle_error_request_failed\", \n .     glue(\"http_error_{httr::status_code(resp)}\")), .envir = .envir, \n .     call = call, resp = redact_response(resp))",
            "7. cli::cli_abort(message, class = c(class, \"gargle_error\"), .envir = .envir, \n .     call = call, ...)",
            "8. rlang::abort(message, ..., call = call, use_cli_format = TRUE, \n .     .frame = .frame)",
            "9. signal_abort(cnd, .file)"
          ]
        }
      ]
    },
    {
      "cell_type": "code",
      "source": [
        "ts_dist_awake = read.csv(\"/gdrive/Shareddrives/Turi_lab/Data/Sleep/2p/ts_dist_awake.csv\")\n",
        "ts_dist_sleep = read.csv('/gdrive/Shareddrives/Turi_lab/Data/Sleep/ts_dist_sleep.csv')\n",
        "\n",
        "net.epsilon.create <- function(dist, epsilon) {\n",
        "    n = matrix(0, ncol(dist), nrow(dist))\n",
        "    n[dist < epsilon] = 1;\n",
        "    return(graph.adjacency(n, mode=\"undirected\", diag=F));\n",
        "}"
      ],
      "metadata": {
        "id": "ksHXsi_VJOhN",
        "outputId": "d0dc8aa8-797d-4b08-8cc2-163fccdfdc19",
        "colab": {
          "base_uri": "https://localhost:8080/",
          "height": 232
        }
      },
      "execution_count": 9,
      "outputs": [
        {
          "output_type": "stream",
          "name": "stderr",
          "text": [
            "Warning message in file(file, \"rt\"):\n",
            "“cannot open file '/gdrive/Shareddrives/Turi_lab/Data/Sleep/2p/ts_dist_awake.csv': No such file or directory”\n"
          ]
        },
        {
          "output_type": "error",
          "ename": "ERROR",
          "evalue": "Error in file(file, \"rt\"): cannot open the connection\n",
          "traceback": [
            "Error in file(file, \"rt\"): cannot open the connection\nTraceback:\n",
            "1. read.csv(\"/gdrive/Shareddrives/Turi_lab/Data/Sleep/2p/ts_dist_awake.csv\")",
            "2. read.table(file = file, header = header, sep = sep, quote = quote, \n .     dec = dec, fill = fill, comment.char = comment.char, ...)",
            "3. file(file, \"rt\")"
          ]
        }
      ]
    },
    {
      "cell_type": "code",
      "source": [
        "eps_seq = seq(0.01,0.99,0.01)\n",
        "ddd = function(ts_dist){\n",
        "modu = c()\n",
        "n_hubs = c()\n",
        "n_edges = c()\n",
        "for (i in 1:length(eps_seq)){\n",
        "net1 = net.epsilon.create(dist = ts_dist, epsilon = eps_seq[i])\n",
        "c1 = cluster_fast_greedy(net1)\n",
        "hub_score1 = hub.score(net1)\n",
        "n_hubs[i] = length(which(hub_score1[[\"vector\"]]>0.9))\n",
        "modu[i] = modularity(c1)\n",
        "n_edges[i] = gsize(net1)\n",
        "}\n",
        "return(list(n_hubs,n_edges,modu))\n",
        "}\n",
        "\n",
        "tt = tibble(\n",
        "  eps = rep(eps_seq,2),\n",
        "  state = c(rep(\"aw\",length(eps_seq)),rep(\"sl\",length(eps_seq))),\n",
        "  n_hub = c(ddd(ts_dist_awake)[[1]],ddd(ts_dist_sleep)[[1]]),\n",
        "  n_edge = c(ddd(ts_dist_awake)[[2]],ddd(ts_dist_sleep)[[2]]),\n",
        "  modu = c(ddd(ts_dist_awake)[[3]],ddd(ts_dist_sleep)[[3]])\n",
        ")\n",
        "\n",
        "tt %>%\n",
        "  ggplot(aes(x=eps,y=modu,colour=state))+\n",
        "  geom_point(size=0.8)+\n",
        "  geom_line()\n",
        "\n",
        "tt %>%\n",
        "  ggplot(aes(x=eps,y=n_hub,colour=state))+\n",
        "  geom_point(size=0.8)+\n",
        "  geom_line()\n",
        "\n",
        "tt %>%\n",
        "  ggplot(aes(x=eps,y=n_edge,colour=state))+\n",
        "  geom_point(size=0.8)+\n",
        "  geom_line()\n",
        "\n",
        "tt %>%\n",
        "  ggplot(aes(x=n_edge,y=n_hub,colour=state))+\n",
        "  geom_point(size=0.8)+\n",
        "  geom_line()\n",
        "\n",
        "## significant sleep Gergo\n",
        "tibble(\n",
        "  n = 1:length(rownames(roi_cluster)),\n",
        "  roi = rownames(roi_cluster)) %>%\n",
        "  filter(roi %in% sig_cell) %>% view"
      ],
      "metadata": {
        "id": "MW3mexqHb6zC"
      },
      "execution_count": null,
      "outputs": []
    },
    {
      "cell_type": "code",
      "source": [
        "ts_dist = ts_dist_sleep\n",
        "eps = 0.2\n",
        "net = net.epsilon.create(dist = ts_dist, epsilon = eps)\n",
        "c = cluster_fast_greedy(net)\n",
        "membership(c)\n",
        "plot(net, vertex.color=membership(c), layout=layout_with_fr(net))\n",
        "#hub score\n",
        "hub_score <- hub.score(net)\n",
        "which(hub_score[[\"vector\"]]>=0.9)"
      ],
      "metadata": {
        "id": "GmOFnX3ccE_r"
      },
      "execution_count": null,
      "outputs": []
    }
  ]
}