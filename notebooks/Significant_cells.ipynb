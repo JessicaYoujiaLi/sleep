{
  "nbformat": 4,
  "nbformat_minor": 0,
  "metadata": {
    "colab": {
      "provenance": [],
      "authorship_tag": "ABX9TyMoTwUE9MzWObVZHD77ETUH",
      "include_colab_link": true
    },
    "kernelspec": {
      "name": "python3",
      "display_name": "Python 3"
    },
    "language_info": {
      "name": "python"
    }
  },
  "cells": [
    {
      "cell_type": "markdown",
      "metadata": {
        "id": "view-in-github",
        "colab_type": "text"
      },
      "source": [
        "<a href=\"https://colab.research.google.com/github/GergelyTuri/sleep/blob/master/notebooks/Significant_cells.ipynb\" target=\"_parent\"><img src=\"https://colab.research.google.com/assets/colab-badge.svg\" alt=\"Open In Colab\"/></a>"
      ]
    },
    {
      "cell_type": "markdown",
      "source": [
        "# Notebook for calculating cells which significatly upregulated during sleep\n",
        "* 11/27/2023 - setup\n",
        "* 2/13/2024 - modified version after refactoring"
      ],
      "metadata": {
        "id": "ecCoggI96JsX"
      }
    },
    {
      "cell_type": "code",
      "execution_count": null,
      "metadata": {
        "colab": {
          "base_uri": "https://localhost:8080/"
        },
        "id": "ybiR-w4g6FW7",
        "outputId": "481fae68-f91f-4bc4-a57d-0083bd2f77e2"
      },
      "outputs": [
        {
          "output_type": "stream",
          "name": "stdout",
          "text": [
            "fatal: destination path 'sleep' already exists and is not an empty directory.\n"
          ]
        }
      ],
      "source": [
        "!git clone https://github.com/GergelyTuri/sleep.git"
      ]
    },
    {
      "cell_type": "code",
      "source": [
        "# %cd /content/sleep/\n",
        "# !git pull"
      ],
      "metadata": {
        "id": "0YY6FW2I_j1m"
      },
      "execution_count": null,
      "outputs": []
    },
    {
      "cell_type": "code",
      "source": [
        "%cd /content/sleep/\n",
        "!pip install ."
      ],
      "metadata": {
        "id": "dzp3bDU9_zTJ"
      },
      "execution_count": null,
      "outputs": []
    },
    {
      "cell_type": "code",
      "source": [
        "import sys\n",
        "from os.path import join\n",
        "import matplotlib.pyplot as plt\n",
        "\n",
        "import pandas as pd\n",
        "import numpy as np\n",
        "# sys.path.append('/content/sleep/notebooks/neuropil_analysis/')\n",
        "# import neuropil as npil\n",
        "sys.path.append(\"/content/sleep/src/\")\n",
        "from eeg_class import eegData\n",
        "from behavior_class import behaviorData\n",
        "import custom_statistics"
      ],
      "metadata": {
        "id": "xlC_UgZV7zU_"
      },
      "execution_count": null,
      "outputs": []
    },
    {
      "cell_type": "code",
      "source": [
        "from google.colab import drive\n",
        "drive.mount('/gdrive')"
      ],
      "metadata": {
        "id": "8hYTyx3ACfTH"
      },
      "execution_count": null,
      "outputs": []
    },
    {
      "cell_type": "code",
      "source": [
        "data_path = '/gdrive/Shareddrives/Turi_lab/Data/Sleep/2p/Analysis/data/5HT2afl05b_1/7_12_SD2'\n",
        "file_name = 'dfof_mc.csv'"
      ],
      "metadata": {
        "id": "2zW7oAOlHYfS"
      },
      "execution_count": null,
      "outputs": []
    },
    {
      "cell_type": "markdown",
      "source": [
        "## Loading dfof data"
      ],
      "metadata": {
        "id": "fe0cJZF0oYDI"
      }
    },
    {
      "cell_type": "code",
      "source": [
        "dfof_data = pd.read_csv(join(data_path, file_name))\n",
        "dfof_data.set_index('roi_label', drop=True, inplace=True)\n",
        "dfof_data.head()"
      ],
      "metadata": {
        "id": "j3ZQFvtHB9s-"
      },
      "execution_count": null,
      "outputs": []
    },
    {
      "cell_type": "markdown",
      "source": [
        "## Loading sleep and other behavior data (velocity)"
      ],
      "metadata": {
        "id": "eNoE5IVkocy2"
      }
    },
    {
      "cell_type": "code",
      "source": [
        "sleep_data = pd.read_csv(join(data_path, 'velo_eeg.csv'))\n",
        "sleep_data.head()"
      ],
      "metadata": {
        "id": "aCaMrFgIH_WF"
      },
      "execution_count": null,
      "outputs": []
    },
    {
      "cell_type": "markdown",
      "source": [
        "### Determining awake mobile and imobile periods"
      ],
      "metadata": {
        "id": "Lq9HFu_yol92"
      }
    },
    {
      "cell_type": "code",
      "source": [
        "sleep_data['mobile_immobile'] = behaviorData.define_immobility(\n",
        "        sleep_data[\"filtered velo\"])\n",
        "sleep_data.head()"
      ],
      "metadata": {
        "id": "6AaZpKxAJFDf"
      },
      "execution_count": null,
      "outputs": []
    },
    {
      "cell_type": "markdown",
      "source": [
        "Plotting some of it to make sure it worked"
      ],
      "metadata": {
        "id": "Q7Szlytzow3h"
      }
    },
    {
      "cell_type": "code",
      "source": [
        "sleep_data[\"filtered velo\"][:100].plot()\n",
        "sleep_data['mobile_immobile'][:100].astype(int).plot()"
      ],
      "metadata": {
        "id": "kwhowEtVYCwr"
      },
      "execution_count": null,
      "outputs": []
    },
    {
      "cell_type": "markdown",
      "source": [
        "### Creating brain state filters for filtering the datasets"
      ],
      "metadata": {
        "id": "-5oQlyAWo2Yv"
      }
    },
    {
      "cell_type": "code",
      "source": [
        "brain_states =  eegData.brain_state_filter(\n",
        "        velo_eeg_df=sleep_data,\n",
        "        states=[\"awake_mobile\", \"awake_immobile\", \"NREM\", \"REM\", \"other\"],\n",
        "    )"
      ],
      "metadata": {
        "id": "84nnGHyoYVJ6"
      },
      "execution_count": null,
      "outputs": []
    },
    {
      "cell_type": "markdown",
      "source": [
        "Creating more filters..."
      ],
      "metadata": {
        "id": "RsdYz2tOo_BY"
      }
    },
    {
      "cell_type": "code",
      "source": [
        "nrem_mask = brain_states['NREM']\n",
        "awake_mask = brain_states['awake_immobile']"
      ],
      "metadata": {
        "id": "VGFo6jTIYhUz"
      },
      "execution_count": null,
      "outputs": []
    },
    {
      "cell_type": "code",
      "source": [
        "nrem_intervals = dfof_data.loc[:, nrem_mask.values]\n",
        "awake_intervals = dfof_data.loc[:, awake_mask.values]"
      ],
      "metadata": {
        "id": "NrqeLNN2Zy26"
      },
      "execution_count": null,
      "outputs": []
    },
    {
      "cell_type": "markdown",
      "source": [
        "### Calculating significant cells"
      ],
      "metadata": {
        "id": "m9EwAPAFpC3U"
      }
    },
    {
      "cell_type": "code",
      "source": [
        "significant_cells_nrem_vs_awake = custom_statistics.significance_calc(nrem_intervals.to_numpy(),\n",
        "                                                      awake_intervals.to_numpy())"
      ],
      "metadata": {
        "id": "-SuFNDhQehrD"
      },
      "execution_count": null,
      "outputs": []
    },
    {
      "cell_type": "code",
      "source": [
        "significant_cells_nrem_vs_awake"
      ],
      "metadata": {
        "id": "9a02XL539r33",
        "outputId": "9166c4ce-ecbf-47d5-b6ea-c69bc92e50a7",
        "colab": {
          "base_uri": "https://localhost:8080/"
        }
      },
      "execution_count": null,
      "outputs": [
        {
          "output_type": "execute_result",
          "data": {
            "text/plain": [
              "array([13, 32, 34, 39])"
            ]
          },
          "metadata": {},
          "execution_count": 15
        }
      ]
    },
    {
      "cell_type": "code",
      "source": [
        "significant_cells_awake_vs_nrem = custom_statistics.significance_calc(awake_intervals.to_numpy(),\n",
        "                                                      nrem_intervals.to_numpy())"
      ],
      "metadata": {
        "id": "i6_bvFEj9euK"
      },
      "execution_count": null,
      "outputs": []
    },
    {
      "cell_type": "code",
      "source": [
        "significant_cells_awake_vs_nrem"
      ],
      "metadata": {
        "id": "UCLP3n3_9y4M"
      },
      "execution_count": null,
      "outputs": []
    },
    {
      "cell_type": "markdown",
      "source": [
        "### filtering out significant and non significant cells from the original data"
      ],
      "metadata": {
        "id": "5bNcXATfpM3W"
      }
    },
    {
      "cell_type": "code",
      "source": [
        "sig_cell_mask = np.zeros(dfof_data.shape[0], dtype=bool)\n",
        "sig_cell_mask[significant_cells_nrem_vs_awake] = True\n",
        "significant_cell_data = dfof_data[sig_cell_mask]\n",
        "non_significant_cell_data = dfof_data.iloc[~sig_cell_mask]"
      ],
      "metadata": {
        "id": "lSpsKUVRhqDD"
      },
      "execution_count": null,
      "outputs": []
    },
    {
      "cell_type": "code",
      "source": [
        "print(f\"significant cells: {significant_cell_data.index} \\n Non significant cells: {non_significant_cell_data.index}\")"
      ],
      "metadata": {
        "id": "6_23_ZDdhsb6"
      },
      "execution_count": null,
      "outputs": []
    }
  ]
}