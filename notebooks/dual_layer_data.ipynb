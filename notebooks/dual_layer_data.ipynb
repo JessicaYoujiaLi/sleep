{
 "cells": [
  {
   "cell_type": "markdown",
   "metadata": {},
   "source": [
    "# Test notebook for figuring out how to work with dual plane images\n",
    "* 2/18/24 setup\n",
    "* the goal is to be able to figure out whether it is possible to load the planes separately. \n",
    "* the content is a mess, but it is working. "
   ]
  },
  {
   "cell_type": "code",
   "execution_count": 1,
   "metadata": {},
   "outputs": [],
   "source": [
    "from os.path import join, dirname\n",
    "import matplotlib.pyplot as plt\n",
    "import numpy as np\n",
    "\n",
    "from src.suite2p_class import Suite2p"
   ]
  },
  {
   "cell_type": "code",
   "execution_count": 2,
   "metadata": {},
   "outputs": [],
   "source": [
    "s2p_single_path = \"/data2/gergely/invivo_DATA/sleep/140302_3/1_18/TSeries-01182024-0805-003/TSeries-01182024-0805-003.sima/suite2p\"\n",
    "stats_path = \"/data2/gergely/invivo_DATA/sleep/140302_3/1_18/TSeries-01182024-0805-003/TSeries-01182024-0805-003.sima/suite2p/plane0/stat.npy\"\n",
    "s2p_dual_path = \"/data2/gergely/invivo_DATA/sleep/140302_3/12_22/TSeries-12222023-1406-002/TSeries-12222023-1406-002.sima/suite2p\""
   ]
  },
  {
   "cell_type": "code",
   "execution_count": 23,
   "metadata": {},
   "outputs": [
    {
     "data": {
      "text/plain": [
       "dict_keys(['ypix', 'lam', 'xpix', 'mrs', 'mrs0', 'compact', 'med', 'npix', 'footprint', 'npix_norm', 'overlap', 'ipix', 'radius', 'aspect_ratio', 'skew', 'std'])"
      ]
     },
     "execution_count": 23,
     "metadata": {},
     "output_type": "execute_result"
    }
   ],
   "source": [
    "stat = np.load(stats_path, allow_pickle=True)\n",
    "stat[0].keys()"
   ]
  },
  {
   "cell_type": "code",
   "execution_count": 8,
   "metadata": {},
   "outputs": [],
   "source": [
    "s2p = Suite2p(s2p_single_path)"
   ]
  },
  {
   "cell_type": "code",
   "execution_count": null,
   "metadata": {},
   "outputs": [],
   "source": [
    "time_avg = s2p.load_avg_image()"
   ]
  },
  {
   "cell_type": "code",
   "execution_count": null,
   "metadata": {},
   "outputs": [],
   "source": [
    "s2p.plot_time_avg_image(time_avg)"
   ]
  },
  {
   "cell_type": "code",
   "execution_count": 12,
   "metadata": {},
   "outputs": [],
   "source": [
    "cells, raw, plane = s2p._load_data_from_dir(\"plane0\", \"spks\")"
   ]
  },
  {
   "cell_type": "code",
   "execution_count": 13,
   "metadata": {},
   "outputs": [
    {
     "name": "stdout",
     "output_type": "stream",
     "text": [
      "(464,) (464, 36000) (0,)\n"
     ]
    }
   ],
   "source": [
    "print(cells.shape, raw.shape, plane.shape)"
   ]
  },
  {
   "cell_type": "code",
   "execution_count": 15,
   "metadata": {},
   "outputs": [
    {
     "data": {
      "text/plain": [
       "array([], dtype=float64)"
      ]
     },
     "execution_count": 15,
     "metadata": {},
     "output_type": "execute_result"
    }
   ],
   "source": [
    "plane"
   ]
  },
  {
   "cell_type": "code",
   "execution_count": 9,
   "metadata": {},
   "outputs": [
    {
     "data": {
      "text/plain": [
       "(numpy.bool_, numpy.int64)"
      ]
     },
     "execution_count": 9,
     "metadata": {},
     "output_type": "execute_result"
    }
   ],
   "source": [
    "type(cells[0]), type(plane[0])"
   ]
  },
  {
   "cell_type": "code",
   "execution_count": 25,
   "metadata": {},
   "outputs": [
    {
     "name": "stderr",
     "output_type": "stream",
     "text": [
      "/home/gergely/code/sleep/src/suite2p_class.py:71: UserWarning: Combined directory not found, falling back to plane0.\n",
      "  warnings.warn(f\"Combined directory not found, falling back to {PLANE0_DIR_NAME}.\")\n"
     ]
    },
    {
     "data": {
      "text/plain": [
       "93"
      ]
     },
     "execution_count": 25,
     "metadata": {},
     "output_type": "execute_result"
    }
   ],
   "source": [
    "len(s2p.get_spikes())"
   ]
  },
  {
   "cell_type": "code",
   "execution_count": null,
   "metadata": {},
   "outputs": [],
   "source": [
    "len(cells)"
   ]
  },
  {
   "cell_type": "code",
   "execution_count": null,
   "metadata": {},
   "outputs": [],
   "source": [
    "stats_file = np.load(stats_path, allow_pickle=True)\n",
    "len(stats_file)\n",
    "# values_nplane = [d[\"iplane\"] for d in stats_file if \"iplane\" in d]\n",
    "\n",
    "# # Convert the list to a NumPy array if needed\n",
    "# values_nplane_array = np.array(values_nplane)"
   ]
  },
  {
   "cell_type": "code",
   "execution_count": null,
   "metadata": {},
   "outputs": [],
   "source": [
    "values_nplane_array"
   ]
  },
  {
   "cell_type": "code",
   "execution_count": null,
   "metadata": {},
   "outputs": [],
   "source": [
    "fig, ax = plt.subplots()\n",
    "\n",
    "ax.imshow(ops_file.item()[\"meanImgE\"])"
   ]
  },
  {
   "cell_type": "code",
   "execution_count": null,
   "metadata": {},
   "outputs": [],
   "source": [
    "# Assuming ops_file.item()[\"meanImgE\"] is your array\n",
    "combined_image = ops_file.item()[\n",
    "    \"meanImgE\"\n",
    "]  # This is a placeholder; replace it with your actual array access method\n",
    "\n",
    "# Split the array into two images\n",
    "image1 = combined_image[:, :512]  # First half\n",
    "image2 = combined_image[:, 512:]  # Second half\n",
    "\n",
    "# Plotting\n",
    "fig, axs = plt.subplots(\n",
    "    1, 2, figsize=(10, 5)\n",
    ")  # Create a figure with two subplots side by side\n",
    "\n",
    "# Plot the first image\n",
    "axs[0].imshow(image1, cmap=\"gray\")  # Adjust colormap as needed\n",
    "axs[0].set_title(\"Image 1\")\n",
    "axs[0].axis(\"off\")  # Hide axes for better visualization\n",
    "\n",
    "# Plot the second image\n",
    "axs[1].imshow(image2, cmap=\"gray\")  # Adjust colormap as needed\n",
    "axs[1].set_title(\"Image 2\")\n",
    "axs[1].axis(\"off\")  # Hide axes for better visualization\n",
    "\n",
    "plt.show()  # Display the plots"
   ]
  },
  {
   "cell_type": "code",
   "execution_count": null,
   "metadata": {},
   "outputs": [],
   "source": []
  }
 ],
 "metadata": {
  "kernelspec": {
   "display_name": "sleep",
   "language": "python",
   "name": "python3"
  },
  "language_info": {
   "codemirror_mode": {
    "name": "ipython",
    "version": 3
   },
   "file_extension": ".py",
   "mimetype": "text/x-python",
   "name": "python",
   "nbconvert_exporter": "python",
   "pygments_lexer": "ipython3",
   "version": "3.8.18"
  }
 },
 "nbformat": 4,
 "nbformat_minor": 2
}
