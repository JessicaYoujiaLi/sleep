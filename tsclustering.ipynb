{
  "cells": [
    {
      "cell_type": "markdown",
      "metadata": {
        "id": "view-in-github",
        "colab_type": "text"
      },
      "source": [
        "<a href=\"https://colab.research.google.com/github/GergelyTuri/sleep/blob/master/tsclustering.ipynb\" target=\"_parent\"><img src=\"https://colab.research.google.com/assets/colab-badge.svg\" alt=\"Open In Colab\"/></a>"
      ]
    },
    {
      "cell_type": "code",
      "execution_count": 2,
      "metadata": {
        "id": "YgAHlDnGlCm5",
        "colab": {
          "base_uri": "https://localhost:8080/"
        },
        "outputId": "258802cc-838c-4a62-f64a-d47daedb3023"
      },
      "outputs": [
        {
          "output_type": "stream",
          "name": "stdout",
          "text": [
            "Mounted at /gdrive\n"
          ]
        }
      ],
      "source": [
        "import pandas as pd\n",
        "import numpy as np\n",
        "from os.path import join\n",
        "from google.colab import drive\n",
        "drive.mount('/gdrive')"
      ]
    },
    {
      "cell_type": "markdown",
      "metadata": {
        "id": "-jw5vZ9AgIX0"
      },
      "source": [
        "## Data\n",
        "dfof: d_awake, d_sleep \\\\\n",
        "cosine similarity: ts_dist_awake, ts_dist_sleep\n",
        "\n"
      ]
    },
    {
      "cell_type": "code",
      "execution_count": 3,
      "metadata": {
        "id": "anH7vlTHlXbx"
      },
      "outputs": [],
      "source": [
        "summary_new = pd.read_csv(\"/gdrive/Shareddrives/Turi_lab/Data/Sleep/2p/Analysis/summary_sleep.csv\")\n",
        "data_path = '/gdrive/Shareddrives/Turi_lab/Data/Sleep/2p/Analysis/data/5HT2afl05b_1/7_12_SD2'\n",
        "file_name = 'dfof_mc.csv'\n",
        "dfof_data = pd.read_csv(join(data_path, file_name))\n",
        "dfof_data.set_index('roi_label', drop=True, inplace=True)"
      ]
    },
    {
      "cell_type": "code",
      "source": [
        "join(data_path, file_name)"
      ],
      "metadata": {
        "colab": {
          "base_uri": "https://localhost:8080/",
          "height": 35
        },
        "id": "6YmVuVyNFt2Z",
        "outputId": "53aa2847-2bde-45fb-db4c-4f0bb36276cf"
      },
      "execution_count": 4,
      "outputs": [
        {
          "output_type": "execute_result",
          "data": {
            "text/plain": [
              "'/gdrive/Shareddrives/Turi_lab/Data/Sleep/2p/Analysis/data/5HT2afl05b_1/7_12_SD2/dfof_mc.csv'"
            ],
            "application/vnd.google.colaboratory.intrinsic+json": {
              "type": "string"
            }
          },
          "metadata": {},
          "execution_count": 4
        }
      ]
    },
    {
      "cell_type": "code",
      "source": [
        "def process_dfof_mc(dfof, summary_new):\n",
        "    n_roi = dfof.shape[0]\n",
        "    n_time = dfof.shape[1]\n",
        "    awake = []\n",
        "    sleep = []\n",
        "    for j in range(1, 21, 2):  # Adjusted range for Python's 0-indexing\n",
        "        awake.extend(range(summary_new['start'][j-1], summary_new['end'][j-1]+1))\n",
        "        sleep.extend(range(summary_new['start'][j], summary_new['end'][j]+1))\n",
        "\n",
        "    d_awake = dfof.iloc[:, [x-1 for x in awake]]  # Adjust index for Python\n",
        "    d_sleep = dfof.iloc[:, [x-1 for x in sleep]]\n",
        "    return {'d_awake': d_awake, 'd_sleep': d_sleep}"
      ],
      "metadata": {
        "id": "hWPV1pOOeUXO"
      },
      "execution_count": 5,
      "outputs": []
    },
    {
      "cell_type": "code",
      "source": [
        "result = process_dfof_mc(dfof_data, summary_new)\n",
        "d_awake = result['d_awake']\n",
        "d_sleep = result['d_sleep']"
      ],
      "metadata": {
        "id": "209sXFNERDQq"
      },
      "execution_count": 6,
      "outputs": []
    },
    {
      "cell_type": "code",
      "execution_count": 7,
      "metadata": {
        "id": "qJRROqacjQTT"
      },
      "outputs": [],
      "source": [
        "from scipy.spatial.distance import cosine\n",
        "# ts_dist_awake\n",
        "X = np.array(d_awake)\n",
        "n = X.shape[0]\n",
        "dist = np.empty((n, n))\n",
        "dist.fill(np.nan)\n",
        "\n",
        "for i in range(n - 1):\n",
        "    for j in range(i + 1, n):\n",
        "        dist[i, j] = 1 - cosine(X[i, :], X[j, :])\n",
        "\n",
        "# Fill the lower triangular part of the matrix to make it symmetric, since cosine distance is symmetric\n",
        "for i in range(n):\n",
        "    for j in range(i + 1, n):\n",
        "        dist[j, i] = dist[i, j]\n",
        "\n",
        "min_val = np.nanmin(dist)\n",
        "max_val = np.nanmax(dist)\n",
        "dist_awake = (dist - min_val) / (max_val - min_val)\n",
        "\n",
        "# Convert the numpy array to a pandas DataFrame for saving it as CSV\n",
        "ts_dist_awake = pd.DataFrame(dist_awake)\n",
        "ts_dist_awake.to_csv('/gdrive/Shareddrives/Turi_lab/Data/Sleep/ts_dist_awake.csv', index=False)\n",
        "\n",
        "# ts_dist_sleep\n",
        "X = np.array(d_sleep)\n",
        "n = X.shape[0]\n",
        "dist = np.empty((n, n))\n",
        "dist.fill(np.nan)\n",
        "\n",
        "for i in range(n - 1):\n",
        "    for j in range(i + 1, n):\n",
        "        dist[i, j] = 1 - cosine(X[i, :], X[j, :])\n",
        "\n",
        "# Fill the lower triangular part of the matrix to make it symmetric, since cosine distance is symmetric\n",
        "for i in range(n):\n",
        "    for j in range(i + 1, n):\n",
        "        dist[j, i] = dist[i, j]\n",
        "\n",
        "min_val = np.nanmin(dist)\n",
        "max_val = np.nanmax(dist)\n",
        "dist_sleep = (dist - min_val) / (max_val - min_val)\n",
        "\n",
        "# Convert the numpy array to a pandas DataFrame for saving it as CSV\n",
        "ts_dist_sleep = pd.DataFrame(dist_sleep)\n",
        "ts_dist_sleep.to_csv('/gdrive/Shareddrives/Turi_lab/Data/Sleep/ts_dist_sleep.csv', index=False)"
      ]
    }
  ],
  "metadata": {
    "colab": {
      "provenance": [],
      "include_colab_link": true
    },
    "kernelspec": {
      "display_name": "Python 3",
      "name": "python3"
    },
    "language_info": {
      "name": "python"
    }
  },
  "nbformat": 4,
  "nbformat_minor": 0
}