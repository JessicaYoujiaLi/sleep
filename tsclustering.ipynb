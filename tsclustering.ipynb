{
  "cells": [
    {
      "cell_type": "markdown",
      "metadata": {
        "id": "view-in-github",
        "colab_type": "text"
      },
      "source": [
        "<a href=\"https://colab.research.google.com/github/GergelyTuri/sleep/blob/master/tsclustering.ipynb\" target=\"_parent\"><img src=\"https://colab.research.google.com/assets/colab-badge.svg\" alt=\"Open In Colab\"/></a>"
      ]
    },
    {
      "cell_type": "markdown",
      "source": [
        "First Part (Python):"
      ],
      "metadata": {
        "id": "Agz3E6qN0Tvh"
      }
    },
    {
      "cell_type": "code",
      "execution_count": 28,
      "metadata": {
        "id": "YgAHlDnGlCm5",
        "colab": {
          "base_uri": "https://localhost:8080/"
        },
        "outputId": "4e4b194b-d4c5-4c81-9d8d-ed00bb365299"
      },
      "outputs": [
        {
          "output_type": "stream",
          "name": "stdout",
          "text": [
            "Drive already mounted at /gdrive; to attempt to forcibly remount, call drive.mount(\"/gdrive\", force_remount=True).\n"
          ]
        }
      ],
      "source": [
        "import pandas as pd\n",
        "import numpy as np\n",
        "from os.path import join\n",
        "from google.colab import drive\n",
        "drive.mount('/gdrive')"
      ]
    },
    {
      "cell_type": "markdown",
      "metadata": {
        "id": "-jw5vZ9AgIX0"
      },
      "source": [
        "## Data\n",
        "dfof: d_awake, d_sleep \\\\\n",
        "cosine similarity: ts_dist_awake, ts_dist_sleep\n",
        "\n"
      ]
    },
    {
      "cell_type": "code",
      "execution_count": 29,
      "metadata": {
        "id": "anH7vlTHlXbx"
      },
      "outputs": [],
      "source": [
        "summary_new = pd.read_csv(\"/gdrive/Shareddrives/Turi_lab/Data/Sleep/2p/Analysis/summary_sleep.csv\")\n",
        "data_path = '/gdrive/Shareddrives/Turi_lab/Data/Sleep/2p/Analysis/data/5HT2afl05b_1/7_12_SD2'\n",
        "file_name = 'dfof_mc.csv'\n",
        "dfof_data = pd.read_csv(join(data_path, file_name))\n",
        "dfof_data.set_index('roi_label', drop=True, inplace=True)"
      ]
    },
    {
      "cell_type": "code",
      "source": [
        "def process_dfof_mc(dfof, summary_new):\n",
        "    n_roi = dfof.shape[0]\n",
        "    n_time = dfof.shape[1]\n",
        "    awake = []\n",
        "    sleep = []\n",
        "    for j in range(1, 21, 2):  # Adjusted range for Python's 0-indexing\n",
        "        awake.extend(range(summary_new['start'][j-1], summary_new['end'][j-1]+1))\n",
        "        sleep.extend(range(summary_new['start'][j], summary_new['end'][j]+1))\n",
        "\n",
        "    d_awake = dfof.iloc[:, [x-1 for x in awake]]  # Adjust index for Python\n",
        "    d_sleep = dfof.iloc[:, [x-1 for x in sleep]]\n",
        "    return {'d_awake': d_awake, 'd_sleep': d_sleep}"
      ],
      "metadata": {
        "id": "hWPV1pOOeUXO"
      },
      "execution_count": 38,
      "outputs": []
    },
    {
      "cell_type": "code",
      "source": [
        "result = process_dfof_mc(dfof_data, summary_new)\n",
        "d_awake = result['d_awake']\n",
        "d_sleep = result['d_sleep']"
      ],
      "metadata": {
        "id": "209sXFNERDQq"
      },
      "execution_count": 42,
      "outputs": []
    },
    {
      "cell_type": "code",
      "execution_count": 46,
      "metadata": {
        "id": "qJRROqacjQTT"
      },
      "outputs": [],
      "source": [
        "from scipy.spatial.distance import cosine\n",
        "# ts_dist_awake\n",
        "X = np.array(d_awake)\n",
        "n = X.shape[0]\n",
        "dist = np.empty((n, n))\n",
        "dist.fill(np.nan)\n",
        "\n",
        "for i in range(n - 1):\n",
        "    for j in range(i + 1, n):\n",
        "        dist[i, j] = 1 - cosine(X[i, :], X[j, :])\n",
        "\n",
        "# Fill the lower triangular part of the matrix to make it symmetric, since cosine distance is symmetric\n",
        "for i in range(n):\n",
        "    for j in range(i + 1, n):\n",
        "        dist[j, i] = dist[i, j]\n",
        "\n",
        "min_val = np.nanmin(dist)\n",
        "max_val = np.nanmax(dist)\n",
        "dist_awake = (dist - min_val) / (max_val - min_val)\n",
        "\n",
        "# Convert the numpy array to a pandas DataFrame for saving it as CSV\n",
        "ts_dist_awake = pd.DataFrame(dist_awake)\n",
        "ts_dist_awake.to_csv('/gdrive/Shareddrives/Turi_lab/Data/Sleep/ts_dist_awake.csv', index=False)\n",
        "\n",
        "# ts_dist_sleep\n",
        "X = np.array(d_sleep)\n",
        "n = X.shape[0]\n",
        "dist = np.empty((n, n))\n",
        "dist.fill(np.nan)\n",
        "\n",
        "for i in range(n - 1):\n",
        "    for j in range(i + 1, n):\n",
        "        dist[i, j] = 1 - cosine(X[i, :], X[j, :])\n",
        "\n",
        "# Fill the lower triangular part of the matrix to make it symmetric, since cosine distance is symmetric\n",
        "for i in range(n):\n",
        "    for j in range(i + 1, n):\n",
        "        dist[j, i] = dist[i, j]\n",
        "\n",
        "min_val = np.nanmin(dist)\n",
        "max_val = np.nanmax(dist)\n",
        "dist_sleep = (dist - min_val) / (max_val - min_val)\n",
        "\n",
        "# Convert the numpy array to a pandas DataFrame for saving it as CSV\n",
        "ts_dist_sleep = pd.DataFrame(dist_sleep)\n",
        "ts_dist_sleep.to_csv('/gdrive/Shareddrives/Turi_lab/Data/Sleep/ts_dist_sleep.csv', index=False)"
      ]
    },
    {
      "cell_type": "markdown",
      "source": [
        "Get significant cell:"
      ],
      "metadata": {
        "id": "CQh71a5I1eSY"
      }
    },
    {
      "cell_type": "code",
      "source": [
        "pip install neuropil_analysis"
      ],
      "metadata": {
        "colab": {
          "base_uri": "https://localhost:8080/"
        },
        "id": "7hA7da9PENQt",
        "outputId": "fa51f990-f364-40e8-cac4-b61bc35443da"
      },
      "execution_count": 49,
      "outputs": [
        {
          "output_type": "stream",
          "name": "stdout",
          "text": [
            "\u001b[31mERROR: Could not find a version that satisfies the requirement neuropil_analysis (from versions: none)\u001b[0m\u001b[31m\n",
            "\u001b[0m\u001b[31mERROR: No matching distribution found for neuropil_analysis\u001b[0m\u001b[31m\n",
            "\u001b[0m"
          ]
        }
      ]
    },
    {
      "cell_type": "code",
      "execution_count": 47,
      "metadata": {
        "id": "nX7XgwXKheiQ",
        "colab": {
          "base_uri": "https://localhost:8080/",
          "height": 393
        },
        "outputId": "eeec280d-3daa-4e46-ecad-36a8c0dd975e"
      },
      "outputs": [
        {
          "output_type": "error",
          "ename": "ModuleNotFoundError",
          "evalue": "No module named 'neuropil'",
          "traceback": [
            "\u001b[0;31m---------------------------------------------------------------------------\u001b[0m",
            "\u001b[0;31mModuleNotFoundError\u001b[0m                       Traceback (most recent call last)",
            "\u001b[0;32m<ipython-input-47-8f6e394ddc78>\u001b[0m in \u001b[0;36m<cell line: 5>\u001b[0;34m()\u001b[0m\n\u001b[1;32m      3\u001b[0m \u001b[0;32mimport\u001b[0m \u001b[0mmatplotlib\u001b[0m\u001b[0;34m.\u001b[0m\u001b[0mpyplot\u001b[0m \u001b[0;32mas\u001b[0m \u001b[0mplt\u001b[0m\u001b[0;34m\u001b[0m\u001b[0;34m\u001b[0m\u001b[0m\n\u001b[1;32m      4\u001b[0m \u001b[0msys\u001b[0m\u001b[0;34m.\u001b[0m\u001b[0mpath\u001b[0m\u001b[0;34m.\u001b[0m\u001b[0mappend\u001b[0m\u001b[0;34m(\u001b[0m\u001b[0;34m'/content/sleep/notebooks/neuropil_analysis/'\u001b[0m\u001b[0;34m)\u001b[0m\u001b[0;34m\u001b[0m\u001b[0;34m\u001b[0m\u001b[0m\n\u001b[0;32m----> 5\u001b[0;31m \u001b[0;32mimport\u001b[0m \u001b[0mneuropil\u001b[0m \u001b[0;32mas\u001b[0m \u001b[0mnpil\u001b[0m\u001b[0;34m\u001b[0m\u001b[0;34m\u001b[0m\u001b[0m\n\u001b[0m\u001b[1;32m      6\u001b[0m \u001b[0msys\u001b[0m\u001b[0;34m.\u001b[0m\u001b[0mpath\u001b[0m\u001b[0;34m.\u001b[0m\u001b[0mappend\u001b[0m\u001b[0;34m(\u001b[0m\u001b[0;34m\"/content/sleep/src/\"\u001b[0m\u001b[0;34m)\u001b[0m\u001b[0;34m\u001b[0m\u001b[0;34m\u001b[0m\u001b[0m\n\u001b[1;32m      7\u001b[0m \u001b[0;32mfrom\u001b[0m \u001b[0meeg_class\u001b[0m \u001b[0;32mimport\u001b[0m \u001b[0meegData\u001b[0m\u001b[0;34m\u001b[0m\u001b[0;34m\u001b[0m\u001b[0m\n",
            "\u001b[0;31mModuleNotFoundError\u001b[0m: No module named 'neuropil'",
            "",
            "\u001b[0;31m---------------------------------------------------------------------------\u001b[0;32m\nNOTE: If your import is failing due to a missing package, you can\nmanually install dependencies using either !pip or !apt.\n\nTo view examples of installing some common dependencies, click the\n\"Open Examples\" button below.\n\u001b[0;31m---------------------------------------------------------------------------\u001b[0m\n"
          ],
          "errorDetails": {
            "actions": [
              {
                "action": "open_url",
                "actionText": "Open Examples",
                "url": "/notebooks/snippets/importing_libraries.ipynb"
              }
            ]
          }
        }
      ],
      "source": [
        "import sys\n",
        "from os.path import join\n",
        "import matplotlib.pyplot as plt\n",
        "sys.path.append('/content/sleep/notebooks/neuropil_analysis/')\n",
        "import neuropil as npil\n",
        "sys.path.append(\"/content/sleep/src/\")\n",
        "from eeg_class import eegData\n",
        "from behavior_class import behaviorData\n",
        "\n",
        "#Loading sleep and other behavior data (velocity)\n",
        "sleep_data = pd.read_csv(join(data_path, 'velo_eeg.csv'))\n",
        "#Determining awake mobile and imobile periods\n",
        "sleep_data['mobile_immobile'] = behaviorData.define_immobility(\n",
        "        sleep_data[\"filtered velo\"])\n",
        "#Creating brain state filters for filtering the datasets\n",
        "brain_states =  eegData.brain_state_filter(\n",
        "        velo_eeg_df=sleep_data,\n",
        "        states=[\"awake_mobile\", \"awake_immobile\", \"NREM\", \"REM\", \"other\"],\n",
        "    )\n",
        "nrem_mask = brain_states['NREM']\n",
        "awake_mask = brain_states['awake_immobile']\n",
        "nrem_intervals = dfof_data.loc[:, nrem_mask.values]\n",
        "awake_intervals = dfof_data.loc[:, awake_mask.values]\n",
        "#Calculating significant cells\n",
        "significant_cells_nrem_vs_awake = npil.statistics.significance_calc(nrem_intervals.to_numpy(),\n",
        "                                                      awake_intervals.to_numpy())\n",
        "significant_cells_awake_vs_nrem = npil.statistics.significance_calc(awake_intervals.to_numpy(),\n",
        "                                                      nrem_intervals.to_numpy())\n",
        "sig_cell_mask = np.zeros(dfof_data.shape[0], dtype=bool)\n",
        "sig_cell_mask[significant_cells_nrem_vs_awake] = True\n",
        "significant_cell_data = dfof_data[sig_cell_mask]\n",
        "significant_cell_data"
      ]
    },
    {
      "cell_type": "markdown",
      "source": [
        "Second Part (R):"
      ],
      "metadata": {
        "id": "mZdvYxLK0Rgf"
      }
    },
    {
      "cell_type": "code",
      "execution_count": null,
      "metadata": {
        "id": "cajx2JStdsLz"
      },
      "outputs": [],
      "source": [
        "ts_dist_awake = read.csv(\"/gdrive/Shareddrives/Turi_lab/Data/Sleep/2p/ts_dist_awake.csv\")\n",
        "ts_dist_sleep = read.csv('/gdrive/Shareddrives/Turi_lab/Data/Sleep/ts_dist_sleep.csv')\n",
        "\n",
        "net.epsilon.create <- function(dist, epsilon) {\n",
        "    n = matrix(0, ncol(dist), nrow(dist))\n",
        "    n[dist < epsilon] = 1;\n",
        "    return(graph.adjacency(n, mode=\"undirected\", diag=F));\n",
        "}"
      ]
    },
    {
      "cell_type": "code",
      "execution_count": null,
      "metadata": {
        "id": "P7jXhTYrX6eF"
      },
      "outputs": [],
      "source": [
        "eps_seq = seq(0.01,0.99,0.01)\n",
        "ddd = function(ts_dist){\n",
        "modu = c()\n",
        "n_hubs = c()\n",
        "n_edges = c()\n",
        "for (i in 1:length(eps_seq)){\n",
        "net1 = net.epsilon.create(dist = ts_dist, epsilon = eps_seq[i])\n",
        "c1 = cluster_fast_greedy(net1)\n",
        "hub_score1 = hub.score(net1)\n",
        "n_hubs[i] = length(which(hub_score1[[\"vector\"]]>0.9))\n",
        "modu[i] = modularity(c1)\n",
        "n_edges[i] = gsize(net1)\n",
        "}\n",
        "return(list(n_hubs,n_edges,modu))\n",
        "}\n",
        "\n",
        "tt = tibble(\n",
        "  eps = rep(eps_seq,2),\n",
        "  state = c(rep(\"aw\",length(eps_seq)),rep(\"sl\",length(eps_seq))),\n",
        "  n_hub = c(ddd(ts_dist_awake)[[1]],ddd(ts_dist_sleep)[[1]]),\n",
        "  n_edge = c(ddd(ts_dist_awake)[[2]],ddd(ts_dist_sleep)[[2]]),\n",
        "  modu = c(ddd(ts_dist_awake)[[3]],ddd(ts_dist_sleep)[[3]])\n",
        ")\n",
        "\n",
        "tt %>%\n",
        "  ggplot(aes(x=eps,y=modu,colour=state))+\n",
        "  geom_point(size=0.8)+\n",
        "  geom_line()\n",
        "\n",
        "tt %>%\n",
        "  ggplot(aes(x=eps,y=n_hub,colour=state))+\n",
        "  geom_point(size=0.8)+\n",
        "  geom_line()\n",
        "\n",
        "tt %>%\n",
        "  ggplot(aes(x=eps,y=n_edge,colour=state))+\n",
        "  geom_point(size=0.8)+\n",
        "  geom_line()\n",
        "\n",
        "tt %>%\n",
        "  ggplot(aes(x=n_edge,y=n_hub,colour=state))+\n",
        "  geom_point(size=0.8)+\n",
        "  geom_line()\n",
        "\n",
        "## significant sleep Gergo\n",
        "tibble(\n",
        "  n = 1:length(rownames(roi_cluster)),\n",
        "  roi = rownames(roi_cluster)) %>%\n",
        "  filter(roi %in% sig_cell) %>% view\n"
      ]
    },
    {
      "cell_type": "code",
      "execution_count": null,
      "metadata": {
        "id": "QhBKwf2YfYMq"
      },
      "outputs": [],
      "source": [
        "ts_dist = ts_dist_sleep\n",
        "eps = 0.2\n",
        "net = net.epsilon.create(dist = ts_dist, epsilon = eps)\n",
        "c = cluster_fast_greedy(net)\n",
        "membership(c)\n",
        "plot(net, vertex.color=membership(c), layout=layout_with_fr(net))\n",
        "#hub score\n",
        "hub_score <- hub.score(net)\n",
        "which(hub_score[[\"vector\"]]>=0.9)"
      ]
    }
  ],
  "metadata": {
    "colab": {
      "provenance": [],
      "include_colab_link": true
    },
    "kernelspec": {
      "display_name": "Python 3",
      "name": "python3"
    },
    "language_info": {
      "name": "python"
    }
  },
  "nbformat": 4,
  "nbformat_minor": 0
}