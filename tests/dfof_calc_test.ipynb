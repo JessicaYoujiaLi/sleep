{
 "cells": [
  {
   "cell_type": "code",
   "execution_count": null,
   "metadata": {},
   "outputs": [],
   "source": [
    "import sys, os\n",
    "import matplotlib.pyplot as plt\n",
    "from os.path import join\n",
from classes.mouse_classy as np\n",
    "import pandas as pd\n",
    "import scipy.signal as signal\n",
    "\n",
    "sys.path.append(\"/home/gergely/code/sleep/base/\")\n",
    "\n",
    "import dfof\n",
    "from classes.suite2p_class import Suite2p\n",
    "from mouse_class import Mouse\n",
    "from classes.eeg_class import EegData\n",
    "from classes.behavior_class import behaviorData"
   ]
  },
  {
   "cell_type": "code",
   "execution_count": null,
   "metadata": {},
   "outputs": [],
   "source": [
    "mice = [\"5HT2afl05b_1\", \"5HT2afl05b_2\", \"sert52b_1\", \"sert52b_5\", \"sert54a_5\"]\n",
    "\n",
    "mouse = Mouse(mice[0])\n",
    "mouse_id = mouse.mouse_id\n",
    "mouse_id"
   ]
  },
  {
   "cell_type": "code",
   "execution_count": null,
   "metadata": {},
   "outputs": [],
   "source": [
    "s2p_mouse = Suite2p(mouse_id)\n",
    "s2p_folders = s2p_mouse.find_suite2p_folders()\n",
    "for folders in enumerate(s2p_folders):\n",
    "    print(folders)\n",
    "\n",
    "s2p_folder = s2p_folders[9]\n",
    "# s2p_folder"
   ]
  },
  {
   "cell_type": "code",
   "execution_count": null,
   "metadata": {},
   "outputs": [],
   "source": [
    "sig = s2p_mouse.true_signal(s2p_folder=s2p_folder)\n",
    "npil = s2p_mouse.true_signal(s2p_folder=s2p_folder, signal_source=\"Fneu\")"
   ]
  },
  {
   "cell_type": "code",
   "execution_count": null,
   "metadata": {},
   "outputs": [],
   "source": [
    "calc_dfof = dfof.Suite2pDFOF(window=1800)\n",
    "dfof_s2p = calc_dfof.calculate(signal=sig, npil=npil)\n",
    "calc_dfof = dfof.JiaDFOF(slow_trend_window=1800)\n",
    "dfof_jia = calc_dfof.calculate(signal=sig)"
   ]
  },
  {
   "cell_type": "code",
   "execution_count": null,
   "metadata": {},
   "outputs": [],
   "source": [
    "fig, axs = plt.subplots(figsize=(20, 10), sharey=True, nrows=2)\n",
    "axs[0].plot(dfof_s2p.iloc[10][25000:])\n",
    "axs[0].set_title(\"Suite2p\")\n",
    "axs[1].plot(dfof_jia.iloc[10][25000:])\n",
    "axs[1].set_title(\"Jia\")"
   ]
  }
 ],
 "metadata": {
  "kernelspec": {
   "display_name": "sleep",
   "language": "python",
   "name": "python3"
  },
  "language_info": {
   "codemirror_mode": {
    "name": "ipython",
    "version": 3
   },
   "file_extension": ".py",
   "mimetype": "text/x-python",
   "name": "python",
   "nbconvert_exporter": "python",
   "pygments_lexer": "ipython3",
   "version": "3.8.18"
  }
 },
 "nbformat": 4,
 "nbformat_minor": 2
}
